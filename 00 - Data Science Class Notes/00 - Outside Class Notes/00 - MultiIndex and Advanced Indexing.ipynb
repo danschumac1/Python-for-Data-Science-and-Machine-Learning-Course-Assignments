{
 "cells": [
  {
   "cell_type": "code",
   "execution_count": 33,
   "id": "a25512c2",
   "metadata": {},
   "outputs": [],
   "source": [
    "import pandas as pd\n",
    "import numpy as np"
   ]
  },
  {
   "cell_type": "code",
   "execution_count": 34,
   "id": "c708d8e6",
   "metadata": {},
   "outputs": [],
   "source": [
    "#set up our data\n",
    "\n",
    "arrays =[\n",
    "    ['ant','ant','bat','baz','fox','fox','pig','pig'],\n",
    "    ['one','two','one','two','one','two','one','two'],\n",
    "]"
   ]
  },
  {
   "cell_type": "code",
   "execution_count": 35,
   "id": "e6c0183b",
   "metadata": {},
   "outputs": [],
   "source": [
    "# the astericks makes it zip each tuple rather than the whole thing at once\n",
    "#otherwise it would 'print' on one line.\n",
    "tuples = list(zip(*arrays))"
   ]
  },
  {
   "cell_type": "code",
   "execution_count": 36,
   "id": "76ca688c",
   "metadata": {},
   "outputs": [
    {
     "data": {
      "text/plain": [
       "[('ant', 'one'),\n",
       " ('ant', 'two'),\n",
       " ('bat', 'one'),\n",
       " ('baz', 'two'),\n",
       " ('fox', 'one'),\n",
       " ('fox', 'two'),\n",
       " ('pig', 'one'),\n",
       " ('pig', 'two')]"
      ]
     },
     "execution_count": 36,
     "metadata": {},
     "output_type": "execute_result"
    }
   ],
   "source": [
    "tuples"
   ]
  },
  {
   "cell_type": "code",
   "execution_count": 37,
   "id": "35ba6cbf",
   "metadata": {},
   "outputs": [],
   "source": [
    "#set indexes level1\n",
    "index = pd.MultiIndex.from_tuples(tuples,names=['first', 'second'])"
   ]
  },
  {
   "cell_type": "code",
   "execution_count": 38,
   "id": "21efe446",
   "metadata": {
    "scrolled": true
   },
   "outputs": [
    {
     "data": {
      "text/plain": [
       "MultiIndex([('ant', 'one'),\n",
       "            ('ant', 'two'),\n",
       "            ('bat', 'one'),\n",
       "            ('baz', 'two'),\n",
       "            ('fox', 'one'),\n",
       "            ('fox', 'two'),\n",
       "            ('pig', 'one'),\n",
       "            ('pig', 'two')],\n",
       "           names=['first', 'second'])"
      ]
     },
     "execution_count": 38,
     "metadata": {},
     "output_type": "execute_result"
    }
   ],
   "source": [
    "#now my left hand collumn is called 'first' and my right side column is called 'second'\n",
    "index"
   ]
  },
  {
   "cell_type": "code",
   "execution_count": 58,
   "id": "a50edd99",
   "metadata": {},
   "outputs": [
    {
     "data": {
      "text/plain": [
       "MultiIndex([('ant', 'one'),\n",
       "            ('ant', 'two'),\n",
       "            ('bat', 'one'),\n",
       "            ('bat', 'two'),\n",
       "            ('fox', 'one'),\n",
       "            ('fox', 'two'),\n",
       "            ('pig', 'one'),\n",
       "            ('pig', 'two')],\n",
       "           names=['first', 'second'])"
      ]
     },
     "execution_count": 58,
     "metadata": {},
     "output_type": "execute_result"
    }
   ],
   "source": [
    "#another way to do this is by iterating every element to gether into tuples.\n",
    "iterables = [['ant','bat','fox','pig'],['one','two']]\n",
    "pd.MultiIndex.from_product(iterables, names=['first','second'])"
   ]
  },
  {
   "cell_type": "code",
   "execution_count": 64,
   "id": "f6271c0c",
   "metadata": {},
   "outputs": [],
   "source": [
    "#for each animal, lets make 2 random numbers 1 for 'one' 1 for 'two'\n",
    "#set index level 2\n",
    "s = pd.Series(np.random.randn(8),index=index)"
   ]
  },
  {
   "cell_type": "code",
   "execution_count": 65,
   "id": "8d1d0256",
   "metadata": {
    "scrolled": true
   },
   "outputs": [
    {
     "data": {
      "text/plain": [
       "first  second\n",
       "ant    one       0.196258\n",
       "       two      -1.004155\n",
       "bat    one      -1.247197\n",
       "baz    two      -0.220199\n",
       "fox    one      -1.011073\n",
       "       two      -0.829867\n",
       "pig    one      -1.014909\n",
       "       two       0.961947\n",
       "dtype: float64"
      ]
     },
     "execution_count": 65,
     "metadata": {},
     "output_type": "execute_result"
    }
   ],
   "source": [
    "s"
   ]
  },
  {
   "cell_type": "code",
   "execution_count": 59,
   "id": "2af693e5",
   "metadata": {},
   "outputs": [],
   "source": [
    "#you can pass in series or dataframs to construct multiindex automatically"
   ]
  },
  {
   "cell_type": "code",
   "execution_count": 61,
   "id": "bca8947b",
   "metadata": {},
   "outputs": [],
   "source": [
    "arrays = [\n",
    "    np.array(['ant','ant','bat','bat','fox','fox','pig','pig']),\n",
    "    np.array(['one','two','one','two','one','two','one','two'])\n",
    "]"
   ]
  },
  {
   "cell_type": "code",
   "execution_count": 66,
   "id": "f8904774",
   "metadata": {},
   "outputs": [],
   "source": [
    "#from here we can go to level 1 indexing\n",
    "s = pd.Series(np.random.randn(8), index = arrays)"
   ]
  },
  {
   "cell_type": "code",
   "execution_count": 67,
   "id": "3ebaa3f5",
   "metadata": {},
   "outputs": [
    {
     "data": {
      "text/plain": [
       "ant  one   -0.488269\n",
       "     two    0.785193\n",
       "bat  one   -2.035453\n",
       "     two   -2.416776\n",
       "fox  one    1.406683\n",
       "     two   -0.726150\n",
       "pig  one   -0.308992\n",
       "     two   -0.016933\n",
       "dtype: float64"
      ]
     },
     "execution_count": 67,
     "metadata": {},
     "output_type": "execute_result"
    }
   ],
   "source": [
    "s"
   ]
  },
  {
   "cell_type": "code",
   "execution_count": 68,
   "id": "c0e09128",
   "metadata": {},
   "outputs": [],
   "source": [
    "#or.. straight to level 2\n",
    "\n",
    "df = pd.DataFrame(np.random.randn(8,4), index=arrays)"
   ]
  },
  {
   "cell_type": "code",
   "execution_count": 69,
   "id": "35e518c0",
   "metadata": {},
   "outputs": [
    {
     "data": {
      "text/html": [
       "<div>\n",
       "<style scoped>\n",
       "    .dataframe tbody tr th:only-of-type {\n",
       "        vertical-align: middle;\n",
       "    }\n",
       "\n",
       "    .dataframe tbody tr th {\n",
       "        vertical-align: top;\n",
       "    }\n",
       "\n",
       "    .dataframe thead th {\n",
       "        text-align: right;\n",
       "    }\n",
       "</style>\n",
       "<table border=\"1\" class=\"dataframe\">\n",
       "  <thead>\n",
       "    <tr style=\"text-align: right;\">\n",
       "      <th></th>\n",
       "      <th></th>\n",
       "      <th>0</th>\n",
       "      <th>1</th>\n",
       "      <th>2</th>\n",
       "      <th>3</th>\n",
       "    </tr>\n",
       "  </thead>\n",
       "  <tbody>\n",
       "    <tr>\n",
       "      <th rowspan=\"2\" valign=\"top\">ant</th>\n",
       "      <th>one</th>\n",
       "      <td>-1.138896</td>\n",
       "      <td>-1.531828</td>\n",
       "      <td>-0.882284</td>\n",
       "      <td>1.366161</td>\n",
       "    </tr>\n",
       "    <tr>\n",
       "      <th>two</th>\n",
       "      <td>-1.012418</td>\n",
       "      <td>-0.548459</td>\n",
       "      <td>0.503765</td>\n",
       "      <td>-0.179938</td>\n",
       "    </tr>\n",
       "    <tr>\n",
       "      <th rowspan=\"2\" valign=\"top\">bat</th>\n",
       "      <th>one</th>\n",
       "      <td>3.718233</td>\n",
       "      <td>-0.736847</td>\n",
       "      <td>0.592315</td>\n",
       "      <td>0.148797</td>\n",
       "    </tr>\n",
       "    <tr>\n",
       "      <th>two</th>\n",
       "      <td>0.479943</td>\n",
       "      <td>-0.114232</td>\n",
       "      <td>0.701564</td>\n",
       "      <td>1.503348</td>\n",
       "    </tr>\n",
       "    <tr>\n",
       "      <th rowspan=\"2\" valign=\"top\">fox</th>\n",
       "      <th>one</th>\n",
       "      <td>0.253135</td>\n",
       "      <td>0.393996</td>\n",
       "      <td>1.180553</td>\n",
       "      <td>-0.545689</td>\n",
       "    </tr>\n",
       "    <tr>\n",
       "      <th>two</th>\n",
       "      <td>-0.276725</td>\n",
       "      <td>0.600120</td>\n",
       "      <td>-0.368206</td>\n",
       "      <td>-0.725470</td>\n",
       "    </tr>\n",
       "    <tr>\n",
       "      <th rowspan=\"2\" valign=\"top\">pig</th>\n",
       "      <th>one</th>\n",
       "      <td>1.136640</td>\n",
       "      <td>-0.993723</td>\n",
       "      <td>-0.384284</td>\n",
       "      <td>-1.113576</td>\n",
       "    </tr>\n",
       "    <tr>\n",
       "      <th>two</th>\n",
       "      <td>-0.020705</td>\n",
       "      <td>-0.072541</td>\n",
       "      <td>-1.284810</td>\n",
       "      <td>-0.449682</td>\n",
       "    </tr>\n",
       "  </tbody>\n",
       "</table>\n",
       "</div>"
      ],
      "text/plain": [
       "                0         1         2         3\n",
       "ant one -1.138896 -1.531828 -0.882284  1.366161\n",
       "    two -1.012418 -0.548459  0.503765 -0.179938\n",
       "bat one  3.718233 -0.736847  0.592315  0.148797\n",
       "    two  0.479943 -0.114232  0.701564  1.503348\n",
       "fox one  0.253135  0.393996  1.180553 -0.545689\n",
       "    two -0.276725  0.600120 -0.368206 -0.725470\n",
       "pig one  1.136640 -0.993723 -0.384284 -1.113576\n",
       "    two -0.020705 -0.072541 -1.284810 -0.449682"
      ]
     },
     "execution_count": 69,
     "metadata": {},
     "output_type": "execute_result"
    }
   ],
   "source": [
    "df"
   ]
  },
  {
   "cell_type": "code",
   "execution_count": 71,
   "id": "923b52f5",
   "metadata": {},
   "outputs": [
    {
     "data": {
      "text/plain": [
       "FrozenList([None, None])"
      ]
     },
     "execution_count": 71,
     "metadata": {},
     "output_type": "execute_result"
    }
   ],
   "source": [
    "#MultiIndex can accept a names argument. which stores those names as strings. We didn't set that while making the multi index\n",
    "df.index.names"
   ]
  },
  {
   "cell_type": "code",
   "execution_count": null,
   "id": "1f403981",
   "metadata": {},
   "outputs": [],
   "source": [
    "df = pd.DataFrame(np.random.randn(3,8), index=['A','B','C'], columns=index)"
   ]
  },
  {
   "cell_type": "code",
   "execution_count": 73,
   "id": "61282030",
   "metadata": {},
   "outputs": [
    {
     "data": {
      "text/html": [
       "<div>\n",
       "<style scoped>\n",
       "    .dataframe tbody tr th:only-of-type {\n",
       "        vertical-align: middle;\n",
       "    }\n",
       "\n",
       "    .dataframe tbody tr th {\n",
       "        vertical-align: top;\n",
       "    }\n",
       "\n",
       "    .dataframe thead th {\n",
       "        text-align: right;\n",
       "    }\n",
       "</style>\n",
       "<table border=\"1\" class=\"dataframe\">\n",
       "  <thead>\n",
       "    <tr style=\"text-align: right;\">\n",
       "      <th></th>\n",
       "      <th></th>\n",
       "      <th>0</th>\n",
       "      <th>1</th>\n",
       "      <th>2</th>\n",
       "      <th>3</th>\n",
       "    </tr>\n",
       "  </thead>\n",
       "  <tbody>\n",
       "    <tr>\n",
       "      <th rowspan=\"2\" valign=\"top\">ant</th>\n",
       "      <th>one</th>\n",
       "      <td>-1.138896</td>\n",
       "      <td>-1.531828</td>\n",
       "      <td>-0.882284</td>\n",
       "      <td>1.366161</td>\n",
       "    </tr>\n",
       "    <tr>\n",
       "      <th>two</th>\n",
       "      <td>-1.012418</td>\n",
       "      <td>-0.548459</td>\n",
       "      <td>0.503765</td>\n",
       "      <td>-0.179938</td>\n",
       "    </tr>\n",
       "    <tr>\n",
       "      <th rowspan=\"2\" valign=\"top\">bat</th>\n",
       "      <th>one</th>\n",
       "      <td>3.718233</td>\n",
       "      <td>-0.736847</td>\n",
       "      <td>0.592315</td>\n",
       "      <td>0.148797</td>\n",
       "    </tr>\n",
       "    <tr>\n",
       "      <th>two</th>\n",
       "      <td>0.479943</td>\n",
       "      <td>-0.114232</td>\n",
       "      <td>0.701564</td>\n",
       "      <td>1.503348</td>\n",
       "    </tr>\n",
       "    <tr>\n",
       "      <th rowspan=\"2\" valign=\"top\">fox</th>\n",
       "      <th>one</th>\n",
       "      <td>0.253135</td>\n",
       "      <td>0.393996</td>\n",
       "      <td>1.180553</td>\n",
       "      <td>-0.545689</td>\n",
       "    </tr>\n",
       "    <tr>\n",
       "      <th>two</th>\n",
       "      <td>-0.276725</td>\n",
       "      <td>0.600120</td>\n",
       "      <td>-0.368206</td>\n",
       "      <td>-0.725470</td>\n",
       "    </tr>\n",
       "    <tr>\n",
       "      <th rowspan=\"2\" valign=\"top\">pig</th>\n",
       "      <th>one</th>\n",
       "      <td>1.136640</td>\n",
       "      <td>-0.993723</td>\n",
       "      <td>-0.384284</td>\n",
       "      <td>-1.113576</td>\n",
       "    </tr>\n",
       "    <tr>\n",
       "      <th>two</th>\n",
       "      <td>-0.020705</td>\n",
       "      <td>-0.072541</td>\n",
       "      <td>-1.284810</td>\n",
       "      <td>-0.449682</td>\n",
       "    </tr>\n",
       "  </tbody>\n",
       "</table>\n",
       "</div>"
      ],
      "text/plain": [
       "                0         1         2         3\n",
       "ant one -1.138896 -1.531828 -0.882284  1.366161\n",
       "    two -1.012418 -0.548459  0.503765 -0.179938\n",
       "bat one  3.718233 -0.736847  0.592315  0.148797\n",
       "    two  0.479943 -0.114232  0.701564  1.503348\n",
       "fox one  0.253135  0.393996  1.180553 -0.545689\n",
       "    two -0.276725  0.600120 -0.368206 -0.725470\n",
       "pig one  1.136640 -0.993723 -0.384284 -1.113576\n",
       "    two -0.020705 -0.072541 -1.284810 -0.449682"
      ]
     },
     "execution_count": 73,
     "metadata": {},
     "output_type": "execute_result"
    }
   ],
   "source": [
    "df"
   ]
  },
  {
   "cell_type": "code",
   "execution_count": 72,
   "id": "794aaa4e",
   "metadata": {},
   "outputs": [],
   "source": [
    "### that's as much as I can understand right now....\n",
    "\n",
    "### I stopped at 'This index can back any axis of a pandas object, and the number of levels of the index is up to you:'"
   ]
  }
 ],
 "metadata": {
  "kernelspec": {
   "display_name": "Python 3 (ipykernel)",
   "language": "python",
   "name": "python3"
  },
  "language_info": {
   "codemirror_mode": {
    "name": "ipython",
    "version": 3
   },
   "file_extension": ".py",
   "mimetype": "text/x-python",
   "name": "python",
   "nbconvert_exporter": "python",
   "pygments_lexer": "ipython3",
   "version": "3.9.12"
  }
 },
 "nbformat": 4,
 "nbformat_minor": 5
}
