{
 "cells": [
  {
   "cell_type": "markdown",
   "id": "029bf9c0",
   "metadata": {},
   "source": [
    "# Plotty and Cufflinks"
   ]
  },
  {
   "cell_type": "markdown",
   "id": "ea38d442",
   "metadata": {},
   "source": [
    "2.Possible Colorscale Error 2: In the \"Real Data US Map Choropleth\", when you are creating the data dictionary, make sure the colorscale line is = 'ylorbr', not 'YIOrbr'... so like this:\n",
    "\n",
    "colorscale='ylorbr'\n",
    "\n",
    "\n",
    "\n",
    "3.Possible projection Error 3: In the \"World Map Choropleth\", when you are creating the layout, ensure that your projection line is = {'type':'mercator'} not Mercator with a capital...so like this:\n",
    "\n",
    "projection={'type':'mercator'}"
   ]
  },
  {
   "cell_type": "markdown",
   "id": "7e39572c",
   "metadata": {},
   "source": [
    "## The set up"
   ]
  },
  {
   "cell_type": "code",
   "execution_count": 10,
   "id": "54df93f2",
   "metadata": {},
   "outputs": [],
   "source": [
    "import chart_studio.plotly as py"
   ]
  },
  {
   "cell_type": "code",
   "execution_count": 11,
   "id": "4733a56f",
   "metadata": {},
   "outputs": [],
   "source": [
    "import pandas as pd\n",
    "import numpy as np\n"
   ]
  },
  {
   "cell_type": "code",
   "execution_count": 12,
   "id": "e14f3c46",
   "metadata": {},
   "outputs": [],
   "source": [
    "%matplotlib inline"
   ]
  },
  {
   "cell_type": "code",
   "execution_count": 13,
   "id": "04d83f43",
   "metadata": {},
   "outputs": [],
   "source": [
    "from plotly import __version__"
   ]
  },
  {
   "cell_type": "code",
   "execution_count": 14,
   "id": "7149cf52",
   "metadata": {},
   "outputs": [
    {
     "name": "stdout",
     "output_type": "stream",
     "text": [
      "5.6.0\n"
     ]
    }
   ],
   "source": [
    "print(__version__)"
   ]
  },
  {
   "cell_type": "code",
   "execution_count": 15,
   "id": "61bced51",
   "metadata": {},
   "outputs": [],
   "source": [
    "import cufflinks as cf"
   ]
  },
  {
   "cell_type": "code",
   "execution_count": 16,
   "id": "0864dd0e",
   "metadata": {},
   "outputs": [],
   "source": [
    "from plotly.offline import download_plotlyjs,init_notebook_mode,plot,iplot"
   ]
  },
  {
   "cell_type": "code",
   "execution_count": 17,
   "id": "412a246b",
   "metadata": {},
   "outputs": [
    {
     "data": {
      "text/html": [
       "        <script type=\"text/javascript\">\n",
       "        window.PlotlyConfig = {MathJaxConfig: 'local'};\n",
       "        if (window.MathJax) {MathJax.Hub.Config({SVG: {font: \"STIX-Web\"}});}\n",
       "        if (typeof require !== 'undefined') {\n",
       "        require.undef(\"plotly\");\n",
       "        requirejs.config({\n",
       "            paths: {\n",
       "                'plotly': ['https://cdn.plot.ly/plotly-2.9.0.min']\n",
       "            }\n",
       "        });\n",
       "        require(['plotly'], function(Plotly) {\n",
       "            window._Plotly = Plotly;\n",
       "        });\n",
       "        }\n",
       "        </script>\n",
       "        "
      ]
     },
     "metadata": {},
     "output_type": "display_data"
    }
   ],
   "source": [
    "init_notebook_mode(connected=True)"
   ]
  },
  {
   "cell_type": "code",
   "execution_count": 18,
   "id": "750f7af0",
   "metadata": {},
   "outputs": [
    {
     "data": {
      "text/html": [
       "        <script type=\"text/javascript\">\n",
       "        window.PlotlyConfig = {MathJaxConfig: 'local'};\n",
       "        if (window.MathJax) {MathJax.Hub.Config({SVG: {font: \"STIX-Web\"}});}\n",
       "        if (typeof require !== 'undefined') {\n",
       "        require.undef(\"plotly\");\n",
       "        requirejs.config({\n",
       "            paths: {\n",
       "                'plotly': ['https://cdn.plot.ly/plotly-2.9.0.min']\n",
       "            }\n",
       "        });\n",
       "        require(['plotly'], function(Plotly) {\n",
       "            window._Plotly = Plotly;\n",
       "        });\n",
       "        }\n",
       "        </script>\n",
       "        "
      ]
     },
     "metadata": {},
     "output_type": "display_data"
    }
   ],
   "source": [
    "cf.go_offline()"
   ]
  },
  {
   "cell_type": "code",
   "execution_count": null,
   "id": "73a7105b",
   "metadata": {},
   "outputs": [],
   "source": []
  },
  {
   "cell_type": "markdown",
   "id": "59d781ab",
   "metadata": {},
   "source": [
    "### Data"
   ]
  },
  {
   "cell_type": "code",
   "execution_count": 19,
   "id": "8eb9f54c",
   "metadata": {},
   "outputs": [],
   "source": [
    "df = pd.DataFrame(np.random.randn(100,4),columns='A B C D'.split())"
   ]
  },
  {
   "cell_type": "code",
   "execution_count": 20,
   "id": "0baf9a57",
   "metadata": {},
   "outputs": [
    {
     "data": {
      "text/html": [
       "<div>\n",
       "<style scoped>\n",
       "    .dataframe tbody tr th:only-of-type {\n",
       "        vertical-align: middle;\n",
       "    }\n",
       "\n",
       "    .dataframe tbody tr th {\n",
       "        vertical-align: top;\n",
       "    }\n",
       "\n",
       "    .dataframe thead th {\n",
       "        text-align: right;\n",
       "    }\n",
       "</style>\n",
       "<table border=\"1\" class=\"dataframe\">\n",
       "  <thead>\n",
       "    <tr style=\"text-align: right;\">\n",
       "      <th></th>\n",
       "      <th>A</th>\n",
       "      <th>B</th>\n",
       "      <th>C</th>\n",
       "      <th>D</th>\n",
       "    </tr>\n",
       "  </thead>\n",
       "  <tbody>\n",
       "    <tr>\n",
       "      <th>0</th>\n",
       "      <td>1.083780</td>\n",
       "      <td>-0.522891</td>\n",
       "      <td>0.506174</td>\n",
       "      <td>-1.067577</td>\n",
       "    </tr>\n",
       "    <tr>\n",
       "      <th>1</th>\n",
       "      <td>-0.830732</td>\n",
       "      <td>-0.513395</td>\n",
       "      <td>-0.453744</td>\n",
       "      <td>-0.626432</td>\n",
       "    </tr>\n",
       "    <tr>\n",
       "      <th>2</th>\n",
       "      <td>0.970465</td>\n",
       "      <td>0.680669</td>\n",
       "      <td>-1.345242</td>\n",
       "      <td>0.747127</td>\n",
       "    </tr>\n",
       "    <tr>\n",
       "      <th>3</th>\n",
       "      <td>-0.131508</td>\n",
       "      <td>1.031910</td>\n",
       "      <td>-0.790691</td>\n",
       "      <td>-1.546387</td>\n",
       "    </tr>\n",
       "    <tr>\n",
       "      <th>4</th>\n",
       "      <td>-1.431676</td>\n",
       "      <td>0.513424</td>\n",
       "      <td>0.516861</td>\n",
       "      <td>0.259380</td>\n",
       "    </tr>\n",
       "    <tr>\n",
       "      <th>...</th>\n",
       "      <td>...</td>\n",
       "      <td>...</td>\n",
       "      <td>...</td>\n",
       "      <td>...</td>\n",
       "    </tr>\n",
       "    <tr>\n",
       "      <th>95</th>\n",
       "      <td>1.347916</td>\n",
       "      <td>1.225696</td>\n",
       "      <td>1.133418</td>\n",
       "      <td>-0.865184</td>\n",
       "    </tr>\n",
       "    <tr>\n",
       "      <th>96</th>\n",
       "      <td>-0.836860</td>\n",
       "      <td>0.402214</td>\n",
       "      <td>0.449094</td>\n",
       "      <td>0.841283</td>\n",
       "    </tr>\n",
       "    <tr>\n",
       "      <th>97</th>\n",
       "      <td>-0.009797</td>\n",
       "      <td>0.515223</td>\n",
       "      <td>-2.307454</td>\n",
       "      <td>0.421399</td>\n",
       "    </tr>\n",
       "    <tr>\n",
       "      <th>98</th>\n",
       "      <td>0.598304</td>\n",
       "      <td>1.330644</td>\n",
       "      <td>1.092453</td>\n",
       "      <td>-0.933867</td>\n",
       "    </tr>\n",
       "    <tr>\n",
       "      <th>99</th>\n",
       "      <td>-0.876585</td>\n",
       "      <td>-0.618409</td>\n",
       "      <td>1.391690</td>\n",
       "      <td>0.380209</td>\n",
       "    </tr>\n",
       "  </tbody>\n",
       "</table>\n",
       "<p>100 rows × 4 columns</p>\n",
       "</div>"
      ],
      "text/plain": [
       "           A         B         C         D\n",
       "0   1.083780 -0.522891  0.506174 -1.067577\n",
       "1  -0.830732 -0.513395 -0.453744 -0.626432\n",
       "2   0.970465  0.680669 -1.345242  0.747127\n",
       "3  -0.131508  1.031910 -0.790691 -1.546387\n",
       "4  -1.431676  0.513424  0.516861  0.259380\n",
       "..       ...       ...       ...       ...\n",
       "95  1.347916  1.225696  1.133418 -0.865184\n",
       "96 -0.836860  0.402214  0.449094  0.841283\n",
       "97 -0.009797  0.515223 -2.307454  0.421399\n",
       "98  0.598304  1.330644  1.092453 -0.933867\n",
       "99 -0.876585 -0.618409  1.391690  0.380209\n",
       "\n",
       "[100 rows x 4 columns]"
      ]
     },
     "execution_count": 20,
     "metadata": {},
     "output_type": "execute_result"
    }
   ],
   "source": [
    "df"
   ]
  },
  {
   "cell_type": "code",
   "execution_count": 21,
   "id": "2bebce0e",
   "metadata": {},
   "outputs": [],
   "source": [
    "df2 = pd.DataFrame({'Category':['A','B','C'],'Values':[32,43,50]})"
   ]
  },
  {
   "cell_type": "code",
   "execution_count": 22,
   "id": "57f26148",
   "metadata": {},
   "outputs": [
    {
     "data": {
      "text/html": [
       "<div>\n",
       "<style scoped>\n",
       "    .dataframe tbody tr th:only-of-type {\n",
       "        vertical-align: middle;\n",
       "    }\n",
       "\n",
       "    .dataframe tbody tr th {\n",
       "        vertical-align: top;\n",
       "    }\n",
       "\n",
       "    .dataframe thead th {\n",
       "        text-align: right;\n",
       "    }\n",
       "</style>\n",
       "<table border=\"1\" class=\"dataframe\">\n",
       "  <thead>\n",
       "    <tr style=\"text-align: right;\">\n",
       "      <th></th>\n",
       "      <th>Category</th>\n",
       "      <th>Values</th>\n",
       "    </tr>\n",
       "  </thead>\n",
       "  <tbody>\n",
       "    <tr>\n",
       "      <th>0</th>\n",
       "      <td>A</td>\n",
       "      <td>32</td>\n",
       "    </tr>\n",
       "    <tr>\n",
       "      <th>1</th>\n",
       "      <td>B</td>\n",
       "      <td>43</td>\n",
       "    </tr>\n",
       "    <tr>\n",
       "      <th>2</th>\n",
       "      <td>C</td>\n",
       "      <td>50</td>\n",
       "    </tr>\n",
       "  </tbody>\n",
       "</table>\n",
       "</div>"
      ],
      "text/plain": [
       "  Category  Values\n",
       "0        A      32\n",
       "1        B      43\n",
       "2        C      50"
      ]
     },
     "execution_count": 22,
     "metadata": {},
     "output_type": "execute_result"
    }
   ],
   "source": [
    "df2"
   ]
  },
  {
   "cell_type": "markdown",
   "id": "9d3c4b12",
   "metadata": {},
   "source": [
    "### Cufflinks and Iplot"
   ]
  },
  {
   "cell_type": "code",
   "execution_count": 23,
   "id": "82317074",
   "metadata": {},
   "outputs": [
    {
     "data": {
      "text/plain": [
       "<AxesSubplot:>"
      ]
     },
     "execution_count": 23,
     "metadata": {},
     "output_type": "execute_result"
    },
    {
     "data": {
      "image/png": "[encoded data removed]",
      "text/plain": [
       "<Figure size 432x288 with 1 Axes>"
      ]
     },
     "metadata": {
      "needs_background": "light"
     },
     "output_type": "display_data"
    }
   ],
   "source": [
    "df.plot()"
   ]
  },
  {
   "cell_type": "code",
   "execution_count": 24,
   "id": "7f6d4cb6",
   "metadata": {},
   "outputs": [
    {
     "data": {
      "application/vnd.plotly.v1+json": {
       "config": {
        "linkText": "Export to plot.ly",
        "plotlyServerURL": "https://plot.ly",
        "showLink": true
       },
       "data": [
        {
         "line": {
          "color": "rgba(255, 153, 51, 1.0)",
          "dash": "solid",
          "shape": "linear",
          "width": 1.3
         },
         "mode": "lines",
         "name": "A",
         "text": "",
         "type": "scatter",
         "x": [
          0,
          1,
          2,
          3,
          4,
          5,
          6,
          7,
          8,
          9,
          10,
          11,
          12,
          13,
          14,
          15,
          16,
          17,
          18,
          19,
          20,
          21,
          22,
          23,
          24,
          25,
          26,
          27,
          28,
          29,
          30,
          31,
          32,
          33,
          34,
          35,
          36,
          37,
          38,
          39,
          40,
          41,
          42,
          43,
          44,
          45,
          46,
          47,
          48,
          49,
          50,
          51,
          52,
          53,
          54,
          55,
          56,
          57,
          58,
          59,
          60,
          61,
          62,
          63,
          64,
          65,
          66,
          67,
          68,
          69,
          70,
          71,
          72,
          73,
          74,
          75,
          76,
          77,
          78,
          79,
          80,
          81,
          82,
          83,
          84,
          85,
          86,
          87,
          88,
          89,
          90,
          91,
          92,
          93,
          94,
          95,
          96,
          97,
          98,
          99
         ],
         "y": [
          1.0837802026903676,
          -0.8307318652353206,
          0.9704645666752914,
          -0.13150801540525994,
          -1.431676307991406,
          0.5854248107675313,
          -0.5660964311261989,
          0.9884149998948273,
          -0.03866022001943958,
          0.3926136648987823,
          0.2366436323713876,
          1.5890962443122887,
          0.8157022340882426,
          0.3514861566194287,
          1.0277388736464257,
          0.2699518657534483,
          1.3965374784548972,
          -1.5384078610201786,
          -0.5850193141441375,
          0.04250994717911727,
          0.22334130053789886,
          -0.3843704559030353,
          -0.9135758999676846,
          1.1988523922550378,
          0.8756193834778848,
          -0.3245036125233253,
          -0.8643199642609466,
          -2.711830222084337,
          -1.6213541043042066,
          -1.1440160134243584,
          1.1956049013334702,
          -0.5163570085007548,
          0.3383295777705534,
          -0.32691112866765776,
          0.1380319492889386,
          -0.10120910311364711,
          1.2224935125494165,
          -0.7848201785562855,
          1.3251452237809054,
          -1.0422539931177521,
          -0.6220907671447959,
          0.7605865882300532,
          0.7097525174852362,
          0.9560880229550969,
          -0.10339811047162585,
          -0.14644500749449224,
          0.5368987942350666,
          -0.03267673468010394,
          -0.3285015605627665,
          -2.1637667787824704,
          -0.19750325171496624,
          -0.8705110153772423,
          0.3275838600290092,
          -1.4429386352380633,
          -0.5227190645611784,
          -0.6040484120224673,
          -0.5426828792455438,
          -0.24734238804509784,
          -0.1710048045514127,
          0.6357392606928337,
          0.22223721737535435,
          0.8539923672277793,
          1.6418874845855114,
          -1.6051526223909196,
          0.22309065021823282,
          -0.7595689515903035,
          -2.1996485445702563,
          1.5956732573254695,
          1.5477270913516719,
          0.567390246133774,
          0.4046686778858881,
          0.4683976376712205,
          -1.2977402564021023,
          -0.29053464566907533,
          -0.6681614022952193,
          0.5398107798206214,
          1.4892780015980334,
          0.8907307805670841,
          0.01356355123975639,
          0.779825227084279,
          1.480629213237171,
          -1.303499194553016,
          0.5640734614757685,
          0.888697983915617,
          -1.5602326741188632,
          0.3276654891441126,
          1.1056006487110808,
          0.11020457528062488,
          -1.3030233635699597,
          0.3924672139339836,
          0.5960789969061742,
          -1.1234727276191592,
          -1.7650675896330457,
          0.5986533532972574,
          1.0617932058870356,
          1.3479162812727086,
          -0.8368602512006359,
          -0.009797134647624255,
          0.5983037055534213,
          -0.8765850492559197
         ]
        },
        {
         "line": {
          "color": "rgba(55, 128, 191, 1.0)",
          "dash": "solid",
          "shape": "linear",
          "width": 1.3
         },
         "mode": "lines",
         "name": "B",
         "text": "",
         "type": "scatter",
         "x": [
          0,
          1,
          2,
          3,
          4,
          5,
          6,
          7,
          8,
          9,
          10,
          11,
          12,
          13,
          14,
          15,
          16,
          17,
          18,
          19,
          20,
          21,
          22,
          23,
          24,
          25,
          26,
          27,
          28,
          29,
          30,
          31,
          32,
          33,
          34,
          35,
          36,
          37,
          38,
          39,
          40,
          41,
          42,
          43,
          44,
          45,
          46,
          47,
          48,
          49,
          50,
          51,
          52,
          53,
          54,
          55,
          56,
          57,
          58,
          59,
          60,
          61,
          62,
          63,
          64,
          65,
          66,
          67,
          68,
          69,
          70,
          71,
          72,
          73,
          74,
          75,
          76,
          77,
          78,
          79,
          80,
          81,
          82,
          83,
          84,
          85,
          86,
          87,
          88,
          89,
          90,
          91,
          92,
          93,
          94,
          95,
          96,
          97,
          98,
          99
         ],
         "y": [
          -0.522890892695273,
          -0.5133950769305579,
          0.6806690722910964,
          1.031910376765052,
          0.5134242259294345,
          -1.1384405134344129,
          -1.967304273414849,
          2.7754662161448187,
          -0.12968506824520482,
          -0.5751330143483373,
          -1.7124510912923032,
          -0.7401896441257169,
          1.3640598393807122,
          -0.7392250669937778,
          -0.4596265565310788,
          0.8632338591254589,
          -0.9269877232227746,
          0.8005776928976868,
          -0.5303651277260929,
          -1.5478366663352567,
          -0.9021928385540456,
          0.07263937780983032,
          0.4964765917045821,
          -0.019362179759583174,
          0.3549150890000641,
          -0.254386036949427,
          1.287006580786897,
          0.7655221718834024,
          0.7588074233964105,
          2.119276748874291,
          -0.5972958247816397,
          -1.2021289261239687,
          -0.20378199373107492,
          0.8537557984722517,
          0.03905136978287543,
          -1.3572525759712204,
          0.7729758897701869,
          0.15709732946492647,
          -0.43953427255576755,
          0.02080414947036807,
          -0.0686204830480142,
          -1.7658436876434458,
          -0.07210159595201733,
          0.27634956368375163,
          1.0937799112009745,
          0.4294114559969322,
          -1.5755166280139263,
          -0.030870482297119722,
          -0.2023705876469707,
          0.5292765847905173,
          0.39943539003596257,
          -0.7724123878930874,
          0.6890986316171753,
          0.9122861623485468,
          0.1162402187877747,
          0.41573491106998256,
          -1.0554506054777522,
          0.3273723004744497,
          1.2826088924503345,
          0.002600066872883493,
          -1.344462684212799,
          -0.4646665558487505,
          0.6608569002638156,
          -1.172944904026479,
          -1.5333839108105396,
          0.5800873164304087,
          -0.0944402612694691,
          0.9177407000112922,
          -1.362401198969006,
          -0.26278842045129025,
          0.5670096180264699,
          -1.3766867887778862,
          1.0606927619478912,
          1.7738407682557193,
          -1.345147684233415,
          1.2258717217599049,
          -0.6434508497398888,
          -0.08574432115483341,
          -0.30728343458243823,
          -0.26446934774105685,
          -0.946849712608022,
          -1.153366821199802,
          -0.13739292710680448,
          0.3299629055380062,
          0.428734968248196,
          1.4750103690781826,
          0.9924535177609993,
          -0.5239161127928873,
          -0.7283124703069083,
          -0.10204894475527922,
          1.1466273781594924,
          0.0888460083240002,
          -0.0166821185648255,
          0.18261626841187298,
          -0.3679919585457832,
          1.2256960945250548,
          0.40221413256018895,
          0.515223149459377,
          1.3306440965310917,
          -0.618409258339924
         ]
        },
        {
         "line": {
          "color": "rgba(50, 171, 96, 1.0)",
          "dash": "solid",
          "shape": "linear",
          "width": 1.3
         },
         "mode": "lines",
         "name": "C",
         "text": "",
         "type": "scatter",
         "x": [
          0,
          1,
          2,
          3,
          4,
          5,
          6,
          7,
          8,
          9,
          10,
          11,
          12,
          13,
          14,
          15,
          16,
          17,
          18,
          19,
          20,
          21,
          22,
          23,
          24,
          25,
          26,
          27,
          28,
          29,
          30,
          31,
          32,
          33,
          34,
          35,
          36,
          37,
          38,
          39,
          40,
          41,
          42,
          43,
          44,
          45,
          46,
          47,
          48,
          49,
          50,
          51,
          52,
          53,
          54,
          55,
          56,
          57,
          58,
          59,
          60,
          61,
          62,
          63,
          64,
          65,
          66,
          67,
          68,
          69,
          70,
          71,
          72,
          73,
          74,
          75,
          76,
          77,
          78,
          79,
          80,
          81,
          82,
          83,
          84,
          85,
          86,
          87,
          88,
          89,
          90,
          91,
          92,
          93,
          94,
          95,
          96,
          97,
          98,
          99
         ],
         "y": [
          0.5061735650054343,
          -0.45374351970619403,
          -1.3452417433111727,
          -0.7906907432933548,
          0.5168613662055268,
          -0.4741995457952149,
          -0.4694021472502292,
          -1.0065724184279325,
          0.08312318574305148,
          0.2962008274450619,
          -0.7652039217045815,
          0.7388926859827525,
          -0.9745728957736693,
          -2.4966091073318424,
          -0.7916851107025121,
          0.8795399529894699,
          -1.1612265935014694,
          1.5668786119989917,
          1.1040731833869804,
          1.0707093127560956,
          0.04029924094817754,
          -1.4025655681894444,
          1.1083759673468043,
          -0.26951084815162907,
          0.6821491317910371,
          -0.3290024007045008,
          1.801817498836998,
          0.09532447935235822,
          0.5756724929951034,
          1.2250363316590556,
          0.5404691198101195,
          1.405107902503578,
          -0.46317087243262545,
          -0.06896767035212416,
          -0.8379096836859891,
          0.8559684259161792,
          0.7777864657707051,
          0.9242137263015999,
          -0.2896985032173854,
          0.04891742223527568,
          -1.2404205571776148,
          -0.1051185708499763,
          -0.8830174503203669,
          0.22096219141352746,
          0.8821591483730389,
          -0.23674634676994427,
          2.5158583605059843,
          -1.6231979754694397,
          -0.20367723899620602,
          -0.7347607399291173,
          -0.168438399902665,
          -0.943047835388374,
          0.1277488505392079,
          -0.4597241063254028,
          0.7571446506449164,
          0.2679007718721096,
          0.07464719122470621,
          1.3878605790736451,
          0.46617492851758113,
          0.8686807258221567,
          1.2416824576348655,
          -1.5071105865323295,
          1.2553368074664373,
          -0.027321171048688378,
          -1.1622915769561002,
          0.17761266565039144,
          -1.8055440471148432,
          0.1440987967848737,
          0.14970580108926282,
          0.7842807872764457,
          0.3755126386941075,
          -0.453537726159817,
          -1.2272616199332682,
          -0.6026080665367011,
          -0.07245424810641667,
          0.38435297238922855,
          -0.7927447793959029,
          0.8219029649758968,
          0.25577990702355674,
          -0.39326546750649277,
          -0.06789084835124859,
          -1.340905483933111,
          -1.5117427959932335,
          0.16040901680405362,
          -0.5247056642455927,
          -1.6852089693321068,
          0.9003114764531234,
          1.3720171677133417,
          0.6747827785756805,
          0.27954802705531684,
          -0.47056378249546665,
          -2.3813183979413095,
          -0.9269712255431471,
          0.10436926248829959,
          0.05360017960672199,
          1.1334181219773138,
          0.4490940132605856,
          -2.3074539127722318,
          1.0924529184352614,
          1.3916896997462473
         ]
        },
        {
         "line": {
          "color": "rgba(128, 0, 128, 1.0)",
          "dash": "solid",
          "shape": "linear",
          "width": 1.3
         },
         "mode": "lines",
         "name": "D",
         "text": "",
         "type": "scatter",
         "x": [
          0,
          1,
          2,
          3,
          4,
          5,
          6,
          7,
          8,
          9,
          10,
          11,
          12,
          13,
          14,
          15,
          16,
          17,
          18,
          19,
          20,
          21,
          22,
          23,
          24,
          25,
          26,
          27,
          28,
          29,
          30,
          31,
          32,
          33,
          34,
          35,
          36,
          37,
          38,
          39,
          40,
          41,
          42,
          43,
          44,
          45,
          46,
          47,
          48,
          49,
          50,
          51,
          52,
          53,
          54,
          55,
          56,
          57,
          58,
          59,
          60,
          61,
          62,
          63,
          64,
          65,
          66,
          67,
          68,
          69,
          70,
          71,
          72,
          73,
          74,
          75,
          76,
          77,
          78,
          79,
          80,
          81,
          82,
          83,
          84,
          85,
          86,
          87,
          88,
          89,
          90,
          91,
          92,
          93,
          94,
          95,
          96,
          97,
          98,
          99
         ],
         "y": [
          -1.0675771230985205,
          -0.6264316253365796,
          0.747126545149039,
          -1.5463867828324207,
          0.25938015269389925,
          -0.5389198104008657,
          -0.5728103842865038,
          0.04232544843890766,
          0.6051018423665102,
          1.5719879536382655,
          2.1824615406208365,
          -1.25222283856212,
          -0.3089715792020181,
          -0.9345231376762781,
          1.0309931125440828,
          -0.8427677439209136,
          1.1977651673873526,
          0.9643854392140603,
          0.2967407338548481,
          0.11503189012991172,
          0.8732057487653814,
          -0.19830601613374937,
          0.40756545557832274,
          -0.0022754125899660353,
          0.7211153825417478,
          -0.07342677113470895,
          0.9979282708349597,
          0.9597658767905103,
          0.6255359378491521,
          -0.45621573285751493,
          0.8150247581386546,
          -1.1072203072967557,
          -1.1000977049464933,
          1.6803282734071265,
          -0.9318001814065225,
          -1.9075202717308457,
          0.513400387638943,
          -0.9386923104093527,
          2.450064768931152,
          -1.432923362063971,
          0.6619256366627118,
          -0.31934761067773776,
          -1.8377084151369856,
          0.9344121070744521,
          0.21650089150415538,
          0.39973594945452634,
          0.9143285496448482,
          0.885617368351388,
          -1.0805304951112176,
          -1.5173287886073383,
          0.10401551897097906,
          0.451738909451791,
          0.8109448163385391,
          1.2734919720754343,
          -0.5587983288972399,
          1.9646001859380617,
          -0.037742341521644546,
          -0.38713967847411024,
          -0.7409576411389274,
          0.5736931426231485,
          -0.06893535611076942,
          -1.5818187828753911,
          0.4897288305796859,
          1.0132675005143266,
          1.100210446616976,
          -0.18704871424081185,
          0.8149179903873712,
          1.8509522380904984,
          -0.3048755128510082,
          0.15402916833245736,
          1.2033989062448742,
          -1.422386845150487,
          0.8659658670845835,
          1.383060561297713,
          -0.47414528871073014,
          -0.4444611891967911,
          -1.134515572377695,
          0.5210567607543705,
          0.711433108724833,
          -1.4595894453701157,
          1.866171666097092,
          0.30819746567042894,
          1.0831035343593591,
          -0.4917300092139015,
          0.8937049963266488,
          -0.779032604223167,
          1.3202255084238312,
          1.3058107289950605,
          1.1034214210645876,
          0.6616521623376257,
          -0.36773474713485177,
          -0.3698675153167032,
          -0.7317343089371522,
          -0.3916593838141954,
          -0.9691641760790766,
          -0.8651839848953563,
          0.8412831635767257,
          0.42139921244393047,
          -0.9338671399851458,
          0.3802094408496576
         ]
        }
       ],
       "layout": {
        "legend": {
         "bgcolor": "#F5F6F9",
         "font": {
          "color": "#4D5663"
         }
        },
        "paper_bgcolor": "#F5F6F9",
        "plot_bgcolor": "#F5F6F9",
        "template": {
         "data": {
          "bar": [
           {
            "error_x": {
             "color": "#2a3f5f"
            },
            "error_y": {
             "color": "#2a3f5f"
            },
            "marker": {
             "line": {
              "color": "#E5ECF6",
              "width": 0.5
             },
             "pattern": {
              "fillmode": "overlay",
              "size": 10,
              "solidity": 0.2
             }
            },
            "type": "bar"
           }
          ],
          "barpolar": [
           {
            "marker": {
             "line": {
              "color": "#E5ECF6",
              "width": 0.5
             },
             "pattern": {
              "fillmode": "overlay",
              "size": 10,
              "solidity": 0.2
             }
            },
            "type": "barpolar"
           }
          ],
          "carpet": [
           {
            "aaxis": {
             "endlinecolor": "#2a3f5f",
             "gridcolor": "white",
             "linecolor": "white",
             "minorgridcolor": "white",
             "startlinecolor": "#2a3f5f"
            },
            "baxis": {
             "endlinecolor": "#2a3f5f",
             "gridcolor": "white",
             "linecolor": "white",
             "minorgridcolor": "white",
             "startlinecolor": "#2a3f5f"
            },
            "type": "carpet"
           }
          ],
          "choropleth": [
           {
            "colorbar": {
             "outlinewidth": 0,
             "ticks": ""
            },
            "type": "choropleth"
           }
          ],
          "contour": [
           {
            "colorbar": {
             "outlinewidth": 0,
             "ticks": ""
            },
            "colorscale": [
             [
              0,
              "#0d0887"
             ],
             [
              0.1111111111111111,
              "#46039f"
             ],
             [
              0.2222222222222222,
              "#7201a8"
             ],
             [
              0.3333333333333333,
              "#9c179e"
             ],
             [
              0.4444444444444444,
              "#bd3786"
             ],
             [
              0.5555555555555556,
              "#d8576b"
             ],
             [
              0.6666666666666666,
              "#ed7953"
             ],
             [
              0.7777777777777778,
              "#fb9f3a"
             ],
             [
              0.8888888888888888,
              "#fdca26"
             ],
             [
              1,
              "#f0f921"
             ]
            ],
            "type": "contour"
           }
          ],
          "contourcarpet": [
           {
            "colorbar": {
             "outlinewidth": 0,
             "ticks": ""
            },
            "type": "contourcarpet"
           }
          ],
          "heatmap": [
           {
            "colorbar": {
             "outlinewidth": 0,
             "ticks": ""
            },
            "colorscale": [
             [
              0,
              "#0d0887"
             ],
             [
              0.1111111111111111,
              "#46039f"
             ],
             [
              0.2222222222222222,
              "#7201a8"
             ],
             [
              0.3333333333333333,
              "#9c179e"
             ],
             [
              0.4444444444444444,
              "#bd3786"
             ],
             [
              0.5555555555555556,
              "#d8576b"
             ],
             [
              0.6666666666666666,
              "#ed7953"
             ],
             [
              0.7777777777777778,
              "#fb9f3a"
             ],
             [
              0.8888888888888888,
              "#fdca26"
             ],
             [
              1,
              "#f0f921"
             ]
            ],
            "type": "heatmap"
           }
          ],
          "heatmapgl": [
           {
            "colorbar": {
             "outlinewidth": 0,
             "ticks": ""
            },
            "colorscale": [
             [
              0,
              "#0d0887"
             ],
             [
              0.1111111111111111,
              "#46039f"
             ],
             [
              0.2222222222222222,
              "#7201a8"
             ],
             [
              0.3333333333333333,
              "#9c179e"
             ],
             [
              0.4444444444444444,
              "#bd3786"
             ],
             [
              0.5555555555555556,
              "#d8576b"
             ],
             [
              0.6666666666666666,
              "#ed7953"
             ],
             [
              0.7777777777777778,
              "#fb9f3a"
             ],
             [
              0.8888888888888888,
              "#fdca26"
             ],
             [
              1,
              "#f0f921"
             ]
            ],
            "type": "heatmapgl"
           }
          ],
          "histogram": [
           {
            "marker": {
             "pattern": {
              "fillmode": "overlay",
              "size": 10,
              "solidity": 0.2
             }
            },
            "type": "histogram"
           }
          ],
          "histogram2d": [
           {
            "colorbar": {
             "outlinewidth": 0,
             "ticks": ""
            },
            "colorscale": [
             [
              0,
              "#0d0887"
             ],
             [
              0.1111111111111111,
              "#46039f"
             ],
             [
              0.2222222222222222,
              "#7201a8"
             ],
             [
              0.3333333333333333,
              "#9c179e"
             ],
             [
              0.4444444444444444,
              "#bd3786"
             ],
             [
              0.5555555555555556,
              "#d8576b"
             ],
             [
              0.6666666666666666,
              "#ed7953"
             ],
             [
              0.7777777777777778,
              "#fb9f3a"
             ],
             [
              0.8888888888888888,
              "#fdca26"
             ],
             [
              1,
              "#f0f921"
             ]
            ],
            "type": "histogram2d"
           }
          ],
          "histogram2dcontour": [
           {
            "colorbar": {
             "outlinewidth": 0,
             "ticks": ""
            },
            "colorscale": [
             [
              0,
              "#0d0887"
             ],
             [
              0.1111111111111111,
              "#46039f"
             ],
             [
              0.2222222222222222,
              "#7201a8"
             ],
             [
              0.3333333333333333,
              "#9c179e"
             ],
             [
              0.4444444444444444,
              "#bd3786"
             ],
             [
              0.5555555555555556,
              "#d8576b"
             ],
             [
              0.6666666666666666,
              "#ed7953"
             ],
             [
              0.7777777777777778,
              "#fb9f3a"
             ],
             [
              0.8888888888888888,
              "#fdca26"
             ],
             [
              1,
              "#f0f921"
             ]
            ],
            "type": "histogram2dcontour"
           }
          ],
          "mesh3d": [
           {
            "colorbar": {
             "outlinewidth": 0,
             "ticks": ""
            },
            "type": "mesh3d"
           }
          ],
          "parcoords": [
           {
            "line": {
             "colorbar": {
              "outlinewidth": 0,
              "ticks": ""
             }
            },
            "type": "parcoords"
           }
          ],
          "pie": [
           {
            "automargin": true,
            "type": "pie"
           }
          ],
          "scatter": [
           {
            "marker": {
             "colorbar": {
              "outlinewidth": 0,
              "ticks": ""
             }
            },
            "type": "scatter"
           }
          ],
          "scatter3d": [
           {
            "line": {
             "colorbar": {
              "outlinewidth": 0,
              "ticks": ""
             }
            },
            "marker": {
             "colorbar": {
              "outlinewidth": 0,
              "ticks": ""
             }
            },
            "type": "scatter3d"
           }
          ],
          "scattercarpet": [
           {
            "marker": {
             "colorbar": {
              "outlinewidth": 0,
              "ticks": ""
             }
            },
            "type": "scattercarpet"
           }
          ],
          "scattergeo": [
           {
            "marker": {
             "colorbar": {
              "outlinewidth": 0,
              "ticks": ""
             }
            },
            "type": "scattergeo"
           }
          ],
          "scattergl": [
           {
            "marker": {
             "colorbar": {
              "outlinewidth": 0,
              "ticks": ""
             }
            },
            "type": "scattergl"
           }
          ],
          "scattermapbox": [
           {
            "marker": {
             "colorbar": {
              "outlinewidth": 0,
              "ticks": ""
             }
            },
            "type": "scattermapbox"
           }
          ],
          "scatterpolar": [
           {
            "marker": {
             "colorbar": {
              "outlinewidth": 0,
              "ticks": ""
             }
            },
            "type": "scatterpolar"
           }
          ],
          "scatterpolargl": [
           {
            "marker": {
             "colorbar": {
              "outlinewidth": 0,
              "ticks": ""
             }
            },
            "type": "scatterpolargl"
           }
          ],
          "scatterternary": [
           {
            "marker": {
             "colorbar": {
              "outlinewidth": 0,
              "ticks": ""
             }
            },
            "type": "scatterternary"
           }
          ],
          "surface": [
           {
            "colorbar": {
             "outlinewidth": 0,
             "ticks": ""
            },
            "colorscale": [
             [
              0,
              "#0d0887"
             ],
             [
              0.1111111111111111,
              "#46039f"
             ],
             [
              0.2222222222222222,
              "#7201a8"
             ],
             [
              0.3333333333333333,
              "#9c179e"
             ],
             [
              0.4444444444444444,
              "#bd3786"
             ],
             [
              0.5555555555555556,
              "#d8576b"
             ],
             [
              0.6666666666666666,
              "#ed7953"
             ],
             [
              0.7777777777777778,
              "#fb9f3a"
             ],
             [
              0.8888888888888888,
              "#fdca26"
             ],
             [
              1,
              "#f0f921"
             ]
            ],
            "type": "surface"
           }
          ],
          "table": [
           {
            "cells": {
             "fill": {
              "color": "#EBF0F8"
             },
             "line": {
              "color": "white"
             }
            },
            "header": {
             "fill": {
              "color": "#C8D4E3"
             },
             "line": {
              "color": "white"
             }
            },
            "type": "table"
           }
          ]
         },
         "layout": {
          "annotationdefaults": {
           "arrowcolor": "#2a3f5f",
           "arrowhead": 0,
           "arrowwidth": 1
          },
          "autotypenumbers": "strict",
          "coloraxis": {
           "colorbar": {
            "outlinewidth": 0,
            "ticks": ""
           }
          },
          "colorscale": {
           "diverging": [
            [
             0,
             "#8e0152"
            ],
            [
             0.1,
             "#c51b7d"
            ],
            [
             0.2,
             "#de77ae"
            ],
            [
             0.3,
             "#f1b6da"
            ],
            [
             0.4,
             "#fde0ef"
            ],
            [
             0.5,
             "#f7f7f7"
            ],
            [
             0.6,
             "#e6f5d0"
            ],
            [
             0.7,
             "#b8e186"
            ],
            [
             0.8,
             "#7fbc41"
            ],
            [
             0.9,
             "#4d9221"
            ],
            [
             1,
             "#276419"
            ]
           ],
           "sequential": [
            [
             0,
             "#0d0887"
            ],
            [
             0.1111111111111111,
             "#46039f"
            ],
            [
             0.2222222222222222,
             "#7201a8"
            ],
            [
             0.3333333333333333,
             "#9c179e"
            ],
            [
             0.4444444444444444,
             "#bd3786"
            ],
            [
             0.5555555555555556,
             "#d8576b"
            ],
            [
             0.6666666666666666,
             "#ed7953"
            ],
            [
             0.7777777777777778,
             "#fb9f3a"
            ],
            [
             0.8888888888888888,
             "#fdca26"
            ],
            [
             1,
             "#f0f921"
            ]
           ],
           "sequentialminus": [
            [
             0,
             "#0d0887"
            ],
            [
             0.1111111111111111,
             "#46039f"
            ],
            [
             0.2222222222222222,
             "#7201a8"
            ],
            [
             0.3333333333333333,
             "#9c179e"
            ],
            [
             0.4444444444444444,
             "#bd3786"
            ],
            [
             0.5555555555555556,
             "#d8576b"
            ],
            [
             0.6666666666666666,
             "#ed7953"
            ],
            [
             0.7777777777777778,
             "#fb9f3a"
            ],
            [
             0.8888888888888888,
             "#fdca26"
            ],
            [
             1,
             "#f0f921"
            ]
           ]
          },
          "colorway": [
           "#636efa",
           "#EF553B",
           "#00cc96",
           "#ab63fa",
           "#FFA15A",
           "#19d3f3",
           "#FF6692",
           "#B6E880",
           "#FF97FF",
           "#FECB52"
          ],
          "font": {
           "color": "#2a3f5f"
          },
          "geo": {
           "bgcolor": "white",
           "lakecolor": "white",
           "landcolor": "#E5ECF6",
           "showlakes": true,
           "showland": true,
           "subunitcolor": "white"
          },
          "hoverlabel": {
           "align": "left"
          },
          "hovermode": "closest",
          "mapbox": {
           "style": "light"
          },
          "paper_bgcolor": "white",
          "plot_bgcolor": "#E5ECF6",
          "polar": {
           "angularaxis": {
            "gridcolor": "white",
            "linecolor": "white",
            "ticks": ""
           },
           "bgcolor": "#E5ECF6",
           "radialaxis": {
            "gridcolor": "white",
            "linecolor": "white",
            "ticks": ""
           }
          },
          "scene": {
           "xaxis": {
            "backgroundcolor": "#E5ECF6",
            "gridcolor": "white",
            "gridwidth": 2,
            "linecolor": "white",
            "showbackground": true,
            "ticks": "",
            "zerolinecolor": "white"
           },
           "yaxis": {
            "backgroundcolor": "#E5ECF6",
            "gridcolor": "white",
            "gridwidth": 2,
            "linecolor": "white",
            "showbackground": true,
            "ticks": "",
            "zerolinecolor": "white"
           },
           "zaxis": {
            "backgroundcolor": "#E5ECF6",
            "gridcolor": "white",
            "gridwidth": 2,
            "linecolor": "white",
            "showbackground": true,
            "ticks": "",
            "zerolinecolor": "white"
           }
          },
          "shapedefaults": {
           "line": {
            "color": "#2a3f5f"
           }
          },
          "ternary": {
           "aaxis": {
            "gridcolor": "white",
            "linecolor": "white",
            "ticks": ""
           },
           "baxis": {
            "gridcolor": "white",
            "linecolor": "white",
            "ticks": ""
           },
           "bgcolor": "#E5ECF6",
           "caxis": {
            "gridcolor": "white",
            "linecolor": "white",
            "ticks": ""
           }
          },
          "title": {
           "x": 0.05
          },
          "xaxis": {
           "automargin": true,
           "gridcolor": "white",
           "linecolor": "white",
           "ticks": "",
           "title": {
            "standoff": 15
           },
           "zerolinecolor": "white",
           "zerolinewidth": 2
          },
          "yaxis": {
           "automargin": true,
           "gridcolor": "white",
           "linecolor": "white",
           "ticks": "",
           "title": {
            "standoff": 15
           },
           "zerolinecolor": "white",
           "zerolinewidth": 2
          }
         }
        },
        "title": {
         "font": {
          "color": "#4D5663"
         }
        },
        "xaxis": {
         "gridcolor": "#E1E5ED",
         "showgrid": true,
         "tickfont": {
          "color": "#4D5663"
         },
         "title": {
          "font": {
           "color": "#4D5663"
          },
          "text": ""
         },
         "zerolinecolor": "#E1E5ED"
        },
        "yaxis": {
         "gridcolor": "#E1E5ED",
         "showgrid": true,
         "tickfont": {
          "color": "#4D5663"
         },
         "title": {
          "font": {
           "color": "#4D5663"
          },
          "text": ""
         },
         "zerolinecolor": "#E1E5ED"
        }
       }
      },
      "text/html": [
       "<div>                            <div id=\"0f75efe5-7127-4ad6-b4ff-80469fa70a2a\" class=\"plotly-graph-div\" style=\"height:525px; width:100%;\"></div>            <script type=\"text/javascript\">                require([\"plotly\"], function(Plotly) {                    window.PLOTLYENV=window.PLOTLYENV || {};\n",
       "                    window.PLOTLYENV.BASE_URL='https://plot.ly';                                    if (document.getElementById(\"0f75efe5-7127-4ad6-b4ff-80469fa70a2a\")) {                    Plotly.newPlot(                        \"0f75efe5-7127-4ad6-b4ff-80469fa70a2a\",                        [{\"line\":{\"color\":\"rgba(255, 153, 51, 1.0)\",\"dash\":\"solid\",\"shape\":\"linear\",\"width\":1.3},\"mode\":\"lines\",\"name\":\"A\",\"text\":\"\",\"x\":[0,1,2,3,4,5,6,7,8,9,10,11,12,13,14,15,16,17,18,19,20,21,22,23,24,25,26,27,28,29,30,31,32,33,34,35,36,37,38,39,40,41,42,43,44,45,46,47,48,49,50,51,52,53,54,55,56,57,58,59,60,61,62,63,64,65,66,67,68,69,70,71,72,73,74,75,76,77,78,79,80,81,82,83,84,85,86,87,88,89,90,91,92,93,94,95,96,97,98,99],\"y\":[1.0837802026903676,-0.8307318652353206,0.9704645666752914,-0.13150801540525994,-1.431676307991406,0.5854248107675313,-0.5660964311261989,0.9884149998948273,-0.03866022001943958,0.3926136648987823,0.2366436323713876,1.5890962443122887,0.8157022340882426,0.3514861566194287,1.0277388736464257,0.2699518657534483,1.3965374784548972,-1.5384078610201786,-0.5850193141441375,0.04250994717911727,0.22334130053789886,-0.3843704559030353,-0.9135758999676846,1.1988523922550378,0.8756193834778848,-0.3245036125233253,-0.8643199642609466,-2.711830222084337,-1.6213541043042066,-1.1440160134243584,1.1956049013334702,-0.5163570085007548,0.3383295777705534,-0.32691112866765776,0.1380319492889386,-0.10120910311364711,1.2224935125494165,-0.7848201785562855,1.3251452237809054,-1.0422539931177521,-0.6220907671447959,0.7605865882300532,0.7097525174852362,0.9560880229550969,-0.10339811047162585,-0.14644500749449224,0.5368987942350666,-0.03267673468010394,-0.3285015605627665,-2.1637667787824704,-0.19750325171496624,-0.8705110153772423,0.3275838600290092,-1.4429386352380633,-0.5227190645611784,-0.6040484120224673,-0.5426828792455438,-0.24734238804509784,-0.1710048045514127,0.6357392606928337,0.22223721737535435,0.8539923672277793,1.6418874845855114,-1.6051526223909196,0.22309065021823282,-0.7595689515903035,-2.1996485445702563,1.5956732573254695,1.5477270913516719,0.567390246133774,0.4046686778858881,0.4683976376712205,-1.2977402564021023,-0.29053464566907533,-0.6681614022952193,0.5398107798206214,1.4892780015980334,0.8907307805670841,0.01356355123975639,0.779825227084279,1.480629213237171,-1.303499194553016,0.5640734614757685,0.888697983915617,-1.5602326741188632,0.3276654891441126,1.1056006487110808,0.11020457528062488,-1.3030233635699597,0.3924672139339836,0.5960789969061742,-1.1234727276191592,-1.7650675896330457,0.5986533532972574,1.0617932058870356,1.3479162812727086,-0.8368602512006359,-0.009797134647624255,0.5983037055534213,-0.8765850492559197],\"type\":\"scatter\"},{\"line\":{\"color\":\"rgba(55, 128, 191, 1.0)\",\"dash\":\"solid\",\"shape\":\"linear\",\"width\":1.3},\"mode\":\"lines\",\"name\":\"B\",\"text\":\"\",\"x\":[0,1,2,3,4,5,6,7,8,9,10,11,12,13,14,15,16,17,18,19,20,21,22,23,24,25,26,27,28,29,30,31,32,33,34,35,36,37,38,39,40,41,42,43,44,45,46,47,48,49,50,51,52,53,54,55,56,57,58,59,60,61,62,63,64,65,66,67,68,69,70,71,72,73,74,75,76,77,78,79,80,81,82,83,84,85,86,87,88,89,90,91,92,93,94,95,96,97,98,99],\"y\":[-0.522890892695273,-0.5133950769305579,0.6806690722910964,1.031910376765052,0.5134242259294345,-1.1384405134344129,-1.967304273414849,2.7754662161448187,-0.12968506824520482,-0.5751330143483373,-1.7124510912923032,-0.7401896441257169,1.3640598393807122,-0.7392250669937778,-0.4596265565310788,0.8632338591254589,-0.9269877232227746,0.8005776928976868,-0.5303651277260929,-1.5478366663352567,-0.9021928385540456,0.07263937780983032,0.4964765917045821,-0.019362179759583174,0.3549150890000641,-0.254386036949427,1.287006580786897,0.7655221718834024,0.7588074233964105,2.119276748874291,-0.5972958247816397,-1.2021289261239687,-0.20378199373107492,0.8537557984722517,0.03905136978287543,-1.3572525759712204,0.7729758897701869,0.15709732946492647,-0.43953427255576755,0.02080414947036807,-0.0686204830480142,-1.7658436876434458,-0.07210159595201733,0.27634956368375163,1.0937799112009745,0.4294114559969322,-1.5755166280139263,-0.030870482297119722,-0.2023705876469707,0.5292765847905173,0.39943539003596257,-0.7724123878930874,0.6890986316171753,0.9122861623485468,0.1162402187877747,0.41573491106998256,-1.0554506054777522,0.3273723004744497,1.2826088924503345,0.002600066872883493,-1.344462684212799,-0.4646665558487505,0.6608569002638156,-1.172944904026479,-1.5333839108105396,0.5800873164304087,-0.0944402612694691,0.9177407000112922,-1.362401198969006,-0.26278842045129025,0.5670096180264699,-1.3766867887778862,1.0606927619478912,1.7738407682557193,-1.345147684233415,1.2258717217599049,-0.6434508497398888,-0.08574432115483341,-0.30728343458243823,-0.26446934774105685,-0.946849712608022,-1.153366821199802,-0.13739292710680448,0.3299629055380062,0.428734968248196,1.4750103690781826,0.9924535177609993,-0.5239161127928873,-0.7283124703069083,-0.10204894475527922,1.1466273781594924,0.0888460083240002,-0.0166821185648255,0.18261626841187298,-0.3679919585457832,1.2256960945250548,0.40221413256018895,0.515223149459377,1.3306440965310917,-0.618409258339924],\"type\":\"scatter\"},{\"line\":{\"color\":\"rgba(50, 171, 96, 1.0)\",\"dash\":\"solid\",\"shape\":\"linear\",\"width\":1.3},\"mode\":\"lines\",\"name\":\"C\",\"text\":\"\",\"x\":[0,1,2,3,4,5,6,7,8,9,10,11,12,13,14,15,16,17,18,19,20,21,22,23,24,25,26,27,28,29,30,31,32,33,34,35,36,37,38,39,40,41,42,43,44,45,46,47,48,49,50,51,52,53,54,55,56,57,58,59,60,61,62,63,64,65,66,67,68,69,70,71,72,73,74,75,76,77,78,79,80,81,82,83,84,85,86,87,88,89,90,91,92,93,94,95,96,97,98,99],\"y\":[0.5061735650054343,-0.45374351970619403,-1.3452417433111727,-0.7906907432933548,0.5168613662055268,-0.4741995457952149,-0.4694021472502292,-1.0065724184279325,0.08312318574305148,0.2962008274450619,-0.7652039217045815,0.7388926859827525,-0.9745728957736693,-2.4966091073318424,-0.7916851107025121,0.8795399529894699,-1.1612265935014694,1.5668786119989917,1.1040731833869804,1.0707093127560956,0.04029924094817754,-1.4025655681894444,1.1083759673468043,-0.26951084815162907,0.6821491317910371,-0.3290024007045008,1.801817498836998,0.09532447935235822,0.5756724929951034,1.2250363316590556,0.5404691198101195,1.405107902503578,-0.46317087243262545,-0.06896767035212416,-0.8379096836859891,0.8559684259161792,0.7777864657707051,0.9242137263015999,-0.2896985032173854,0.04891742223527568,-1.2404205571776148,-0.1051185708499763,-0.8830174503203669,0.22096219141352746,0.8821591483730389,-0.23674634676994427,2.5158583605059843,-1.6231979754694397,-0.20367723899620602,-0.7347607399291173,-0.168438399902665,-0.943047835388374,0.1277488505392079,-0.4597241063254028,0.7571446506449164,0.2679007718721096,0.07464719122470621,1.3878605790736451,0.46617492851758113,0.8686807258221567,1.2416824576348655,-1.5071105865323295,1.2553368074664373,-0.027321171048688378,-1.1622915769561002,0.17761266565039144,-1.8055440471148432,0.1440987967848737,0.14970580108926282,0.7842807872764457,0.3755126386941075,-0.453537726159817,-1.2272616199332682,-0.6026080665367011,-0.07245424810641667,0.38435297238922855,-0.7927447793959029,0.8219029649758968,0.25577990702355674,-0.39326546750649277,-0.06789084835124859,-1.340905483933111,-1.5117427959932335,0.16040901680405362,-0.5247056642455927,-1.6852089693321068,0.9003114764531234,1.3720171677133417,0.6747827785756805,0.27954802705531684,-0.47056378249546665,-2.3813183979413095,-0.9269712255431471,0.10436926248829959,0.05360017960672199,1.1334181219773138,0.4490940132605856,-2.3074539127722318,1.0924529184352614,1.3916896997462473],\"type\":\"scatter\"},{\"line\":{\"color\":\"rgba(128, 0, 128, 1.0)\",\"dash\":\"solid\",\"shape\":\"linear\",\"width\":1.3},\"mode\":\"lines\",\"name\":\"D\",\"text\":\"\",\"x\":[0,1,2,3,4,5,6,7,8,9,10,11,12,13,14,15,16,17,18,19,20,21,22,23,24,25,26,27,28,29,30,31,32,33,34,35,36,37,38,39,40,41,42,43,44,45,46,47,48,49,50,51,52,53,54,55,56,57,58,59,60,61,62,63,64,65,66,67,68,69,70,71,72,73,74,75,76,77,78,79,80,81,82,83,84,85,86,87,88,89,90,91,92,93,94,95,96,97,98,99],\"y\":[-1.0675771230985205,-0.6264316253365796,0.747126545149039,-1.5463867828324207,0.25938015269389925,-0.5389198104008657,-0.5728103842865038,0.04232544843890766,0.6051018423665102,1.5719879536382655,2.1824615406208365,-1.25222283856212,-0.3089715792020181,-0.9345231376762781,1.0309931125440828,-0.8427677439209136,1.1977651673873526,0.9643854392140603,0.2967407338548481,0.11503189012991172,0.8732057487653814,-0.19830601613374937,0.40756545557832274,-0.0022754125899660353,0.7211153825417478,-0.07342677113470895,0.9979282708349597,0.9597658767905103,0.6255359378491521,-0.45621573285751493,0.8150247581386546,-1.1072203072967557,-1.1000977049464933,1.6803282734071265,-0.9318001814065225,-1.9075202717308457,0.513400387638943,-0.9386923104093527,2.450064768931152,-1.432923362063971,0.6619256366627118,-0.31934761067773776,-1.8377084151369856,0.9344121070744521,0.21650089150415538,0.39973594945452634,0.9143285496448482,0.885617368351388,-1.0805304951112176,-1.5173287886073383,0.10401551897097906,0.451738909451791,0.8109448163385391,1.2734919720754343,-0.5587983288972399,1.9646001859380617,-0.037742341521644546,-0.38713967847411024,-0.7409576411389274,0.5736931426231485,-0.06893535611076942,-1.5818187828753911,0.4897288305796859,1.0132675005143266,1.100210446616976,-0.18704871424081185,0.8149179903873712,1.8509522380904984,-0.3048755128510082,0.15402916833245736,1.2033989062448742,-1.422386845150487,0.8659658670845835,1.383060561297713,-0.47414528871073014,-0.4444611891967911,-1.134515572377695,0.5210567607543705,0.711433108724833,-1.4595894453701157,1.866171666097092,0.30819746567042894,1.0831035343593591,-0.4917300092139015,0.8937049963266488,-0.779032604223167,1.3202255084238312,1.3058107289950605,1.1034214210645876,0.6616521623376257,-0.36773474713485177,-0.3698675153167032,-0.7317343089371522,-0.3916593838141954,-0.9691641760790766,-0.8651839848953563,0.8412831635767257,0.42139921244393047,-0.9338671399851458,0.3802094408496576],\"type\":\"scatter\"}],                        {\"legend\":{\"bgcolor\":\"#F5F6F9\",\"font\":{\"color\":\"#4D5663\"}},\"paper_bgcolor\":\"#F5F6F9\",\"plot_bgcolor\":\"#F5F6F9\",\"template\":{\"data\":{\"barpolar\":[{\"marker\":{\"line\":{\"color\":\"#E5ECF6\",\"width\":0.5},\"pattern\":{\"fillmode\":\"overlay\",\"size\":10,\"solidity\":0.2}},\"type\":\"barpolar\"}],\"bar\":[{\"error_x\":{\"color\":\"#2a3f5f\"},\"error_y\":{\"color\":\"#2a3f5f\"},\"marker\":{\"line\":{\"color\":\"#E5ECF6\",\"width\":0.5},\"pattern\":{\"fillmode\":\"overlay\",\"size\":10,\"solidity\":0.2}},\"type\":\"bar\"}],\"carpet\":[{\"aaxis\":{\"endlinecolor\":\"#2a3f5f\",\"gridcolor\":\"white\",\"linecolor\":\"white\",\"minorgridcolor\":\"white\",\"startlinecolor\":\"#2a3f5f\"},\"baxis\":{\"endlinecolor\":\"#2a3f5f\",\"gridcolor\":\"white\",\"linecolor\":\"white\",\"minorgridcolor\":\"white\",\"startlinecolor\":\"#2a3f5f\"},\"type\":\"carpet\"}],\"choropleth\":[{\"colorbar\":{\"outlinewidth\":0,\"ticks\":\"\"},\"type\":\"choropleth\"}],\"contourcarpet\":[{\"colorbar\":{\"outlinewidth\":0,\"ticks\":\"\"},\"type\":\"contourcarpet\"}],\"contour\":[{\"colorbar\":{\"outlinewidth\":0,\"ticks\":\"\"},\"colorscale\":[[0.0,\"#0d0887\"],[0.1111111111111111,\"#46039f\"],[0.2222222222222222,\"#7201a8\"],[0.3333333333333333,\"#9c179e\"],[0.4444444444444444,\"#bd3786\"],[0.5555555555555556,\"#d8576b\"],[0.6666666666666666,\"#ed7953\"],[0.7777777777777778,\"#fb9f3a\"],[0.8888888888888888,\"#fdca26\"],[1.0,\"#f0f921\"]],\"type\":\"contour\"}],\"heatmapgl\":[{\"colorbar\":{\"outlinewidth\":0,\"ticks\":\"\"},\"colorscale\":[[0.0,\"#0d0887\"],[0.1111111111111111,\"#46039f\"],[0.2222222222222222,\"#7201a8\"],[0.3333333333333333,\"#9c179e\"],[0.4444444444444444,\"#bd3786\"],[0.5555555555555556,\"#d8576b\"],[0.6666666666666666,\"#ed7953\"],[0.7777777777777778,\"#fb9f3a\"],[0.8888888888888888,\"#fdca26\"],[1.0,\"#f0f921\"]],\"type\":\"heatmapgl\"}],\"heatmap\":[{\"colorbar\":{\"outlinewidth\":0,\"ticks\":\"\"},\"colorscale\":[[0.0,\"#0d0887\"],[0.1111111111111111,\"#46039f\"],[0.2222222222222222,\"#7201a8\"],[0.3333333333333333,\"#9c179e\"],[0.4444444444444444,\"#bd3786\"],[0.5555555555555556,\"#d8576b\"],[0.6666666666666666,\"#ed7953\"],[0.7777777777777778,\"#fb9f3a\"],[0.8888888888888888,\"#fdca26\"],[1.0,\"#f0f921\"]],\"type\":\"heatmap\"}],\"histogram2dcontour\":[{\"colorbar\":{\"outlinewidth\":0,\"ticks\":\"\"},\"colorscale\":[[0.0,\"#0d0887\"],[0.1111111111111111,\"#46039f\"],[0.2222222222222222,\"#7201a8\"],[0.3333333333333333,\"#9c179e\"],[0.4444444444444444,\"#bd3786\"],[0.5555555555555556,\"#d8576b\"],[0.6666666666666666,\"#ed7953\"],[0.7777777777777778,\"#fb9f3a\"],[0.8888888888888888,\"#fdca26\"],[1.0,\"#f0f921\"]],\"type\":\"histogram2dcontour\"}],\"histogram2d\":[{\"colorbar\":{\"outlinewidth\":0,\"ticks\":\"\"},\"colorscale\":[[0.0,\"#0d0887\"],[0.1111111111111111,\"#46039f\"],[0.2222222222222222,\"#7201a8\"],[0.3333333333333333,\"#9c179e\"],[0.4444444444444444,\"#bd3786\"],[0.5555555555555556,\"#d8576b\"],[0.6666666666666666,\"#ed7953\"],[0.7777777777777778,\"#fb9f3a\"],[0.8888888888888888,\"#fdca26\"],[1.0,\"#f0f921\"]],\"type\":\"histogram2d\"}],\"histogram\":[{\"marker\":{\"pattern\":{\"fillmode\":\"overlay\",\"size\":10,\"solidity\":0.2}},\"type\":\"histogram\"}],\"mesh3d\":[{\"colorbar\":{\"outlinewidth\":0,\"ticks\":\"\"},\"type\":\"mesh3d\"}],\"parcoords\":[{\"line\":{\"colorbar\":{\"outlinewidth\":0,\"ticks\":\"\"}},\"type\":\"parcoords\"}],\"pie\":[{\"automargin\":true,\"type\":\"pie\"}],\"scatter3d\":[{\"line\":{\"colorbar\":{\"outlinewidth\":0,\"ticks\":\"\"}},\"marker\":{\"colorbar\":{\"outlinewidth\":0,\"ticks\":\"\"}},\"type\":\"scatter3d\"}],\"scattercarpet\":[{\"marker\":{\"colorbar\":{\"outlinewidth\":0,\"ticks\":\"\"}},\"type\":\"scattercarpet\"}],\"scattergeo\":[{\"marker\":{\"colorbar\":{\"outlinewidth\":0,\"ticks\":\"\"}},\"type\":\"scattergeo\"}],\"scattergl\":[{\"marker\":{\"colorbar\":{\"outlinewidth\":0,\"ticks\":\"\"}},\"type\":\"scattergl\"}],\"scattermapbox\":[{\"marker\":{\"colorbar\":{\"outlinewidth\":0,\"ticks\":\"\"}},\"type\":\"scattermapbox\"}],\"scatterpolargl\":[{\"marker\":{\"colorbar\":{\"outlinewidth\":0,\"ticks\":\"\"}},\"type\":\"scatterpolargl\"}],\"scatterpolar\":[{\"marker\":{\"colorbar\":{\"outlinewidth\":0,\"ticks\":\"\"}},\"type\":\"scatterpolar\"}],\"scatter\":[{\"marker\":{\"colorbar\":{\"outlinewidth\":0,\"ticks\":\"\"}},\"type\":\"scatter\"}],\"scatterternary\":[{\"marker\":{\"colorbar\":{\"outlinewidth\":0,\"ticks\":\"\"}},\"type\":\"scatterternary\"}],\"surface\":[{\"colorbar\":{\"outlinewidth\":0,\"ticks\":\"\"},\"colorscale\":[[0.0,\"#0d0887\"],[0.1111111111111111,\"#46039f\"],[0.2222222222222222,\"#7201a8\"],[0.3333333333333333,\"#9c179e\"],[0.4444444444444444,\"#bd3786\"],[0.5555555555555556,\"#d8576b\"],[0.6666666666666666,\"#ed7953\"],[0.7777777777777778,\"#fb9f3a\"],[0.8888888888888888,\"#fdca26\"],[1.0,\"#f0f921\"]],\"type\":\"surface\"}],\"table\":[{\"cells\":{\"fill\":{\"color\":\"#EBF0F8\"},\"line\":{\"color\":\"white\"}},\"header\":{\"fill\":{\"color\":\"#C8D4E3\"},\"line\":{\"color\":\"white\"}},\"type\":\"table\"}]},\"layout\":{\"annotationdefaults\":{\"arrowcolor\":\"#2a3f5f\",\"arrowhead\":0,\"arrowwidth\":1},\"autotypenumbers\":\"strict\",\"coloraxis\":{\"colorbar\":{\"outlinewidth\":0,\"ticks\":\"\"}},\"colorscale\":{\"diverging\":[[0,\"#8e0152\"],[0.1,\"#c51b7d\"],[0.2,\"#de77ae\"],[0.3,\"#f1b6da\"],[0.4,\"#fde0ef\"],[0.5,\"#f7f7f7\"],[0.6,\"#e6f5d0\"],[0.7,\"#b8e186\"],[0.8,\"#7fbc41\"],[0.9,\"#4d9221\"],[1,\"#276419\"]],\"sequential\":[[0.0,\"#0d0887\"],[0.1111111111111111,\"#46039f\"],[0.2222222222222222,\"#7201a8\"],[0.3333333333333333,\"#9c179e\"],[0.4444444444444444,\"#bd3786\"],[0.5555555555555556,\"#d8576b\"],[0.6666666666666666,\"#ed7953\"],[0.7777777777777778,\"#fb9f3a\"],[0.8888888888888888,\"#fdca26\"],[1.0,\"#f0f921\"]],\"sequentialminus\":[[0.0,\"#0d0887\"],[0.1111111111111111,\"#46039f\"],[0.2222222222222222,\"#7201a8\"],[0.3333333333333333,\"#9c179e\"],[0.4444444444444444,\"#bd3786\"],[0.5555555555555556,\"#d8576b\"],[0.6666666666666666,\"#ed7953\"],[0.7777777777777778,\"#fb9f3a\"],[0.8888888888888888,\"#fdca26\"],[1.0,\"#f0f921\"]]},\"colorway\":[\"#636efa\",\"#EF553B\",\"#00cc96\",\"#ab63fa\",\"#FFA15A\",\"#19d3f3\",\"#FF6692\",\"#B6E880\",\"#FF97FF\",\"#FECB52\"],\"font\":{\"color\":\"#2a3f5f\"},\"geo\":{\"bgcolor\":\"white\",\"lakecolor\":\"white\",\"landcolor\":\"#E5ECF6\",\"showlakes\":true,\"showland\":true,\"subunitcolor\":\"white\"},\"hoverlabel\":{\"align\":\"left\"},\"hovermode\":\"closest\",\"mapbox\":{\"style\":\"light\"},\"paper_bgcolor\":\"white\",\"plot_bgcolor\":\"#E5ECF6\",\"polar\":{\"angularaxis\":{\"gridcolor\":\"white\",\"linecolor\":\"white\",\"ticks\":\"\"},\"bgcolor\":\"#E5ECF6\",\"radialaxis\":{\"gridcolor\":\"white\",\"linecolor\":\"white\",\"ticks\":\"\"}},\"scene\":{\"xaxis\":{\"backgroundcolor\":\"#E5ECF6\",\"gridcolor\":\"white\",\"gridwidth\":2,\"linecolor\":\"white\",\"showbackground\":true,\"ticks\":\"\",\"zerolinecolor\":\"white\"},\"yaxis\":{\"backgroundcolor\":\"#E5ECF6\",\"gridcolor\":\"white\",\"gridwidth\":2,\"linecolor\":\"white\",\"showbackground\":true,\"ticks\":\"\",\"zerolinecolor\":\"white\"},\"zaxis\":{\"backgroundcolor\":\"#E5ECF6\",\"gridcolor\":\"white\",\"gridwidth\":2,\"linecolor\":\"white\",\"showbackground\":true,\"ticks\":\"\",\"zerolinecolor\":\"white\"}},\"shapedefaults\":{\"line\":{\"color\":\"#2a3f5f\"}},\"ternary\":{\"aaxis\":{\"gridcolor\":\"white\",\"linecolor\":\"white\",\"ticks\":\"\"},\"baxis\":{\"gridcolor\":\"white\",\"linecolor\":\"white\",\"ticks\":\"\"},\"bgcolor\":\"#E5ECF6\",\"caxis\":{\"gridcolor\":\"white\",\"linecolor\":\"white\",\"ticks\":\"\"}},\"title\":{\"x\":0.05},\"xaxis\":{\"automargin\":true,\"gridcolor\":\"white\",\"linecolor\":\"white\",\"ticks\":\"\",\"title\":{\"standoff\":15},\"zerolinecolor\":\"white\",\"zerolinewidth\":2},\"yaxis\":{\"automargin\":true,\"gridcolor\":\"white\",\"linecolor\":\"white\",\"ticks\":\"\",\"title\":{\"standoff\":15},\"zerolinecolor\":\"white\",\"zerolinewidth\":2}}},\"title\":{\"font\":{\"color\":\"#4D5663\"}},\"xaxis\":{\"gridcolor\":\"#E1E5ED\",\"showgrid\":true,\"tickfont\":{\"color\":\"#4D5663\"},\"title\":{\"font\":{\"color\":\"#4D5663\"},\"text\":\"\"},\"zerolinecolor\":\"#E1E5ED\"},\"yaxis\":{\"gridcolor\":\"#E1E5ED\",\"showgrid\":true,\"tickfont\":{\"color\":\"#4D5663\"},\"title\":{\"font\":{\"color\":\"#4D5663\"},\"text\":\"\"},\"zerolinecolor\":\"#E1E5ED\"}},                        {\"showLink\": true, \"linkText\": \"Export to plot.ly\", \"plotlyServerURL\": \"https://plot.ly\", \"responsive\": true}                    ).then(function(){\n",
       "                            \n",
       "var gd = document.getElementById('0f75efe5-7127-4ad6-b4ff-80469fa70a2a');\n",
       "var x = new MutationObserver(function (mutations, observer) {{\n",
       "        var display = window.getComputedStyle(gd).display;\n",
       "        if (!display || display === 'none') {{\n",
       "            console.log([gd, 'removed!']);\n",
       "            Plotly.purge(gd);\n",
       "            observer.disconnect();\n",
       "        }}\n",
       "}});\n",
       "\n",
       "// Listen for the removal of the full notebook cells\n",
       "var notebookContainer = gd.closest('#notebook-container');\n",
       "if (notebookContainer) {{\n",
       "    x.observe(notebookContainer, {childList: true});\n",
       "}}\n",
       "\n",
       "// Listen for the clearing of the current output cell\n",
       "var outputEl = gd.closest('.output');\n",
       "if (outputEl) {{\n",
       "    x.observe(outputEl, {childList: true});\n",
       "}}\n",
       "\n",
       "                        })                };                });            </script>        </div>"
      ]
     },
     "metadata": {},
     "output_type": "display_data"
    }
   ],
   "source": [
    "df.iplot()"
   ]
  },
  {
   "cell_type": "code",
   "execution_count": 25,
   "id": "97238760",
   "metadata": {},
   "outputs": [
    {
     "data": {
      "application/vnd.plotly.v1+json": {
       "config": {
        "linkText": "Export to plot.ly",
        "plotlyServerURL": "https://plot.ly",
        "showLink": true
       },
       "data": [
        {
         "line": {
          "color": "rgba(255, 153, 51, 1.0)",
          "dash": "solid",
          "shape": "linear",
          "width": 1.3
         },
         "marker": {
          "size": 20,
          "symbol": "circle"
         },
         "mode": "markers",
         "name": "B",
         "text": "",
         "type": "scatter",
         "x": [
          1.0837802026903676,
          -0.8307318652353206,
          0.9704645666752914,
          -0.13150801540525994,
          -1.431676307991406,
          0.5854248107675313,
          -0.5660964311261989,
          0.9884149998948273,
          -0.03866022001943958,
          0.3926136648987823,
          0.2366436323713876,
          1.5890962443122887,
          0.8157022340882426,
          0.3514861566194287,
          1.0277388736464257,
          0.2699518657534483,
          1.3965374784548972,
          -1.5384078610201786,
          -0.5850193141441375,
          0.04250994717911727,
          0.22334130053789886,
          -0.3843704559030353,
          -0.9135758999676846,
          1.1988523922550378,
          0.8756193834778848,
          -0.3245036125233253,
          -0.8643199642609466,
          -2.711830222084337,
          -1.6213541043042066,
          -1.1440160134243584,
          1.1956049013334702,
          -0.5163570085007548,
          0.3383295777705534,
          -0.32691112866765776,
          0.1380319492889386,
          -0.10120910311364711,
          1.2224935125494165,
          -0.7848201785562855,
          1.3251452237809054,
          -1.0422539931177521,
          -0.6220907671447959,
          0.7605865882300532,
          0.7097525174852362,
          0.9560880229550969,
          -0.10339811047162585,
          -0.14644500749449224,
          0.5368987942350666,
          -0.03267673468010394,
          -0.3285015605627665,
          -2.1637667787824704,
          -0.19750325171496624,
          -0.8705110153772423,
          0.3275838600290092,
          -1.4429386352380633,
          -0.5227190645611784,
          -0.6040484120224673,
          -0.5426828792455438,
          -0.24734238804509784,
          -0.1710048045514127,
          0.6357392606928337,
          0.22223721737535435,
          0.8539923672277793,
          1.6418874845855114,
          -1.6051526223909196,
          0.22309065021823282,
          -0.7595689515903035,
          -2.1996485445702563,
          1.5956732573254695,
          1.5477270913516719,
          0.567390246133774,
          0.4046686778858881,
          0.4683976376712205,
          -1.2977402564021023,
          -0.29053464566907533,
          -0.6681614022952193,
          0.5398107798206214,
          1.4892780015980334,
          0.8907307805670841,
          0.01356355123975639,
          0.779825227084279,
          1.480629213237171,
          -1.303499194553016,
          0.5640734614757685,
          0.888697983915617,
          -1.5602326741188632,
          0.3276654891441126,
          1.1056006487110808,
          0.11020457528062488,
          -1.3030233635699597,
          0.3924672139339836,
          0.5960789969061742,
          -1.1234727276191592,
          -1.7650675896330457,
          0.5986533532972574,
          1.0617932058870356,
          1.3479162812727086,
          -0.8368602512006359,
          -0.009797134647624255,
          0.5983037055534213,
          -0.8765850492559197
         ],
         "y": [
          -0.522890892695273,
          -0.5133950769305579,
          0.6806690722910964,
          1.031910376765052,
          0.5134242259294345,
          -1.1384405134344129,
          -1.967304273414849,
          2.7754662161448187,
          -0.12968506824520482,
          -0.5751330143483373,
          -1.7124510912923032,
          -0.7401896441257169,
          1.3640598393807122,
          -0.7392250669937778,
          -0.4596265565310788,
          0.8632338591254589,
          -0.9269877232227746,
          0.8005776928976868,
          -0.5303651277260929,
          -1.5478366663352567,
          -0.9021928385540456,
          0.07263937780983032,
          0.4964765917045821,
          -0.019362179759583174,
          0.3549150890000641,
          -0.254386036949427,
          1.287006580786897,
          0.7655221718834024,
          0.7588074233964105,
          2.119276748874291,
          -0.5972958247816397,
          -1.2021289261239687,
          -0.20378199373107492,
          0.8537557984722517,
          0.03905136978287543,
          -1.3572525759712204,
          0.7729758897701869,
          0.15709732946492647,
          -0.43953427255576755,
          0.02080414947036807,
          -0.0686204830480142,
          -1.7658436876434458,
          -0.07210159595201733,
          0.27634956368375163,
          1.0937799112009745,
          0.4294114559969322,
          -1.5755166280139263,
          -0.030870482297119722,
          -0.2023705876469707,
          0.5292765847905173,
          0.39943539003596257,
          -0.7724123878930874,
          0.6890986316171753,
          0.9122861623485468,
          0.1162402187877747,
          0.41573491106998256,
          -1.0554506054777522,
          0.3273723004744497,
          1.2826088924503345,
          0.002600066872883493,
          -1.344462684212799,
          -0.4646665558487505,
          0.6608569002638156,
          -1.172944904026479,
          -1.5333839108105396,
          0.5800873164304087,
          -0.0944402612694691,
          0.9177407000112922,
          -1.362401198969006,
          -0.26278842045129025,
          0.5670096180264699,
          -1.3766867887778862,
          1.0606927619478912,
          1.7738407682557193,
          -1.345147684233415,
          1.2258717217599049,
          -0.6434508497398888,
          -0.08574432115483341,
          -0.30728343458243823,
          -0.26446934774105685,
          -0.946849712608022,
          -1.153366821199802,
          -0.13739292710680448,
          0.3299629055380062,
          0.428734968248196,
          1.4750103690781826,
          0.9924535177609993,
          -0.5239161127928873,
          -0.7283124703069083,
          -0.10204894475527922,
          1.1466273781594924,
          0.0888460083240002,
          -0.0166821185648255,
          0.18261626841187298,
          -0.3679919585457832,
          1.2256960945250548,
          0.40221413256018895,
          0.515223149459377,
          1.3306440965310917,
          -0.618409258339924
         ]
        }
       ],
       "layout": {
        "legend": {
         "bgcolor": "#F5F6F9",
         "font": {
          "color": "#4D5663"
         }
        },
        "paper_bgcolor": "#F5F6F9",
        "plot_bgcolor": "#F5F6F9",
        "template": {
         "data": {
          "bar": [
           {
            "error_x": {
             "color": "#2a3f5f"
            },
            "error_y": {
             "color": "#2a3f5f"
            },
            "marker": {
             "line": {
              "color": "#E5ECF6",
              "width": 0.5
             },
             "pattern": {
              "fillmode": "overlay",
              "size": 10,
              "solidity": 0.2
             }
            },
            "type": "bar"
           }
          ],
          "barpolar": [
           {
            "marker": {
             "line": {
              "color": "#E5ECF6",
              "width": 0.5
             },
             "pattern": {
              "fillmode": "overlay",
              "size": 10,
              "solidity": 0.2
             }
            },
            "type": "barpolar"
           }
          ],
          "carpet": [
           {
            "aaxis": {
             "endlinecolor": "#2a3f5f",
             "gridcolor": "white",
             "linecolor": "white",
             "minorgridcolor": "white",
             "startlinecolor": "#2a3f5f"
            },
            "baxis": {
             "endlinecolor": "#2a3f5f",
             "gridcolor": "white",
             "linecolor": "white",
             "minorgridcolor": "white",
             "startlinecolor": "#2a3f5f"
            },
            "type": "carpet"
           }
          ],
          "choropleth": [
           {
            "colorbar": {
             "outlinewidth": 0,
             "ticks": ""
            },
            "type": "choropleth"
           }
          ],
          "contour": [
           {
            "colorbar": {
             "outlinewidth": 0,
             "ticks": ""
            },
            "colorscale": [
             [
              0,
              "#0d0887"
             ],
             [
              0.1111111111111111,
              "#46039f"
             ],
             [
              0.2222222222222222,
              "#7201a8"
             ],
             [
              0.3333333333333333,
              "#9c179e"
             ],
             [
              0.4444444444444444,
              "#bd3786"
             ],
             [
              0.5555555555555556,
              "#d8576b"
             ],
             [
              0.6666666666666666,
              "#ed7953"
             ],
             [
              0.7777777777777778,
              "#fb9f3a"
             ],
             [
              0.8888888888888888,
              "#fdca26"
             ],
             [
              1,
              "#f0f921"
             ]
            ],
            "type": "contour"
           }
          ],
          "contourcarpet": [
           {
            "colorbar": {
             "outlinewidth": 0,
             "ticks": ""
            },
            "type": "contourcarpet"
           }
          ],
          "heatmap": [
           {
            "colorbar": {
             "outlinewidth": 0,
             "ticks": ""
            },
            "colorscale": [
             [
              0,
              "#0d0887"
             ],
             [
              0.1111111111111111,
              "#46039f"
             ],
             [
              0.2222222222222222,
              "#7201a8"
             ],
             [
              0.3333333333333333,
              "#9c179e"
             ],
             [
              0.4444444444444444,
              "#bd3786"
             ],
             [
              0.5555555555555556,
              "#d8576b"
             ],
             [
              0.6666666666666666,
              "#ed7953"
             ],
             [
              0.7777777777777778,
              "#fb9f3a"
             ],
             [
              0.8888888888888888,
              "#fdca26"
             ],
             [
              1,
              "#f0f921"
             ]
            ],
            "type": "heatmap"
           }
          ],
          "heatmapgl": [
           {
            "colorbar": {
             "outlinewidth": 0,
             "ticks": ""
            },
            "colorscale": [
             [
              0,
              "#0d0887"
             ],
             [
              0.1111111111111111,
              "#46039f"
             ],
             [
              0.2222222222222222,
              "#7201a8"
             ],
             [
              0.3333333333333333,
              "#9c179e"
             ],
             [
              0.4444444444444444,
              "#bd3786"
             ],
             [
              0.5555555555555556,
              "#d8576b"
             ],
             [
              0.6666666666666666,
              "#ed7953"
             ],
             [
              0.7777777777777778,
              "#fb9f3a"
             ],
             [
              0.8888888888888888,
              "#fdca26"
             ],
             [
              1,
              "#f0f921"
             ]
            ],
            "type": "heatmapgl"
           }
          ],
          "histogram": [
           {
            "marker": {
             "pattern": {
              "fillmode": "overlay",
              "size": 10,
              "solidity": 0.2
             }
            },
            "type": "histogram"
           }
          ],
          "histogram2d": [
           {
            "colorbar": {
             "outlinewidth": 0,
             "ticks": ""
            },
            "colorscale": [
             [
              0,
              "#0d0887"
             ],
             [
              0.1111111111111111,
              "#46039f"
             ],
             [
              0.2222222222222222,
              "#7201a8"
             ],
             [
              0.3333333333333333,
              "#9c179e"
             ],
             [
              0.4444444444444444,
              "#bd3786"
             ],
             [
              0.5555555555555556,
              "#d8576b"
             ],
             [
              0.6666666666666666,
              "#ed7953"
             ],
             [
              0.7777777777777778,
              "#fb9f3a"
             ],
             [
              0.8888888888888888,
              "#fdca26"
             ],
             [
              1,
              "#f0f921"
             ]
            ],
            "type": "histogram2d"
           }
          ],
          "histogram2dcontour": [
           {
            "colorbar": {
             "outlinewidth": 0,
             "ticks": ""
            },
            "colorscale": [
             [
              0,
              "#0d0887"
             ],
             [
              0.1111111111111111,
              "#46039f"
             ],
             [
              0.2222222222222222,
              "#7201a8"
             ],
             [
              0.3333333333333333,
              "#9c179e"
             ],
             [
              0.4444444444444444,
              "#bd3786"
             ],
             [
              0.5555555555555556,
              "#d8576b"
             ],
             [
              0.6666666666666666,
              "#ed7953"
             ],
             [
              0.7777777777777778,
              "#fb9f3a"
             ],
             [
              0.8888888888888888,
              "#fdca26"
             ],
             [
              1,
              "#f0f921"
             ]
            ],
            "type": "histogram2dcontour"
           }
          ],
          "mesh3d": [
           {
            "colorbar": {
             "outlinewidth": 0,
             "ticks": ""
            },
            "type": "mesh3d"
           }
          ],
          "parcoords": [
           {
            "line": {
             "colorbar": {
              "outlinewidth": 0,
              "ticks": ""
             }
            },
            "type": "parcoords"
           }
          ],
          "pie": [
           {
            "automargin": true,
            "type": "pie"
           }
          ],
          "scatter": [
           {
            "marker": {
             "colorbar": {
              "outlinewidth": 0,
              "ticks": ""
             }
            },
            "type": "scatter"
           }
          ],
          "scatter3d": [
           {
            "line": {
             "colorbar": {
              "outlinewidth": 0,
              "ticks": ""
             }
            },
            "marker": {
             "colorbar": {
              "outlinewidth": 0,
              "ticks": ""
             }
            },
            "type": "scatter3d"
           }
          ],
          "scattercarpet": [
           {
            "marker": {
             "colorbar": {
              "outlinewidth": 0,
              "ticks": ""
             }
            },
            "type": "scattercarpet"
           }
          ],
          "scattergeo": [
           {
            "marker": {
             "colorbar": {
              "outlinewidth": 0,
              "ticks": ""
             }
            },
            "type": "scattergeo"
           }
          ],
          "scattergl": [
           {
            "marker": {
             "colorbar": {
              "outlinewidth": 0,
              "ticks": ""
             }
            },
            "type": "scattergl"
           }
          ],
          "scattermapbox": [
           {
            "marker": {
             "colorbar": {
              "outlinewidth": 0,
              "ticks": ""
             }
            },
            "type": "scattermapbox"
           }
          ],
          "scatterpolar": [
           {
            "marker": {
             "colorbar": {
              "outlinewidth": 0,
              "ticks": ""
             }
            },
            "type": "scatterpolar"
           }
          ],
          "scatterpolargl": [
           {
            "marker": {
             "colorbar": {
              "outlinewidth": 0,
              "ticks": ""
             }
            },
            "type": "scatterpolargl"
           }
          ],
          "scatterternary": [
           {
            "marker": {
             "colorbar": {
              "outlinewidth": 0,
              "ticks": ""
             }
            },
            "type": "scatterternary"
           }
          ],
          "surface": [
           {
            "colorbar": {
             "outlinewidth": 0,
             "ticks": ""
            },
            "colorscale": [
             [
              0,
              "#0d0887"
             ],
             [
              0.1111111111111111,
              "#46039f"
             ],
             [
              0.2222222222222222,
              "#7201a8"
             ],
             [
              0.3333333333333333,
              "#9c179e"
             ],
             [
              0.4444444444444444,
              "#bd3786"
             ],
             [
              0.5555555555555556,
              "#d8576b"
             ],
             [
              0.6666666666666666,
              "#ed7953"
             ],
             [
              0.7777777777777778,
              "#fb9f3a"
             ],
             [
              0.8888888888888888,
              "#fdca26"
             ],
             [
              1,
              "#f0f921"
             ]
            ],
            "type": "surface"
           }
          ],
          "table": [
           {
            "cells": {
             "fill": {
              "color": "#EBF0F8"
             },
             "line": {
              "color": "white"
             }
            },
            "header": {
             "fill": {
              "color": "#C8D4E3"
             },
             "line": {
              "color": "white"
             }
            },
            "type": "table"
           }
          ]
         },
         "layout": {
          "annotationdefaults": {
           "arrowcolor": "#2a3f5f",
           "arrowhead": 0,
           "arrowwidth": 1
          },
          "autotypenumbers": "strict",
          "coloraxis": {
           "colorbar": {
            "outlinewidth": 0,
            "ticks": ""
           }
          },
          "colorscale": {
           "diverging": [
            [
             0,
             "#8e0152"
            ],
            [
             0.1,
             "#c51b7d"
            ],
            [
             0.2,
             "#de77ae"
            ],
            [
             0.3,
             "#f1b6da"
            ],
            [
             0.4,
             "#fde0ef"
            ],
            [
             0.5,
             "#f7f7f7"
            ],
            [
             0.6,
             "#e6f5d0"
            ],
            [
             0.7,
             "#b8e186"
            ],
            [
             0.8,
             "#7fbc41"
            ],
            [
             0.9,
             "#4d9221"
            ],
            [
             1,
             "#276419"
            ]
           ],
           "sequential": [
            [
             0,
             "#0d0887"
            ],
            [
             0.1111111111111111,
             "#46039f"
            ],
            [
             0.2222222222222222,
             "#7201a8"
            ],
            [
             0.3333333333333333,
             "#9c179e"
            ],
            [
             0.4444444444444444,
             "#bd3786"
            ],
            [
             0.5555555555555556,
             "#d8576b"
            ],
            [
             0.6666666666666666,
             "#ed7953"
            ],
            [
             0.7777777777777778,
             "#fb9f3a"
            ],
            [
             0.8888888888888888,
             "#fdca26"
            ],
            [
             1,
             "#f0f921"
            ]
           ],
           "sequentialminus": [
            [
             0,
             "#0d0887"
            ],
            [
             0.1111111111111111,
             "#46039f"
            ],
            [
             0.2222222222222222,
             "#7201a8"
            ],
            [
             0.3333333333333333,
             "#9c179e"
            ],
            [
             0.4444444444444444,
             "#bd3786"
            ],
            [
             0.5555555555555556,
             "#d8576b"
            ],
            [
             0.6666666666666666,
             "#ed7953"
            ],
            [
             0.7777777777777778,
             "#fb9f3a"
            ],
            [
             0.8888888888888888,
             "#fdca26"
            ],
            [
             1,
             "#f0f921"
            ]
           ]
          },
          "colorway": [
           "#636efa",
           "#EF553B",
           "#00cc96",
           "#ab63fa",
           "#FFA15A",
           "#19d3f3",
           "#FF6692",
           "#B6E880",
           "#FF97FF",
           "#FECB52"
          ],
          "font": {
           "color": "#2a3f5f"
          },
          "geo": {
           "bgcolor": "white",
           "lakecolor": "white",
           "landcolor": "#E5ECF6",
           "showlakes": true,
           "showland": true,
           "subunitcolor": "white"
          },
          "hoverlabel": {
           "align": "left"
          },
          "hovermode": "closest",
          "mapbox": {
           "style": "light"
          },
          "paper_bgcolor": "white",
          "plot_bgcolor": "#E5ECF6",
          "polar": {
           "angularaxis": {
            "gridcolor": "white",
            "linecolor": "white",
            "ticks": ""
           },
           "bgcolor": "#E5ECF6",
           "radialaxis": {
            "gridcolor": "white",
            "linecolor": "white",
            "ticks": ""
           }
          },
          "scene": {
           "xaxis": {
            "backgroundcolor": "#E5ECF6",
            "gridcolor": "white",
            "gridwidth": 2,
            "linecolor": "white",
            "showbackground": true,
            "ticks": "",
            "zerolinecolor": "white"
           },
           "yaxis": {
            "backgroundcolor": "#E5ECF6",
            "gridcolor": "white",
            "gridwidth": 2,
            "linecolor": "white",
            "showbackground": true,
            "ticks": "",
            "zerolinecolor": "white"
           },
           "zaxis": {
            "backgroundcolor": "#E5ECF6",
            "gridcolor": "white",
            "gridwidth": 2,
            "linecolor": "white",
            "showbackground": true,
            "ticks": "",
            "zerolinecolor": "white"
           }
          },
          "shapedefaults": {
           "line": {
            "color": "#2a3f5f"
           }
          },
          "ternary": {
           "aaxis": {
            "gridcolor": "white",
            "linecolor": "white",
            "ticks": ""
           },
           "baxis": {
            "gridcolor": "white",
            "linecolor": "white",
            "ticks": ""
           },
           "bgcolor": "#E5ECF6",
           "caxis": {
            "gridcolor": "white",
            "linecolor": "white",
            "ticks": ""
           }
          },
          "title": {
           "x": 0.05
          },
          "xaxis": {
           "automargin": true,
           "gridcolor": "white",
           "linecolor": "white",
           "ticks": "",
           "title": {
            "standoff": 15
           },
           "zerolinecolor": "white",
           "zerolinewidth": 2
          },
          "yaxis": {
           "automargin": true,
           "gridcolor": "white",
           "linecolor": "white",
           "ticks": "",
           "title": {
            "standoff": 15
           },
           "zerolinecolor": "white",
           "zerolinewidth": 2
          }
         }
        },
        "title": {
         "font": {
          "color": "#4D5663"
         }
        },
        "xaxis": {
         "gridcolor": "#E1E5ED",
         "showgrid": true,
         "tickfont": {
          "color": "#4D5663"
         },
         "title": {
          "font": {
           "color": "#4D5663"
          },
          "text": ""
         },
         "zerolinecolor": "#E1E5ED"
        },
        "yaxis": {
         "gridcolor": "#E1E5ED",
         "showgrid": true,
         "tickfont": {
          "color": "#4D5663"
         },
         "title": {
          "font": {
           "color": "#4D5663"
          },
          "text": ""
         },
         "zerolinecolor": "#E1E5ED"
        }
       }
      },
      "text/html": [
       "<div>                            <div id=\"4ca294cc-73eb-4ca1-b791-488e49173f96\" class=\"plotly-graph-div\" style=\"height:525px; width:100%;\"></div>            <script type=\"text/javascript\">                require([\"plotly\"], function(Plotly) {                    window.PLOTLYENV=window.PLOTLYENV || {};\n",
       "                    window.PLOTLYENV.BASE_URL='https://plot.ly';                                    if (document.getElementById(\"4ca294cc-73eb-4ca1-b791-488e49173f96\")) {                    Plotly.newPlot(                        \"4ca294cc-73eb-4ca1-b791-488e49173f96\",                        [{\"line\":{\"color\":\"rgba(255, 153, 51, 1.0)\",\"dash\":\"solid\",\"shape\":\"linear\",\"width\":1.3},\"marker\":{\"size\":20,\"symbol\":\"circle\"},\"mode\":\"markers\",\"name\":\"B\",\"text\":\"\",\"x\":[1.0837802026903676,-0.8307318652353206,0.9704645666752914,-0.13150801540525994,-1.431676307991406,0.5854248107675313,-0.5660964311261989,0.9884149998948273,-0.03866022001943958,0.3926136648987823,0.2366436323713876,1.5890962443122887,0.8157022340882426,0.3514861566194287,1.0277388736464257,0.2699518657534483,1.3965374784548972,-1.5384078610201786,-0.5850193141441375,0.04250994717911727,0.22334130053789886,-0.3843704559030353,-0.9135758999676846,1.1988523922550378,0.8756193834778848,-0.3245036125233253,-0.8643199642609466,-2.711830222084337,-1.6213541043042066,-1.1440160134243584,1.1956049013334702,-0.5163570085007548,0.3383295777705534,-0.32691112866765776,0.1380319492889386,-0.10120910311364711,1.2224935125494165,-0.7848201785562855,1.3251452237809054,-1.0422539931177521,-0.6220907671447959,0.7605865882300532,0.7097525174852362,0.9560880229550969,-0.10339811047162585,-0.14644500749449224,0.5368987942350666,-0.03267673468010394,-0.3285015605627665,-2.1637667787824704,-0.19750325171496624,-0.8705110153772423,0.3275838600290092,-1.4429386352380633,-0.5227190645611784,-0.6040484120224673,-0.5426828792455438,-0.24734238804509784,-0.1710048045514127,0.6357392606928337,0.22223721737535435,0.8539923672277793,1.6418874845855114,-1.6051526223909196,0.22309065021823282,-0.7595689515903035,-2.1996485445702563,1.5956732573254695,1.5477270913516719,0.567390246133774,0.4046686778858881,0.4683976376712205,-1.2977402564021023,-0.29053464566907533,-0.6681614022952193,0.5398107798206214,1.4892780015980334,0.8907307805670841,0.01356355123975639,0.779825227084279,1.480629213237171,-1.303499194553016,0.5640734614757685,0.888697983915617,-1.5602326741188632,0.3276654891441126,1.1056006487110808,0.11020457528062488,-1.3030233635699597,0.3924672139339836,0.5960789969061742,-1.1234727276191592,-1.7650675896330457,0.5986533532972574,1.0617932058870356,1.3479162812727086,-0.8368602512006359,-0.009797134647624255,0.5983037055534213,-0.8765850492559197],\"y\":[-0.522890892695273,-0.5133950769305579,0.6806690722910964,1.031910376765052,0.5134242259294345,-1.1384405134344129,-1.967304273414849,2.7754662161448187,-0.12968506824520482,-0.5751330143483373,-1.7124510912923032,-0.7401896441257169,1.3640598393807122,-0.7392250669937778,-0.4596265565310788,0.8632338591254589,-0.9269877232227746,0.8005776928976868,-0.5303651277260929,-1.5478366663352567,-0.9021928385540456,0.07263937780983032,0.4964765917045821,-0.019362179759583174,0.3549150890000641,-0.254386036949427,1.287006580786897,0.7655221718834024,0.7588074233964105,2.119276748874291,-0.5972958247816397,-1.2021289261239687,-0.20378199373107492,0.8537557984722517,0.03905136978287543,-1.3572525759712204,0.7729758897701869,0.15709732946492647,-0.43953427255576755,0.02080414947036807,-0.0686204830480142,-1.7658436876434458,-0.07210159595201733,0.27634956368375163,1.0937799112009745,0.4294114559969322,-1.5755166280139263,-0.030870482297119722,-0.2023705876469707,0.5292765847905173,0.39943539003596257,-0.7724123878930874,0.6890986316171753,0.9122861623485468,0.1162402187877747,0.41573491106998256,-1.0554506054777522,0.3273723004744497,1.2826088924503345,0.002600066872883493,-1.344462684212799,-0.4646665558487505,0.6608569002638156,-1.172944904026479,-1.5333839108105396,0.5800873164304087,-0.0944402612694691,0.9177407000112922,-1.362401198969006,-0.26278842045129025,0.5670096180264699,-1.3766867887778862,1.0606927619478912,1.7738407682557193,-1.345147684233415,1.2258717217599049,-0.6434508497398888,-0.08574432115483341,-0.30728343458243823,-0.26446934774105685,-0.946849712608022,-1.153366821199802,-0.13739292710680448,0.3299629055380062,0.428734968248196,1.4750103690781826,0.9924535177609993,-0.5239161127928873,-0.7283124703069083,-0.10204894475527922,1.1466273781594924,0.0888460083240002,-0.0166821185648255,0.18261626841187298,-0.3679919585457832,1.2256960945250548,0.40221413256018895,0.515223149459377,1.3306440965310917,-0.618409258339924],\"type\":\"scatter\"}],                        {\"legend\":{\"bgcolor\":\"#F5F6F9\",\"font\":{\"color\":\"#4D5663\"}},\"paper_bgcolor\":\"#F5F6F9\",\"plot_bgcolor\":\"#F5F6F9\",\"template\":{\"data\":{\"barpolar\":[{\"marker\":{\"line\":{\"color\":\"#E5ECF6\",\"width\":0.5},\"pattern\":{\"fillmode\":\"overlay\",\"size\":10,\"solidity\":0.2}},\"type\":\"barpolar\"}],\"bar\":[{\"error_x\":{\"color\":\"#2a3f5f\"},\"error_y\":{\"color\":\"#2a3f5f\"},\"marker\":{\"line\":{\"color\":\"#E5ECF6\",\"width\":0.5},\"pattern\":{\"fillmode\":\"overlay\",\"size\":10,\"solidity\":0.2}},\"type\":\"bar\"}],\"carpet\":[{\"aaxis\":{\"endlinecolor\":\"#2a3f5f\",\"gridcolor\":\"white\",\"linecolor\":\"white\",\"minorgridcolor\":\"white\",\"startlinecolor\":\"#2a3f5f\"},\"baxis\":{\"endlinecolor\":\"#2a3f5f\",\"gridcolor\":\"white\",\"linecolor\":\"white\",\"minorgridcolor\":\"white\",\"startlinecolor\":\"#2a3f5f\"},\"type\":\"carpet\"}],\"choropleth\":[{\"colorbar\":{\"outlinewidth\":0,\"ticks\":\"\"},\"type\":\"choropleth\"}],\"contourcarpet\":[{\"colorbar\":{\"outlinewidth\":0,\"ticks\":\"\"},\"type\":\"contourcarpet\"}],\"contour\":[{\"colorbar\":{\"outlinewidth\":0,\"ticks\":\"\"},\"colorscale\":[[0.0,\"#0d0887\"],[0.1111111111111111,\"#46039f\"],[0.2222222222222222,\"#7201a8\"],[0.3333333333333333,\"#9c179e\"],[0.4444444444444444,\"#bd3786\"],[0.5555555555555556,\"#d8576b\"],[0.6666666666666666,\"#ed7953\"],[0.7777777777777778,\"#fb9f3a\"],[0.8888888888888888,\"#fdca26\"],[1.0,\"#f0f921\"]],\"type\":\"contour\"}],\"heatmapgl\":[{\"colorbar\":{\"outlinewidth\":0,\"ticks\":\"\"},\"colorscale\":[[0.0,\"#0d0887\"],[0.1111111111111111,\"#46039f\"],[0.2222222222222222,\"#7201a8\"],[0.3333333333333333,\"#9c179e\"],[0.4444444444444444,\"#bd3786\"],[0.5555555555555556,\"#d8576b\"],[0.6666666666666666,\"#ed7953\"],[0.7777777777777778,\"#fb9f3a\"],[0.8888888888888888,\"#fdca26\"],[1.0,\"#f0f921\"]],\"type\":\"heatmapgl\"}],\"heatmap\":[{\"colorbar\":{\"outlinewidth\":0,\"ticks\":\"\"},\"colorscale\":[[0.0,\"#0d0887\"],[0.1111111111111111,\"#46039f\"],[0.2222222222222222,\"#7201a8\"],[0.3333333333333333,\"#9c179e\"],[0.4444444444444444,\"#bd3786\"],[0.5555555555555556,\"#d8576b\"],[0.6666666666666666,\"#ed7953\"],[0.7777777777777778,\"#fb9f3a\"],[0.8888888888888888,\"#fdca26\"],[1.0,\"#f0f921\"]],\"type\":\"heatmap\"}],\"histogram2dcontour\":[{\"colorbar\":{\"outlinewidth\":0,\"ticks\":\"\"},\"colorscale\":[[0.0,\"#0d0887\"],[0.1111111111111111,\"#46039f\"],[0.2222222222222222,\"#7201a8\"],[0.3333333333333333,\"#9c179e\"],[0.4444444444444444,\"#bd3786\"],[0.5555555555555556,\"#d8576b\"],[0.6666666666666666,\"#ed7953\"],[0.7777777777777778,\"#fb9f3a\"],[0.8888888888888888,\"#fdca26\"],[1.0,\"#f0f921\"]],\"type\":\"histogram2dcontour\"}],\"histogram2d\":[{\"colorbar\":{\"outlinewidth\":0,\"ticks\":\"\"},\"colorscale\":[[0.0,\"#0d0887\"],[0.1111111111111111,\"#46039f\"],[0.2222222222222222,\"#7201a8\"],[0.3333333333333333,\"#9c179e\"],[0.4444444444444444,\"#bd3786\"],[0.5555555555555556,\"#d8576b\"],[0.6666666666666666,\"#ed7953\"],[0.7777777777777778,\"#fb9f3a\"],[0.8888888888888888,\"#fdca26\"],[1.0,\"#f0f921\"]],\"type\":\"histogram2d\"}],\"histogram\":[{\"marker\":{\"pattern\":{\"fillmode\":\"overlay\",\"size\":10,\"solidity\":0.2}},\"type\":\"histogram\"}],\"mesh3d\":[{\"colorbar\":{\"outlinewidth\":0,\"ticks\":\"\"},\"type\":\"mesh3d\"}],\"parcoords\":[{\"line\":{\"colorbar\":{\"outlinewidth\":0,\"ticks\":\"\"}},\"type\":\"parcoords\"}],\"pie\":[{\"automargin\":true,\"type\":\"pie\"}],\"scatter3d\":[{\"line\":{\"colorbar\":{\"outlinewidth\":0,\"ticks\":\"\"}},\"marker\":{\"colorbar\":{\"outlinewidth\":0,\"ticks\":\"\"}},\"type\":\"scatter3d\"}],\"scattercarpet\":[{\"marker\":{\"colorbar\":{\"outlinewidth\":0,\"ticks\":\"\"}},\"type\":\"scattercarpet\"}],\"scattergeo\":[{\"marker\":{\"colorbar\":{\"outlinewidth\":0,\"ticks\":\"\"}},\"type\":\"scattergeo\"}],\"scattergl\":[{\"marker\":{\"colorbar\":{\"outlinewidth\":0,\"ticks\":\"\"}},\"type\":\"scattergl\"}],\"scattermapbox\":[{\"marker\":{\"colorbar\":{\"outlinewidth\":0,\"ticks\":\"\"}},\"type\":\"scattermapbox\"}],\"scatterpolargl\":[{\"marker\":{\"colorbar\":{\"outlinewidth\":0,\"ticks\":\"\"}},\"type\":\"scatterpolargl\"}],\"scatterpolar\":[{\"marker\":{\"colorbar\":{\"outlinewidth\":0,\"ticks\":\"\"}},\"type\":\"scatterpolar\"}],\"scatter\":[{\"marker\":{\"colorbar\":{\"outlinewidth\":0,\"ticks\":\"\"}},\"type\":\"scatter\"}],\"scatterternary\":[{\"marker\":{\"colorbar\":{\"outlinewidth\":0,\"ticks\":\"\"}},\"type\":\"scatterternary\"}],\"surface\":[{\"colorbar\":{\"outlinewidth\":0,\"ticks\":\"\"},\"colorscale\":[[0.0,\"#0d0887\"],[0.1111111111111111,\"#46039f\"],[0.2222222222222222,\"#7201a8\"],[0.3333333333333333,\"#9c179e\"],[0.4444444444444444,\"#bd3786\"],[0.5555555555555556,\"#d8576b\"],[0.6666666666666666,\"#ed7953\"],[0.7777777777777778,\"#fb9f3a\"],[0.8888888888888888,\"#fdca26\"],[1.0,\"#f0f921\"]],\"type\":\"surface\"}],\"table\":[{\"cells\":{\"fill\":{\"color\":\"#EBF0F8\"},\"line\":{\"color\":\"white\"}},\"header\":{\"fill\":{\"color\":\"#C8D4E3\"},\"line\":{\"color\":\"white\"}},\"type\":\"table\"}]},\"layout\":{\"annotationdefaults\":{\"arrowcolor\":\"#2a3f5f\",\"arrowhead\":0,\"arrowwidth\":1},\"autotypenumbers\":\"strict\",\"coloraxis\":{\"colorbar\":{\"outlinewidth\":0,\"ticks\":\"\"}},\"colorscale\":{\"diverging\":[[0,\"#8e0152\"],[0.1,\"#c51b7d\"],[0.2,\"#de77ae\"],[0.3,\"#f1b6da\"],[0.4,\"#fde0ef\"],[0.5,\"#f7f7f7\"],[0.6,\"#e6f5d0\"],[0.7,\"#b8e186\"],[0.8,\"#7fbc41\"],[0.9,\"#4d9221\"],[1,\"#276419\"]],\"sequential\":[[0.0,\"#0d0887\"],[0.1111111111111111,\"#46039f\"],[0.2222222222222222,\"#7201a8\"],[0.3333333333333333,\"#9c179e\"],[0.4444444444444444,\"#bd3786\"],[0.5555555555555556,\"#d8576b\"],[0.6666666666666666,\"#ed7953\"],[0.7777777777777778,\"#fb9f3a\"],[0.8888888888888888,\"#fdca26\"],[1.0,\"#f0f921\"]],\"sequentialminus\":[[0.0,\"#0d0887\"],[0.1111111111111111,\"#46039f\"],[0.2222222222222222,\"#7201a8\"],[0.3333333333333333,\"#9c179e\"],[0.4444444444444444,\"#bd3786\"],[0.5555555555555556,\"#d8576b\"],[0.6666666666666666,\"#ed7953\"],[0.7777777777777778,\"#fb9f3a\"],[0.8888888888888888,\"#fdca26\"],[1.0,\"#f0f921\"]]},\"colorway\":[\"#636efa\",\"#EF553B\",\"#00cc96\",\"#ab63fa\",\"#FFA15A\",\"#19d3f3\",\"#FF6692\",\"#B6E880\",\"#FF97FF\",\"#FECB52\"],\"font\":{\"color\":\"#2a3f5f\"},\"geo\":{\"bgcolor\":\"white\",\"lakecolor\":\"white\",\"landcolor\":\"#E5ECF6\",\"showlakes\":true,\"showland\":true,\"subunitcolor\":\"white\"},\"hoverlabel\":{\"align\":\"left\"},\"hovermode\":\"closest\",\"mapbox\":{\"style\":\"light\"},\"paper_bgcolor\":\"white\",\"plot_bgcolor\":\"#E5ECF6\",\"polar\":{\"angularaxis\":{\"gridcolor\":\"white\",\"linecolor\":\"white\",\"ticks\":\"\"},\"bgcolor\":\"#E5ECF6\",\"radialaxis\":{\"gridcolor\":\"white\",\"linecolor\":\"white\",\"ticks\":\"\"}},\"scene\":{\"xaxis\":{\"backgroundcolor\":\"#E5ECF6\",\"gridcolor\":\"white\",\"gridwidth\":2,\"linecolor\":\"white\",\"showbackground\":true,\"ticks\":\"\",\"zerolinecolor\":\"white\"},\"yaxis\":{\"backgroundcolor\":\"#E5ECF6\",\"gridcolor\":\"white\",\"gridwidth\":2,\"linecolor\":\"white\",\"showbackground\":true,\"ticks\":\"\",\"zerolinecolor\":\"white\"},\"zaxis\":{\"backgroundcolor\":\"#E5ECF6\",\"gridcolor\":\"white\",\"gridwidth\":2,\"linecolor\":\"white\",\"showbackground\":true,\"ticks\":\"\",\"zerolinecolor\":\"white\"}},\"shapedefaults\":{\"line\":{\"color\":\"#2a3f5f\"}},\"ternary\":{\"aaxis\":{\"gridcolor\":\"white\",\"linecolor\":\"white\",\"ticks\":\"\"},\"baxis\":{\"gridcolor\":\"white\",\"linecolor\":\"white\",\"ticks\":\"\"},\"bgcolor\":\"#E5ECF6\",\"caxis\":{\"gridcolor\":\"white\",\"linecolor\":\"white\",\"ticks\":\"\"}},\"title\":{\"x\":0.05},\"xaxis\":{\"automargin\":true,\"gridcolor\":\"white\",\"linecolor\":\"white\",\"ticks\":\"\",\"title\":{\"standoff\":15},\"zerolinecolor\":\"white\",\"zerolinewidth\":2},\"yaxis\":{\"automargin\":true,\"gridcolor\":\"white\",\"linecolor\":\"white\",\"ticks\":\"\",\"title\":{\"standoff\":15},\"zerolinecolor\":\"white\",\"zerolinewidth\":2}}},\"title\":{\"font\":{\"color\":\"#4D5663\"}},\"xaxis\":{\"gridcolor\":\"#E1E5ED\",\"showgrid\":true,\"tickfont\":{\"color\":\"#4D5663\"},\"title\":{\"font\":{\"color\":\"#4D5663\"},\"text\":\"\"},\"zerolinecolor\":\"#E1E5ED\"},\"yaxis\":{\"gridcolor\":\"#E1E5ED\",\"showgrid\":true,\"tickfont\":{\"color\":\"#4D5663\"},\"title\":{\"font\":{\"color\":\"#4D5663\"},\"text\":\"\"},\"zerolinecolor\":\"#E1E5ED\"}},                        {\"showLink\": true, \"linkText\": \"Export to plot.ly\", \"plotlyServerURL\": \"https://plot.ly\", \"responsive\": true}                    ).then(function(){\n",
       "                            \n",
       "var gd = document.getElementById('4ca294cc-73eb-4ca1-b791-488e49173f96');\n",
       "var x = new MutationObserver(function (mutations, observer) {{\n",
       "        var display = window.getComputedStyle(gd).display;\n",
       "        if (!display || display === 'none') {{\n",
       "            console.log([gd, 'removed!']);\n",
       "            Plotly.purge(gd);\n",
       "            observer.disconnect();\n",
       "        }}\n",
       "}});\n",
       "\n",
       "// Listen for the removal of the full notebook cells\n",
       "var notebookContainer = gd.closest('#notebook-container');\n",
       "if (notebookContainer) {{\n",
       "    x.observe(notebookContainer, {childList: true});\n",
       "}}\n",
       "\n",
       "// Listen for the clearing of the current output cell\n",
       "var outputEl = gd.closest('.output');\n",
       "if (outputEl) {{\n",
       "    x.observe(outputEl, {childList: true});\n",
       "}}\n",
       "\n",
       "                        })                };                });            </script>        </div>"
      ]
     },
     "metadata": {},
     "output_type": "display_data"
    }
   ],
   "source": [
    "df.iplot(kind='scatter',x='A',y='B',mode='markers',size=20)"
   ]
  },
  {
   "cell_type": "code",
   "execution_count": 26,
   "id": "9ec9d303",
   "metadata": {},
   "outputs": [
    {
     "data": {
      "application/vnd.plotly.v1+json": {
       "config": {
        "linkText": "Export to plot.ly",
        "plotlyServerURL": "https://plot.ly",
        "showLink": true
       },
       "data": [
        {
         "marker": {
          "color": "rgba(255, 153, 51, 0.6)",
          "line": {
           "color": "rgba(255, 153, 51, 1.0)",
           "width": 1
          }
         },
         "name": "Values",
         "orientation": "v",
         "text": "",
         "type": "bar",
         "x": [
          "A",
          "B",
          "C"
         ],
         "y": [
          32,
          43,
          50
         ]
        }
       ],
       "layout": {
        "legend": {
         "bgcolor": "#F5F6F9",
         "font": {
          "color": "#4D5663"
         }
        },
        "paper_bgcolor": "#F5F6F9",
        "plot_bgcolor": "#F5F6F9",
        "template": {
         "data": {
          "bar": [
           {
            "error_x": {
             "color": "#2a3f5f"
            },
            "error_y": {
             "color": "#2a3f5f"
            },
            "marker": {
             "line": {
              "color": "#E5ECF6",
              "width": 0.5
             },
             "pattern": {
              "fillmode": "overlay",
              "size": 10,
              "solidity": 0.2
             }
            },
            "type": "bar"
           }
          ],
          "barpolar": [
           {
            "marker": {
             "line": {
              "color": "#E5ECF6",
              "width": 0.5
             },
             "pattern": {
              "fillmode": "overlay",
              "size": 10,
              "solidity": 0.2
             }
            },
            "type": "barpolar"
           }
          ],
          "carpet": [
           {
            "aaxis": {
             "endlinecolor": "#2a3f5f",
             "gridcolor": "white",
             "linecolor": "white",
             "minorgridcolor": "white",
             "startlinecolor": "#2a3f5f"
            },
            "baxis": {
             "endlinecolor": "#2a3f5f",
             "gridcolor": "white",
             "linecolor": "white",
             "minorgridcolor": "white",
             "startlinecolor": "#2a3f5f"
            },
            "type": "carpet"
           }
          ],
          "choropleth": [
           {
            "colorbar": {
             "outlinewidth": 0,
             "ticks": ""
            },
            "type": "choropleth"
           }
          ],
          "contour": [
           {
            "colorbar": {
             "outlinewidth": 0,
             "ticks": ""
            },
            "colorscale": [
             [
              0,
              "#0d0887"
             ],
             [
              0.1111111111111111,
              "#46039f"
             ],
             [
              0.2222222222222222,
              "#7201a8"
             ],
             [
              0.3333333333333333,
              "#9c179e"
             ],
             [
              0.4444444444444444,
              "#bd3786"
             ],
             [
              0.5555555555555556,
              "#d8576b"
             ],
             [
              0.6666666666666666,
              "#ed7953"
             ],
             [
              0.7777777777777778,
              "#fb9f3a"
             ],
             [
              0.8888888888888888,
              "#fdca26"
             ],
             [
              1,
              "#f0f921"
             ]
            ],
            "type": "contour"
           }
          ],
          "contourcarpet": [
           {
            "colorbar": {
             "outlinewidth": 0,
             "ticks": ""
            },
            "type": "contourcarpet"
           }
          ],
          "heatmap": [
           {
            "colorbar": {
             "outlinewidth": 0,
             "ticks": ""
            },
            "colorscale": [
             [
              0,
              "#0d0887"
             ],
             [
              0.1111111111111111,
              "#46039f"
             ],
             [
              0.2222222222222222,
              "#7201a8"
             ],
             [
              0.3333333333333333,
              "#9c179e"
             ],
             [
              0.4444444444444444,
              "#bd3786"
             ],
             [
              0.5555555555555556,
              "#d8576b"
             ],
             [
              0.6666666666666666,
              "#ed7953"
             ],
             [
              0.7777777777777778,
              "#fb9f3a"
             ],
             [
              0.8888888888888888,
              "#fdca26"
             ],
             [
              1,
              "#f0f921"
             ]
            ],
            "type": "heatmap"
           }
          ],
          "heatmapgl": [
           {
            "colorbar": {
             "outlinewidth": 0,
             "ticks": ""
            },
            "colorscale": [
             [
              0,
              "#0d0887"
             ],
             [
              0.1111111111111111,
              "#46039f"
             ],
             [
              0.2222222222222222,
              "#7201a8"
             ],
             [
              0.3333333333333333,
              "#9c179e"
             ],
             [
              0.4444444444444444,
              "#bd3786"
             ],
             [
              0.5555555555555556,
              "#d8576b"
             ],
             [
              0.6666666666666666,
              "#ed7953"
             ],
             [
              0.7777777777777778,
              "#fb9f3a"
             ],
             [
              0.8888888888888888,
              "#fdca26"
             ],
             [
              1,
              "#f0f921"
             ]
            ],
            "type": "heatmapgl"
           }
          ],
          "histogram": [
           {
            "marker": {
             "pattern": {
              "fillmode": "overlay",
              "size": 10,
              "solidity": 0.2
             }
            },
            "type": "histogram"
           }
          ],
          "histogram2d": [
           {
            "colorbar": {
             "outlinewidth": 0,
             "ticks": ""
            },
            "colorscale": [
             [
              0,
              "#0d0887"
             ],
             [
              0.1111111111111111,
              "#46039f"
             ],
             [
              0.2222222222222222,
              "#7201a8"
             ],
             [
              0.3333333333333333,
              "#9c179e"
             ],
             [
              0.4444444444444444,
              "#bd3786"
             ],
             [
              0.5555555555555556,
              "#d8576b"
             ],
             [
              0.6666666666666666,
              "#ed7953"
             ],
             [
              0.7777777777777778,
              "#fb9f3a"
             ],
             [
              0.8888888888888888,
              "#fdca26"
             ],
             [
              1,
              "#f0f921"
             ]
            ],
            "type": "histogram2d"
           }
          ],
          "histogram2dcontour": [
           {
            "colorbar": {
             "outlinewidth": 0,
             "ticks": ""
            },
            "colorscale": [
             [
              0,
              "#0d0887"
             ],
             [
              0.1111111111111111,
              "#46039f"
             ],
             [
              0.2222222222222222,
              "#7201a8"
             ],
             [
              0.3333333333333333,
              "#9c179e"
             ],
             [
              0.4444444444444444,
              "#bd3786"
             ],
             [
              0.5555555555555556,
              "#d8576b"
             ],
             [
              0.6666666666666666,
              "#ed7953"
             ],
             [
              0.7777777777777778,
              "#fb9f3a"
             ],
             [
              0.8888888888888888,
              "#fdca26"
             ],
             [
              1,
              "#f0f921"
             ]
            ],
            "type": "histogram2dcontour"
           }
          ],
          "mesh3d": [
           {
            "colorbar": {
             "outlinewidth": 0,
             "ticks": ""
            },
            "type": "mesh3d"
           }
          ],
          "parcoords": [
           {
            "line": {
             "colorbar": {
              "outlinewidth": 0,
              "ticks": ""
             }
            },
            "type": "parcoords"
           }
          ],
          "pie": [
           {
            "automargin": true,
            "type": "pie"
           }
          ],
          "scatter": [
           {
            "marker": {
             "colorbar": {
              "outlinewidth": 0,
              "ticks": ""
             }
            },
            "type": "scatter"
           }
          ],
          "scatter3d": [
           {
            "line": {
             "colorbar": {
              "outlinewidth": 0,
              "ticks": ""
             }
            },
            "marker": {
             "colorbar": {
              "outlinewidth": 0,
              "ticks": ""
             }
            },
            "type": "scatter3d"
           }
          ],
          "scattercarpet": [
           {
            "marker": {
             "colorbar": {
              "outlinewidth": 0,
              "ticks": ""
             }
            },
            "type": "scattercarpet"
           }
          ],
          "scattergeo": [
           {
            "marker": {
             "colorbar": {
              "outlinewidth": 0,
              "ticks": ""
             }
            },
            "type": "scattergeo"
           }
          ],
          "scattergl": [
           {
            "marker": {
             "colorbar": {
              "outlinewidth": 0,
              "ticks": ""
             }
            },
            "type": "scattergl"
           }
          ],
          "scattermapbox": [
           {
            "marker": {
             "colorbar": {
              "outlinewidth": 0,
              "ticks": ""
             }
            },
            "type": "scattermapbox"
           }
          ],
          "scatterpolar": [
           {
            "marker": {
             "colorbar": {
              "outlinewidth": 0,
              "ticks": ""
             }
            },
            "type": "scatterpolar"
           }
          ],
          "scatterpolargl": [
           {
            "marker": {
             "colorbar": {
              "outlinewidth": 0,
              "ticks": ""
             }
            },
            "type": "scatterpolargl"
           }
          ],
          "scatterternary": [
           {
            "marker": {
             "colorbar": {
              "outlinewidth": 0,
              "ticks": ""
             }
            },
            "type": "scatterternary"
           }
          ],
          "surface": [
           {
            "colorbar": {
             "outlinewidth": 0,
             "ticks": ""
            },
            "colorscale": [
             [
              0,
              "#0d0887"
             ],
             [
              0.1111111111111111,
              "#46039f"
             ],
             [
              0.2222222222222222,
              "#7201a8"
             ],
             [
              0.3333333333333333,
              "#9c179e"
             ],
             [
              0.4444444444444444,
              "#bd3786"
             ],
             [
              0.5555555555555556,
              "#d8576b"
             ],
             [
              0.6666666666666666,
              "#ed7953"
             ],
             [
              0.7777777777777778,
              "#fb9f3a"
             ],
             [
              0.8888888888888888,
              "#fdca26"
             ],
             [
              1,
              "#f0f921"
             ]
            ],
            "type": "surface"
           }
          ],
          "table": [
           {
            "cells": {
             "fill": {
              "color": "#EBF0F8"
             },
             "line": {
              "color": "white"
             }
            },
            "header": {
             "fill": {
              "color": "#C8D4E3"
             },
             "line": {
              "color": "white"
             }
            },
            "type": "table"
           }
          ]
         },
         "layout": {
          "annotationdefaults": {
           "arrowcolor": "#2a3f5f",
           "arrowhead": 0,
           "arrowwidth": 1
          },
          "autotypenumbers": "strict",
          "coloraxis": {
           "colorbar": {
            "outlinewidth": 0,
            "ticks": ""
           }
          },
          "colorscale": {
           "diverging": [
            [
             0,
             "#8e0152"
            ],
            [
             0.1,
             "#c51b7d"
            ],
            [
             0.2,
             "#de77ae"
            ],
            [
             0.3,
             "#f1b6da"
            ],
            [
             0.4,
             "#fde0ef"
            ],
            [
             0.5,
             "#f7f7f7"
            ],
            [
             0.6,
             "#e6f5d0"
            ],
            [
             0.7,
             "#b8e186"
            ],
            [
             0.8,
             "#7fbc41"
            ],
            [
             0.9,
             "#4d9221"
            ],
            [
             1,
             "#276419"
            ]
           ],
           "sequential": [
            [
             0,
             "#0d0887"
            ],
            [
             0.1111111111111111,
             "#46039f"
            ],
            [
             0.2222222222222222,
             "#7201a8"
            ],
            [
             0.3333333333333333,
             "#9c179e"
            ],
            [
             0.4444444444444444,
             "#bd3786"
            ],
            [
             0.5555555555555556,
             "#d8576b"
            ],
            [
             0.6666666666666666,
             "#ed7953"
            ],
            [
             0.7777777777777778,
             "#fb9f3a"
            ],
            [
             0.8888888888888888,
             "#fdca26"
            ],
            [
             1,
             "#f0f921"
            ]
           ],
           "sequentialminus": [
            [
             0,
             "#0d0887"
            ],
            [
             0.1111111111111111,
             "#46039f"
            ],
            [
             0.2222222222222222,
             "#7201a8"
            ],
            [
             0.3333333333333333,
             "#9c179e"
            ],
            [
             0.4444444444444444,
             "#bd3786"
            ],
            [
             0.5555555555555556,
             "#d8576b"
            ],
            [
             0.6666666666666666,
             "#ed7953"
            ],
            [
             0.7777777777777778,
             "#fb9f3a"
            ],
            [
             0.8888888888888888,
             "#fdca26"
            ],
            [
             1,
             "#f0f921"
            ]
           ]
          },
          "colorway": [
           "#636efa",
           "#EF553B",
           "#00cc96",
           "#ab63fa",
           "#FFA15A",
           "#19d3f3",
           "#FF6692",
           "#B6E880",
           "#FF97FF",
           "#FECB52"
          ],
          "font": {
           "color": "#2a3f5f"
          },
          "geo": {
           "bgcolor": "white",
           "lakecolor": "white",
           "landcolor": "#E5ECF6",
           "showlakes": true,
           "showland": true,
           "subunitcolor": "white"
          },
          "hoverlabel": {
           "align": "left"
          },
          "hovermode": "closest",
          "mapbox": {
           "style": "light"
          },
          "paper_bgcolor": "white",
          "plot_bgcolor": "#E5ECF6",
          "polar": {
           "angularaxis": {
            "gridcolor": "white",
            "linecolor": "white",
            "ticks": ""
           },
           "bgcolor": "#E5ECF6",
           "radialaxis": {
            "gridcolor": "white",
            "linecolor": "white",
            "ticks": ""
           }
          },
          "scene": {
           "xaxis": {
            "backgroundcolor": "#E5ECF6",
            "gridcolor": "white",
            "gridwidth": 2,
            "linecolor": "white",
            "showbackground": true,
            "ticks": "",
            "zerolinecolor": "white"
           },
           "yaxis": {
            "backgroundcolor": "#E5ECF6",
            "gridcolor": "white",
            "gridwidth": 2,
            "linecolor": "white",
            "showbackground": true,
            "ticks": "",
            "zerolinecolor": "white"
           },
           "zaxis": {
            "backgroundcolor": "#E5ECF6",
            "gridcolor": "white",
            "gridwidth": 2,
            "linecolor": "white",
            "showbackground": true,
            "ticks": "",
            "zerolinecolor": "white"
           }
          },
          "shapedefaults": {
           "line": {
            "color": "#2a3f5f"
           }
          },
          "ternary": {
           "aaxis": {
            "gridcolor": "white",
            "linecolor": "white",
            "ticks": ""
           },
           "baxis": {
            "gridcolor": "white",
            "linecolor": "white",
            "ticks": ""
           },
           "bgcolor": "#E5ECF6",
           "caxis": {
            "gridcolor": "white",
            "linecolor": "white",
            "ticks": ""
           }
          },
          "title": {
           "x": 0.05
          },
          "xaxis": {
           "automargin": true,
           "gridcolor": "white",
           "linecolor": "white",
           "ticks": "",
           "title": {
            "standoff": 15
           },
           "zerolinecolor": "white",
           "zerolinewidth": 2
          },
          "yaxis": {
           "automargin": true,
           "gridcolor": "white",
           "linecolor": "white",
           "ticks": "",
           "title": {
            "standoff": 15
           },
           "zerolinecolor": "white",
           "zerolinewidth": 2
          }
         }
        },
        "title": {
         "font": {
          "color": "#4D5663"
         }
        },
        "xaxis": {
         "gridcolor": "#E1E5ED",
         "showgrid": true,
         "tickfont": {
          "color": "#4D5663"
         },
         "title": {
          "font": {
           "color": "#4D5663"
          },
          "text": ""
         },
         "zerolinecolor": "#E1E5ED"
        },
        "yaxis": {
         "gridcolor": "#E1E5ED",
         "showgrid": true,
         "tickfont": {
          "color": "#4D5663"
         },
         "title": {
          "font": {
           "color": "#4D5663"
          },
          "text": ""
         },
         "zerolinecolor": "#E1E5ED"
        }
       }
      },
      "text/html": [
       "<div>                            <div id=\"8fcc0481-8ad4-40ba-bebd-fbd120b12435\" class=\"plotly-graph-div\" style=\"height:525px; width:100%;\"></div>            <script type=\"text/javascript\">                require([\"plotly\"], function(Plotly) {                    window.PLOTLYENV=window.PLOTLYENV || {};\n",
       "                    window.PLOTLYENV.BASE_URL='https://plot.ly';                                    if (document.getElementById(\"8fcc0481-8ad4-40ba-bebd-fbd120b12435\")) {                    Plotly.newPlot(                        \"8fcc0481-8ad4-40ba-bebd-fbd120b12435\",                        [{\"marker\":{\"color\":\"rgba(255, 153, 51, 0.6)\",\"line\":{\"color\":\"rgba(255, 153, 51, 1.0)\",\"width\":1}},\"name\":\"Values\",\"orientation\":\"v\",\"text\":\"\",\"x\":[\"A\",\"B\",\"C\"],\"y\":[32,43,50],\"type\":\"bar\"}],                        {\"legend\":{\"bgcolor\":\"#F5F6F9\",\"font\":{\"color\":\"#4D5663\"}},\"paper_bgcolor\":\"#F5F6F9\",\"plot_bgcolor\":\"#F5F6F9\",\"template\":{\"data\":{\"barpolar\":[{\"marker\":{\"line\":{\"color\":\"#E5ECF6\",\"width\":0.5},\"pattern\":{\"fillmode\":\"overlay\",\"size\":10,\"solidity\":0.2}},\"type\":\"barpolar\"}],\"bar\":[{\"error_x\":{\"color\":\"#2a3f5f\"},\"error_y\":{\"color\":\"#2a3f5f\"},\"marker\":{\"line\":{\"color\":\"#E5ECF6\",\"width\":0.5},\"pattern\":{\"fillmode\":\"overlay\",\"size\":10,\"solidity\":0.2}},\"type\":\"bar\"}],\"carpet\":[{\"aaxis\":{\"endlinecolor\":\"#2a3f5f\",\"gridcolor\":\"white\",\"linecolor\":\"white\",\"minorgridcolor\":\"white\",\"startlinecolor\":\"#2a3f5f\"},\"baxis\":{\"endlinecolor\":\"#2a3f5f\",\"gridcolor\":\"white\",\"linecolor\":\"white\",\"minorgridcolor\":\"white\",\"startlinecolor\":\"#2a3f5f\"},\"type\":\"carpet\"}],\"choropleth\":[{\"colorbar\":{\"outlinewidth\":0,\"ticks\":\"\"},\"type\":\"choropleth\"}],\"contourcarpet\":[{\"colorbar\":{\"outlinewidth\":0,\"ticks\":\"\"},\"type\":\"contourcarpet\"}],\"contour\":[{\"colorbar\":{\"outlinewidth\":0,\"ticks\":\"\"},\"colorscale\":[[0.0,\"#0d0887\"],[0.1111111111111111,\"#46039f\"],[0.2222222222222222,\"#7201a8\"],[0.3333333333333333,\"#9c179e\"],[0.4444444444444444,\"#bd3786\"],[0.5555555555555556,\"#d8576b\"],[0.6666666666666666,\"#ed7953\"],[0.7777777777777778,\"#fb9f3a\"],[0.8888888888888888,\"#fdca26\"],[1.0,\"#f0f921\"]],\"type\":\"contour\"}],\"heatmapgl\":[{\"colorbar\":{\"outlinewidth\":0,\"ticks\":\"\"},\"colorscale\":[[0.0,\"#0d0887\"],[0.1111111111111111,\"#46039f\"],[0.2222222222222222,\"#7201a8\"],[0.3333333333333333,\"#9c179e\"],[0.4444444444444444,\"#bd3786\"],[0.5555555555555556,\"#d8576b\"],[0.6666666666666666,\"#ed7953\"],[0.7777777777777778,\"#fb9f3a\"],[0.8888888888888888,\"#fdca26\"],[1.0,\"#f0f921\"]],\"type\":\"heatmapgl\"}],\"heatmap\":[{\"colorbar\":{\"outlinewidth\":0,\"ticks\":\"\"},\"colorscale\":[[0.0,\"#0d0887\"],[0.1111111111111111,\"#46039f\"],[0.2222222222222222,\"#7201a8\"],[0.3333333333333333,\"#9c179e\"],[0.4444444444444444,\"#bd3786\"],[0.5555555555555556,\"#d8576b\"],[0.6666666666666666,\"#ed7953\"],[0.7777777777777778,\"#fb9f3a\"],[0.8888888888888888,\"#fdca26\"],[1.0,\"#f0f921\"]],\"type\":\"heatmap\"}],\"histogram2dcontour\":[{\"colorbar\":{\"outlinewidth\":0,\"ticks\":\"\"},\"colorscale\":[[0.0,\"#0d0887\"],[0.1111111111111111,\"#46039f\"],[0.2222222222222222,\"#7201a8\"],[0.3333333333333333,\"#9c179e\"],[0.4444444444444444,\"#bd3786\"],[0.5555555555555556,\"#d8576b\"],[0.6666666666666666,\"#ed7953\"],[0.7777777777777778,\"#fb9f3a\"],[0.8888888888888888,\"#fdca26\"],[1.0,\"#f0f921\"]],\"type\":\"histogram2dcontour\"}],\"histogram2d\":[{\"colorbar\":{\"outlinewidth\":0,\"ticks\":\"\"},\"colorscale\":[[0.0,\"#0d0887\"],[0.1111111111111111,\"#46039f\"],[0.2222222222222222,\"#7201a8\"],[0.3333333333333333,\"#9c179e\"],[0.4444444444444444,\"#bd3786\"],[0.5555555555555556,\"#d8576b\"],[0.6666666666666666,\"#ed7953\"],[0.7777777777777778,\"#fb9f3a\"],[0.8888888888888888,\"#fdca26\"],[1.0,\"#f0f921\"]],\"type\":\"histogram2d\"}],\"histogram\":[{\"marker\":{\"pattern\":{\"fillmode\":\"overlay\",\"size\":10,\"solidity\":0.2}},\"type\":\"histogram\"}],\"mesh3d\":[{\"colorbar\":{\"outlinewidth\":0,\"ticks\":\"\"},\"type\":\"mesh3d\"}],\"parcoords\":[{\"line\":{\"colorbar\":{\"outlinewidth\":0,\"ticks\":\"\"}},\"type\":\"parcoords\"}],\"pie\":[{\"automargin\":true,\"type\":\"pie\"}],\"scatter3d\":[{\"line\":{\"colorbar\":{\"outlinewidth\":0,\"ticks\":\"\"}},\"marker\":{\"colorbar\":{\"outlinewidth\":0,\"ticks\":\"\"}},\"type\":\"scatter3d\"}],\"scattercarpet\":[{\"marker\":{\"colorbar\":{\"outlinewidth\":0,\"ticks\":\"\"}},\"type\":\"scattercarpet\"}],\"scattergeo\":[{\"marker\":{\"colorbar\":{\"outlinewidth\":0,\"ticks\":\"\"}},\"type\":\"scattergeo\"}],\"scattergl\":[{\"marker\":{\"colorbar\":{\"outlinewidth\":0,\"ticks\":\"\"}},\"type\":\"scattergl\"}],\"scattermapbox\":[{\"marker\":{\"colorbar\":{\"outlinewidth\":0,\"ticks\":\"\"}},\"type\":\"scattermapbox\"}],\"scatterpolargl\":[{\"marker\":{\"colorbar\":{\"outlinewidth\":0,\"ticks\":\"\"}},\"type\":\"scatterpolargl\"}],\"scatterpolar\":[{\"marker\":{\"colorbar\":{\"outlinewidth\":0,\"ticks\":\"\"}},\"type\":\"scatterpolar\"}],\"scatter\":[{\"marker\":{\"colorbar\":{\"outlinewidth\":0,\"ticks\":\"\"}},\"type\":\"scatter\"}],\"scatterternary\":[{\"marker\":{\"colorbar\":{\"outlinewidth\":0,\"ticks\":\"\"}},\"type\":\"scatterternary\"}],\"surface\":[{\"colorbar\":{\"outlinewidth\":0,\"ticks\":\"\"},\"colorscale\":[[0.0,\"#0d0887\"],[0.1111111111111111,\"#46039f\"],[0.2222222222222222,\"#7201a8\"],[0.3333333333333333,\"#9c179e\"],[0.4444444444444444,\"#bd3786\"],[0.5555555555555556,\"#d8576b\"],[0.6666666666666666,\"#ed7953\"],[0.7777777777777778,\"#fb9f3a\"],[0.8888888888888888,\"#fdca26\"],[1.0,\"#f0f921\"]],\"type\":\"surface\"}],\"table\":[{\"cells\":{\"fill\":{\"color\":\"#EBF0F8\"},\"line\":{\"color\":\"white\"}},\"header\":{\"fill\":{\"color\":\"#C8D4E3\"},\"line\":{\"color\":\"white\"}},\"type\":\"table\"}]},\"layout\":{\"annotationdefaults\":{\"arrowcolor\":\"#2a3f5f\",\"arrowhead\":0,\"arrowwidth\":1},\"autotypenumbers\":\"strict\",\"coloraxis\":{\"colorbar\":{\"outlinewidth\":0,\"ticks\":\"\"}},\"colorscale\":{\"diverging\":[[0,\"#8e0152\"],[0.1,\"#c51b7d\"],[0.2,\"#de77ae\"],[0.3,\"#f1b6da\"],[0.4,\"#fde0ef\"],[0.5,\"#f7f7f7\"],[0.6,\"#e6f5d0\"],[0.7,\"#b8e186\"],[0.8,\"#7fbc41\"],[0.9,\"#4d9221\"],[1,\"#276419\"]],\"sequential\":[[0.0,\"#0d0887\"],[0.1111111111111111,\"#46039f\"],[0.2222222222222222,\"#7201a8\"],[0.3333333333333333,\"#9c179e\"],[0.4444444444444444,\"#bd3786\"],[0.5555555555555556,\"#d8576b\"],[0.6666666666666666,\"#ed7953\"],[0.7777777777777778,\"#fb9f3a\"],[0.8888888888888888,\"#fdca26\"],[1.0,\"#f0f921\"]],\"sequentialminus\":[[0.0,\"#0d0887\"],[0.1111111111111111,\"#46039f\"],[0.2222222222222222,\"#7201a8\"],[0.3333333333333333,\"#9c179e\"],[0.4444444444444444,\"#bd3786\"],[0.5555555555555556,\"#d8576b\"],[0.6666666666666666,\"#ed7953\"],[0.7777777777777778,\"#fb9f3a\"],[0.8888888888888888,\"#fdca26\"],[1.0,\"#f0f921\"]]},\"colorway\":[\"#636efa\",\"#EF553B\",\"#00cc96\",\"#ab63fa\",\"#FFA15A\",\"#19d3f3\",\"#FF6692\",\"#B6E880\",\"#FF97FF\",\"#FECB52\"],\"font\":{\"color\":\"#2a3f5f\"},\"geo\":{\"bgcolor\":\"white\",\"lakecolor\":\"white\",\"landcolor\":\"#E5ECF6\",\"showlakes\":true,\"showland\":true,\"subunitcolor\":\"white\"},\"hoverlabel\":{\"align\":\"left\"},\"hovermode\":\"closest\",\"mapbox\":{\"style\":\"light\"},\"paper_bgcolor\":\"white\",\"plot_bgcolor\":\"#E5ECF6\",\"polar\":{\"angularaxis\":{\"gridcolor\":\"white\",\"linecolor\":\"white\",\"ticks\":\"\"},\"bgcolor\":\"#E5ECF6\",\"radialaxis\":{\"gridcolor\":\"white\",\"linecolor\":\"white\",\"ticks\":\"\"}},\"scene\":{\"xaxis\":{\"backgroundcolor\":\"#E5ECF6\",\"gridcolor\":\"white\",\"gridwidth\":2,\"linecolor\":\"white\",\"showbackground\":true,\"ticks\":\"\",\"zerolinecolor\":\"white\"},\"yaxis\":{\"backgroundcolor\":\"#E5ECF6\",\"gridcolor\":\"white\",\"gridwidth\":2,\"linecolor\":\"white\",\"showbackground\":true,\"ticks\":\"\",\"zerolinecolor\":\"white\"},\"zaxis\":{\"backgroundcolor\":\"#E5ECF6\",\"gridcolor\":\"white\",\"gridwidth\":2,\"linecolor\":\"white\",\"showbackground\":true,\"ticks\":\"\",\"zerolinecolor\":\"white\"}},\"shapedefaults\":{\"line\":{\"color\":\"#2a3f5f\"}},\"ternary\":{\"aaxis\":{\"gridcolor\":\"white\",\"linecolor\":\"white\",\"ticks\":\"\"},\"baxis\":{\"gridcolor\":\"white\",\"linecolor\":\"white\",\"ticks\":\"\"},\"bgcolor\":\"#E5ECF6\",\"caxis\":{\"gridcolor\":\"white\",\"linecolor\":\"white\",\"ticks\":\"\"}},\"title\":{\"x\":0.05},\"xaxis\":{\"automargin\":true,\"gridcolor\":\"white\",\"linecolor\":\"white\",\"ticks\":\"\",\"title\":{\"standoff\":15},\"zerolinecolor\":\"white\",\"zerolinewidth\":2},\"yaxis\":{\"automargin\":true,\"gridcolor\":\"white\",\"linecolor\":\"white\",\"ticks\":\"\",\"title\":{\"standoff\":15},\"zerolinecolor\":\"white\",\"zerolinewidth\":2}}},\"title\":{\"font\":{\"color\":\"#4D5663\"}},\"xaxis\":{\"gridcolor\":\"#E1E5ED\",\"showgrid\":true,\"tickfont\":{\"color\":\"#4D5663\"},\"title\":{\"font\":{\"color\":\"#4D5663\"},\"text\":\"\"},\"zerolinecolor\":\"#E1E5ED\"},\"yaxis\":{\"gridcolor\":\"#E1E5ED\",\"showgrid\":true,\"tickfont\":{\"color\":\"#4D5663\"},\"title\":{\"font\":{\"color\":\"#4D5663\"},\"text\":\"\"},\"zerolinecolor\":\"#E1E5ED\"}},                        {\"showLink\": true, \"linkText\": \"Export to plot.ly\", \"plotlyServerURL\": \"https://plot.ly\", \"responsive\": true}                    ).then(function(){\n",
       "                            \n",
       "var gd = document.getElementById('8fcc0481-8ad4-40ba-bebd-fbd120b12435');\n",
       "var x = new MutationObserver(function (mutations, observer) {{\n",
       "        var display = window.getComputedStyle(gd).display;\n",
       "        if (!display || display === 'none') {{\n",
       "            console.log([gd, 'removed!']);\n",
       "            Plotly.purge(gd);\n",
       "            observer.disconnect();\n",
       "        }}\n",
       "}});\n",
       "\n",
       "// Listen for the removal of the full notebook cells\n",
       "var notebookContainer = gd.closest('#notebook-container');\n",
       "if (notebookContainer) {{\n",
       "    x.observe(notebookContainer, {childList: true});\n",
       "}}\n",
       "\n",
       "// Listen for the clearing of the current output cell\n",
       "var outputEl = gd.closest('.output');\n",
       "if (outputEl) {{\n",
       "    x.observe(outputEl, {childList: true});\n",
       "}}\n",
       "\n",
       "                        })                };                });            </script>        </div>"
      ]
     },
     "metadata": {},
     "output_type": "display_data"
    }
   ],
   "source": [
    "df2.iplot(kind='bar',x='Category',y='Values')"
   ]
  },
  {
   "cell_type": "code",
   "execution_count": 27,
   "id": "7b499448",
   "metadata": {},
   "outputs": [
    {
     "data": {
      "application/vnd.plotly.v1+json": {
       "config": {
        "linkText": "Export to plot.ly",
        "plotlyServerURL": "https://plot.ly",
        "showLink": true
       },
       "data": [
        {
         "marker": {
          "color": "rgba(255, 153, 51, 0.6)",
          "line": {
           "color": "rgba(255, 153, 51, 1.0)",
           "width": 1
          }
         },
         "name": "A",
         "orientation": "v",
         "text": "",
         "type": "bar",
         "x": [
          0,
          1,
          2,
          3,
          4,
          5,
          6,
          7,
          8,
          9,
          10,
          11,
          12,
          13,
          14,
          15,
          16,
          17,
          18,
          19,
          20,
          21,
          22,
          23,
          24,
          25,
          26,
          27,
          28,
          29,
          30,
          31,
          32,
          33,
          34,
          35,
          36,
          37,
          38,
          39,
          40,
          41,
          42,
          43,
          44,
          45,
          46,
          47,
          48,
          49,
          50,
          51,
          52,
          53,
          54,
          55,
          56,
          57,
          58,
          59,
          60,
          61,
          62,
          63,
          64,
          65,
          66,
          67,
          68,
          69,
          70,
          71,
          72,
          73,
          74,
          75,
          76,
          77,
          78,
          79,
          80,
          81,
          82,
          83,
          84,
          85,
          86,
          87,
          88,
          89,
          90,
          91,
          92,
          93,
          94,
          95,
          96,
          97,
          98,
          99
         ],
         "y": [
          1.0837802026903676,
          -0.8307318652353206,
          0.9704645666752914,
          -0.13150801540525994,
          -1.431676307991406,
          0.5854248107675313,
          -0.5660964311261989,
          0.9884149998948273,
          -0.03866022001943958,
          0.3926136648987823,
          0.2366436323713876,
          1.5890962443122887,
          0.8157022340882426,
          0.3514861566194287,
          1.0277388736464257,
          0.2699518657534483,
          1.3965374784548972,
          -1.5384078610201786,
          -0.5850193141441375,
          0.04250994717911727,
          0.22334130053789886,
          -0.3843704559030353,
          -0.9135758999676846,
          1.1988523922550378,
          0.8756193834778848,
          -0.3245036125233253,
          -0.8643199642609466,
          -2.711830222084337,
          -1.6213541043042066,
          -1.1440160134243584,
          1.1956049013334702,
          -0.5163570085007548,
          0.3383295777705534,
          -0.32691112866765776,
          0.1380319492889386,
          -0.10120910311364711,
          1.2224935125494165,
          -0.7848201785562855,
          1.3251452237809054,
          -1.0422539931177521,
          -0.6220907671447959,
          0.7605865882300532,
          0.7097525174852362,
          0.9560880229550969,
          -0.10339811047162585,
          -0.14644500749449224,
          0.5368987942350666,
          -0.03267673468010394,
          -0.3285015605627665,
          -2.1637667787824704,
          -0.19750325171496624,
          -0.8705110153772423,
          0.3275838600290092,
          -1.4429386352380633,
          -0.5227190645611784,
          -0.6040484120224673,
          -0.5426828792455438,
          -0.24734238804509784,
          -0.1710048045514127,
          0.6357392606928337,
          0.22223721737535435,
          0.8539923672277793,
          1.6418874845855114,
          -1.6051526223909196,
          0.22309065021823282,
          -0.7595689515903035,
          -2.1996485445702563,
          1.5956732573254695,
          1.5477270913516719,
          0.567390246133774,
          0.4046686778858881,
          0.4683976376712205,
          -1.2977402564021023,
          -0.29053464566907533,
          -0.6681614022952193,
          0.5398107798206214,
          1.4892780015980334,
          0.8907307805670841,
          0.01356355123975639,
          0.779825227084279,
          1.480629213237171,
          -1.303499194553016,
          0.5640734614757685,
          0.888697983915617,
          -1.5602326741188632,
          0.3276654891441126,
          1.1056006487110808,
          0.11020457528062488,
          -1.3030233635699597,
          0.3924672139339836,
          0.5960789969061742,
          -1.1234727276191592,
          -1.7650675896330457,
          0.5986533532972574,
          1.0617932058870356,
          1.3479162812727086,
          -0.8368602512006359,
          -0.009797134647624255,
          0.5983037055534213,
          -0.8765850492559197
         ]
        },
        {
         "marker": {
          "color": "rgba(55, 128, 191, 0.6)",
          "line": {
           "color": "rgba(55, 128, 191, 1.0)",
           "width": 1
          }
         },
         "name": "B",
         "orientation": "v",
         "text": "",
         "type": "bar",
         "x": [
          0,
          1,
          2,
          3,
          4,
          5,
          6,
          7,
          8,
          9,
          10,
          11,
          12,
          13,
          14,
          15,
          16,
          17,
          18,
          19,
          20,
          21,
          22,
          23,
          24,
          25,
          26,
          27,
          28,
          29,
          30,
          31,
          32,
          33,
          34,
          35,
          36,
          37,
          38,
          39,
          40,
          41,
          42,
          43,
          44,
          45,
          46,
          47,
          48,
          49,
          50,
          51,
          52,
          53,
          54,
          55,
          56,
          57,
          58,
          59,
          60,
          61,
          62,
          63,
          64,
          65,
          66,
          67,
          68,
          69,
          70,
          71,
          72,
          73,
          74,
          75,
          76,
          77,
          78,
          79,
          80,
          81,
          82,
          83,
          84,
          85,
          86,
          87,
          88,
          89,
          90,
          91,
          92,
          93,
          94,
          95,
          96,
          97,
          98,
          99
         ],
         "y": [
          -0.522890892695273,
          -0.5133950769305579,
          0.6806690722910964,
          1.031910376765052,
          0.5134242259294345,
          -1.1384405134344129,
          -1.967304273414849,
          2.7754662161448187,
          -0.12968506824520482,
          -0.5751330143483373,
          -1.7124510912923032,
          -0.7401896441257169,
          1.3640598393807122,
          -0.7392250669937778,
          -0.4596265565310788,
          0.8632338591254589,
          -0.9269877232227746,
          0.8005776928976868,
          -0.5303651277260929,
          -1.5478366663352567,
          -0.9021928385540456,
          0.07263937780983032,
          0.4964765917045821,
          -0.019362179759583174,
          0.3549150890000641,
          -0.254386036949427,
          1.287006580786897,
          0.7655221718834024,
          0.7588074233964105,
          2.119276748874291,
          -0.5972958247816397,
          -1.2021289261239687,
          -0.20378199373107492,
          0.8537557984722517,
          0.03905136978287543,
          -1.3572525759712204,
          0.7729758897701869,
          0.15709732946492647,
          -0.43953427255576755,
          0.02080414947036807,
          -0.0686204830480142,
          -1.7658436876434458,
          -0.07210159595201733,
          0.27634956368375163,
          1.0937799112009745,
          0.4294114559969322,
          -1.5755166280139263,
          -0.030870482297119722,
          -0.2023705876469707,
          0.5292765847905173,
          0.39943539003596257,
          -0.7724123878930874,
          0.6890986316171753,
          0.9122861623485468,
          0.1162402187877747,
          0.41573491106998256,
          -1.0554506054777522,
          0.3273723004744497,
          1.2826088924503345,
          0.002600066872883493,
          -1.344462684212799,
          -0.4646665558487505,
          0.6608569002638156,
          -1.172944904026479,
          -1.5333839108105396,
          0.5800873164304087,
          -0.0944402612694691,
          0.9177407000112922,
          -1.362401198969006,
          -0.26278842045129025,
          0.5670096180264699,
          -1.3766867887778862,
          1.0606927619478912,
          1.7738407682557193,
          -1.345147684233415,
          1.2258717217599049,
          -0.6434508497398888,
          -0.08574432115483341,
          -0.30728343458243823,
          -0.26446934774105685,
          -0.946849712608022,
          -1.153366821199802,
          -0.13739292710680448,
          0.3299629055380062,
          0.428734968248196,
          1.4750103690781826,
          0.9924535177609993,
          -0.5239161127928873,
          -0.7283124703069083,
          -0.10204894475527922,
          1.1466273781594924,
          0.0888460083240002,
          -0.0166821185648255,
          0.18261626841187298,
          -0.3679919585457832,
          1.2256960945250548,
          0.40221413256018895,
          0.515223149459377,
          1.3306440965310917,
          -0.618409258339924
         ]
        },
        {
         "marker": {
          "color": "rgba(50, 171, 96, 0.6)",
          "line": {
           "color": "rgba(50, 171, 96, 1.0)",
           "width": 1
          }
         },
         "name": "C",
         "orientation": "v",
         "text": "",
         "type": "bar",
         "x": [
          0,
          1,
          2,
          3,
          4,
          5,
          6,
          7,
          8,
          9,
          10,
          11,
          12,
          13,
          14,
          15,
          16,
          17,
          18,
          19,
          20,
          21,
          22,
          23,
          24,
          25,
          26,
          27,
          28,
          29,
          30,
          31,
          32,
          33,
          34,
          35,
          36,
          37,
          38,
          39,
          40,
          41,
          42,
          43,
          44,
          45,
          46,
          47,
          48,
          49,
          50,
          51,
          52,
          53,
          54,
          55,
          56,
          57,
          58,
          59,
          60,
          61,
          62,
          63,
          64,
          65,
          66,
          67,
          68,
          69,
          70,
          71,
          72,
          73,
          74,
          75,
          76,
          77,
          78,
          79,
          80,
          81,
          82,
          83,
          84,
          85,
          86,
          87,
          88,
          89,
          90,
          91,
          92,
          93,
          94,
          95,
          96,
          97,
          98,
          99
         ],
         "y": [
          0.5061735650054343,
          -0.45374351970619403,
          -1.3452417433111727,
          -0.7906907432933548,
          0.5168613662055268,
          -0.4741995457952149,
          -0.4694021472502292,
          -1.0065724184279325,
          0.08312318574305148,
          0.2962008274450619,
          -0.7652039217045815,
          0.7388926859827525,
          -0.9745728957736693,
          -2.4966091073318424,
          -0.7916851107025121,
          0.8795399529894699,
          -1.1612265935014694,
          1.5668786119989917,
          1.1040731833869804,
          1.0707093127560956,
          0.04029924094817754,
          -1.4025655681894444,
          1.1083759673468043,
          -0.26951084815162907,
          0.6821491317910371,
          -0.3290024007045008,
          1.801817498836998,
          0.09532447935235822,
          0.5756724929951034,
          1.2250363316590556,
          0.5404691198101195,
          1.405107902503578,
          -0.46317087243262545,
          -0.06896767035212416,
          -0.8379096836859891,
          0.8559684259161792,
          0.7777864657707051,
          0.9242137263015999,
          -0.2896985032173854,
          0.04891742223527568,
          -1.2404205571776148,
          -0.1051185708499763,
          -0.8830174503203669,
          0.22096219141352746,
          0.8821591483730389,
          -0.23674634676994427,
          2.5158583605059843,
          -1.6231979754694397,
          -0.20367723899620602,
          -0.7347607399291173,
          -0.168438399902665,
          -0.943047835388374,
          0.1277488505392079,
          -0.4597241063254028,
          0.7571446506449164,
          0.2679007718721096,
          0.07464719122470621,
          1.3878605790736451,
          0.46617492851758113,
          0.8686807258221567,
          1.2416824576348655,
          -1.5071105865323295,
          1.2553368074664373,
          -0.027321171048688378,
          -1.1622915769561002,
          0.17761266565039144,
          -1.8055440471148432,
          0.1440987967848737,
          0.14970580108926282,
          0.7842807872764457,
          0.3755126386941075,
          -0.453537726159817,
          -1.2272616199332682,
          -0.6026080665367011,
          -0.07245424810641667,
          0.38435297238922855,
          -0.7927447793959029,
          0.8219029649758968,
          0.25577990702355674,
          -0.39326546750649277,
          -0.06789084835124859,
          -1.340905483933111,
          -1.5117427959932335,
          0.16040901680405362,
          -0.5247056642455927,
          -1.6852089693321068,
          0.9003114764531234,
          1.3720171677133417,
          0.6747827785756805,
          0.27954802705531684,
          -0.47056378249546665,
          -2.3813183979413095,
          -0.9269712255431471,
          0.10436926248829959,
          0.05360017960672199,
          1.1334181219773138,
          0.4490940132605856,
          -2.3074539127722318,
          1.0924529184352614,
          1.3916896997462473
         ]
        },
        {
         "marker": {
          "color": "rgba(128, 0, 128, 0.6)",
          "line": {
           "color": "rgba(128, 0, 128, 1.0)",
           "width": 1
          }
         },
         "name": "D",
         "orientation": "v",
         "text": "",
         "type": "bar",
         "x": [
          0,
          1,
          2,
          3,
          4,
          5,
          6,
          7,
          8,
          9,
          10,
          11,
          12,
          13,
          14,
          15,
          16,
          17,
          18,
          19,
          20,
          21,
          22,
          23,
          24,
          25,
          26,
          27,
          28,
          29,
          30,
          31,
          32,
          33,
          34,
          35,
          36,
          37,
          38,
          39,
          40,
          41,
          42,
          43,
          44,
          45,
          46,
          47,
          48,
          49,
          50,
          51,
          52,
          53,
          54,
          55,
          56,
          57,
          58,
          59,
          60,
          61,
          62,
          63,
          64,
          65,
          66,
          67,
          68,
          69,
          70,
          71,
          72,
          73,
          74,
          75,
          76,
          77,
          78,
          79,
          80,
          81,
          82,
          83,
          84,
          85,
          86,
          87,
          88,
          89,
          90,
          91,
          92,
          93,
          94,
          95,
          96,
          97,
          98,
          99
         ],
         "y": [
          -1.0675771230985205,
          -0.6264316253365796,
          0.747126545149039,
          -1.5463867828324207,
          0.25938015269389925,
          -0.5389198104008657,
          -0.5728103842865038,
          0.04232544843890766,
          0.6051018423665102,
          1.5719879536382655,
          2.1824615406208365,
          -1.25222283856212,
          -0.3089715792020181,
          -0.9345231376762781,
          1.0309931125440828,
          -0.8427677439209136,
          1.1977651673873526,
          0.9643854392140603,
          0.2967407338548481,
          0.11503189012991172,
          0.8732057487653814,
          -0.19830601613374937,
          0.40756545557832274,
          -0.0022754125899660353,
          0.7211153825417478,
          -0.07342677113470895,
          0.9979282708349597,
          0.9597658767905103,
          0.6255359378491521,
          -0.45621573285751493,
          0.8150247581386546,
          -1.1072203072967557,
          -1.1000977049464933,
          1.6803282734071265,
          -0.9318001814065225,
          -1.9075202717308457,
          0.513400387638943,
          -0.9386923104093527,
          2.450064768931152,
          -1.432923362063971,
          0.6619256366627118,
          -0.31934761067773776,
          -1.8377084151369856,
          0.9344121070744521,
          0.21650089150415538,
          0.39973594945452634,
          0.9143285496448482,
          0.885617368351388,
          -1.0805304951112176,
          -1.5173287886073383,
          0.10401551897097906,
          0.451738909451791,
          0.8109448163385391,
          1.2734919720754343,
          -0.5587983288972399,
          1.9646001859380617,
          -0.037742341521644546,
          -0.38713967847411024,
          -0.7409576411389274,
          0.5736931426231485,
          -0.06893535611076942,
          -1.5818187828753911,
          0.4897288305796859,
          1.0132675005143266,
          1.100210446616976,
          -0.18704871424081185,
          0.8149179903873712,
          1.8509522380904984,
          -0.3048755128510082,
          0.15402916833245736,
          1.2033989062448742,
          -1.422386845150487,
          0.8659658670845835,
          1.383060561297713,
          -0.47414528871073014,
          -0.4444611891967911,
          -1.134515572377695,
          0.5210567607543705,
          0.711433108724833,
          -1.4595894453701157,
          1.866171666097092,
          0.30819746567042894,
          1.0831035343593591,
          -0.4917300092139015,
          0.8937049963266488,
          -0.779032604223167,
          1.3202255084238312,
          1.3058107289950605,
          1.1034214210645876,
          0.6616521623376257,
          -0.36773474713485177,
          -0.3698675153167032,
          -0.7317343089371522,
          -0.3916593838141954,
          -0.9691641760790766,
          -0.8651839848953563,
          0.8412831635767257,
          0.42139921244393047,
          -0.9338671399851458,
          0.3802094408496576
         ]
        }
       ],
       "layout": {
        "legend": {
         "bgcolor": "#F5F6F9",
         "font": {
          "color": "#4D5663"
         }
        },
        "paper_bgcolor": "#F5F6F9",
        "plot_bgcolor": "#F5F6F9",
        "template": {
         "data": {
          "bar": [
           {
            "error_x": {
             "color": "#2a3f5f"
            },
            "error_y": {
             "color": "#2a3f5f"
            },
            "marker": {
             "line": {
              "color": "#E5ECF6",
              "width": 0.5
             },
             "pattern": {
              "fillmode": "overlay",
              "size": 10,
              "solidity": 0.2
             }
            },
            "type": "bar"
           }
          ],
          "barpolar": [
           {
            "marker": {
             "line": {
              "color": "#E5ECF6",
              "width": 0.5
             },
             "pattern": {
              "fillmode": "overlay",
              "size": 10,
              "solidity": 0.2
             }
            },
            "type": "barpolar"
           }
          ],
          "carpet": [
           {
            "aaxis": {
             "endlinecolor": "#2a3f5f",
             "gridcolor": "white",
             "linecolor": "white",
             "minorgridcolor": "white",
             "startlinecolor": "#2a3f5f"
            },
            "baxis": {
             "endlinecolor": "#2a3f5f",
             "gridcolor": "white",
             "linecolor": "white",
             "minorgridcolor": "white",
             "startlinecolor": "#2a3f5f"
            },
            "type": "carpet"
           }
          ],
          "choropleth": [
           {
            "colorbar": {
             "outlinewidth": 0,
             "ticks": ""
            },
            "type": "choropleth"
           }
          ],
          "contour": [
           {
            "colorbar": {
             "outlinewidth": 0,
             "ticks": ""
            },
            "colorscale": [
             [
              0,
              "#0d0887"
             ],
             [
              0.1111111111111111,
              "#46039f"
             ],
             [
              0.2222222222222222,
              "#7201a8"
             ],
             [
              0.3333333333333333,
              "#9c179e"
             ],
             [
              0.4444444444444444,
              "#bd3786"
             ],
             [
              0.5555555555555556,
              "#d8576b"
             ],
             [
              0.6666666666666666,
              "#ed7953"
             ],
             [
              0.7777777777777778,
              "#fb9f3a"
             ],
             [
              0.8888888888888888,
              "#fdca26"
             ],
             [
              1,
              "#f0f921"
             ]
            ],
            "type": "contour"
           }
          ],
          "contourcarpet": [
           {
            "colorbar": {
             "outlinewidth": 0,
             "ticks": ""
            },
            "type": "contourcarpet"
           }
          ],
          "heatmap": [
           {
            "colorbar": {
             "outlinewidth": 0,
             "ticks": ""
            },
            "colorscale": [
             [
              0,
              "#0d0887"
             ],
             [
              0.1111111111111111,
              "#46039f"
             ],
             [
              0.2222222222222222,
              "#7201a8"
             ],
             [
              0.3333333333333333,
              "#9c179e"
             ],
             [
              0.4444444444444444,
              "#bd3786"
             ],
             [
              0.5555555555555556,
              "#d8576b"
             ],
             [
              0.6666666666666666,
              "#ed7953"
             ],
             [
              0.7777777777777778,
              "#fb9f3a"
             ],
             [
              0.8888888888888888,
              "#fdca26"
             ],
             [
              1,
              "#f0f921"
             ]
            ],
            "type": "heatmap"
           }
          ],
          "heatmapgl": [
           {
            "colorbar": {
             "outlinewidth": 0,
             "ticks": ""
            },
            "colorscale": [
             [
              0,
              "#0d0887"
             ],
             [
              0.1111111111111111,
              "#46039f"
             ],
             [
              0.2222222222222222,
              "#7201a8"
             ],
             [
              0.3333333333333333,
              "#9c179e"
             ],
             [
              0.4444444444444444,
              "#bd3786"
             ],
             [
              0.5555555555555556,
              "#d8576b"
             ],
             [
              0.6666666666666666,
              "#ed7953"
             ],
             [
              0.7777777777777778,
              "#fb9f3a"
             ],
             [
              0.8888888888888888,
              "#fdca26"
             ],
             [
              1,
              "#f0f921"
             ]
            ],
            "type": "heatmapgl"
           }
          ],
          "histogram": [
           {
            "marker": {
             "pattern": {
              "fillmode": "overlay",
              "size": 10,
              "solidity": 0.2
             }
            },
            "type": "histogram"
           }
          ],
          "histogram2d": [
           {
            "colorbar": {
             "outlinewidth": 0,
             "ticks": ""
            },
            "colorscale": [
             [
              0,
              "#0d0887"
             ],
             [
              0.1111111111111111,
              "#46039f"
             ],
             [
              0.2222222222222222,
              "#7201a8"
             ],
             [
              0.3333333333333333,
              "#9c179e"
             ],
             [
              0.4444444444444444,
              "#bd3786"
             ],
             [
              0.5555555555555556,
              "#d8576b"
             ],
             [
              0.6666666666666666,
              "#ed7953"
             ],
             [
              0.7777777777777778,
              "#fb9f3a"
             ],
             [
              0.8888888888888888,
              "#fdca26"
             ],
             [
              1,
              "#f0f921"
             ]
            ],
            "type": "histogram2d"
           }
          ],
          "histogram2dcontour": [
           {
            "colorbar": {
             "outlinewidth": 0,
             "ticks": ""
            },
            "colorscale": [
             [
              0,
              "#0d0887"
             ],
             [
              0.1111111111111111,
              "#46039f"
             ],
             [
              0.2222222222222222,
              "#7201a8"
             ],
             [
              0.3333333333333333,
              "#9c179e"
             ],
             [
              0.4444444444444444,
              "#bd3786"
             ],
             [
              0.5555555555555556,
              "#d8576b"
             ],
             [
              0.6666666666666666,
              "#ed7953"
             ],
             [
              0.7777777777777778,
              "#fb9f3a"
             ],
             [
              0.8888888888888888,
              "#fdca26"
             ],
             [
              1,
              "#f0f921"
             ]
            ],
            "type": "histogram2dcontour"
           }
          ],
          "mesh3d": [
           {
            "colorbar": {
             "outlinewidth": 0,
             "ticks": ""
            },
            "type": "mesh3d"
           }
          ],
          "parcoords": [
           {
            "line": {
             "colorbar": {
              "outlinewidth": 0,
              "ticks": ""
             }
            },
            "type": "parcoords"
           }
          ],
          "pie": [
           {
            "automargin": true,
            "type": "pie"
           }
          ],
          "scatter": [
           {
            "marker": {
             "colorbar": {
              "outlinewidth": 0,
              "ticks": ""
             }
            },
            "type": "scatter"
           }
          ],
          "scatter3d": [
           {
            "line": {
             "colorbar": {
              "outlinewidth": 0,
              "ticks": ""
             }
            },
            "marker": {
             "colorbar": {
              "outlinewidth": 0,
              "ticks": ""
             }
            },
            "type": "scatter3d"
           }
          ],
          "scattercarpet": [
           {
            "marker": {
             "colorbar": {
              "outlinewidth": 0,
              "ticks": ""
             }
            },
            "type": "scattercarpet"
           }
          ],
          "scattergeo": [
           {
            "marker": {
             "colorbar": {
              "outlinewidth": 0,
              "ticks": ""
             }
            },
            "type": "scattergeo"
           }
          ],
          "scattergl": [
           {
            "marker": {
             "colorbar": {
              "outlinewidth": 0,
              "ticks": ""
             }
            },
            "type": "scattergl"
           }
          ],
          "scattermapbox": [
           {
            "marker": {
             "colorbar": {
              "outlinewidth": 0,
              "ticks": ""
             }
            },
            "type": "scattermapbox"
           }
          ],
          "scatterpolar": [
           {
            "marker": {
             "colorbar": {
              "outlinewidth": 0,
              "ticks": ""
             }
            },
            "type": "scatterpolar"
           }
          ],
          "scatterpolargl": [
           {
            "marker": {
             "colorbar": {
              "outlinewidth": 0,
              "ticks": ""
             }
            },
            "type": "scatterpolargl"
           }
          ],
          "scatterternary": [
           {
            "marker": {
             "colorbar": {
              "outlinewidth": 0,
              "ticks": ""
             }
            },
            "type": "scatterternary"
           }
          ],
          "surface": [
           {
            "colorbar": {
             "outlinewidth": 0,
             "ticks": ""
            },
            "colorscale": [
             [
              0,
              "#0d0887"
             ],
             [
              0.1111111111111111,
              "#46039f"
             ],
             [
              0.2222222222222222,
              "#7201a8"
             ],
             [
              0.3333333333333333,
              "#9c179e"
             ],
             [
              0.4444444444444444,
              "#bd3786"
             ],
             [
              0.5555555555555556,
              "#d8576b"
             ],
             [
              0.6666666666666666,
              "#ed7953"
             ],
             [
              0.7777777777777778,
              "#fb9f3a"
             ],
             [
              0.8888888888888888,
              "#fdca26"
             ],
             [
              1,
              "#f0f921"
             ]
            ],
            "type": "surface"
           }
          ],
          "table": [
           {
            "cells": {
             "fill": {
              "color": "#EBF0F8"
             },
             "line": {
              "color": "white"
             }
            },
            "header": {
             "fill": {
              "color": "#C8D4E3"
             },
             "line": {
              "color": "white"
             }
            },
            "type": "table"
           }
          ]
         },
         "layout": {
          "annotationdefaults": {
           "arrowcolor": "#2a3f5f",
           "arrowhead": 0,
           "arrowwidth": 1
          },
          "autotypenumbers": "strict",
          "coloraxis": {
           "colorbar": {
            "outlinewidth": 0,
            "ticks": ""
           }
          },
          "colorscale": {
           "diverging": [
            [
             0,
             "#8e0152"
            ],
            [
             0.1,
             "#c51b7d"
            ],
            [
             0.2,
             "#de77ae"
            ],
            [
             0.3,
             "#f1b6da"
            ],
            [
             0.4,
             "#fde0ef"
            ],
            [
             0.5,
             "#f7f7f7"
            ],
            [
             0.6,
             "#e6f5d0"
            ],
            [
             0.7,
             "#b8e186"
            ],
            [
             0.8,
             "#7fbc41"
            ],
            [
             0.9,
             "#4d9221"
            ],
            [
             1,
             "#276419"
            ]
           ],
           "sequential": [
            [
             0,
             "#0d0887"
            ],
            [
             0.1111111111111111,
             "#46039f"
            ],
            [
             0.2222222222222222,
             "#7201a8"
            ],
            [
             0.3333333333333333,
             "#9c179e"
            ],
            [
             0.4444444444444444,
             "#bd3786"
            ],
            [
             0.5555555555555556,
             "#d8576b"
            ],
            [
             0.6666666666666666,
             "#ed7953"
            ],
            [
             0.7777777777777778,
             "#fb9f3a"
            ],
            [
             0.8888888888888888,
             "#fdca26"
            ],
            [
             1,
             "#f0f921"
            ]
           ],
           "sequentialminus": [
            [
             0,
             "#0d0887"
            ],
            [
             0.1111111111111111,
             "#46039f"
            ],
            [
             0.2222222222222222,
             "#7201a8"
            ],
            [
             0.3333333333333333,
             "#9c179e"
            ],
            [
             0.4444444444444444,
             "#bd3786"
            ],
            [
             0.5555555555555556,
             "#d8576b"
            ],
            [
             0.6666666666666666,
             "#ed7953"
            ],
            [
             0.7777777777777778,
             "#fb9f3a"
            ],
            [
             0.8888888888888888,
             "#fdca26"
            ],
            [
             1,
             "#f0f921"
            ]
           ]
          },
          "colorway": [
           "#636efa",
           "#EF553B",
           "#00cc96",
           "#ab63fa",
           "#FFA15A",
           "#19d3f3",
           "#FF6692",
           "#B6E880",
           "#FF97FF",
           "#FECB52"
          ],
          "font": {
           "color": "#2a3f5f"
          },
          "geo": {
           "bgcolor": "white",
           "lakecolor": "white",
           "landcolor": "#E5ECF6",
           "showlakes": true,
           "showland": true,
           "subunitcolor": "white"
          },
          "hoverlabel": {
           "align": "left"
          },
          "hovermode": "closest",
          "mapbox": {
           "style": "light"
          },
          "paper_bgcolor": "white",
          "plot_bgcolor": "#E5ECF6",
          "polar": {
           "angularaxis": {
            "gridcolor": "white",
            "linecolor": "white",
            "ticks": ""
           },
           "bgcolor": "#E5ECF6",
           "radialaxis": {
            "gridcolor": "white",
            "linecolor": "white",
            "ticks": ""
           }
          },
          "scene": {
           "xaxis": {
            "backgroundcolor": "#E5ECF6",
            "gridcolor": "white",
            "gridwidth": 2,
            "linecolor": "white",
            "showbackground": true,
            "ticks": "",
            "zerolinecolor": "white"
           },
           "yaxis": {
            "backgroundcolor": "#E5ECF6",
            "gridcolor": "white",
            "gridwidth": 2,
            "linecolor": "white",
            "showbackground": true,
            "ticks": "",
            "zerolinecolor": "white"
           },
           "zaxis": {
            "backgroundcolor": "#E5ECF6",
            "gridcolor": "white",
            "gridwidth": 2,
            "linecolor": "white",
            "showbackground": true,
            "ticks": "",
            "zerolinecolor": "white"
           }
          },
          "shapedefaults": {
           "line": {
            "color": "#2a3f5f"
           }
          },
          "ternary": {
           "aaxis": {
            "gridcolor": "white",
            "linecolor": "white",
            "ticks": ""
           },
           "baxis": {
            "gridcolor": "white",
            "linecolor": "white",
            "ticks": ""
           },
           "bgcolor": "#E5ECF6",
           "caxis": {
            "gridcolor": "white",
            "linecolor": "white",
            "ticks": ""
           }
          },
          "title": {
           "x": 0.05
          },
          "xaxis": {
           "automargin": true,
           "gridcolor": "white",
           "linecolor": "white",
           "ticks": "",
           "title": {
            "standoff": 15
           },
           "zerolinecolor": "white",
           "zerolinewidth": 2
          },
          "yaxis": {
           "automargin": true,
           "gridcolor": "white",
           "linecolor": "white",
           "ticks": "",
           "title": {
            "standoff": 15
           },
           "zerolinecolor": "white",
           "zerolinewidth": 2
          }
         }
        },
        "title": {
         "font": {
          "color": "#4D5663"
         }
        },
        "xaxis": {
         "gridcolor": "#E1E5ED",
         "showgrid": true,
         "tickfont": {
          "color": "#4D5663"
         },
         "title": {
          "font": {
           "color": "#4D5663"
          },
          "text": ""
         },
         "zerolinecolor": "#E1E5ED"
        },
        "yaxis": {
         "gridcolor": "#E1E5ED",
         "showgrid": true,
         "tickfont": {
          "color": "#4D5663"
         },
         "title": {
          "font": {
           "color": "#4D5663"
          },
          "text": ""
         },
         "zerolinecolor": "#E1E5ED"
        }
       }
      },
      "text/html": [
       "<div>                            <div id=\"eb4eac89-052a-40b8-beae-db5a9ca48406\" class=\"plotly-graph-div\" style=\"height:525px; width:100%;\"></div>            <script type=\"text/javascript\">                require([\"plotly\"], function(Plotly) {                    window.PLOTLYENV=window.PLOTLYENV || {};\n",
       "                    window.PLOTLYENV.BASE_URL='https://plot.ly';                                    if (document.getElementById(\"eb4eac89-052a-40b8-beae-db5a9ca48406\")) {                    Plotly.newPlot(                        \"eb4eac89-052a-40b8-beae-db5a9ca48406\",                        [{\"marker\":{\"color\":\"rgba(255, 153, 51, 0.6)\",\"line\":{\"color\":\"rgba(255, 153, 51, 1.0)\",\"width\":1}},\"name\":\"A\",\"orientation\":\"v\",\"text\":\"\",\"x\":[0,1,2,3,4,5,6,7,8,9,10,11,12,13,14,15,16,17,18,19,20,21,22,23,24,25,26,27,28,29,30,31,32,33,34,35,36,37,38,39,40,41,42,43,44,45,46,47,48,49,50,51,52,53,54,55,56,57,58,59,60,61,62,63,64,65,66,67,68,69,70,71,72,73,74,75,76,77,78,79,80,81,82,83,84,85,86,87,88,89,90,91,92,93,94,95,96,97,98,99],\"y\":[1.0837802026903676,-0.8307318652353206,0.9704645666752914,-0.13150801540525994,-1.431676307991406,0.5854248107675313,-0.5660964311261989,0.9884149998948273,-0.03866022001943958,0.3926136648987823,0.2366436323713876,1.5890962443122887,0.8157022340882426,0.3514861566194287,1.0277388736464257,0.2699518657534483,1.3965374784548972,-1.5384078610201786,-0.5850193141441375,0.04250994717911727,0.22334130053789886,-0.3843704559030353,-0.9135758999676846,1.1988523922550378,0.8756193834778848,-0.3245036125233253,-0.8643199642609466,-2.711830222084337,-1.6213541043042066,-1.1440160134243584,1.1956049013334702,-0.5163570085007548,0.3383295777705534,-0.32691112866765776,0.1380319492889386,-0.10120910311364711,1.2224935125494165,-0.7848201785562855,1.3251452237809054,-1.0422539931177521,-0.6220907671447959,0.7605865882300532,0.7097525174852362,0.9560880229550969,-0.10339811047162585,-0.14644500749449224,0.5368987942350666,-0.03267673468010394,-0.3285015605627665,-2.1637667787824704,-0.19750325171496624,-0.8705110153772423,0.3275838600290092,-1.4429386352380633,-0.5227190645611784,-0.6040484120224673,-0.5426828792455438,-0.24734238804509784,-0.1710048045514127,0.6357392606928337,0.22223721737535435,0.8539923672277793,1.6418874845855114,-1.6051526223909196,0.22309065021823282,-0.7595689515903035,-2.1996485445702563,1.5956732573254695,1.5477270913516719,0.567390246133774,0.4046686778858881,0.4683976376712205,-1.2977402564021023,-0.29053464566907533,-0.6681614022952193,0.5398107798206214,1.4892780015980334,0.8907307805670841,0.01356355123975639,0.779825227084279,1.480629213237171,-1.303499194553016,0.5640734614757685,0.888697983915617,-1.5602326741188632,0.3276654891441126,1.1056006487110808,0.11020457528062488,-1.3030233635699597,0.3924672139339836,0.5960789969061742,-1.1234727276191592,-1.7650675896330457,0.5986533532972574,1.0617932058870356,1.3479162812727086,-0.8368602512006359,-0.009797134647624255,0.5983037055534213,-0.8765850492559197],\"type\":\"bar\"},{\"marker\":{\"color\":\"rgba(55, 128, 191, 0.6)\",\"line\":{\"color\":\"rgba(55, 128, 191, 1.0)\",\"width\":1}},\"name\":\"B\",\"orientation\":\"v\",\"text\":\"\",\"x\":[0,1,2,3,4,5,6,7,8,9,10,11,12,13,14,15,16,17,18,19,20,21,22,23,24,25,26,27,28,29,30,31,32,33,34,35,36,37,38,39,40,41,42,43,44,45,46,47,48,49,50,51,52,53,54,55,56,57,58,59,60,61,62,63,64,65,66,67,68,69,70,71,72,73,74,75,76,77,78,79,80,81,82,83,84,85,86,87,88,89,90,91,92,93,94,95,96,97,98,99],\"y\":[-0.522890892695273,-0.5133950769305579,0.6806690722910964,1.031910376765052,0.5134242259294345,-1.1384405134344129,-1.967304273414849,2.7754662161448187,-0.12968506824520482,-0.5751330143483373,-1.7124510912923032,-0.7401896441257169,1.3640598393807122,-0.7392250669937778,-0.4596265565310788,0.8632338591254589,-0.9269877232227746,0.8005776928976868,-0.5303651277260929,-1.5478366663352567,-0.9021928385540456,0.07263937780983032,0.4964765917045821,-0.019362179759583174,0.3549150890000641,-0.254386036949427,1.287006580786897,0.7655221718834024,0.7588074233964105,2.119276748874291,-0.5972958247816397,-1.2021289261239687,-0.20378199373107492,0.8537557984722517,0.03905136978287543,-1.3572525759712204,0.7729758897701869,0.15709732946492647,-0.43953427255576755,0.02080414947036807,-0.0686204830480142,-1.7658436876434458,-0.07210159595201733,0.27634956368375163,1.0937799112009745,0.4294114559969322,-1.5755166280139263,-0.030870482297119722,-0.2023705876469707,0.5292765847905173,0.39943539003596257,-0.7724123878930874,0.6890986316171753,0.9122861623485468,0.1162402187877747,0.41573491106998256,-1.0554506054777522,0.3273723004744497,1.2826088924503345,0.002600066872883493,-1.344462684212799,-0.4646665558487505,0.6608569002638156,-1.172944904026479,-1.5333839108105396,0.5800873164304087,-0.0944402612694691,0.9177407000112922,-1.362401198969006,-0.26278842045129025,0.5670096180264699,-1.3766867887778862,1.0606927619478912,1.7738407682557193,-1.345147684233415,1.2258717217599049,-0.6434508497398888,-0.08574432115483341,-0.30728343458243823,-0.26446934774105685,-0.946849712608022,-1.153366821199802,-0.13739292710680448,0.3299629055380062,0.428734968248196,1.4750103690781826,0.9924535177609993,-0.5239161127928873,-0.7283124703069083,-0.10204894475527922,1.1466273781594924,0.0888460083240002,-0.0166821185648255,0.18261626841187298,-0.3679919585457832,1.2256960945250548,0.40221413256018895,0.515223149459377,1.3306440965310917,-0.618409258339924],\"type\":\"bar\"},{\"marker\":{\"color\":\"rgba(50, 171, 96, 0.6)\",\"line\":{\"color\":\"rgba(50, 171, 96, 1.0)\",\"width\":1}},\"name\":\"C\",\"orientation\":\"v\",\"text\":\"\",\"x\":[0,1,2,3,4,5,6,7,8,9,10,11,12,13,14,15,16,17,18,19,20,21,22,23,24,25,26,27,28,29,30,31,32,33,34,35,36,37,38,39,40,41,42,43,44,45,46,47,48,49,50,51,52,53,54,55,56,57,58,59,60,61,62,63,64,65,66,67,68,69,70,71,72,73,74,75,76,77,78,79,80,81,82,83,84,85,86,87,88,89,90,91,92,93,94,95,96,97,98,99],\"y\":[0.5061735650054343,-0.45374351970619403,-1.3452417433111727,-0.7906907432933548,0.5168613662055268,-0.4741995457952149,-0.4694021472502292,-1.0065724184279325,0.08312318574305148,0.2962008274450619,-0.7652039217045815,0.7388926859827525,-0.9745728957736693,-2.4966091073318424,-0.7916851107025121,0.8795399529894699,-1.1612265935014694,1.5668786119989917,1.1040731833869804,1.0707093127560956,0.04029924094817754,-1.4025655681894444,1.1083759673468043,-0.26951084815162907,0.6821491317910371,-0.3290024007045008,1.801817498836998,0.09532447935235822,0.5756724929951034,1.2250363316590556,0.5404691198101195,1.405107902503578,-0.46317087243262545,-0.06896767035212416,-0.8379096836859891,0.8559684259161792,0.7777864657707051,0.9242137263015999,-0.2896985032173854,0.04891742223527568,-1.2404205571776148,-0.1051185708499763,-0.8830174503203669,0.22096219141352746,0.8821591483730389,-0.23674634676994427,2.5158583605059843,-1.6231979754694397,-0.20367723899620602,-0.7347607399291173,-0.168438399902665,-0.943047835388374,0.1277488505392079,-0.4597241063254028,0.7571446506449164,0.2679007718721096,0.07464719122470621,1.3878605790736451,0.46617492851758113,0.8686807258221567,1.2416824576348655,-1.5071105865323295,1.2553368074664373,-0.027321171048688378,-1.1622915769561002,0.17761266565039144,-1.8055440471148432,0.1440987967848737,0.14970580108926282,0.7842807872764457,0.3755126386941075,-0.453537726159817,-1.2272616199332682,-0.6026080665367011,-0.07245424810641667,0.38435297238922855,-0.7927447793959029,0.8219029649758968,0.25577990702355674,-0.39326546750649277,-0.06789084835124859,-1.340905483933111,-1.5117427959932335,0.16040901680405362,-0.5247056642455927,-1.6852089693321068,0.9003114764531234,1.3720171677133417,0.6747827785756805,0.27954802705531684,-0.47056378249546665,-2.3813183979413095,-0.9269712255431471,0.10436926248829959,0.05360017960672199,1.1334181219773138,0.4490940132605856,-2.3074539127722318,1.0924529184352614,1.3916896997462473],\"type\":\"bar\"},{\"marker\":{\"color\":\"rgba(128, 0, 128, 0.6)\",\"line\":{\"color\":\"rgba(128, 0, 128, 1.0)\",\"width\":1}},\"name\":\"D\",\"orientation\":\"v\",\"text\":\"\",\"x\":[0,1,2,3,4,5,6,7,8,9,10,11,12,13,14,15,16,17,18,19,20,21,22,23,24,25,26,27,28,29,30,31,32,33,34,35,36,37,38,39,40,41,42,43,44,45,46,47,48,49,50,51,52,53,54,55,56,57,58,59,60,61,62,63,64,65,66,67,68,69,70,71,72,73,74,75,76,77,78,79,80,81,82,83,84,85,86,87,88,89,90,91,92,93,94,95,96,97,98,99],\"y\":[-1.0675771230985205,-0.6264316253365796,0.747126545149039,-1.5463867828324207,0.25938015269389925,-0.5389198104008657,-0.5728103842865038,0.04232544843890766,0.6051018423665102,1.5719879536382655,2.1824615406208365,-1.25222283856212,-0.3089715792020181,-0.9345231376762781,1.0309931125440828,-0.8427677439209136,1.1977651673873526,0.9643854392140603,0.2967407338548481,0.11503189012991172,0.8732057487653814,-0.19830601613374937,0.40756545557832274,-0.0022754125899660353,0.7211153825417478,-0.07342677113470895,0.9979282708349597,0.9597658767905103,0.6255359378491521,-0.45621573285751493,0.8150247581386546,-1.1072203072967557,-1.1000977049464933,1.6803282734071265,-0.9318001814065225,-1.9075202717308457,0.513400387638943,-0.9386923104093527,2.450064768931152,-1.432923362063971,0.6619256366627118,-0.31934761067773776,-1.8377084151369856,0.9344121070744521,0.21650089150415538,0.39973594945452634,0.9143285496448482,0.885617368351388,-1.0805304951112176,-1.5173287886073383,0.10401551897097906,0.451738909451791,0.8109448163385391,1.2734919720754343,-0.5587983288972399,1.9646001859380617,-0.037742341521644546,-0.38713967847411024,-0.7409576411389274,0.5736931426231485,-0.06893535611076942,-1.5818187828753911,0.4897288305796859,1.0132675005143266,1.100210446616976,-0.18704871424081185,0.8149179903873712,1.8509522380904984,-0.3048755128510082,0.15402916833245736,1.2033989062448742,-1.422386845150487,0.8659658670845835,1.383060561297713,-0.47414528871073014,-0.4444611891967911,-1.134515572377695,0.5210567607543705,0.711433108724833,-1.4595894453701157,1.866171666097092,0.30819746567042894,1.0831035343593591,-0.4917300092139015,0.8937049963266488,-0.779032604223167,1.3202255084238312,1.3058107289950605,1.1034214210645876,0.6616521623376257,-0.36773474713485177,-0.3698675153167032,-0.7317343089371522,-0.3916593838141954,-0.9691641760790766,-0.8651839848953563,0.8412831635767257,0.42139921244393047,-0.9338671399851458,0.3802094408496576],\"type\":\"bar\"}],                        {\"legend\":{\"bgcolor\":\"#F5F6F9\",\"font\":{\"color\":\"#4D5663\"}},\"paper_bgcolor\":\"#F5F6F9\",\"plot_bgcolor\":\"#F5F6F9\",\"template\":{\"data\":{\"barpolar\":[{\"marker\":{\"line\":{\"color\":\"#E5ECF6\",\"width\":0.5},\"pattern\":{\"fillmode\":\"overlay\",\"size\":10,\"solidity\":0.2}},\"type\":\"barpolar\"}],\"bar\":[{\"error_x\":{\"color\":\"#2a3f5f\"},\"error_y\":{\"color\":\"#2a3f5f\"},\"marker\":{\"line\":{\"color\":\"#E5ECF6\",\"width\":0.5},\"pattern\":{\"fillmode\":\"overlay\",\"size\":10,\"solidity\":0.2}},\"type\":\"bar\"}],\"carpet\":[{\"aaxis\":{\"endlinecolor\":\"#2a3f5f\",\"gridcolor\":\"white\",\"linecolor\":\"white\",\"minorgridcolor\":\"white\",\"startlinecolor\":\"#2a3f5f\"},\"baxis\":{\"endlinecolor\":\"#2a3f5f\",\"gridcolor\":\"white\",\"linecolor\":\"white\",\"minorgridcolor\":\"white\",\"startlinecolor\":\"#2a3f5f\"},\"type\":\"carpet\"}],\"choropleth\":[{\"colorbar\":{\"outlinewidth\":0,\"ticks\":\"\"},\"type\":\"choropleth\"}],\"contourcarpet\":[{\"colorbar\":{\"outlinewidth\":0,\"ticks\":\"\"},\"type\":\"contourcarpet\"}],\"contour\":[{\"colorbar\":{\"outlinewidth\":0,\"ticks\":\"\"},\"colorscale\":[[0.0,\"#0d0887\"],[0.1111111111111111,\"#46039f\"],[0.2222222222222222,\"#7201a8\"],[0.3333333333333333,\"#9c179e\"],[0.4444444444444444,\"#bd3786\"],[0.5555555555555556,\"#d8576b\"],[0.6666666666666666,\"#ed7953\"],[0.7777777777777778,\"#fb9f3a\"],[0.8888888888888888,\"#fdca26\"],[1.0,\"#f0f921\"]],\"type\":\"contour\"}],\"heatmapgl\":[{\"colorbar\":{\"outlinewidth\":0,\"ticks\":\"\"},\"colorscale\":[[0.0,\"#0d0887\"],[0.1111111111111111,\"#46039f\"],[0.2222222222222222,\"#7201a8\"],[0.3333333333333333,\"#9c179e\"],[0.4444444444444444,\"#bd3786\"],[0.5555555555555556,\"#d8576b\"],[0.6666666666666666,\"#ed7953\"],[0.7777777777777778,\"#fb9f3a\"],[0.8888888888888888,\"#fdca26\"],[1.0,\"#f0f921\"]],\"type\":\"heatmapgl\"}],\"heatmap\":[{\"colorbar\":{\"outlinewidth\":0,\"ticks\":\"\"},\"colorscale\":[[0.0,\"#0d0887\"],[0.1111111111111111,\"#46039f\"],[0.2222222222222222,\"#7201a8\"],[0.3333333333333333,\"#9c179e\"],[0.4444444444444444,\"#bd3786\"],[0.5555555555555556,\"#d8576b\"],[0.6666666666666666,\"#ed7953\"],[0.7777777777777778,\"#fb9f3a\"],[0.8888888888888888,\"#fdca26\"],[1.0,\"#f0f921\"]],\"type\":\"heatmap\"}],\"histogram2dcontour\":[{\"colorbar\":{\"outlinewidth\":0,\"ticks\":\"\"},\"colorscale\":[[0.0,\"#0d0887\"],[0.1111111111111111,\"#46039f\"],[0.2222222222222222,\"#7201a8\"],[0.3333333333333333,\"#9c179e\"],[0.4444444444444444,\"#bd3786\"],[0.5555555555555556,\"#d8576b\"],[0.6666666666666666,\"#ed7953\"],[0.7777777777777778,\"#fb9f3a\"],[0.8888888888888888,\"#fdca26\"],[1.0,\"#f0f921\"]],\"type\":\"histogram2dcontour\"}],\"histogram2d\":[{\"colorbar\":{\"outlinewidth\":0,\"ticks\":\"\"},\"colorscale\":[[0.0,\"#0d0887\"],[0.1111111111111111,\"#46039f\"],[0.2222222222222222,\"#7201a8\"],[0.3333333333333333,\"#9c179e\"],[0.4444444444444444,\"#bd3786\"],[0.5555555555555556,\"#d8576b\"],[0.6666666666666666,\"#ed7953\"],[0.7777777777777778,\"#fb9f3a\"],[0.8888888888888888,\"#fdca26\"],[1.0,\"#f0f921\"]],\"type\":\"histogram2d\"}],\"histogram\":[{\"marker\":{\"pattern\":{\"fillmode\":\"overlay\",\"size\":10,\"solidity\":0.2}},\"type\":\"histogram\"}],\"mesh3d\":[{\"colorbar\":{\"outlinewidth\":0,\"ticks\":\"\"},\"type\":\"mesh3d\"}],\"parcoords\":[{\"line\":{\"colorbar\":{\"outlinewidth\":0,\"ticks\":\"\"}},\"type\":\"parcoords\"}],\"pie\":[{\"automargin\":true,\"type\":\"pie\"}],\"scatter3d\":[{\"line\":{\"colorbar\":{\"outlinewidth\":0,\"ticks\":\"\"}},\"marker\":{\"colorbar\":{\"outlinewidth\":0,\"ticks\":\"\"}},\"type\":\"scatter3d\"}],\"scattercarpet\":[{\"marker\":{\"colorbar\":{\"outlinewidth\":0,\"ticks\":\"\"}},\"type\":\"scattercarpet\"}],\"scattergeo\":[{\"marker\":{\"colorbar\":{\"outlinewidth\":0,\"ticks\":\"\"}},\"type\":\"scattergeo\"}],\"scattergl\":[{\"marker\":{\"colorbar\":{\"outlinewidth\":0,\"ticks\":\"\"}},\"type\":\"scattergl\"}],\"scattermapbox\":[{\"marker\":{\"colorbar\":{\"outlinewidth\":0,\"ticks\":\"\"}},\"type\":\"scattermapbox\"}],\"scatterpolargl\":[{\"marker\":{\"colorbar\":{\"outlinewidth\":0,\"ticks\":\"\"}},\"type\":\"scatterpolargl\"}],\"scatterpolar\":[{\"marker\":{\"colorbar\":{\"outlinewidth\":0,\"ticks\":\"\"}},\"type\":\"scatterpolar\"}],\"scatter\":[{\"marker\":{\"colorbar\":{\"outlinewidth\":0,\"ticks\":\"\"}},\"type\":\"scatter\"}],\"scatterternary\":[{\"marker\":{\"colorbar\":{\"outlinewidth\":0,\"ticks\":\"\"}},\"type\":\"scatterternary\"}],\"surface\":[{\"colorbar\":{\"outlinewidth\":0,\"ticks\":\"\"},\"colorscale\":[[0.0,\"#0d0887\"],[0.1111111111111111,\"#46039f\"],[0.2222222222222222,\"#7201a8\"],[0.3333333333333333,\"#9c179e\"],[0.4444444444444444,\"#bd3786\"],[0.5555555555555556,\"#d8576b\"],[0.6666666666666666,\"#ed7953\"],[0.7777777777777778,\"#fb9f3a\"],[0.8888888888888888,\"#fdca26\"],[1.0,\"#f0f921\"]],\"type\":\"surface\"}],\"table\":[{\"cells\":{\"fill\":{\"color\":\"#EBF0F8\"},\"line\":{\"color\":\"white\"}},\"header\":{\"fill\":{\"color\":\"#C8D4E3\"},\"line\":{\"color\":\"white\"}},\"type\":\"table\"}]},\"layout\":{\"annotationdefaults\":{\"arrowcolor\":\"#2a3f5f\",\"arrowhead\":0,\"arrowwidth\":1},\"autotypenumbers\":\"strict\",\"coloraxis\":{\"colorbar\":{\"outlinewidth\":0,\"ticks\":\"\"}},\"colorscale\":{\"diverging\":[[0,\"#8e0152\"],[0.1,\"#c51b7d\"],[0.2,\"#de77ae\"],[0.3,\"#f1b6da\"],[0.4,\"#fde0ef\"],[0.5,\"#f7f7f7\"],[0.6,\"#e6f5d0\"],[0.7,\"#b8e186\"],[0.8,\"#7fbc41\"],[0.9,\"#4d9221\"],[1,\"#276419\"]],\"sequential\":[[0.0,\"#0d0887\"],[0.1111111111111111,\"#46039f\"],[0.2222222222222222,\"#7201a8\"],[0.3333333333333333,\"#9c179e\"],[0.4444444444444444,\"#bd3786\"],[0.5555555555555556,\"#d8576b\"],[0.6666666666666666,\"#ed7953\"],[0.7777777777777778,\"#fb9f3a\"],[0.8888888888888888,\"#fdca26\"],[1.0,\"#f0f921\"]],\"sequentialminus\":[[0.0,\"#0d0887\"],[0.1111111111111111,\"#46039f\"],[0.2222222222222222,\"#7201a8\"],[0.3333333333333333,\"#9c179e\"],[0.4444444444444444,\"#bd3786\"],[0.5555555555555556,\"#d8576b\"],[0.6666666666666666,\"#ed7953\"],[0.7777777777777778,\"#fb9f3a\"],[0.8888888888888888,\"#fdca26\"],[1.0,\"#f0f921\"]]},\"colorway\":[\"#636efa\",\"#EF553B\",\"#00cc96\",\"#ab63fa\",\"#FFA15A\",\"#19d3f3\",\"#FF6692\",\"#B6E880\",\"#FF97FF\",\"#FECB52\"],\"font\":{\"color\":\"#2a3f5f\"},\"geo\":{\"bgcolor\":\"white\",\"lakecolor\":\"white\",\"landcolor\":\"#E5ECF6\",\"showlakes\":true,\"showland\":true,\"subunitcolor\":\"white\"},\"hoverlabel\":{\"align\":\"left\"},\"hovermode\":\"closest\",\"mapbox\":{\"style\":\"light\"},\"paper_bgcolor\":\"white\",\"plot_bgcolor\":\"#E5ECF6\",\"polar\":{\"angularaxis\":{\"gridcolor\":\"white\",\"linecolor\":\"white\",\"ticks\":\"\"},\"bgcolor\":\"#E5ECF6\",\"radialaxis\":{\"gridcolor\":\"white\",\"linecolor\":\"white\",\"ticks\":\"\"}},\"scene\":{\"xaxis\":{\"backgroundcolor\":\"#E5ECF6\",\"gridcolor\":\"white\",\"gridwidth\":2,\"linecolor\":\"white\",\"showbackground\":true,\"ticks\":\"\",\"zerolinecolor\":\"white\"},\"yaxis\":{\"backgroundcolor\":\"#E5ECF6\",\"gridcolor\":\"white\",\"gridwidth\":2,\"linecolor\":\"white\",\"showbackground\":true,\"ticks\":\"\",\"zerolinecolor\":\"white\"},\"zaxis\":{\"backgroundcolor\":\"#E5ECF6\",\"gridcolor\":\"white\",\"gridwidth\":2,\"linecolor\":\"white\",\"showbackground\":true,\"ticks\":\"\",\"zerolinecolor\":\"white\"}},\"shapedefaults\":{\"line\":{\"color\":\"#2a3f5f\"}},\"ternary\":{\"aaxis\":{\"gridcolor\":\"white\",\"linecolor\":\"white\",\"ticks\":\"\"},\"baxis\":{\"gridcolor\":\"white\",\"linecolor\":\"white\",\"ticks\":\"\"},\"bgcolor\":\"#E5ECF6\",\"caxis\":{\"gridcolor\":\"white\",\"linecolor\":\"white\",\"ticks\":\"\"}},\"title\":{\"x\":0.05},\"xaxis\":{\"automargin\":true,\"gridcolor\":\"white\",\"linecolor\":\"white\",\"ticks\":\"\",\"title\":{\"standoff\":15},\"zerolinecolor\":\"white\",\"zerolinewidth\":2},\"yaxis\":{\"automargin\":true,\"gridcolor\":\"white\",\"linecolor\":\"white\",\"ticks\":\"\",\"title\":{\"standoff\":15},\"zerolinecolor\":\"white\",\"zerolinewidth\":2}}},\"title\":{\"font\":{\"color\":\"#4D5663\"}},\"xaxis\":{\"gridcolor\":\"#E1E5ED\",\"showgrid\":true,\"tickfont\":{\"color\":\"#4D5663\"},\"title\":{\"font\":{\"color\":\"#4D5663\"},\"text\":\"\"},\"zerolinecolor\":\"#E1E5ED\"},\"yaxis\":{\"gridcolor\":\"#E1E5ED\",\"showgrid\":true,\"tickfont\":{\"color\":\"#4D5663\"},\"title\":{\"font\":{\"color\":\"#4D5663\"},\"text\":\"\"},\"zerolinecolor\":\"#E1E5ED\"}},                        {\"showLink\": true, \"linkText\": \"Export to plot.ly\", \"plotlyServerURL\": \"https://plot.ly\", \"responsive\": true}                    ).then(function(){\n",
       "                            \n",
       "var gd = document.getElementById('eb4eac89-052a-40b8-beae-db5a9ca48406');\n",
       "var x = new MutationObserver(function (mutations, observer) {{\n",
       "        var display = window.getComputedStyle(gd).display;\n",
       "        if (!display || display === 'none') {{\n",
       "            console.log([gd, 'removed!']);\n",
       "            Plotly.purge(gd);\n",
       "            observer.disconnect();\n",
       "        }}\n",
       "}});\n",
       "\n",
       "// Listen for the removal of the full notebook cells\n",
       "var notebookContainer = gd.closest('#notebook-container');\n",
       "if (notebookContainer) {{\n",
       "    x.observe(notebookContainer, {childList: true});\n",
       "}}\n",
       "\n",
       "// Listen for the clearing of the current output cell\n",
       "var outputEl = gd.closest('.output');\n",
       "if (outputEl) {{\n",
       "    x.observe(outputEl, {childList: true});\n",
       "}}\n",
       "\n",
       "                        })                };                });            </script>        </div>"
      ]
     },
     "metadata": {},
     "output_type": "display_data"
    }
   ],
   "source": [
    "#this isn't helpful...\n",
    "df.iplot(kind='bar')"
   ]
  },
  {
   "cell_type": "code",
   "execution_count": 28,
   "id": "fbac14cf",
   "metadata": {},
   "outputs": [],
   "source": [
    "#could use an agrogate function"
   ]
  },
  {
   "cell_type": "code",
   "execution_count": 29,
   "id": "f64a00c4",
   "metadata": {},
   "outputs": [
    {
     "data": {
      "application/vnd.plotly.v1+json": {
       "config": {
        "linkText": "Export to plot.ly",
        "plotlyServerURL": "https://plot.ly",
        "showLink": true
       },
       "data": [
        {
         "marker": {
          "color": "rgba(255, 153, 51, 0.6)",
          "line": {
           "color": "rgba(255, 153, 51, 1.0)",
           "width": 1
          }
         },
         "name": "None",
         "orientation": "v",
         "text": "",
         "type": "bar",
         "x": [
          "A",
          "B",
          "C",
          "D"
         ],
         "y": [
          1.0521935438988086,
          0.2305000598388094,
          -2.6343361284907436,
          13.245047441441692
         ]
        }
       ],
       "layout": {
        "legend": {
         "bgcolor": "#F5F6F9",
         "font": {
          "color": "#4D5663"
         }
        },
        "paper_bgcolor": "#F5F6F9",
        "plot_bgcolor": "#F5F6F9",
        "template": {
         "data": {
          "bar": [
           {
            "error_x": {
             "color": "#2a3f5f"
            },
            "error_y": {
             "color": "#2a3f5f"
            },
            "marker": {
             "line": {
              "color": "#E5ECF6",
              "width": 0.5
             },
             "pattern": {
              "fillmode": "overlay",
              "size": 10,
              "solidity": 0.2
             }
            },
            "type": "bar"
           }
          ],
          "barpolar": [
           {
            "marker": {
             "line": {
              "color": "#E5ECF6",
              "width": 0.5
             },
             "pattern": {
              "fillmode": "overlay",
              "size": 10,
              "solidity": 0.2
             }
            },
            "type": "barpolar"
           }
          ],
          "carpet": [
           {
            "aaxis": {
             "endlinecolor": "#2a3f5f",
             "gridcolor": "white",
             "linecolor": "white",
             "minorgridcolor": "white",
             "startlinecolor": "#2a3f5f"
            },
            "baxis": {
             "endlinecolor": "#2a3f5f",
             "gridcolor": "white",
             "linecolor": "white",
             "minorgridcolor": "white",
             "startlinecolor": "#2a3f5f"
            },
            "type": "carpet"
           }
          ],
          "choropleth": [
           {
            "colorbar": {
             "outlinewidth": 0,
             "ticks": ""
            },
            "type": "choropleth"
           }
          ],
          "contour": [
           {
            "colorbar": {
             "outlinewidth": 0,
             "ticks": ""
            },
            "colorscale": [
             [
              0,
              "#0d0887"
             ],
             [
              0.1111111111111111,
              "#46039f"
             ],
             [
              0.2222222222222222,
              "#7201a8"
             ],
             [
              0.3333333333333333,
              "#9c179e"
             ],
             [
              0.4444444444444444,
              "#bd3786"
             ],
             [
              0.5555555555555556,
              "#d8576b"
             ],
             [
              0.6666666666666666,
              "#ed7953"
             ],
             [
              0.7777777777777778,
              "#fb9f3a"
             ],
             [
              0.8888888888888888,
              "#fdca26"
             ],
             [
              1,
              "#f0f921"
             ]
            ],
            "type": "contour"
           }
          ],
          "contourcarpet": [
           {
            "colorbar": {
             "outlinewidth": 0,
             "ticks": ""
            },
            "type": "contourcarpet"
           }
          ],
          "heatmap": [
           {
            "colorbar": {
             "outlinewidth": 0,
             "ticks": ""
            },
            "colorscale": [
             [
              0,
              "#0d0887"
             ],
             [
              0.1111111111111111,
              "#46039f"
             ],
             [
              0.2222222222222222,
              "#7201a8"
             ],
             [
              0.3333333333333333,
              "#9c179e"
             ],
             [
              0.4444444444444444,
              "#bd3786"
             ],
             [
              0.5555555555555556,
              "#d8576b"
             ],
             [
              0.6666666666666666,
              "#ed7953"
             ],
             [
              0.7777777777777778,
              "#fb9f3a"
             ],
             [
              0.8888888888888888,
              "#fdca26"
             ],
             [
              1,
              "#f0f921"
             ]
            ],
            "type": "heatmap"
           }
          ],
          "heatmapgl": [
           {
            "colorbar": {
             "outlinewidth": 0,
             "ticks": ""
            },
            "colorscale": [
             [
              0,
              "#0d0887"
             ],
             [
              0.1111111111111111,
              "#46039f"
             ],
             [
              0.2222222222222222,
              "#7201a8"
             ],
             [
              0.3333333333333333,
              "#9c179e"
             ],
             [
              0.4444444444444444,
              "#bd3786"
             ],
             [
              0.5555555555555556,
              "#d8576b"
             ],
             [
              0.6666666666666666,
              "#ed7953"
             ],
             [
              0.7777777777777778,
              "#fb9f3a"
             ],
             [
              0.8888888888888888,
              "#fdca26"
             ],
             [
              1,
              "#f0f921"
             ]
            ],
            "type": "heatmapgl"
           }
          ],
          "histogram": [
           {
            "marker": {
             "pattern": {
              "fillmode": "overlay",
              "size": 10,
              "solidity": 0.2
             }
            },
            "type": "histogram"
           }
          ],
          "histogram2d": [
           {
            "colorbar": {
             "outlinewidth": 0,
             "ticks": ""
            },
            "colorscale": [
             [
              0,
              "#0d0887"
             ],
             [
              0.1111111111111111,
              "#46039f"
             ],
             [
              0.2222222222222222,
              "#7201a8"
             ],
             [
              0.3333333333333333,
              "#9c179e"
             ],
             [
              0.4444444444444444,
              "#bd3786"
             ],
             [
              0.5555555555555556,
              "#d8576b"
             ],
             [
              0.6666666666666666,
              "#ed7953"
             ],
             [
              0.7777777777777778,
              "#fb9f3a"
             ],
             [
              0.8888888888888888,
              "#fdca26"
             ],
             [
              1,
              "#f0f921"
             ]
            ],
            "type": "histogram2d"
           }
          ],
          "histogram2dcontour": [
           {
            "colorbar": {
             "outlinewidth": 0,
             "ticks": ""
            },
            "colorscale": [
             [
              0,
              "#0d0887"
             ],
             [
              0.1111111111111111,
              "#46039f"
             ],
             [
              0.2222222222222222,
              "#7201a8"
             ],
             [
              0.3333333333333333,
              "#9c179e"
             ],
             [
              0.4444444444444444,
              "#bd3786"
             ],
             [
              0.5555555555555556,
              "#d8576b"
             ],
             [
              0.6666666666666666,
              "#ed7953"
             ],
             [
              0.7777777777777778,
              "#fb9f3a"
             ],
             [
              0.8888888888888888,
              "#fdca26"
             ],
             [
              1,
              "#f0f921"
             ]
            ],
            "type": "histogram2dcontour"
           }
          ],
          "mesh3d": [
           {
            "colorbar": {
             "outlinewidth": 0,
             "ticks": ""
            },
            "type": "mesh3d"
           }
          ],
          "parcoords": [
           {
            "line": {
             "colorbar": {
              "outlinewidth": 0,
              "ticks": ""
             }
            },
            "type": "parcoords"
           }
          ],
          "pie": [
           {
            "automargin": true,
            "type": "pie"
           }
          ],
          "scatter": [
           {
            "marker": {
             "colorbar": {
              "outlinewidth": 0,
              "ticks": ""
             }
            },
            "type": "scatter"
           }
          ],
          "scatter3d": [
           {
            "line": {
             "colorbar": {
              "outlinewidth": 0,
              "ticks": ""
             }
            },
            "marker": {
             "colorbar": {
              "outlinewidth": 0,
              "ticks": ""
             }
            },
            "type": "scatter3d"
           }
          ],
          "scattercarpet": [
           {
            "marker": {
             "colorbar": {
              "outlinewidth": 0,
              "ticks": ""
             }
            },
            "type": "scattercarpet"
           }
          ],
          "scattergeo": [
           {
            "marker": {
             "colorbar": {
              "outlinewidth": 0,
              "ticks": ""
             }
            },
            "type": "scattergeo"
           }
          ],
          "scattergl": [
           {
            "marker": {
             "colorbar": {
              "outlinewidth": 0,
              "ticks": ""
             }
            },
            "type": "scattergl"
           }
          ],
          "scattermapbox": [
           {
            "marker": {
             "colorbar": {
              "outlinewidth": 0,
              "ticks": ""
             }
            },
            "type": "scattermapbox"
           }
          ],
          "scatterpolar": [
           {
            "marker": {
             "colorbar": {
              "outlinewidth": 0,
              "ticks": ""
             }
            },
            "type": "scatterpolar"
           }
          ],
          "scatterpolargl": [
           {
            "marker": {
             "colorbar": {
              "outlinewidth": 0,
              "ticks": ""
             }
            },
            "type": "scatterpolargl"
           }
          ],
          "scatterternary": [
           {
            "marker": {
             "colorbar": {
              "outlinewidth": 0,
              "ticks": ""
             }
            },
            "type": "scatterternary"
           }
          ],
          "surface": [
           {
            "colorbar": {
             "outlinewidth": 0,
             "ticks": ""
            },
            "colorscale": [
             [
              0,
              "#0d0887"
             ],
             [
              0.1111111111111111,
              "#46039f"
             ],
             [
              0.2222222222222222,
              "#7201a8"
             ],
             [
              0.3333333333333333,
              "#9c179e"
             ],
             [
              0.4444444444444444,
              "#bd3786"
             ],
             [
              0.5555555555555556,
              "#d8576b"
             ],
             [
              0.6666666666666666,
              "#ed7953"
             ],
             [
              0.7777777777777778,
              "#fb9f3a"
             ],
             [
              0.8888888888888888,
              "#fdca26"
             ],
             [
              1,
              "#f0f921"
             ]
            ],
            "type": "surface"
           }
          ],
          "table": [
           {
            "cells": {
             "fill": {
              "color": "#EBF0F8"
             },
             "line": {
              "color": "white"
             }
            },
            "header": {
             "fill": {
              "color": "#C8D4E3"
             },
             "line": {
              "color": "white"
             }
            },
            "type": "table"
           }
          ]
         },
         "layout": {
          "annotationdefaults": {
           "arrowcolor": "#2a3f5f",
           "arrowhead": 0,
           "arrowwidth": 1
          },
          "autotypenumbers": "strict",
          "coloraxis": {
           "colorbar": {
            "outlinewidth": 0,
            "ticks": ""
           }
          },
          "colorscale": {
           "diverging": [
            [
             0,
             "#8e0152"
            ],
            [
             0.1,
             "#c51b7d"
            ],
            [
             0.2,
             "#de77ae"
            ],
            [
             0.3,
             "#f1b6da"
            ],
            [
             0.4,
             "#fde0ef"
            ],
            [
             0.5,
             "#f7f7f7"
            ],
            [
             0.6,
             "#e6f5d0"
            ],
            [
             0.7,
             "#b8e186"
            ],
            [
             0.8,
             "#7fbc41"
            ],
            [
             0.9,
             "#4d9221"
            ],
            [
             1,
             "#276419"
            ]
           ],
           "sequential": [
            [
             0,
             "#0d0887"
            ],
            [
             0.1111111111111111,
             "#46039f"
            ],
            [
             0.2222222222222222,
             "#7201a8"
            ],
            [
             0.3333333333333333,
             "#9c179e"
            ],
            [
             0.4444444444444444,
             "#bd3786"
            ],
            [
             0.5555555555555556,
             "#d8576b"
            ],
            [
             0.6666666666666666,
             "#ed7953"
            ],
            [
             0.7777777777777778,
             "#fb9f3a"
            ],
            [
             0.8888888888888888,
             "#fdca26"
            ],
            [
             1,
             "#f0f921"
            ]
           ],
           "sequentialminus": [
            [
             0,
             "#0d0887"
            ],
            [
             0.1111111111111111,
             "#46039f"
            ],
            [
             0.2222222222222222,
             "#7201a8"
            ],
            [
             0.3333333333333333,
             "#9c179e"
            ],
            [
             0.4444444444444444,
             "#bd3786"
            ],
            [
             0.5555555555555556,
             "#d8576b"
            ],
            [
             0.6666666666666666,
             "#ed7953"
            ],
            [
             0.7777777777777778,
             "#fb9f3a"
            ],
            [
             0.8888888888888888,
             "#fdca26"
            ],
            [
             1,
             "#f0f921"
            ]
           ]
          },
          "colorway": [
           "#636efa",
           "#EF553B",
           "#00cc96",
           "#ab63fa",
           "#FFA15A",
           "#19d3f3",
           "#FF6692",
           "#B6E880",
           "#FF97FF",
           "#FECB52"
          ],
          "font": {
           "color": "#2a3f5f"
          },
          "geo": {
           "bgcolor": "white",
           "lakecolor": "white",
           "landcolor": "#E5ECF6",
           "showlakes": true,
           "showland": true,
           "subunitcolor": "white"
          },
          "hoverlabel": {
           "align": "left"
          },
          "hovermode": "closest",
          "mapbox": {
           "style": "light"
          },
          "paper_bgcolor": "white",
          "plot_bgcolor": "#E5ECF6",
          "polar": {
           "angularaxis": {
            "gridcolor": "white",
            "linecolor": "white",
            "ticks": ""
           },
           "bgcolor": "#E5ECF6",
           "radialaxis": {
            "gridcolor": "white",
            "linecolor": "white",
            "ticks": ""
           }
          },
          "scene": {
           "xaxis": {
            "backgroundcolor": "#E5ECF6",
            "gridcolor": "white",
            "gridwidth": 2,
            "linecolor": "white",
            "showbackground": true,
            "ticks": "",
            "zerolinecolor": "white"
           },
           "yaxis": {
            "backgroundcolor": "#E5ECF6",
            "gridcolor": "white",
            "gridwidth": 2,
            "linecolor": "white",
            "showbackground": true,
            "ticks": "",
            "zerolinecolor": "white"
           },
           "zaxis": {
            "backgroundcolor": "#E5ECF6",
            "gridcolor": "white",
            "gridwidth": 2,
            "linecolor": "white",
            "showbackground": true,
            "ticks": "",
            "zerolinecolor": "white"
           }
          },
          "shapedefaults": {
           "line": {
            "color": "#2a3f5f"
           }
          },
          "ternary": {
           "aaxis": {
            "gridcolor": "white",
            "linecolor": "white",
            "ticks": ""
           },
           "baxis": {
            "gridcolor": "white",
            "linecolor": "white",
            "ticks": ""
           },
           "bgcolor": "#E5ECF6",
           "caxis": {
            "gridcolor": "white",
            "linecolor": "white",
            "ticks": ""
           }
          },
          "title": {
           "x": 0.05
          },
          "xaxis": {
           "automargin": true,
           "gridcolor": "white",
           "linecolor": "white",
           "ticks": "",
           "title": {
            "standoff": 15
           },
           "zerolinecolor": "white",
           "zerolinewidth": 2
          },
          "yaxis": {
           "automargin": true,
           "gridcolor": "white",
           "linecolor": "white",
           "ticks": "",
           "title": {
            "standoff": 15
           },
           "zerolinecolor": "white",
           "zerolinewidth": 2
          }
         }
        },
        "title": {
         "font": {
          "color": "#4D5663"
         }
        },
        "xaxis": {
         "gridcolor": "#E1E5ED",
         "showgrid": true,
         "tickfont": {
          "color": "#4D5663"
         },
         "title": {
          "font": {
           "color": "#4D5663"
          },
          "text": ""
         },
         "zerolinecolor": "#E1E5ED"
        },
        "yaxis": {
         "gridcolor": "#E1E5ED",
         "showgrid": true,
         "tickfont": {
          "color": "#4D5663"
         },
         "title": {
          "font": {
           "color": "#4D5663"
          },
          "text": ""
         },
         "zerolinecolor": "#E1E5ED"
        }
       }
      },
      "text/html": [
       "<div>                            <div id=\"692dcfbb-fda2-497b-8806-65f9d49df510\" class=\"plotly-graph-div\" style=\"height:525px; width:100%;\"></div>            <script type=\"text/javascript\">                require([\"plotly\"], function(Plotly) {                    window.PLOTLYENV=window.PLOTLYENV || {};\n",
       "                    window.PLOTLYENV.BASE_URL='https://plot.ly';                                    if (document.getElementById(\"692dcfbb-fda2-497b-8806-65f9d49df510\")) {                    Plotly.newPlot(                        \"692dcfbb-fda2-497b-8806-65f9d49df510\",                        [{\"marker\":{\"color\":\"rgba(255, 153, 51, 0.6)\",\"line\":{\"color\":\"rgba(255, 153, 51, 1.0)\",\"width\":1}},\"name\":\"None\",\"orientation\":\"v\",\"text\":\"\",\"x\":[\"A\",\"B\",\"C\",\"D\"],\"y\":[1.0521935438988086,0.2305000598388094,-2.6343361284907436,13.245047441441692],\"type\":\"bar\"}],                        {\"legend\":{\"bgcolor\":\"#F5F6F9\",\"font\":{\"color\":\"#4D5663\"}},\"paper_bgcolor\":\"#F5F6F9\",\"plot_bgcolor\":\"#F5F6F9\",\"template\":{\"data\":{\"barpolar\":[{\"marker\":{\"line\":{\"color\":\"#E5ECF6\",\"width\":0.5},\"pattern\":{\"fillmode\":\"overlay\",\"size\":10,\"solidity\":0.2}},\"type\":\"barpolar\"}],\"bar\":[{\"error_x\":{\"color\":\"#2a3f5f\"},\"error_y\":{\"color\":\"#2a3f5f\"},\"marker\":{\"line\":{\"color\":\"#E5ECF6\",\"width\":0.5},\"pattern\":{\"fillmode\":\"overlay\",\"size\":10,\"solidity\":0.2}},\"type\":\"bar\"}],\"carpet\":[{\"aaxis\":{\"endlinecolor\":\"#2a3f5f\",\"gridcolor\":\"white\",\"linecolor\":\"white\",\"minorgridcolor\":\"white\",\"startlinecolor\":\"#2a3f5f\"},\"baxis\":{\"endlinecolor\":\"#2a3f5f\",\"gridcolor\":\"white\",\"linecolor\":\"white\",\"minorgridcolor\":\"white\",\"startlinecolor\":\"#2a3f5f\"},\"type\":\"carpet\"}],\"choropleth\":[{\"colorbar\":{\"outlinewidth\":0,\"ticks\":\"\"},\"type\":\"choropleth\"}],\"contourcarpet\":[{\"colorbar\":{\"outlinewidth\":0,\"ticks\":\"\"},\"type\":\"contourcarpet\"}],\"contour\":[{\"colorbar\":{\"outlinewidth\":0,\"ticks\":\"\"},\"colorscale\":[[0.0,\"#0d0887\"],[0.1111111111111111,\"#46039f\"],[0.2222222222222222,\"#7201a8\"],[0.3333333333333333,\"#9c179e\"],[0.4444444444444444,\"#bd3786\"],[0.5555555555555556,\"#d8576b\"],[0.6666666666666666,\"#ed7953\"],[0.7777777777777778,\"#fb9f3a\"],[0.8888888888888888,\"#fdca26\"],[1.0,\"#f0f921\"]],\"type\":\"contour\"}],\"heatmapgl\":[{\"colorbar\":{\"outlinewidth\":0,\"ticks\":\"\"},\"colorscale\":[[0.0,\"#0d0887\"],[0.1111111111111111,\"#46039f\"],[0.2222222222222222,\"#7201a8\"],[0.3333333333333333,\"#9c179e\"],[0.4444444444444444,\"#bd3786\"],[0.5555555555555556,\"#d8576b\"],[0.6666666666666666,\"#ed7953\"],[0.7777777777777778,\"#fb9f3a\"],[0.8888888888888888,\"#fdca26\"],[1.0,\"#f0f921\"]],\"type\":\"heatmapgl\"}],\"heatmap\":[{\"colorbar\":{\"outlinewidth\":0,\"ticks\":\"\"},\"colorscale\":[[0.0,\"#0d0887\"],[0.1111111111111111,\"#46039f\"],[0.2222222222222222,\"#7201a8\"],[0.3333333333333333,\"#9c179e\"],[0.4444444444444444,\"#bd3786\"],[0.5555555555555556,\"#d8576b\"],[0.6666666666666666,\"#ed7953\"],[0.7777777777777778,\"#fb9f3a\"],[0.8888888888888888,\"#fdca26\"],[1.0,\"#f0f921\"]],\"type\":\"heatmap\"}],\"histogram2dcontour\":[{\"colorbar\":{\"outlinewidth\":0,\"ticks\":\"\"},\"colorscale\":[[0.0,\"#0d0887\"],[0.1111111111111111,\"#46039f\"],[0.2222222222222222,\"#7201a8\"],[0.3333333333333333,\"#9c179e\"],[0.4444444444444444,\"#bd3786\"],[0.5555555555555556,\"#d8576b\"],[0.6666666666666666,\"#ed7953\"],[0.7777777777777778,\"#fb9f3a\"],[0.8888888888888888,\"#fdca26\"],[1.0,\"#f0f921\"]],\"type\":\"histogram2dcontour\"}],\"histogram2d\":[{\"colorbar\":{\"outlinewidth\":0,\"ticks\":\"\"},\"colorscale\":[[0.0,\"#0d0887\"],[0.1111111111111111,\"#46039f\"],[0.2222222222222222,\"#7201a8\"],[0.3333333333333333,\"#9c179e\"],[0.4444444444444444,\"#bd3786\"],[0.5555555555555556,\"#d8576b\"],[0.6666666666666666,\"#ed7953\"],[0.7777777777777778,\"#fb9f3a\"],[0.8888888888888888,\"#fdca26\"],[1.0,\"#f0f921\"]],\"type\":\"histogram2d\"}],\"histogram\":[{\"marker\":{\"pattern\":{\"fillmode\":\"overlay\",\"size\":10,\"solidity\":0.2}},\"type\":\"histogram\"}],\"mesh3d\":[{\"colorbar\":{\"outlinewidth\":0,\"ticks\":\"\"},\"type\":\"mesh3d\"}],\"parcoords\":[{\"line\":{\"colorbar\":{\"outlinewidth\":0,\"ticks\":\"\"}},\"type\":\"parcoords\"}],\"pie\":[{\"automargin\":true,\"type\":\"pie\"}],\"scatter3d\":[{\"line\":{\"colorbar\":{\"outlinewidth\":0,\"ticks\":\"\"}},\"marker\":{\"colorbar\":{\"outlinewidth\":0,\"ticks\":\"\"}},\"type\":\"scatter3d\"}],\"scattercarpet\":[{\"marker\":{\"colorbar\":{\"outlinewidth\":0,\"ticks\":\"\"}},\"type\":\"scattercarpet\"}],\"scattergeo\":[{\"marker\":{\"colorbar\":{\"outlinewidth\":0,\"ticks\":\"\"}},\"type\":\"scattergeo\"}],\"scattergl\":[{\"marker\":{\"colorbar\":{\"outlinewidth\":0,\"ticks\":\"\"}},\"type\":\"scattergl\"}],\"scattermapbox\":[{\"marker\":{\"colorbar\":{\"outlinewidth\":0,\"ticks\":\"\"}},\"type\":\"scattermapbox\"}],\"scatterpolargl\":[{\"marker\":{\"colorbar\":{\"outlinewidth\":0,\"ticks\":\"\"}},\"type\":\"scatterpolargl\"}],\"scatterpolar\":[{\"marker\":{\"colorbar\":{\"outlinewidth\":0,\"ticks\":\"\"}},\"type\":\"scatterpolar\"}],\"scatter\":[{\"marker\":{\"colorbar\":{\"outlinewidth\":0,\"ticks\":\"\"}},\"type\":\"scatter\"}],\"scatterternary\":[{\"marker\":{\"colorbar\":{\"outlinewidth\":0,\"ticks\":\"\"}},\"type\":\"scatterternary\"}],\"surface\":[{\"colorbar\":{\"outlinewidth\":0,\"ticks\":\"\"},\"colorscale\":[[0.0,\"#0d0887\"],[0.1111111111111111,\"#46039f\"],[0.2222222222222222,\"#7201a8\"],[0.3333333333333333,\"#9c179e\"],[0.4444444444444444,\"#bd3786\"],[0.5555555555555556,\"#d8576b\"],[0.6666666666666666,\"#ed7953\"],[0.7777777777777778,\"#fb9f3a\"],[0.8888888888888888,\"#fdca26\"],[1.0,\"#f0f921\"]],\"type\":\"surface\"}],\"table\":[{\"cells\":{\"fill\":{\"color\":\"#EBF0F8\"},\"line\":{\"color\":\"white\"}},\"header\":{\"fill\":{\"color\":\"#C8D4E3\"},\"line\":{\"color\":\"white\"}},\"type\":\"table\"}]},\"layout\":{\"annotationdefaults\":{\"arrowcolor\":\"#2a3f5f\",\"arrowhead\":0,\"arrowwidth\":1},\"autotypenumbers\":\"strict\",\"coloraxis\":{\"colorbar\":{\"outlinewidth\":0,\"ticks\":\"\"}},\"colorscale\":{\"diverging\":[[0,\"#8e0152\"],[0.1,\"#c51b7d\"],[0.2,\"#de77ae\"],[0.3,\"#f1b6da\"],[0.4,\"#fde0ef\"],[0.5,\"#f7f7f7\"],[0.6,\"#e6f5d0\"],[0.7,\"#b8e186\"],[0.8,\"#7fbc41\"],[0.9,\"#4d9221\"],[1,\"#276419\"]],\"sequential\":[[0.0,\"#0d0887\"],[0.1111111111111111,\"#46039f\"],[0.2222222222222222,\"#7201a8\"],[0.3333333333333333,\"#9c179e\"],[0.4444444444444444,\"#bd3786\"],[0.5555555555555556,\"#d8576b\"],[0.6666666666666666,\"#ed7953\"],[0.7777777777777778,\"#fb9f3a\"],[0.8888888888888888,\"#fdca26\"],[1.0,\"#f0f921\"]],\"sequentialminus\":[[0.0,\"#0d0887\"],[0.1111111111111111,\"#46039f\"],[0.2222222222222222,\"#7201a8\"],[0.3333333333333333,\"#9c179e\"],[0.4444444444444444,\"#bd3786\"],[0.5555555555555556,\"#d8576b\"],[0.6666666666666666,\"#ed7953\"],[0.7777777777777778,\"#fb9f3a\"],[0.8888888888888888,\"#fdca26\"],[1.0,\"#f0f921\"]]},\"colorway\":[\"#636efa\",\"#EF553B\",\"#00cc96\",\"#ab63fa\",\"#FFA15A\",\"#19d3f3\",\"#FF6692\",\"#B6E880\",\"#FF97FF\",\"#FECB52\"],\"font\":{\"color\":\"#2a3f5f\"},\"geo\":{\"bgcolor\":\"white\",\"lakecolor\":\"white\",\"landcolor\":\"#E5ECF6\",\"showlakes\":true,\"showland\":true,\"subunitcolor\":\"white\"},\"hoverlabel\":{\"align\":\"left\"},\"hovermode\":\"closest\",\"mapbox\":{\"style\":\"light\"},\"paper_bgcolor\":\"white\",\"plot_bgcolor\":\"#E5ECF6\",\"polar\":{\"angularaxis\":{\"gridcolor\":\"white\",\"linecolor\":\"white\",\"ticks\":\"\"},\"bgcolor\":\"#E5ECF6\",\"radialaxis\":{\"gridcolor\":\"white\",\"linecolor\":\"white\",\"ticks\":\"\"}},\"scene\":{\"xaxis\":{\"backgroundcolor\":\"#E5ECF6\",\"gridcolor\":\"white\",\"gridwidth\":2,\"linecolor\":\"white\",\"showbackground\":true,\"ticks\":\"\",\"zerolinecolor\":\"white\"},\"yaxis\":{\"backgroundcolor\":\"#E5ECF6\",\"gridcolor\":\"white\",\"gridwidth\":2,\"linecolor\":\"white\",\"showbackground\":true,\"ticks\":\"\",\"zerolinecolor\":\"white\"},\"zaxis\":{\"backgroundcolor\":\"#E5ECF6\",\"gridcolor\":\"white\",\"gridwidth\":2,\"linecolor\":\"white\",\"showbackground\":true,\"ticks\":\"\",\"zerolinecolor\":\"white\"}},\"shapedefaults\":{\"line\":{\"color\":\"#2a3f5f\"}},\"ternary\":{\"aaxis\":{\"gridcolor\":\"white\",\"linecolor\":\"white\",\"ticks\":\"\"},\"baxis\":{\"gridcolor\":\"white\",\"linecolor\":\"white\",\"ticks\":\"\"},\"bgcolor\":\"#E5ECF6\",\"caxis\":{\"gridcolor\":\"white\",\"linecolor\":\"white\",\"ticks\":\"\"}},\"title\":{\"x\":0.05},\"xaxis\":{\"automargin\":true,\"gridcolor\":\"white\",\"linecolor\":\"white\",\"ticks\":\"\",\"title\":{\"standoff\":15},\"zerolinecolor\":\"white\",\"zerolinewidth\":2},\"yaxis\":{\"automargin\":true,\"gridcolor\":\"white\",\"linecolor\":\"white\",\"ticks\":\"\",\"title\":{\"standoff\":15},\"zerolinecolor\":\"white\",\"zerolinewidth\":2}}},\"title\":{\"font\":{\"color\":\"#4D5663\"}},\"xaxis\":{\"gridcolor\":\"#E1E5ED\",\"showgrid\":true,\"tickfont\":{\"color\":\"#4D5663\"},\"title\":{\"font\":{\"color\":\"#4D5663\"},\"text\":\"\"},\"zerolinecolor\":\"#E1E5ED\"},\"yaxis\":{\"gridcolor\":\"#E1E5ED\",\"showgrid\":true,\"tickfont\":{\"color\":\"#4D5663\"},\"title\":{\"font\":{\"color\":\"#4D5663\"},\"text\":\"\"},\"zerolinecolor\":\"#E1E5ED\"}},                        {\"showLink\": true, \"linkText\": \"Export to plot.ly\", \"plotlyServerURL\": \"https://plot.ly\", \"responsive\": true}                    ).then(function(){\n",
       "                            \n",
       "var gd = document.getElementById('692dcfbb-fda2-497b-8806-65f9d49df510');\n",
       "var x = new MutationObserver(function (mutations, observer) {{\n",
       "        var display = window.getComputedStyle(gd).display;\n",
       "        if (!display || display === 'none') {{\n",
       "            console.log([gd, 'removed!']);\n",
       "            Plotly.purge(gd);\n",
       "            observer.disconnect();\n",
       "        }}\n",
       "}});\n",
       "\n",
       "// Listen for the removal of the full notebook cells\n",
       "var notebookContainer = gd.closest('#notebook-container');\n",
       "if (notebookContainer) {{\n",
       "    x.observe(notebookContainer, {childList: true});\n",
       "}}\n",
       "\n",
       "// Listen for the clearing of the current output cell\n",
       "var outputEl = gd.closest('.output');\n",
       "if (outputEl) {{\n",
       "    x.observe(outputEl, {childList: true});\n",
       "}}\n",
       "\n",
       "                        })                };                });            </script>        </div>"
      ]
     },
     "metadata": {},
     "output_type": "display_data"
    }
   ],
   "source": [
    "df.sum().iplot(kind='bar')"
   ]
  },
  {
   "cell_type": "markdown",
   "id": "4aa6dd29",
   "metadata": {},
   "source": [
    "### box plot"
   ]
  },
  {
   "cell_type": "code",
   "execution_count": 30,
   "id": "29fc8ec7",
   "metadata": {},
   "outputs": [
    {
     "data": {
      "application/vnd.plotly.v1+json": {
       "config": {
        "linkText": "Export to plot.ly",
        "plotlyServerURL": "https://plot.ly",
        "showLink": true
       },
       "data": [
        {
         "boxpoints": false,
         "line": {
          "width": 1.3
         },
         "marker": {
          "color": "rgba(255, 153, 51, 1.0)"
         },
         "name": "A",
         "orientation": "v",
         "type": "box",
         "y": [
          1.0837802026903676,
          -0.8307318652353206,
          0.9704645666752914,
          -0.13150801540525994,
          -1.431676307991406,
          0.5854248107675313,
          -0.5660964311261989,
          0.9884149998948273,
          -0.03866022001943958,
          0.3926136648987823,
          0.2366436323713876,
          1.5890962443122887,
          0.8157022340882426,
          0.3514861566194287,
          1.0277388736464257,
          0.2699518657534483,
          1.3965374784548972,
          -1.5384078610201786,
          -0.5850193141441375,
          0.04250994717911727,
          0.22334130053789886,
          -0.3843704559030353,
          -0.9135758999676846,
          1.1988523922550378,
          0.8756193834778848,
          -0.3245036125233253,
          -0.8643199642609466,
          -2.711830222084337,
          -1.6213541043042066,
          -1.1440160134243584,
          1.1956049013334702,
          -0.5163570085007548,
          0.3383295777705534,
          -0.32691112866765776,
          0.1380319492889386,
          -0.10120910311364711,
          1.2224935125494165,
          -0.7848201785562855,
          1.3251452237809054,
          -1.0422539931177521,
          -0.6220907671447959,
          0.7605865882300532,
          0.7097525174852362,
          0.9560880229550969,
          -0.10339811047162585,
          -0.14644500749449224,
          0.5368987942350666,
          -0.03267673468010394,
          -0.3285015605627665,
          -2.1637667787824704,
          -0.19750325171496624,
          -0.8705110153772423,
          0.3275838600290092,
          -1.4429386352380633,
          -0.5227190645611784,
          -0.6040484120224673,
          -0.5426828792455438,
          -0.24734238804509784,
          -0.1710048045514127,
          0.6357392606928337,
          0.22223721737535435,
          0.8539923672277793,
          1.6418874845855114,
          -1.6051526223909196,
          0.22309065021823282,
          -0.7595689515903035,
          -2.1996485445702563,
          1.5956732573254695,
          1.5477270913516719,
          0.567390246133774,
          0.4046686778858881,
          0.4683976376712205,
          -1.2977402564021023,
          -0.29053464566907533,
          -0.6681614022952193,
          0.5398107798206214,
          1.4892780015980334,
          0.8907307805670841,
          0.01356355123975639,
          0.779825227084279,
          1.480629213237171,
          -1.303499194553016,
          0.5640734614757685,
          0.888697983915617,
          -1.5602326741188632,
          0.3276654891441126,
          1.1056006487110808,
          0.11020457528062488,
          -1.3030233635699597,
          0.3924672139339836,
          0.5960789969061742,
          -1.1234727276191592,
          -1.7650675896330457,
          0.5986533532972574,
          1.0617932058870356,
          1.3479162812727086,
          -0.8368602512006359,
          -0.009797134647624255,
          0.5983037055534213,
          -0.8765850492559197
         ]
        },
        {
         "boxpoints": false,
         "line": {
          "width": 1.3
         },
         "marker": {
          "color": "rgba(55, 128, 191, 1.0)"
         },
         "name": "B",
         "orientation": "v",
         "type": "box",
         "y": [
          -0.522890892695273,
          -0.5133950769305579,
          0.6806690722910964,
          1.031910376765052,
          0.5134242259294345,
          -1.1384405134344129,
          -1.967304273414849,
          2.7754662161448187,
          -0.12968506824520482,
          -0.5751330143483373,
          -1.7124510912923032,
          -0.7401896441257169,
          1.3640598393807122,
          -0.7392250669937778,
          -0.4596265565310788,
          0.8632338591254589,
          -0.9269877232227746,
          0.8005776928976868,
          -0.5303651277260929,
          -1.5478366663352567,
          -0.9021928385540456,
          0.07263937780983032,
          0.4964765917045821,
          -0.019362179759583174,
          0.3549150890000641,
          -0.254386036949427,
          1.287006580786897,
          0.7655221718834024,
          0.7588074233964105,
          2.119276748874291,
          -0.5972958247816397,
          -1.2021289261239687,
          -0.20378199373107492,
          0.8537557984722517,
          0.03905136978287543,
          -1.3572525759712204,
          0.7729758897701869,
          0.15709732946492647,
          -0.43953427255576755,
          0.02080414947036807,
          -0.0686204830480142,
          -1.7658436876434458,
          -0.07210159595201733,
          0.27634956368375163,
          1.0937799112009745,
          0.4294114559969322,
          -1.5755166280139263,
          -0.030870482297119722,
          -0.2023705876469707,
          0.5292765847905173,
          0.39943539003596257,
          -0.7724123878930874,
          0.6890986316171753,
          0.9122861623485468,
          0.1162402187877747,
          0.41573491106998256,
          -1.0554506054777522,
          0.3273723004744497,
          1.2826088924503345,
          0.002600066872883493,
          -1.344462684212799,
          -0.4646665558487505,
          0.6608569002638156,
          -1.172944904026479,
          -1.5333839108105396,
          0.5800873164304087,
          -0.0944402612694691,
          0.9177407000112922,
          -1.362401198969006,
          -0.26278842045129025,
          0.5670096180264699,
          -1.3766867887778862,
          1.0606927619478912,
          1.7738407682557193,
          -1.345147684233415,
          1.2258717217599049,
          -0.6434508497398888,
          -0.08574432115483341,
          -0.30728343458243823,
          -0.26446934774105685,
          -0.946849712608022,
          -1.153366821199802,
          -0.13739292710680448,
          0.3299629055380062,
          0.428734968248196,
          1.4750103690781826,
          0.9924535177609993,
          -0.5239161127928873,
          -0.7283124703069083,
          -0.10204894475527922,
          1.1466273781594924,
          0.0888460083240002,
          -0.0166821185648255,
          0.18261626841187298,
          -0.3679919585457832,
          1.2256960945250548,
          0.40221413256018895,
          0.515223149459377,
          1.3306440965310917,
          -0.618409258339924
         ]
        },
        {
         "boxpoints": false,
         "line": {
          "width": 1.3
         },
         "marker": {
          "color": "rgba(50, 171, 96, 1.0)"
         },
         "name": "C",
         "orientation": "v",
         "type": "box",
         "y": [
          0.5061735650054343,
          -0.45374351970619403,
          -1.3452417433111727,
          -0.7906907432933548,
          0.5168613662055268,
          -0.4741995457952149,
          -0.4694021472502292,
          -1.0065724184279325,
          0.08312318574305148,
          0.2962008274450619,
          -0.7652039217045815,
          0.7388926859827525,
          -0.9745728957736693,
          -2.4966091073318424,
          -0.7916851107025121,
          0.8795399529894699,
          -1.1612265935014694,
          1.5668786119989917,
          1.1040731833869804,
          1.0707093127560956,
          0.04029924094817754,
          -1.4025655681894444,
          1.1083759673468043,
          -0.26951084815162907,
          0.6821491317910371,
          -0.3290024007045008,
          1.801817498836998,
          0.09532447935235822,
          0.5756724929951034,
          1.2250363316590556,
          0.5404691198101195,
          1.405107902503578,
          -0.46317087243262545,
          -0.06896767035212416,
          -0.8379096836859891,
          0.8559684259161792,
          0.7777864657707051,
          0.9242137263015999,
          -0.2896985032173854,
          0.04891742223527568,
          -1.2404205571776148,
          -0.1051185708499763,
          -0.8830174503203669,
          0.22096219141352746,
          0.8821591483730389,
          -0.23674634676994427,
          2.5158583605059843,
          -1.6231979754694397,
          -0.20367723899620602,
          -0.7347607399291173,
          -0.168438399902665,
          -0.943047835388374,
          0.1277488505392079,
          -0.4597241063254028,
          0.7571446506449164,
          0.2679007718721096,
          0.07464719122470621,
          1.3878605790736451,
          0.46617492851758113,
          0.8686807258221567,
          1.2416824576348655,
          -1.5071105865323295,
          1.2553368074664373,
          -0.027321171048688378,
          -1.1622915769561002,
          0.17761266565039144,
          -1.8055440471148432,
          0.1440987967848737,
          0.14970580108926282,
          0.7842807872764457,
          0.3755126386941075,
          -0.453537726159817,
          -1.2272616199332682,
          -0.6026080665367011,
          -0.07245424810641667,
          0.38435297238922855,
          -0.7927447793959029,
          0.8219029649758968,
          0.25577990702355674,
          -0.39326546750649277,
          -0.06789084835124859,
          -1.340905483933111,
          -1.5117427959932335,
          0.16040901680405362,
          -0.5247056642455927,
          -1.6852089693321068,
          0.9003114764531234,
          1.3720171677133417,
          0.6747827785756805,
          0.27954802705531684,
          -0.47056378249546665,
          -2.3813183979413095,
          -0.9269712255431471,
          0.10436926248829959,
          0.05360017960672199,
          1.1334181219773138,
          0.4490940132605856,
          -2.3074539127722318,
          1.0924529184352614,
          1.3916896997462473
         ]
        },
        {
         "boxpoints": false,
         "line": {
          "width": 1.3
         },
         "marker": {
          "color": "rgba(128, 0, 128, 1.0)"
         },
         "name": "D",
         "orientation": "v",
         "type": "box",
         "y": [
          -1.0675771230985205,
          -0.6264316253365796,
          0.747126545149039,
          -1.5463867828324207,
          0.25938015269389925,
          -0.5389198104008657,
          -0.5728103842865038,
          0.04232544843890766,
          0.6051018423665102,
          1.5719879536382655,
          2.1824615406208365,
          -1.25222283856212,
          -0.3089715792020181,
          -0.9345231376762781,
          1.0309931125440828,
          -0.8427677439209136,
          1.1977651673873526,
          0.9643854392140603,
          0.2967407338548481,
          0.11503189012991172,
          0.8732057487653814,
          -0.19830601613374937,
          0.40756545557832274,
          -0.0022754125899660353,
          0.7211153825417478,
          -0.07342677113470895,
          0.9979282708349597,
          0.9597658767905103,
          0.6255359378491521,
          -0.45621573285751493,
          0.8150247581386546,
          -1.1072203072967557,
          -1.1000977049464933,
          1.6803282734071265,
          -0.9318001814065225,
          -1.9075202717308457,
          0.513400387638943,
          -0.9386923104093527,
          2.450064768931152,
          -1.432923362063971,
          0.6619256366627118,
          -0.31934761067773776,
          -1.8377084151369856,
          0.9344121070744521,
          0.21650089150415538,
          0.39973594945452634,
          0.9143285496448482,
          0.885617368351388,
          -1.0805304951112176,
          -1.5173287886073383,
          0.10401551897097906,
          0.451738909451791,
          0.8109448163385391,
          1.2734919720754343,
          -0.5587983288972399,
          1.9646001859380617,
          -0.037742341521644546,
          -0.38713967847411024,
          -0.7409576411389274,
          0.5736931426231485,
          -0.06893535611076942,
          -1.5818187828753911,
          0.4897288305796859,
          1.0132675005143266,
          1.100210446616976,
          -0.18704871424081185,
          0.8149179903873712,
          1.8509522380904984,
          -0.3048755128510082,
          0.15402916833245736,
          1.2033989062448742,
          -1.422386845150487,
          0.8659658670845835,
          1.383060561297713,
          -0.47414528871073014,
          -0.4444611891967911,
          -1.134515572377695,
          0.5210567607543705,
          0.711433108724833,
          -1.4595894453701157,
          1.866171666097092,
          0.30819746567042894,
          1.0831035343593591,
          -0.4917300092139015,
          0.8937049963266488,
          -0.779032604223167,
          1.3202255084238312,
          1.3058107289950605,
          1.1034214210645876,
          0.6616521623376257,
          -0.36773474713485177,
          -0.3698675153167032,
          -0.7317343089371522,
          -0.3916593838141954,
          -0.9691641760790766,
          -0.8651839848953563,
          0.8412831635767257,
          0.42139921244393047,
          -0.9338671399851458,
          0.3802094408496576
         ]
        }
       ],
       "layout": {
        "legend": {
         "bgcolor": "#F5F6F9",
         "font": {
          "color": "#4D5663"
         }
        },
        "paper_bgcolor": "#F5F6F9",
        "plot_bgcolor": "#F5F6F9",
        "template": {
         "data": {
          "bar": [
           {
            "error_x": {
             "color": "#2a3f5f"
            },
            "error_y": {
             "color": "#2a3f5f"
            },
            "marker": {
             "line": {
              "color": "#E5ECF6",
              "width": 0.5
             },
             "pattern": {
              "fillmode": "overlay",
              "size": 10,
              "solidity": 0.2
             }
            },
            "type": "bar"
           }
          ],
          "barpolar": [
           {
            "marker": {
             "line": {
              "color": "#E5ECF6",
              "width": 0.5
             },
             "pattern": {
              "fillmode": "overlay",
              "size": 10,
              "solidity": 0.2
             }
            },
            "type": "barpolar"
           }
          ],
          "carpet": [
           {
            "aaxis": {
             "endlinecolor": "#2a3f5f",
             "gridcolor": "white",
             "linecolor": "white",
             "minorgridcolor": "white",
             "startlinecolor": "#2a3f5f"
            },
            "baxis": {
             "endlinecolor": "#2a3f5f",
             "gridcolor": "white",
             "linecolor": "white",
             "minorgridcolor": "white",
             "startlinecolor": "#2a3f5f"
            },
            "type": "carpet"
           }
          ],
          "choropleth": [
           {
            "colorbar": {
             "outlinewidth": 0,
             "ticks": ""
            },
            "type": "choropleth"
           }
          ],
          "contour": [
           {
            "colorbar": {
             "outlinewidth": 0,
             "ticks": ""
            },
            "colorscale": [
             [
              0,
              "#0d0887"
             ],
             [
              0.1111111111111111,
              "#46039f"
             ],
             [
              0.2222222222222222,
              "#7201a8"
             ],
             [
              0.3333333333333333,
              "#9c179e"
             ],
             [
              0.4444444444444444,
              "#bd3786"
             ],
             [
              0.5555555555555556,
              "#d8576b"
             ],
             [
              0.6666666666666666,
              "#ed7953"
             ],
             [
              0.7777777777777778,
              "#fb9f3a"
             ],
             [
              0.8888888888888888,
              "#fdca26"
             ],
             [
              1,
              "#f0f921"
             ]
            ],
            "type": "contour"
           }
          ],
          "contourcarpet": [
           {
            "colorbar": {
             "outlinewidth": 0,
             "ticks": ""
            },
            "type": "contourcarpet"
           }
          ],
          "heatmap": [
           {
            "colorbar": {
             "outlinewidth": 0,
             "ticks": ""
            },
            "colorscale": [
             [
              0,
              "#0d0887"
             ],
             [
              0.1111111111111111,
              "#46039f"
             ],
             [
              0.2222222222222222,
              "#7201a8"
             ],
             [
              0.3333333333333333,
              "#9c179e"
             ],
             [
              0.4444444444444444,
              "#bd3786"
             ],
             [
              0.5555555555555556,
              "#d8576b"
             ],
             [
              0.6666666666666666,
              "#ed7953"
             ],
             [
              0.7777777777777778,
              "#fb9f3a"
             ],
             [
              0.8888888888888888,
              "#fdca26"
             ],
             [
              1,
              "#f0f921"
             ]
            ],
            "type": "heatmap"
           }
          ],
          "heatmapgl": [
           {
            "colorbar": {
             "outlinewidth": 0,
             "ticks": ""
            },
            "colorscale": [
             [
              0,
              "#0d0887"
             ],
             [
              0.1111111111111111,
              "#46039f"
             ],
             [
              0.2222222222222222,
              "#7201a8"
             ],
             [
              0.3333333333333333,
              "#9c179e"
             ],
             [
              0.4444444444444444,
              "#bd3786"
             ],
             [
              0.5555555555555556,
              "#d8576b"
             ],
             [
              0.6666666666666666,
              "#ed7953"
             ],
             [
              0.7777777777777778,
              "#fb9f3a"
             ],
             [
              0.8888888888888888,
              "#fdca26"
             ],
             [
              1,
              "#f0f921"
             ]
            ],
            "type": "heatmapgl"
           }
          ],
          "histogram": [
           {
            "marker": {
             "pattern": {
              "fillmode": "overlay",
              "size": 10,
              "solidity": 0.2
             }
            },
            "type": "histogram"
           }
          ],
          "histogram2d": [
           {
            "colorbar": {
             "outlinewidth": 0,
             "ticks": ""
            },
            "colorscale": [
             [
              0,
              "#0d0887"
             ],
             [
              0.1111111111111111,
              "#46039f"
             ],
             [
              0.2222222222222222,
              "#7201a8"
             ],
             [
              0.3333333333333333,
              "#9c179e"
             ],
             [
              0.4444444444444444,
              "#bd3786"
             ],
             [
              0.5555555555555556,
              "#d8576b"
             ],
             [
              0.6666666666666666,
              "#ed7953"
             ],
             [
              0.7777777777777778,
              "#fb9f3a"
             ],
             [
              0.8888888888888888,
              "#fdca26"
             ],
             [
              1,
              "#f0f921"
             ]
            ],
            "type": "histogram2d"
           }
          ],
          "histogram2dcontour": [
           {
            "colorbar": {
             "outlinewidth": 0,
             "ticks": ""
            },
            "colorscale": [
             [
              0,
              "#0d0887"
             ],
             [
              0.1111111111111111,
              "#46039f"
             ],
             [
              0.2222222222222222,
              "#7201a8"
             ],
             [
              0.3333333333333333,
              "#9c179e"
             ],
             [
              0.4444444444444444,
              "#bd3786"
             ],
             [
              0.5555555555555556,
              "#d8576b"
             ],
             [
              0.6666666666666666,
              "#ed7953"
             ],
             [
              0.7777777777777778,
              "#fb9f3a"
             ],
             [
              0.8888888888888888,
              "#fdca26"
             ],
             [
              1,
              "#f0f921"
             ]
            ],
            "type": "histogram2dcontour"
           }
          ],
          "mesh3d": [
           {
            "colorbar": {
             "outlinewidth": 0,
             "ticks": ""
            },
            "type": "mesh3d"
           }
          ],
          "parcoords": [
           {
            "line": {
             "colorbar": {
              "outlinewidth": 0,
              "ticks": ""
             }
            },
            "type": "parcoords"
           }
          ],
          "pie": [
           {
            "automargin": true,
            "type": "pie"
           }
          ],
          "scatter": [
           {
            "marker": {
             "colorbar": {
              "outlinewidth": 0,
              "ticks": ""
             }
            },
            "type": "scatter"
           }
          ],
          "scatter3d": [
           {
            "line": {
             "colorbar": {
              "outlinewidth": 0,
              "ticks": ""
             }
            },
            "marker": {
             "colorbar": {
              "outlinewidth": 0,
              "ticks": ""
             }
            },
            "type": "scatter3d"
           }
          ],
          "scattercarpet": [
           {
            "marker": {
             "colorbar": {
              "outlinewidth": 0,
              "ticks": ""
             }
            },
            "type": "scattercarpet"
           }
          ],
          "scattergeo": [
           {
            "marker": {
             "colorbar": {
              "outlinewidth": 0,
              "ticks": ""
             }
            },
            "type": "scattergeo"
           }
          ],
          "scattergl": [
           {
            "marker": {
             "colorbar": {
              "outlinewidth": 0,
              "ticks": ""
             }
            },
            "type": "scattergl"
           }
          ],
          "scattermapbox": [
           {
            "marker": {
             "colorbar": {
              "outlinewidth": 0,
              "ticks": ""
             }
            },
            "type": "scattermapbox"
           }
          ],
          "scatterpolar": [
           {
            "marker": {
             "colorbar": {
              "outlinewidth": 0,
              "ticks": ""
             }
            },
            "type": "scatterpolar"
           }
          ],
          "scatterpolargl": [
           {
            "marker": {
             "colorbar": {
              "outlinewidth": 0,
              "ticks": ""
             }
            },
            "type": "scatterpolargl"
           }
          ],
          "scatterternary": [
           {
            "marker": {
             "colorbar": {
              "outlinewidth": 0,
              "ticks": ""
             }
            },
            "type": "scatterternary"
           }
          ],
          "surface": [
           {
            "colorbar": {
             "outlinewidth": 0,
             "ticks": ""
            },
            "colorscale": [
             [
              0,
              "#0d0887"
             ],
             [
              0.1111111111111111,
              "#46039f"
             ],
             [
              0.2222222222222222,
              "#7201a8"
             ],
             [
              0.3333333333333333,
              "#9c179e"
             ],
             [
              0.4444444444444444,
              "#bd3786"
             ],
             [
              0.5555555555555556,
              "#d8576b"
             ],
             [
              0.6666666666666666,
              "#ed7953"
             ],
             [
              0.7777777777777778,
              "#fb9f3a"
             ],
             [
              0.8888888888888888,
              "#fdca26"
             ],
             [
              1,
              "#f0f921"
             ]
            ],
            "type": "surface"
           }
          ],
          "table": [
           {
            "cells": {
             "fill": {
              "color": "#EBF0F8"
             },
             "line": {
              "color": "white"
             }
            },
            "header": {
             "fill": {
              "color": "#C8D4E3"
             },
             "line": {
              "color": "white"
             }
            },
            "type": "table"
           }
          ]
         },
         "layout": {
          "annotationdefaults": {
           "arrowcolor": "#2a3f5f",
           "arrowhead": 0,
           "arrowwidth": 1
          },
          "autotypenumbers": "strict",
          "coloraxis": {
           "colorbar": {
            "outlinewidth": 0,
            "ticks": ""
           }
          },
          "colorscale": {
           "diverging": [
            [
             0,
             "#8e0152"
            ],
            [
             0.1,
             "#c51b7d"
            ],
            [
             0.2,
             "#de77ae"
            ],
            [
             0.3,
             "#f1b6da"
            ],
            [
             0.4,
             "#fde0ef"
            ],
            [
             0.5,
             "#f7f7f7"
            ],
            [
             0.6,
             "#e6f5d0"
            ],
            [
             0.7,
             "#b8e186"
            ],
            [
             0.8,
             "#7fbc41"
            ],
            [
             0.9,
             "#4d9221"
            ],
            [
             1,
             "#276419"
            ]
           ],
           "sequential": [
            [
             0,
             "#0d0887"
            ],
            [
             0.1111111111111111,
             "#46039f"
            ],
            [
             0.2222222222222222,
             "#7201a8"
            ],
            [
             0.3333333333333333,
             "#9c179e"
            ],
            [
             0.4444444444444444,
             "#bd3786"
            ],
            [
             0.5555555555555556,
             "#d8576b"
            ],
            [
             0.6666666666666666,
             "#ed7953"
            ],
            [
             0.7777777777777778,
             "#fb9f3a"
            ],
            [
             0.8888888888888888,
             "#fdca26"
            ],
            [
             1,
             "#f0f921"
            ]
           ],
           "sequentialminus": [
            [
             0,
             "#0d0887"
            ],
            [
             0.1111111111111111,
             "#46039f"
            ],
            [
             0.2222222222222222,
             "#7201a8"
            ],
            [
             0.3333333333333333,
             "#9c179e"
            ],
            [
             0.4444444444444444,
             "#bd3786"
            ],
            [
             0.5555555555555556,
             "#d8576b"
            ],
            [
             0.6666666666666666,
             "#ed7953"
            ],
            [
             0.7777777777777778,
             "#fb9f3a"
            ],
            [
             0.8888888888888888,
             "#fdca26"
            ],
            [
             1,
             "#f0f921"
            ]
           ]
          },
          "colorway": [
           "#636efa",
           "#EF553B",
           "#00cc96",
           "#ab63fa",
           "#FFA15A",
           "#19d3f3",
           "#FF6692",
           "#B6E880",
           "#FF97FF",
           "#FECB52"
          ],
          "font": {
           "color": "#2a3f5f"
          },
          "geo": {
           "bgcolor": "white",
           "lakecolor": "white",
           "landcolor": "#E5ECF6",
           "showlakes": true,
           "showland": true,
           "subunitcolor": "white"
          },
          "hoverlabel": {
           "align": "left"
          },
          "hovermode": "closest",
          "mapbox": {
           "style": "light"
          },
          "paper_bgcolor": "white",
          "plot_bgcolor": "#E5ECF6",
          "polar": {
           "angularaxis": {
            "gridcolor": "white",
            "linecolor": "white",
            "ticks": ""
           },
           "bgcolor": "#E5ECF6",
           "radialaxis": {
            "gridcolor": "white",
            "linecolor": "white",
            "ticks": ""
           }
          },
          "scene": {
           "xaxis": {
            "backgroundcolor": "#E5ECF6",
            "gridcolor": "white",
            "gridwidth": 2,
            "linecolor": "white",
            "showbackground": true,
            "ticks": "",
            "zerolinecolor": "white"
           },
           "yaxis": {
            "backgroundcolor": "#E5ECF6",
            "gridcolor": "white",
            "gridwidth": 2,
            "linecolor": "white",
            "showbackground": true,
            "ticks": "",
            "zerolinecolor": "white"
           },
           "zaxis": {
            "backgroundcolor": "#E5ECF6",
            "gridcolor": "white",
            "gridwidth": 2,
            "linecolor": "white",
            "showbackground": true,
            "ticks": "",
            "zerolinecolor": "white"
           }
          },
          "shapedefaults": {
           "line": {
            "color": "#2a3f5f"
           }
          },
          "ternary": {
           "aaxis": {
            "gridcolor": "white",
            "linecolor": "white",
            "ticks": ""
           },
           "baxis": {
            "gridcolor": "white",
            "linecolor": "white",
            "ticks": ""
           },
           "bgcolor": "#E5ECF6",
           "caxis": {
            "gridcolor": "white",
            "linecolor": "white",
            "ticks": ""
           }
          },
          "title": {
           "x": 0.05
          },
          "xaxis": {
           "automargin": true,
           "gridcolor": "white",
           "linecolor": "white",
           "ticks": "",
           "title": {
            "standoff": 15
           },
           "zerolinecolor": "white",
           "zerolinewidth": 2
          },
          "yaxis": {
           "automargin": true,
           "gridcolor": "white",
           "linecolor": "white",
           "ticks": "",
           "title": {
            "standoff": 15
           },
           "zerolinecolor": "white",
           "zerolinewidth": 2
          }
         }
        },
        "title": {
         "font": {
          "color": "#4D5663"
         }
        },
        "xaxis": {
         "gridcolor": "#E1E5ED",
         "showgrid": true,
         "tickfont": {
          "color": "#4D5663"
         },
         "title": {
          "font": {
           "color": "#4D5663"
          },
          "text": ""
         },
         "zerolinecolor": "#E1E5ED"
        },
        "yaxis": {
         "gridcolor": "#E1E5ED",
         "showgrid": true,
         "tickfont": {
          "color": "#4D5663"
         },
         "title": {
          "font": {
           "color": "#4D5663"
          },
          "text": ""
         },
         "zerolinecolor": "#E1E5ED"
        }
       }
      },
      "text/html": [
       "<div>                            <div id=\"15a7f449-1fe4-4567-8154-84bc08c6f504\" class=\"plotly-graph-div\" style=\"height:525px; width:100%;\"></div>            <script type=\"text/javascript\">                require([\"plotly\"], function(Plotly) {                    window.PLOTLYENV=window.PLOTLYENV || {};\n",
       "                    window.PLOTLYENV.BASE_URL='https://plot.ly';                                    if (document.getElementById(\"15a7f449-1fe4-4567-8154-84bc08c6f504\")) {                    Plotly.newPlot(                        \"15a7f449-1fe4-4567-8154-84bc08c6f504\",                        [{\"boxpoints\":false,\"line\":{\"width\":1.3},\"marker\":{\"color\":\"rgba(255, 153, 51, 1.0)\"},\"name\":\"A\",\"orientation\":\"v\",\"y\":[1.0837802026903676,-0.8307318652353206,0.9704645666752914,-0.13150801540525994,-1.431676307991406,0.5854248107675313,-0.5660964311261989,0.9884149998948273,-0.03866022001943958,0.3926136648987823,0.2366436323713876,1.5890962443122887,0.8157022340882426,0.3514861566194287,1.0277388736464257,0.2699518657534483,1.3965374784548972,-1.5384078610201786,-0.5850193141441375,0.04250994717911727,0.22334130053789886,-0.3843704559030353,-0.9135758999676846,1.1988523922550378,0.8756193834778848,-0.3245036125233253,-0.8643199642609466,-2.711830222084337,-1.6213541043042066,-1.1440160134243584,1.1956049013334702,-0.5163570085007548,0.3383295777705534,-0.32691112866765776,0.1380319492889386,-0.10120910311364711,1.2224935125494165,-0.7848201785562855,1.3251452237809054,-1.0422539931177521,-0.6220907671447959,0.7605865882300532,0.7097525174852362,0.9560880229550969,-0.10339811047162585,-0.14644500749449224,0.5368987942350666,-0.03267673468010394,-0.3285015605627665,-2.1637667787824704,-0.19750325171496624,-0.8705110153772423,0.3275838600290092,-1.4429386352380633,-0.5227190645611784,-0.6040484120224673,-0.5426828792455438,-0.24734238804509784,-0.1710048045514127,0.6357392606928337,0.22223721737535435,0.8539923672277793,1.6418874845855114,-1.6051526223909196,0.22309065021823282,-0.7595689515903035,-2.1996485445702563,1.5956732573254695,1.5477270913516719,0.567390246133774,0.4046686778858881,0.4683976376712205,-1.2977402564021023,-0.29053464566907533,-0.6681614022952193,0.5398107798206214,1.4892780015980334,0.8907307805670841,0.01356355123975639,0.779825227084279,1.480629213237171,-1.303499194553016,0.5640734614757685,0.888697983915617,-1.5602326741188632,0.3276654891441126,1.1056006487110808,0.11020457528062488,-1.3030233635699597,0.3924672139339836,0.5960789969061742,-1.1234727276191592,-1.7650675896330457,0.5986533532972574,1.0617932058870356,1.3479162812727086,-0.8368602512006359,-0.009797134647624255,0.5983037055534213,-0.8765850492559197],\"type\":\"box\"},{\"boxpoints\":false,\"line\":{\"width\":1.3},\"marker\":{\"color\":\"rgba(55, 128, 191, 1.0)\"},\"name\":\"B\",\"orientation\":\"v\",\"y\":[-0.522890892695273,-0.5133950769305579,0.6806690722910964,1.031910376765052,0.5134242259294345,-1.1384405134344129,-1.967304273414849,2.7754662161448187,-0.12968506824520482,-0.5751330143483373,-1.7124510912923032,-0.7401896441257169,1.3640598393807122,-0.7392250669937778,-0.4596265565310788,0.8632338591254589,-0.9269877232227746,0.8005776928976868,-0.5303651277260929,-1.5478366663352567,-0.9021928385540456,0.07263937780983032,0.4964765917045821,-0.019362179759583174,0.3549150890000641,-0.254386036949427,1.287006580786897,0.7655221718834024,0.7588074233964105,2.119276748874291,-0.5972958247816397,-1.2021289261239687,-0.20378199373107492,0.8537557984722517,0.03905136978287543,-1.3572525759712204,0.7729758897701869,0.15709732946492647,-0.43953427255576755,0.02080414947036807,-0.0686204830480142,-1.7658436876434458,-0.07210159595201733,0.27634956368375163,1.0937799112009745,0.4294114559969322,-1.5755166280139263,-0.030870482297119722,-0.2023705876469707,0.5292765847905173,0.39943539003596257,-0.7724123878930874,0.6890986316171753,0.9122861623485468,0.1162402187877747,0.41573491106998256,-1.0554506054777522,0.3273723004744497,1.2826088924503345,0.002600066872883493,-1.344462684212799,-0.4646665558487505,0.6608569002638156,-1.172944904026479,-1.5333839108105396,0.5800873164304087,-0.0944402612694691,0.9177407000112922,-1.362401198969006,-0.26278842045129025,0.5670096180264699,-1.3766867887778862,1.0606927619478912,1.7738407682557193,-1.345147684233415,1.2258717217599049,-0.6434508497398888,-0.08574432115483341,-0.30728343458243823,-0.26446934774105685,-0.946849712608022,-1.153366821199802,-0.13739292710680448,0.3299629055380062,0.428734968248196,1.4750103690781826,0.9924535177609993,-0.5239161127928873,-0.7283124703069083,-0.10204894475527922,1.1466273781594924,0.0888460083240002,-0.0166821185648255,0.18261626841187298,-0.3679919585457832,1.2256960945250548,0.40221413256018895,0.515223149459377,1.3306440965310917,-0.618409258339924],\"type\":\"box\"},{\"boxpoints\":false,\"line\":{\"width\":1.3},\"marker\":{\"color\":\"rgba(50, 171, 96, 1.0)\"},\"name\":\"C\",\"orientation\":\"v\",\"y\":[0.5061735650054343,-0.45374351970619403,-1.3452417433111727,-0.7906907432933548,0.5168613662055268,-0.4741995457952149,-0.4694021472502292,-1.0065724184279325,0.08312318574305148,0.2962008274450619,-0.7652039217045815,0.7388926859827525,-0.9745728957736693,-2.4966091073318424,-0.7916851107025121,0.8795399529894699,-1.1612265935014694,1.5668786119989917,1.1040731833869804,1.0707093127560956,0.04029924094817754,-1.4025655681894444,1.1083759673468043,-0.26951084815162907,0.6821491317910371,-0.3290024007045008,1.801817498836998,0.09532447935235822,0.5756724929951034,1.2250363316590556,0.5404691198101195,1.405107902503578,-0.46317087243262545,-0.06896767035212416,-0.8379096836859891,0.8559684259161792,0.7777864657707051,0.9242137263015999,-0.2896985032173854,0.04891742223527568,-1.2404205571776148,-0.1051185708499763,-0.8830174503203669,0.22096219141352746,0.8821591483730389,-0.23674634676994427,2.5158583605059843,-1.6231979754694397,-0.20367723899620602,-0.7347607399291173,-0.168438399902665,-0.943047835388374,0.1277488505392079,-0.4597241063254028,0.7571446506449164,0.2679007718721096,0.07464719122470621,1.3878605790736451,0.46617492851758113,0.8686807258221567,1.2416824576348655,-1.5071105865323295,1.2553368074664373,-0.027321171048688378,-1.1622915769561002,0.17761266565039144,-1.8055440471148432,0.1440987967848737,0.14970580108926282,0.7842807872764457,0.3755126386941075,-0.453537726159817,-1.2272616199332682,-0.6026080665367011,-0.07245424810641667,0.38435297238922855,-0.7927447793959029,0.8219029649758968,0.25577990702355674,-0.39326546750649277,-0.06789084835124859,-1.340905483933111,-1.5117427959932335,0.16040901680405362,-0.5247056642455927,-1.6852089693321068,0.9003114764531234,1.3720171677133417,0.6747827785756805,0.27954802705531684,-0.47056378249546665,-2.3813183979413095,-0.9269712255431471,0.10436926248829959,0.05360017960672199,1.1334181219773138,0.4490940132605856,-2.3074539127722318,1.0924529184352614,1.3916896997462473],\"type\":\"box\"},{\"boxpoints\":false,\"line\":{\"width\":1.3},\"marker\":{\"color\":\"rgba(128, 0, 128, 1.0)\"},\"name\":\"D\",\"orientation\":\"v\",\"y\":[-1.0675771230985205,-0.6264316253365796,0.747126545149039,-1.5463867828324207,0.25938015269389925,-0.5389198104008657,-0.5728103842865038,0.04232544843890766,0.6051018423665102,1.5719879536382655,2.1824615406208365,-1.25222283856212,-0.3089715792020181,-0.9345231376762781,1.0309931125440828,-0.8427677439209136,1.1977651673873526,0.9643854392140603,0.2967407338548481,0.11503189012991172,0.8732057487653814,-0.19830601613374937,0.40756545557832274,-0.0022754125899660353,0.7211153825417478,-0.07342677113470895,0.9979282708349597,0.9597658767905103,0.6255359378491521,-0.45621573285751493,0.8150247581386546,-1.1072203072967557,-1.1000977049464933,1.6803282734071265,-0.9318001814065225,-1.9075202717308457,0.513400387638943,-0.9386923104093527,2.450064768931152,-1.432923362063971,0.6619256366627118,-0.31934761067773776,-1.8377084151369856,0.9344121070744521,0.21650089150415538,0.39973594945452634,0.9143285496448482,0.885617368351388,-1.0805304951112176,-1.5173287886073383,0.10401551897097906,0.451738909451791,0.8109448163385391,1.2734919720754343,-0.5587983288972399,1.9646001859380617,-0.037742341521644546,-0.38713967847411024,-0.7409576411389274,0.5736931426231485,-0.06893535611076942,-1.5818187828753911,0.4897288305796859,1.0132675005143266,1.100210446616976,-0.18704871424081185,0.8149179903873712,1.8509522380904984,-0.3048755128510082,0.15402916833245736,1.2033989062448742,-1.422386845150487,0.8659658670845835,1.383060561297713,-0.47414528871073014,-0.4444611891967911,-1.134515572377695,0.5210567607543705,0.711433108724833,-1.4595894453701157,1.866171666097092,0.30819746567042894,1.0831035343593591,-0.4917300092139015,0.8937049963266488,-0.779032604223167,1.3202255084238312,1.3058107289950605,1.1034214210645876,0.6616521623376257,-0.36773474713485177,-0.3698675153167032,-0.7317343089371522,-0.3916593838141954,-0.9691641760790766,-0.8651839848953563,0.8412831635767257,0.42139921244393047,-0.9338671399851458,0.3802094408496576],\"type\":\"box\"}],                        {\"legend\":{\"bgcolor\":\"#F5F6F9\",\"font\":{\"color\":\"#4D5663\"}},\"paper_bgcolor\":\"#F5F6F9\",\"plot_bgcolor\":\"#F5F6F9\",\"template\":{\"data\":{\"barpolar\":[{\"marker\":{\"line\":{\"color\":\"#E5ECF6\",\"width\":0.5},\"pattern\":{\"fillmode\":\"overlay\",\"size\":10,\"solidity\":0.2}},\"type\":\"barpolar\"}],\"bar\":[{\"error_x\":{\"color\":\"#2a3f5f\"},\"error_y\":{\"color\":\"#2a3f5f\"},\"marker\":{\"line\":{\"color\":\"#E5ECF6\",\"width\":0.5},\"pattern\":{\"fillmode\":\"overlay\",\"size\":10,\"solidity\":0.2}},\"type\":\"bar\"}],\"carpet\":[{\"aaxis\":{\"endlinecolor\":\"#2a3f5f\",\"gridcolor\":\"white\",\"linecolor\":\"white\",\"minorgridcolor\":\"white\",\"startlinecolor\":\"#2a3f5f\"},\"baxis\":{\"endlinecolor\":\"#2a3f5f\",\"gridcolor\":\"white\",\"linecolor\":\"white\",\"minorgridcolor\":\"white\",\"startlinecolor\":\"#2a3f5f\"},\"type\":\"carpet\"}],\"choropleth\":[{\"colorbar\":{\"outlinewidth\":0,\"ticks\":\"\"},\"type\":\"choropleth\"}],\"contourcarpet\":[{\"colorbar\":{\"outlinewidth\":0,\"ticks\":\"\"},\"type\":\"contourcarpet\"}],\"contour\":[{\"colorbar\":{\"outlinewidth\":0,\"ticks\":\"\"},\"colorscale\":[[0.0,\"#0d0887\"],[0.1111111111111111,\"#46039f\"],[0.2222222222222222,\"#7201a8\"],[0.3333333333333333,\"#9c179e\"],[0.4444444444444444,\"#bd3786\"],[0.5555555555555556,\"#d8576b\"],[0.6666666666666666,\"#ed7953\"],[0.7777777777777778,\"#fb9f3a\"],[0.8888888888888888,\"#fdca26\"],[1.0,\"#f0f921\"]],\"type\":\"contour\"}],\"heatmapgl\":[{\"colorbar\":{\"outlinewidth\":0,\"ticks\":\"\"},\"colorscale\":[[0.0,\"#0d0887\"],[0.1111111111111111,\"#46039f\"],[0.2222222222222222,\"#7201a8\"],[0.3333333333333333,\"#9c179e\"],[0.4444444444444444,\"#bd3786\"],[0.5555555555555556,\"#d8576b\"],[0.6666666666666666,\"#ed7953\"],[0.7777777777777778,\"#fb9f3a\"],[0.8888888888888888,\"#fdca26\"],[1.0,\"#f0f921\"]],\"type\":\"heatmapgl\"}],\"heatmap\":[{\"colorbar\":{\"outlinewidth\":0,\"ticks\":\"\"},\"colorscale\":[[0.0,\"#0d0887\"],[0.1111111111111111,\"#46039f\"],[0.2222222222222222,\"#7201a8\"],[0.3333333333333333,\"#9c179e\"],[0.4444444444444444,\"#bd3786\"],[0.5555555555555556,\"#d8576b\"],[0.6666666666666666,\"#ed7953\"],[0.7777777777777778,\"#fb9f3a\"],[0.8888888888888888,\"#fdca26\"],[1.0,\"#f0f921\"]],\"type\":\"heatmap\"}],\"histogram2dcontour\":[{\"colorbar\":{\"outlinewidth\":0,\"ticks\":\"\"},\"colorscale\":[[0.0,\"#0d0887\"],[0.1111111111111111,\"#46039f\"],[0.2222222222222222,\"#7201a8\"],[0.3333333333333333,\"#9c179e\"],[0.4444444444444444,\"#bd3786\"],[0.5555555555555556,\"#d8576b\"],[0.6666666666666666,\"#ed7953\"],[0.7777777777777778,\"#fb9f3a\"],[0.8888888888888888,\"#fdca26\"],[1.0,\"#f0f921\"]],\"type\":\"histogram2dcontour\"}],\"histogram2d\":[{\"colorbar\":{\"outlinewidth\":0,\"ticks\":\"\"},\"colorscale\":[[0.0,\"#0d0887\"],[0.1111111111111111,\"#46039f\"],[0.2222222222222222,\"#7201a8\"],[0.3333333333333333,\"#9c179e\"],[0.4444444444444444,\"#bd3786\"],[0.5555555555555556,\"#d8576b\"],[0.6666666666666666,\"#ed7953\"],[0.7777777777777778,\"#fb9f3a\"],[0.8888888888888888,\"#fdca26\"],[1.0,\"#f0f921\"]],\"type\":\"histogram2d\"}],\"histogram\":[{\"marker\":{\"pattern\":{\"fillmode\":\"overlay\",\"size\":10,\"solidity\":0.2}},\"type\":\"histogram\"}],\"mesh3d\":[{\"colorbar\":{\"outlinewidth\":0,\"ticks\":\"\"},\"type\":\"mesh3d\"}],\"parcoords\":[{\"line\":{\"colorbar\":{\"outlinewidth\":0,\"ticks\":\"\"}},\"type\":\"parcoords\"}],\"pie\":[{\"automargin\":true,\"type\":\"pie\"}],\"scatter3d\":[{\"line\":{\"colorbar\":{\"outlinewidth\":0,\"ticks\":\"\"}},\"marker\":{\"colorbar\":{\"outlinewidth\":0,\"ticks\":\"\"}},\"type\":\"scatter3d\"}],\"scattercarpet\":[{\"marker\":{\"colorbar\":{\"outlinewidth\":0,\"ticks\":\"\"}},\"type\":\"scattercarpet\"}],\"scattergeo\":[{\"marker\":{\"colorbar\":{\"outlinewidth\":0,\"ticks\":\"\"}},\"type\":\"scattergeo\"}],\"scattergl\":[{\"marker\":{\"colorbar\":{\"outlinewidth\":0,\"ticks\":\"\"}},\"type\":\"scattergl\"}],\"scattermapbox\":[{\"marker\":{\"colorbar\":{\"outlinewidth\":0,\"ticks\":\"\"}},\"type\":\"scattermapbox\"}],\"scatterpolargl\":[{\"marker\":{\"colorbar\":{\"outlinewidth\":0,\"ticks\":\"\"}},\"type\":\"scatterpolargl\"}],\"scatterpolar\":[{\"marker\":{\"colorbar\":{\"outlinewidth\":0,\"ticks\":\"\"}},\"type\":\"scatterpolar\"}],\"scatter\":[{\"marker\":{\"colorbar\":{\"outlinewidth\":0,\"ticks\":\"\"}},\"type\":\"scatter\"}],\"scatterternary\":[{\"marker\":{\"colorbar\":{\"outlinewidth\":0,\"ticks\":\"\"}},\"type\":\"scatterternary\"}],\"surface\":[{\"colorbar\":{\"outlinewidth\":0,\"ticks\":\"\"},\"colorscale\":[[0.0,\"#0d0887\"],[0.1111111111111111,\"#46039f\"],[0.2222222222222222,\"#7201a8\"],[0.3333333333333333,\"#9c179e\"],[0.4444444444444444,\"#bd3786\"],[0.5555555555555556,\"#d8576b\"],[0.6666666666666666,\"#ed7953\"],[0.7777777777777778,\"#fb9f3a\"],[0.8888888888888888,\"#fdca26\"],[1.0,\"#f0f921\"]],\"type\":\"surface\"}],\"table\":[{\"cells\":{\"fill\":{\"color\":\"#EBF0F8\"},\"line\":{\"color\":\"white\"}},\"header\":{\"fill\":{\"color\":\"#C8D4E3\"},\"line\":{\"color\":\"white\"}},\"type\":\"table\"}]},\"layout\":{\"annotationdefaults\":{\"arrowcolor\":\"#2a3f5f\",\"arrowhead\":0,\"arrowwidth\":1},\"autotypenumbers\":\"strict\",\"coloraxis\":{\"colorbar\":{\"outlinewidth\":0,\"ticks\":\"\"}},\"colorscale\":{\"diverging\":[[0,\"#8e0152\"],[0.1,\"#c51b7d\"],[0.2,\"#de77ae\"],[0.3,\"#f1b6da\"],[0.4,\"#fde0ef\"],[0.5,\"#f7f7f7\"],[0.6,\"#e6f5d0\"],[0.7,\"#b8e186\"],[0.8,\"#7fbc41\"],[0.9,\"#4d9221\"],[1,\"#276419\"]],\"sequential\":[[0.0,\"#0d0887\"],[0.1111111111111111,\"#46039f\"],[0.2222222222222222,\"#7201a8\"],[0.3333333333333333,\"#9c179e\"],[0.4444444444444444,\"#bd3786\"],[0.5555555555555556,\"#d8576b\"],[0.6666666666666666,\"#ed7953\"],[0.7777777777777778,\"#fb9f3a\"],[0.8888888888888888,\"#fdca26\"],[1.0,\"#f0f921\"]],\"sequentialminus\":[[0.0,\"#0d0887\"],[0.1111111111111111,\"#46039f\"],[0.2222222222222222,\"#7201a8\"],[0.3333333333333333,\"#9c179e\"],[0.4444444444444444,\"#bd3786\"],[0.5555555555555556,\"#d8576b\"],[0.6666666666666666,\"#ed7953\"],[0.7777777777777778,\"#fb9f3a\"],[0.8888888888888888,\"#fdca26\"],[1.0,\"#f0f921\"]]},\"colorway\":[\"#636efa\",\"#EF553B\",\"#00cc96\",\"#ab63fa\",\"#FFA15A\",\"#19d3f3\",\"#FF6692\",\"#B6E880\",\"#FF97FF\",\"#FECB52\"],\"font\":{\"color\":\"#2a3f5f\"},\"geo\":{\"bgcolor\":\"white\",\"lakecolor\":\"white\",\"landcolor\":\"#E5ECF6\",\"showlakes\":true,\"showland\":true,\"subunitcolor\":\"white\"},\"hoverlabel\":{\"align\":\"left\"},\"hovermode\":\"closest\",\"mapbox\":{\"style\":\"light\"},\"paper_bgcolor\":\"white\",\"plot_bgcolor\":\"#E5ECF6\",\"polar\":{\"angularaxis\":{\"gridcolor\":\"white\",\"linecolor\":\"white\",\"ticks\":\"\"},\"bgcolor\":\"#E5ECF6\",\"radialaxis\":{\"gridcolor\":\"white\",\"linecolor\":\"white\",\"ticks\":\"\"}},\"scene\":{\"xaxis\":{\"backgroundcolor\":\"#E5ECF6\",\"gridcolor\":\"white\",\"gridwidth\":2,\"linecolor\":\"white\",\"showbackground\":true,\"ticks\":\"\",\"zerolinecolor\":\"white\"},\"yaxis\":{\"backgroundcolor\":\"#E5ECF6\",\"gridcolor\":\"white\",\"gridwidth\":2,\"linecolor\":\"white\",\"showbackground\":true,\"ticks\":\"\",\"zerolinecolor\":\"white\"},\"zaxis\":{\"backgroundcolor\":\"#E5ECF6\",\"gridcolor\":\"white\",\"gridwidth\":2,\"linecolor\":\"white\",\"showbackground\":true,\"ticks\":\"\",\"zerolinecolor\":\"white\"}},\"shapedefaults\":{\"line\":{\"color\":\"#2a3f5f\"}},\"ternary\":{\"aaxis\":{\"gridcolor\":\"white\",\"linecolor\":\"white\",\"ticks\":\"\"},\"baxis\":{\"gridcolor\":\"white\",\"linecolor\":\"white\",\"ticks\":\"\"},\"bgcolor\":\"#E5ECF6\",\"caxis\":{\"gridcolor\":\"white\",\"linecolor\":\"white\",\"ticks\":\"\"}},\"title\":{\"x\":0.05},\"xaxis\":{\"automargin\":true,\"gridcolor\":\"white\",\"linecolor\":\"white\",\"ticks\":\"\",\"title\":{\"standoff\":15},\"zerolinecolor\":\"white\",\"zerolinewidth\":2},\"yaxis\":{\"automargin\":true,\"gridcolor\":\"white\",\"linecolor\":\"white\",\"ticks\":\"\",\"title\":{\"standoff\":15},\"zerolinecolor\":\"white\",\"zerolinewidth\":2}}},\"title\":{\"font\":{\"color\":\"#4D5663\"}},\"xaxis\":{\"gridcolor\":\"#E1E5ED\",\"showgrid\":true,\"tickfont\":{\"color\":\"#4D5663\"},\"title\":{\"font\":{\"color\":\"#4D5663\"},\"text\":\"\"},\"zerolinecolor\":\"#E1E5ED\"},\"yaxis\":{\"gridcolor\":\"#E1E5ED\",\"showgrid\":true,\"tickfont\":{\"color\":\"#4D5663\"},\"title\":{\"font\":{\"color\":\"#4D5663\"},\"text\":\"\"},\"zerolinecolor\":\"#E1E5ED\"}},                        {\"showLink\": true, \"linkText\": \"Export to plot.ly\", \"plotlyServerURL\": \"https://plot.ly\", \"responsive\": true}                    ).then(function(){\n",
       "                            \n",
       "var gd = document.getElementById('15a7f449-1fe4-4567-8154-84bc08c6f504');\n",
       "var x = new MutationObserver(function (mutations, observer) {{\n",
       "        var display = window.getComputedStyle(gd).display;\n",
       "        if (!display || display === 'none') {{\n",
       "            console.log([gd, 'removed!']);\n",
       "            Plotly.purge(gd);\n",
       "            observer.disconnect();\n",
       "        }}\n",
       "}});\n",
       "\n",
       "// Listen for the removal of the full notebook cells\n",
       "var notebookContainer = gd.closest('#notebook-container');\n",
       "if (notebookContainer) {{\n",
       "    x.observe(notebookContainer, {childList: true});\n",
       "}}\n",
       "\n",
       "// Listen for the clearing of the current output cell\n",
       "var outputEl = gd.closest('.output');\n",
       "if (outputEl) {{\n",
       "    x.observe(outputEl, {childList: true});\n",
       "}}\n",
       "\n",
       "                        })                };                });            </script>        </div>"
      ]
     },
     "metadata": {},
     "output_type": "display_data"
    }
   ],
   "source": [
    "df.iplot(kind='box')"
   ]
  },
  {
   "cell_type": "code",
   "execution_count": 31,
   "id": "3c9ec59e",
   "metadata": {},
   "outputs": [],
   "source": [
    "### 3d surface"
   ]
  },
  {
   "cell_type": "code",
   "execution_count": 32,
   "id": "2c989335",
   "metadata": {},
   "outputs": [],
   "source": [
    "df3 = pd.DataFrame({'x':[1,2,3,4,5],'y':[10,20,30,20,10],'z':[5,4,3,2,1]})"
   ]
  },
  {
   "cell_type": "code",
   "execution_count": 33,
   "id": "d556fdeb",
   "metadata": {},
   "outputs": [
    {
     "data": {
      "application/vnd.plotly.v1+json": {
       "config": {
        "linkText": "Export to plot.ly",
        "plotlyServerURL": "https://plot.ly",
        "showLink": true
       },
       "data": [
        {
         "colorscale": [
          [
           0,
           "rgb(165,0,38)"
          ],
          [
           0.1,
           "rgb(215,48,39)"
          ],
          [
           0.2,
           "rgb(244,109,67)"
          ],
          [
           0.3,
           "rgb(253,174,97)"
          ],
          [
           0.4,
           "rgb(254,224,144)"
          ],
          [
           0.5,
           "rgb(255,255,191)"
          ],
          [
           0.6,
           "rgb(224,243,248)"
          ],
          [
           0.7,
           "rgb(171,217,233)"
          ],
          [
           0.8,
           "rgb(116,173,209)"
          ],
          [
           0.9,
           "rgb(69,117,180)"
          ],
          [
           1,
           "rgb(49,54,149)"
          ]
         ],
         "type": "surface",
         "x": [
          0,
          1,
          2,
          3,
          4
         ],
         "y": [
          "x",
          "y",
          "z"
         ],
         "z": [
          [
           1,
           2,
           3,
           4,
           5
          ],
          [
           10,
           20,
           30,
           20,
           10
          ],
          [
           5,
           4,
           3,
           2,
           1
          ]
         ]
        }
       ],
       "layout": {
        "legend": {
         "bgcolor": "#F5F6F9",
         "font": {
          "color": "#4D5663"
         }
        },
        "paper_bgcolor": "#F5F6F9",
        "plot_bgcolor": "#F5F6F9",
        "template": {
         "data": {
          "bar": [
           {
            "error_x": {
             "color": "#2a3f5f"
            },
            "error_y": {
             "color": "#2a3f5f"
            },
            "marker": {
             "line": {
              "color": "#E5ECF6",
              "width": 0.5
             },
             "pattern": {
              "fillmode": "overlay",
              "size": 10,
              "solidity": 0.2
             }
            },
            "type": "bar"
           }
          ],
          "barpolar": [
           {
            "marker": {
             "line": {
              "color": "#E5ECF6",
              "width": 0.5
             },
             "pattern": {
              "fillmode": "overlay",
              "size": 10,
              "solidity": 0.2
             }
            },
            "type": "barpolar"
           }
          ],
          "carpet": [
           {
            "aaxis": {
             "endlinecolor": "#2a3f5f",
             "gridcolor": "white",
             "linecolor": "white",
             "minorgridcolor": "white",
             "startlinecolor": "#2a3f5f"
            },
            "baxis": {
             "endlinecolor": "#2a3f5f",
             "gridcolor": "white",
             "linecolor": "white",
             "minorgridcolor": "white",
             "startlinecolor": "#2a3f5f"
            },
            "type": "carpet"
           }
          ],
          "choropleth": [
           {
            "colorbar": {
             "outlinewidth": 0,
             "ticks": ""
            },
            "type": "choropleth"
           }
          ],
          "contour": [
           {
            "colorbar": {
             "outlinewidth": 0,
             "ticks": ""
            },
            "colorscale": [
             [
              0,
              "#0d0887"
             ],
             [
              0.1111111111111111,
              "#46039f"
             ],
             [
              0.2222222222222222,
              "#7201a8"
             ],
             [
              0.3333333333333333,
              "#9c179e"
             ],
             [
              0.4444444444444444,
              "#bd3786"
             ],
             [
              0.5555555555555556,
              "#d8576b"
             ],
             [
              0.6666666666666666,
              "#ed7953"
             ],
             [
              0.7777777777777778,
              "#fb9f3a"
             ],
             [
              0.8888888888888888,
              "#fdca26"
             ],
             [
              1,
              "#f0f921"
             ]
            ],
            "type": "contour"
           }
          ],
          "contourcarpet": [
           {
            "colorbar": {
             "outlinewidth": 0,
             "ticks": ""
            },
            "type": "contourcarpet"
           }
          ],
          "heatmap": [
           {
            "colorbar": {
             "outlinewidth": 0,
             "ticks": ""
            },
            "colorscale": [
             [
              0,
              "#0d0887"
             ],
             [
              0.1111111111111111,
              "#46039f"
             ],
             [
              0.2222222222222222,
              "#7201a8"
             ],
             [
              0.3333333333333333,
              "#9c179e"
             ],
             [
              0.4444444444444444,
              "#bd3786"
             ],
             [
              0.5555555555555556,
              "#d8576b"
             ],
             [
              0.6666666666666666,
              "#ed7953"
             ],
             [
              0.7777777777777778,
              "#fb9f3a"
             ],
             [
              0.8888888888888888,
              "#fdca26"
             ],
             [
              1,
              "#f0f921"
             ]
            ],
            "type": "heatmap"
           }
          ],
          "heatmapgl": [
           {
            "colorbar": {
             "outlinewidth": 0,
             "ticks": ""
            },
            "colorscale": [
             [
              0,
              "#0d0887"
             ],
             [
              0.1111111111111111,
              "#46039f"
             ],
             [
              0.2222222222222222,
              "#7201a8"
             ],
             [
              0.3333333333333333,
              "#9c179e"
             ],
             [
              0.4444444444444444,
              "#bd3786"
             ],
             [
              0.5555555555555556,
              "#d8576b"
             ],
             [
              0.6666666666666666,
              "#ed7953"
             ],
             [
              0.7777777777777778,
              "#fb9f3a"
             ],
             [
              0.8888888888888888,
              "#fdca26"
             ],
             [
              1,
              "#f0f921"
             ]
            ],
            "type": "heatmapgl"
           }
          ],
          "histogram": [
           {
            "marker": {
             "pattern": {
              "fillmode": "overlay",
              "size": 10,
              "solidity": 0.2
             }
            },
            "type": "histogram"
           }
          ],
          "histogram2d": [
           {
            "colorbar": {
             "outlinewidth": 0,
             "ticks": ""
            },
            "colorscale": [
             [
              0,
              "#0d0887"
             ],
             [
              0.1111111111111111,
              "#46039f"
             ],
             [
              0.2222222222222222,
              "#7201a8"
             ],
             [
              0.3333333333333333,
              "#9c179e"
             ],
             [
              0.4444444444444444,
              "#bd3786"
             ],
             [
              0.5555555555555556,
              "#d8576b"
             ],
             [
              0.6666666666666666,
              "#ed7953"
             ],
             [
              0.7777777777777778,
              "#fb9f3a"
             ],
             [
              0.8888888888888888,
              "#fdca26"
             ],
             [
              1,
              "#f0f921"
             ]
            ],
            "type": "histogram2d"
           }
          ],
          "histogram2dcontour": [
           {
            "colorbar": {
             "outlinewidth": 0,
             "ticks": ""
            },
            "colorscale": [
             [
              0,
              "#0d0887"
             ],
             [
              0.1111111111111111,
              "#46039f"
             ],
             [
              0.2222222222222222,
              "#7201a8"
             ],
             [
              0.3333333333333333,
              "#9c179e"
             ],
             [
              0.4444444444444444,
              "#bd3786"
             ],
             [
              0.5555555555555556,
              "#d8576b"
             ],
             [
              0.6666666666666666,
              "#ed7953"
             ],
             [
              0.7777777777777778,
              "#fb9f3a"
             ],
             [
              0.8888888888888888,
              "#fdca26"
             ],
             [
              1,
              "#f0f921"
             ]
            ],
            "type": "histogram2dcontour"
           }
          ],
          "mesh3d": [
           {
            "colorbar": {
             "outlinewidth": 0,
             "ticks": ""
            },
            "type": "mesh3d"
           }
          ],
          "parcoords": [
           {
            "line": {
             "colorbar": {
              "outlinewidth": 0,
              "ticks": ""
             }
            },
            "type": "parcoords"
           }
          ],
          "pie": [
           {
            "automargin": true,
            "type": "pie"
           }
          ],
          "scatter": [
           {
            "marker": {
             "colorbar": {
              "outlinewidth": 0,
              "ticks": ""
             }
            },
            "type": "scatter"
           }
          ],
          "scatter3d": [
           {
            "line": {
             "colorbar": {
              "outlinewidth": 0,
              "ticks": ""
             }
            },
            "marker": {
             "colorbar": {
              "outlinewidth": 0,
              "ticks": ""
             }
            },
            "type": "scatter3d"
           }
          ],
          "scattercarpet": [
           {
            "marker": {
             "colorbar": {
              "outlinewidth": 0,
              "ticks": ""
             }
            },
            "type": "scattercarpet"
           }
          ],
          "scattergeo": [
           {
            "marker": {
             "colorbar": {
              "outlinewidth": 0,
              "ticks": ""
             }
            },
            "type": "scattergeo"
           }
          ],
          "scattergl": [
           {
            "marker": {
             "colorbar": {
              "outlinewidth": 0,
              "ticks": ""
             }
            },
            "type": "scattergl"
           }
          ],
          "scattermapbox": [
           {
            "marker": {
             "colorbar": {
              "outlinewidth": 0,
              "ticks": ""
             }
            },
            "type": "scattermapbox"
           }
          ],
          "scatterpolar": [
           {
            "marker": {
             "colorbar": {
              "outlinewidth": 0,
              "ticks": ""
             }
            },
            "type": "scatterpolar"
           }
          ],
          "scatterpolargl": [
           {
            "marker": {
             "colorbar": {
              "outlinewidth": 0,
              "ticks": ""
             }
            },
            "type": "scatterpolargl"
           }
          ],
          "scatterternary": [
           {
            "marker": {
             "colorbar": {
              "outlinewidth": 0,
              "ticks": ""
             }
            },
            "type": "scatterternary"
           }
          ],
          "surface": [
           {
            "colorbar": {
             "outlinewidth": 0,
             "ticks": ""
            },
            "colorscale": [
             [
              0,
              "#0d0887"
             ],
             [
              0.1111111111111111,
              "#46039f"
             ],
             [
              0.2222222222222222,
              "#7201a8"
             ],
             [
              0.3333333333333333,
              "#9c179e"
             ],
             [
              0.4444444444444444,
              "#bd3786"
             ],
             [
              0.5555555555555556,
              "#d8576b"
             ],
             [
              0.6666666666666666,
              "#ed7953"
             ],
             [
              0.7777777777777778,
              "#fb9f3a"
             ],
             [
              0.8888888888888888,
              "#fdca26"
             ],
             [
              1,
              "#f0f921"
             ]
            ],
            "type": "surface"
           }
          ],
          "table": [
           {
            "cells": {
             "fill": {
              "color": "#EBF0F8"
             },
             "line": {
              "color": "white"
             }
            },
            "header": {
             "fill": {
              "color": "#C8D4E3"
             },
             "line": {
              "color": "white"
             }
            },
            "type": "table"
           }
          ]
         },
         "layout": {
          "annotationdefaults": {
           "arrowcolor": "#2a3f5f",
           "arrowhead": 0,
           "arrowwidth": 1
          },
          "autotypenumbers": "strict",
          "coloraxis": {
           "colorbar": {
            "outlinewidth": 0,
            "ticks": ""
           }
          },
          "colorscale": {
           "diverging": [
            [
             0,
             "#8e0152"
            ],
            [
             0.1,
             "#c51b7d"
            ],
            [
             0.2,
             "#de77ae"
            ],
            [
             0.3,
             "#f1b6da"
            ],
            [
             0.4,
             "#fde0ef"
            ],
            [
             0.5,
             "#f7f7f7"
            ],
            [
             0.6,
             "#e6f5d0"
            ],
            [
             0.7,
             "#b8e186"
            ],
            [
             0.8,
             "#7fbc41"
            ],
            [
             0.9,
             "#4d9221"
            ],
            [
             1,
             "#276419"
            ]
           ],
           "sequential": [
            [
             0,
             "#0d0887"
            ],
            [
             0.1111111111111111,
             "#46039f"
            ],
            [
             0.2222222222222222,
             "#7201a8"
            ],
            [
             0.3333333333333333,
             "#9c179e"
            ],
            [
             0.4444444444444444,
             "#bd3786"
            ],
            [
             0.5555555555555556,
             "#d8576b"
            ],
            [
             0.6666666666666666,
             "#ed7953"
            ],
            [
             0.7777777777777778,
             "#fb9f3a"
            ],
            [
             0.8888888888888888,
             "#fdca26"
            ],
            [
             1,
             "#f0f921"
            ]
           ],
           "sequentialminus": [
            [
             0,
             "#0d0887"
            ],
            [
             0.1111111111111111,
             "#46039f"
            ],
            [
             0.2222222222222222,
             "#7201a8"
            ],
            [
             0.3333333333333333,
             "#9c179e"
            ],
            [
             0.4444444444444444,
             "#bd3786"
            ],
            [
             0.5555555555555556,
             "#d8576b"
            ],
            [
             0.6666666666666666,
             "#ed7953"
            ],
            [
             0.7777777777777778,
             "#fb9f3a"
            ],
            [
             0.8888888888888888,
             "#fdca26"
            ],
            [
             1,
             "#f0f921"
            ]
           ]
          },
          "colorway": [
           "#636efa",
           "#EF553B",
           "#00cc96",
           "#ab63fa",
           "#FFA15A",
           "#19d3f3",
           "#FF6692",
           "#B6E880",
           "#FF97FF",
           "#FECB52"
          ],
          "font": {
           "color": "#2a3f5f"
          },
          "geo": {
           "bgcolor": "white",
           "lakecolor": "white",
           "landcolor": "#E5ECF6",
           "showlakes": true,
           "showland": true,
           "subunitcolor": "white"
          },
          "hoverlabel": {
           "align": "left"
          },
          "hovermode": "closest",
          "mapbox": {
           "style": "light"
          },
          "paper_bgcolor": "white",
          "plot_bgcolor": "#E5ECF6",
          "polar": {
           "angularaxis": {
            "gridcolor": "white",
            "linecolor": "white",
            "ticks": ""
           },
           "bgcolor": "#E5ECF6",
           "radialaxis": {
            "gridcolor": "white",
            "linecolor": "white",
            "ticks": ""
           }
          },
          "scene": {
           "xaxis": {
            "backgroundcolor": "#E5ECF6",
            "gridcolor": "white",
            "gridwidth": 2,
            "linecolor": "white",
            "showbackground": true,
            "ticks": "",
            "zerolinecolor": "white"
           },
           "yaxis": {
            "backgroundcolor": "#E5ECF6",
            "gridcolor": "white",
            "gridwidth": 2,
            "linecolor": "white",
            "showbackground": true,
            "ticks": "",
            "zerolinecolor": "white"
           },
           "zaxis": {
            "backgroundcolor": "#E5ECF6",
            "gridcolor": "white",
            "gridwidth": 2,
            "linecolor": "white",
            "showbackground": true,
            "ticks": "",
            "zerolinecolor": "white"
           }
          },
          "shapedefaults": {
           "line": {
            "color": "#2a3f5f"
           }
          },
          "ternary": {
           "aaxis": {
            "gridcolor": "white",
            "linecolor": "white",
            "ticks": ""
           },
           "baxis": {
            "gridcolor": "white",
            "linecolor": "white",
            "ticks": ""
           },
           "bgcolor": "#E5ECF6",
           "caxis": {
            "gridcolor": "white",
            "linecolor": "white",
            "ticks": ""
           }
          },
          "title": {
           "x": 0.05
          },
          "xaxis": {
           "automargin": true,
           "gridcolor": "white",
           "linecolor": "white",
           "ticks": "",
           "title": {
            "standoff": 15
           },
           "zerolinecolor": "white",
           "zerolinewidth": 2
          },
          "yaxis": {
           "automargin": true,
           "gridcolor": "white",
           "linecolor": "white",
           "ticks": "",
           "title": {
            "standoff": 15
           },
           "zerolinecolor": "white",
           "zerolinewidth": 2
          }
         }
        },
        "title": {
         "font": {
          "color": "#4D5663"
         }
        },
        "xaxis": {
         "gridcolor": "#E1E5ED",
         "showgrid": true,
         "tickfont": {
          "color": "#4D5663"
         },
         "title": {
          "font": {
           "color": "#4D5663"
          },
          "text": ""
         },
         "zerolinecolor": "#E1E5ED"
        },
        "yaxis": {
         "gridcolor": "#E1E5ED",
         "showgrid": true,
         "tickfont": {
          "color": "#4D5663"
         },
         "title": {
          "font": {
           "color": "#4D5663"
          },
          "text": ""
         },
         "zerolinecolor": "#E1E5ED"
        }
       }
      },
      "text/html": [
       "<div>                            <div id=\"520bc9d7-76ef-4a0d-a5ed-5f123fd4a201\" class=\"plotly-graph-div\" style=\"height:525px; width:100%;\"></div>            <script type=\"text/javascript\">                require([\"plotly\"], function(Plotly) {                    window.PLOTLYENV=window.PLOTLYENV || {};\n",
       "                    window.PLOTLYENV.BASE_URL='https://plot.ly';                                    if (document.getElementById(\"520bc9d7-76ef-4a0d-a5ed-5f123fd4a201\")) {                    Plotly.newPlot(                        \"520bc9d7-76ef-4a0d-a5ed-5f123fd4a201\",                        [{\"colorscale\":[[0.0,\"rgb(165,0,38)\"],[0.1,\"rgb(215,48,39)\"],[0.2,\"rgb(244,109,67)\"],[0.3,\"rgb(253,174,97)\"],[0.4,\"rgb(254,224,144)\"],[0.5,\"rgb(255,255,191)\"],[0.6,\"rgb(224,243,248)\"],[0.7,\"rgb(171,217,233)\"],[0.8,\"rgb(116,173,209)\"],[0.9,\"rgb(69,117,180)\"],[1.0,\"rgb(49,54,149)\"]],\"x\":[0,1,2,3,4],\"y\":[\"x\",\"y\",\"z\"],\"z\":[[1,2,3,4,5],[10,20,30,20,10],[5,4,3,2,1]],\"type\":\"surface\"}],                        {\"legend\":{\"bgcolor\":\"#F5F6F9\",\"font\":{\"color\":\"#4D5663\"}},\"paper_bgcolor\":\"#F5F6F9\",\"plot_bgcolor\":\"#F5F6F9\",\"template\":{\"data\":{\"barpolar\":[{\"marker\":{\"line\":{\"color\":\"#E5ECF6\",\"width\":0.5},\"pattern\":{\"fillmode\":\"overlay\",\"size\":10,\"solidity\":0.2}},\"type\":\"barpolar\"}],\"bar\":[{\"error_x\":{\"color\":\"#2a3f5f\"},\"error_y\":{\"color\":\"#2a3f5f\"},\"marker\":{\"line\":{\"color\":\"#E5ECF6\",\"width\":0.5},\"pattern\":{\"fillmode\":\"overlay\",\"size\":10,\"solidity\":0.2}},\"type\":\"bar\"}],\"carpet\":[{\"aaxis\":{\"endlinecolor\":\"#2a3f5f\",\"gridcolor\":\"white\",\"linecolor\":\"white\",\"minorgridcolor\":\"white\",\"startlinecolor\":\"#2a3f5f\"},\"baxis\":{\"endlinecolor\":\"#2a3f5f\",\"gridcolor\":\"white\",\"linecolor\":\"white\",\"minorgridcolor\":\"white\",\"startlinecolor\":\"#2a3f5f\"},\"type\":\"carpet\"}],\"choropleth\":[{\"colorbar\":{\"outlinewidth\":0,\"ticks\":\"\"},\"type\":\"choropleth\"}],\"contourcarpet\":[{\"colorbar\":{\"outlinewidth\":0,\"ticks\":\"\"},\"type\":\"contourcarpet\"}],\"contour\":[{\"colorbar\":{\"outlinewidth\":0,\"ticks\":\"\"},\"colorscale\":[[0.0,\"#0d0887\"],[0.1111111111111111,\"#46039f\"],[0.2222222222222222,\"#7201a8\"],[0.3333333333333333,\"#9c179e\"],[0.4444444444444444,\"#bd3786\"],[0.5555555555555556,\"#d8576b\"],[0.6666666666666666,\"#ed7953\"],[0.7777777777777778,\"#fb9f3a\"],[0.8888888888888888,\"#fdca26\"],[1.0,\"#f0f921\"]],\"type\":\"contour\"}],\"heatmapgl\":[{\"colorbar\":{\"outlinewidth\":0,\"ticks\":\"\"},\"colorscale\":[[0.0,\"#0d0887\"],[0.1111111111111111,\"#46039f\"],[0.2222222222222222,\"#7201a8\"],[0.3333333333333333,\"#9c179e\"],[0.4444444444444444,\"#bd3786\"],[0.5555555555555556,\"#d8576b\"],[0.6666666666666666,\"#ed7953\"],[0.7777777777777778,\"#fb9f3a\"],[0.8888888888888888,\"#fdca26\"],[1.0,\"#f0f921\"]],\"type\":\"heatmapgl\"}],\"heatmap\":[{\"colorbar\":{\"outlinewidth\":0,\"ticks\":\"\"},\"colorscale\":[[0.0,\"#0d0887\"],[0.1111111111111111,\"#46039f\"],[0.2222222222222222,\"#7201a8\"],[0.3333333333333333,\"#9c179e\"],[0.4444444444444444,\"#bd3786\"],[0.5555555555555556,\"#d8576b\"],[0.6666666666666666,\"#ed7953\"],[0.7777777777777778,\"#fb9f3a\"],[0.8888888888888888,\"#fdca26\"],[1.0,\"#f0f921\"]],\"type\":\"heatmap\"}],\"histogram2dcontour\":[{\"colorbar\":{\"outlinewidth\":0,\"ticks\":\"\"},\"colorscale\":[[0.0,\"#0d0887\"],[0.1111111111111111,\"#46039f\"],[0.2222222222222222,\"#7201a8\"],[0.3333333333333333,\"#9c179e\"],[0.4444444444444444,\"#bd3786\"],[0.5555555555555556,\"#d8576b\"],[0.6666666666666666,\"#ed7953\"],[0.7777777777777778,\"#fb9f3a\"],[0.8888888888888888,\"#fdca26\"],[1.0,\"#f0f921\"]],\"type\":\"histogram2dcontour\"}],\"histogram2d\":[{\"colorbar\":{\"outlinewidth\":0,\"ticks\":\"\"},\"colorscale\":[[0.0,\"#0d0887\"],[0.1111111111111111,\"#46039f\"],[0.2222222222222222,\"#7201a8\"],[0.3333333333333333,\"#9c179e\"],[0.4444444444444444,\"#bd3786\"],[0.5555555555555556,\"#d8576b\"],[0.6666666666666666,\"#ed7953\"],[0.7777777777777778,\"#fb9f3a\"],[0.8888888888888888,\"#fdca26\"],[1.0,\"#f0f921\"]],\"type\":\"histogram2d\"}],\"histogram\":[{\"marker\":{\"pattern\":{\"fillmode\":\"overlay\",\"size\":10,\"solidity\":0.2}},\"type\":\"histogram\"}],\"mesh3d\":[{\"colorbar\":{\"outlinewidth\":0,\"ticks\":\"\"},\"type\":\"mesh3d\"}],\"parcoords\":[{\"line\":{\"colorbar\":{\"outlinewidth\":0,\"ticks\":\"\"}},\"type\":\"parcoords\"}],\"pie\":[{\"automargin\":true,\"type\":\"pie\"}],\"scatter3d\":[{\"line\":{\"colorbar\":{\"outlinewidth\":0,\"ticks\":\"\"}},\"marker\":{\"colorbar\":{\"outlinewidth\":0,\"ticks\":\"\"}},\"type\":\"scatter3d\"}],\"scattercarpet\":[{\"marker\":{\"colorbar\":{\"outlinewidth\":0,\"ticks\":\"\"}},\"type\":\"scattercarpet\"}],\"scattergeo\":[{\"marker\":{\"colorbar\":{\"outlinewidth\":0,\"ticks\":\"\"}},\"type\":\"scattergeo\"}],\"scattergl\":[{\"marker\":{\"colorbar\":{\"outlinewidth\":0,\"ticks\":\"\"}},\"type\":\"scattergl\"}],\"scattermapbox\":[{\"marker\":{\"colorbar\":{\"outlinewidth\":0,\"ticks\":\"\"}},\"type\":\"scattermapbox\"}],\"scatterpolargl\":[{\"marker\":{\"colorbar\":{\"outlinewidth\":0,\"ticks\":\"\"}},\"type\":\"scatterpolargl\"}],\"scatterpolar\":[{\"marker\":{\"colorbar\":{\"outlinewidth\":0,\"ticks\":\"\"}},\"type\":\"scatterpolar\"}],\"scatter\":[{\"marker\":{\"colorbar\":{\"outlinewidth\":0,\"ticks\":\"\"}},\"type\":\"scatter\"}],\"scatterternary\":[{\"marker\":{\"colorbar\":{\"outlinewidth\":0,\"ticks\":\"\"}},\"type\":\"scatterternary\"}],\"surface\":[{\"colorbar\":{\"outlinewidth\":0,\"ticks\":\"\"},\"colorscale\":[[0.0,\"#0d0887\"],[0.1111111111111111,\"#46039f\"],[0.2222222222222222,\"#7201a8\"],[0.3333333333333333,\"#9c179e\"],[0.4444444444444444,\"#bd3786\"],[0.5555555555555556,\"#d8576b\"],[0.6666666666666666,\"#ed7953\"],[0.7777777777777778,\"#fb9f3a\"],[0.8888888888888888,\"#fdca26\"],[1.0,\"#f0f921\"]],\"type\":\"surface\"}],\"table\":[{\"cells\":{\"fill\":{\"color\":\"#EBF0F8\"},\"line\":{\"color\":\"white\"}},\"header\":{\"fill\":{\"color\":\"#C8D4E3\"},\"line\":{\"color\":\"white\"}},\"type\":\"table\"}]},\"layout\":{\"annotationdefaults\":{\"arrowcolor\":\"#2a3f5f\",\"arrowhead\":0,\"arrowwidth\":1},\"autotypenumbers\":\"strict\",\"coloraxis\":{\"colorbar\":{\"outlinewidth\":0,\"ticks\":\"\"}},\"colorscale\":{\"diverging\":[[0,\"#8e0152\"],[0.1,\"#c51b7d\"],[0.2,\"#de77ae\"],[0.3,\"#f1b6da\"],[0.4,\"#fde0ef\"],[0.5,\"#f7f7f7\"],[0.6,\"#e6f5d0\"],[0.7,\"#b8e186\"],[0.8,\"#7fbc41\"],[0.9,\"#4d9221\"],[1,\"#276419\"]],\"sequential\":[[0.0,\"#0d0887\"],[0.1111111111111111,\"#46039f\"],[0.2222222222222222,\"#7201a8\"],[0.3333333333333333,\"#9c179e\"],[0.4444444444444444,\"#bd3786\"],[0.5555555555555556,\"#d8576b\"],[0.6666666666666666,\"#ed7953\"],[0.7777777777777778,\"#fb9f3a\"],[0.8888888888888888,\"#fdca26\"],[1.0,\"#f0f921\"]],\"sequentialminus\":[[0.0,\"#0d0887\"],[0.1111111111111111,\"#46039f\"],[0.2222222222222222,\"#7201a8\"],[0.3333333333333333,\"#9c179e\"],[0.4444444444444444,\"#bd3786\"],[0.5555555555555556,\"#d8576b\"],[0.6666666666666666,\"#ed7953\"],[0.7777777777777778,\"#fb9f3a\"],[0.8888888888888888,\"#fdca26\"],[1.0,\"#f0f921\"]]},\"colorway\":[\"#636efa\",\"#EF553B\",\"#00cc96\",\"#ab63fa\",\"#FFA15A\",\"#19d3f3\",\"#FF6692\",\"#B6E880\",\"#FF97FF\",\"#FECB52\"],\"font\":{\"color\":\"#2a3f5f\"},\"geo\":{\"bgcolor\":\"white\",\"lakecolor\":\"white\",\"landcolor\":\"#E5ECF6\",\"showlakes\":true,\"showland\":true,\"subunitcolor\":\"white\"},\"hoverlabel\":{\"align\":\"left\"},\"hovermode\":\"closest\",\"mapbox\":{\"style\":\"light\"},\"paper_bgcolor\":\"white\",\"plot_bgcolor\":\"#E5ECF6\",\"polar\":{\"angularaxis\":{\"gridcolor\":\"white\",\"linecolor\":\"white\",\"ticks\":\"\"},\"bgcolor\":\"#E5ECF6\",\"radialaxis\":{\"gridcolor\":\"white\",\"linecolor\":\"white\",\"ticks\":\"\"}},\"scene\":{\"xaxis\":{\"backgroundcolor\":\"#E5ECF6\",\"gridcolor\":\"white\",\"gridwidth\":2,\"linecolor\":\"white\",\"showbackground\":true,\"ticks\":\"\",\"zerolinecolor\":\"white\"},\"yaxis\":{\"backgroundcolor\":\"#E5ECF6\",\"gridcolor\":\"white\",\"gridwidth\":2,\"linecolor\":\"white\",\"showbackground\":true,\"ticks\":\"\",\"zerolinecolor\":\"white\"},\"zaxis\":{\"backgroundcolor\":\"#E5ECF6\",\"gridcolor\":\"white\",\"gridwidth\":2,\"linecolor\":\"white\",\"showbackground\":true,\"ticks\":\"\",\"zerolinecolor\":\"white\"}},\"shapedefaults\":{\"line\":{\"color\":\"#2a3f5f\"}},\"ternary\":{\"aaxis\":{\"gridcolor\":\"white\",\"linecolor\":\"white\",\"ticks\":\"\"},\"baxis\":{\"gridcolor\":\"white\",\"linecolor\":\"white\",\"ticks\":\"\"},\"bgcolor\":\"#E5ECF6\",\"caxis\":{\"gridcolor\":\"white\",\"linecolor\":\"white\",\"ticks\":\"\"}},\"title\":{\"x\":0.05},\"xaxis\":{\"automargin\":true,\"gridcolor\":\"white\",\"linecolor\":\"white\",\"ticks\":\"\",\"title\":{\"standoff\":15},\"zerolinecolor\":\"white\",\"zerolinewidth\":2},\"yaxis\":{\"automargin\":true,\"gridcolor\":\"white\",\"linecolor\":\"white\",\"ticks\":\"\",\"title\":{\"standoff\":15},\"zerolinecolor\":\"white\",\"zerolinewidth\":2}}},\"title\":{\"font\":{\"color\":\"#4D5663\"}},\"xaxis\":{\"gridcolor\":\"#E1E5ED\",\"showgrid\":true,\"tickfont\":{\"color\":\"#4D5663\"},\"title\":{\"font\":{\"color\":\"#4D5663\"},\"text\":\"\"},\"zerolinecolor\":\"#E1E5ED\"},\"yaxis\":{\"gridcolor\":\"#E1E5ED\",\"showgrid\":true,\"tickfont\":{\"color\":\"#4D5663\"},\"title\":{\"font\":{\"color\":\"#4D5663\"},\"text\":\"\"},\"zerolinecolor\":\"#E1E5ED\"}},                        {\"showLink\": true, \"linkText\": \"Export to plot.ly\", \"plotlyServerURL\": \"https://plot.ly\", \"responsive\": true}                    ).then(function(){\n",
       "                            \n",
       "var gd = document.getElementById('520bc9d7-76ef-4a0d-a5ed-5f123fd4a201');\n",
       "var x = new MutationObserver(function (mutations, observer) {{\n",
       "        var display = window.getComputedStyle(gd).display;\n",
       "        if (!display || display === 'none') {{\n",
       "            console.log([gd, 'removed!']);\n",
       "            Plotly.purge(gd);\n",
       "            observer.disconnect();\n",
       "        }}\n",
       "}});\n",
       "\n",
       "// Listen for the removal of the full notebook cells\n",
       "var notebookContainer = gd.closest('#notebook-container');\n",
       "if (notebookContainer) {{\n",
       "    x.observe(notebookContainer, {childList: true});\n",
       "}}\n",
       "\n",
       "// Listen for the clearing of the current output cell\n",
       "var outputEl = gd.closest('.output');\n",
       "if (outputEl) {{\n",
       "    x.observe(outputEl, {childList: true});\n",
       "}}\n",
       "\n",
       "                        })                };                });            </script>        </div>"
      ]
     },
     "metadata": {},
     "output_type": "display_data"
    }
   ],
   "source": [
    "df3.iplot(kind='surface',colorscale='rdylbu')"
   ]
  },
  {
   "cell_type": "code",
   "execution_count": 34,
   "id": "32debc5b",
   "metadata": {},
   "outputs": [
    {
     "data": {
      "application/vnd.plotly.v1+json": {
       "config": {
        "linkText": "Export to plot.ly",
        "plotlyServerURL": "https://plot.ly",
        "showLink": true
       },
       "data": [
        {
         "colorscale": [
          [
           0,
           "rgb(255, 153, 51)"
          ],
          [
           0.1111111111111111,
           "rgb(55, 128, 191)"
          ],
          [
           0.2222222222222222,
           "rgb(50, 171, 96)"
          ],
          [
           0.3333333333333333,
           "rgb(128, 0, 128)"
          ],
          [
           0.4444444444444444,
           "rgb(219, 64, 82)"
          ],
          [
           0.5555555555555556,
           "rgb(0, 128, 128)"
          ],
          [
           0.6666666666666666,
           "rgb(255, 255, 51)"
          ],
          [
           0.7777777777777778,
           "rgb(128, 128, 0)"
          ],
          [
           0.8888888888888888,
           "rgb(251, 128, 114)"
          ],
          [
           1,
           "rgb(128, 177, 211)"
          ]
         ],
         "type": "surface",
         "x": [
          0,
          1,
          2,
          3,
          4
         ],
         "y": [
          "x",
          "y",
          "z"
         ],
         "z": [
          [
           1,
           2,
           3,
           4,
           5
          ],
          [
           10,
           20,
           30,
           20,
           10
          ],
          [
           5,
           4,
           3,
           2,
           1
          ]
         ]
        }
       ],
       "layout": {
        "legend": {
         "bgcolor": "#F5F6F9",
         "font": {
          "color": "#4D5663"
         }
        },
        "paper_bgcolor": "#F5F6F9",
        "plot_bgcolor": "#F5F6F9",
        "template": {
         "data": {
          "bar": [
           {
            "error_x": {
             "color": "#2a3f5f"
            },
            "error_y": {
             "color": "#2a3f5f"
            },
            "marker": {
             "line": {
              "color": "#E5ECF6",
              "width": 0.5
             },
             "pattern": {
              "fillmode": "overlay",
              "size": 10,
              "solidity": 0.2
             }
            },
            "type": "bar"
           }
          ],
          "barpolar": [
           {
            "marker": {
             "line": {
              "color": "#E5ECF6",
              "width": 0.5
             },
             "pattern": {
              "fillmode": "overlay",
              "size": 10,
              "solidity": 0.2
             }
            },
            "type": "barpolar"
           }
          ],
          "carpet": [
           {
            "aaxis": {
             "endlinecolor": "#2a3f5f",
             "gridcolor": "white",
             "linecolor": "white",
             "minorgridcolor": "white",
             "startlinecolor": "#2a3f5f"
            },
            "baxis": {
             "endlinecolor": "#2a3f5f",
             "gridcolor": "white",
             "linecolor": "white",
             "minorgridcolor": "white",
             "startlinecolor": "#2a3f5f"
            },
            "type": "carpet"
           }
          ],
          "choropleth": [
           {
            "colorbar": {
             "outlinewidth": 0,
             "ticks": ""
            },
            "type": "choropleth"
           }
          ],
          "contour": [
           {
            "colorbar": {
             "outlinewidth": 0,
             "ticks": ""
            },
            "colorscale": [
             [
              0,
              "#0d0887"
             ],
             [
              0.1111111111111111,
              "#46039f"
             ],
             [
              0.2222222222222222,
              "#7201a8"
             ],
             [
              0.3333333333333333,
              "#9c179e"
             ],
             [
              0.4444444444444444,
              "#bd3786"
             ],
             [
              0.5555555555555556,
              "#d8576b"
             ],
             [
              0.6666666666666666,
              "#ed7953"
             ],
             [
              0.7777777777777778,
              "#fb9f3a"
             ],
             [
              0.8888888888888888,
              "#fdca26"
             ],
             [
              1,
              "#f0f921"
             ]
            ],
            "type": "contour"
           }
          ],
          "contourcarpet": [
           {
            "colorbar": {
             "outlinewidth": 0,
             "ticks": ""
            },
            "type": "contourcarpet"
           }
          ],
          "heatmap": [
           {
            "colorbar": {
             "outlinewidth": 0,
             "ticks": ""
            },
            "colorscale": [
             [
              0,
              "#0d0887"
             ],
             [
              0.1111111111111111,
              "#46039f"
             ],
             [
              0.2222222222222222,
              "#7201a8"
             ],
             [
              0.3333333333333333,
              "#9c179e"
             ],
             [
              0.4444444444444444,
              "#bd3786"
             ],
             [
              0.5555555555555556,
              "#d8576b"
             ],
             [
              0.6666666666666666,
              "#ed7953"
             ],
             [
              0.7777777777777778,
              "#fb9f3a"
             ],
             [
              0.8888888888888888,
              "#fdca26"
             ],
             [
              1,
              "#f0f921"
             ]
            ],
            "type": "heatmap"
           }
          ],
          "heatmapgl": [
           {
            "colorbar": {
             "outlinewidth": 0,
             "ticks": ""
            },
            "colorscale": [
             [
              0,
              "#0d0887"
             ],
             [
              0.1111111111111111,
              "#46039f"
             ],
             [
              0.2222222222222222,
              "#7201a8"
             ],
             [
              0.3333333333333333,
              "#9c179e"
             ],
             [
              0.4444444444444444,
              "#bd3786"
             ],
             [
              0.5555555555555556,
              "#d8576b"
             ],
             [
              0.6666666666666666,
              "#ed7953"
             ],
             [
              0.7777777777777778,
              "#fb9f3a"
             ],
             [
              0.8888888888888888,
              "#fdca26"
             ],
             [
              1,
              "#f0f921"
             ]
            ],
            "type": "heatmapgl"
           }
          ],
          "histogram": [
           {
            "marker": {
             "pattern": {
              "fillmode": "overlay",
              "size": 10,
              "solidity": 0.2
             }
            },
            "type": "histogram"
           }
          ],
          "histogram2d": [
           {
            "colorbar": {
             "outlinewidth": 0,
             "ticks": ""
            },
            "colorscale": [
             [
              0,
              "#0d0887"
             ],
             [
              0.1111111111111111,
              "#46039f"
             ],
             [
              0.2222222222222222,
              "#7201a8"
             ],
             [
              0.3333333333333333,
              "#9c179e"
             ],
             [
              0.4444444444444444,
              "#bd3786"
             ],
             [
              0.5555555555555556,
              "#d8576b"
             ],
             [
              0.6666666666666666,
              "#ed7953"
             ],
             [
              0.7777777777777778,
              "#fb9f3a"
             ],
             [
              0.8888888888888888,
              "#fdca26"
             ],
             [
              1,
              "#f0f921"
             ]
            ],
            "type": "histogram2d"
           }
          ],
          "histogram2dcontour": [
           {
            "colorbar": {
             "outlinewidth": 0,
             "ticks": ""
            },
            "colorscale": [
             [
              0,
              "#0d0887"
             ],
             [
              0.1111111111111111,
              "#46039f"
             ],
             [
              0.2222222222222222,
              "#7201a8"
             ],
             [
              0.3333333333333333,
              "#9c179e"
             ],
             [
              0.4444444444444444,
              "#bd3786"
             ],
             [
              0.5555555555555556,
              "#d8576b"
             ],
             [
              0.6666666666666666,
              "#ed7953"
             ],
             [
              0.7777777777777778,
              "#fb9f3a"
             ],
             [
              0.8888888888888888,
              "#fdca26"
             ],
             [
              1,
              "#f0f921"
             ]
            ],
            "type": "histogram2dcontour"
           }
          ],
          "mesh3d": [
           {
            "colorbar": {
             "outlinewidth": 0,
             "ticks": ""
            },
            "type": "mesh3d"
           }
          ],
          "parcoords": [
           {
            "line": {
             "colorbar": {
              "outlinewidth": 0,
              "ticks": ""
             }
            },
            "type": "parcoords"
           }
          ],
          "pie": [
           {
            "automargin": true,
            "type": "pie"
           }
          ],
          "scatter": [
           {
            "marker": {
             "colorbar": {
              "outlinewidth": 0,
              "ticks": ""
             }
            },
            "type": "scatter"
           }
          ],
          "scatter3d": [
           {
            "line": {
             "colorbar": {
              "outlinewidth": 0,
              "ticks": ""
             }
            },
            "marker": {
             "colorbar": {
              "outlinewidth": 0,
              "ticks": ""
             }
            },
            "type": "scatter3d"
           }
          ],
          "scattercarpet": [
           {
            "marker": {
             "colorbar": {
              "outlinewidth": 0,
              "ticks": ""
             }
            },
            "type": "scattercarpet"
           }
          ],
          "scattergeo": [
           {
            "marker": {
             "colorbar": {
              "outlinewidth": 0,
              "ticks": ""
             }
            },
            "type": "scattergeo"
           }
          ],
          "scattergl": [
           {
            "marker": {
             "colorbar": {
              "outlinewidth": 0,
              "ticks": ""
             }
            },
            "type": "scattergl"
           }
          ],
          "scattermapbox": [
           {
            "marker": {
             "colorbar": {
              "outlinewidth": 0,
              "ticks": ""
             }
            },
            "type": "scattermapbox"
           }
          ],
          "scatterpolar": [
           {
            "marker": {
             "colorbar": {
              "outlinewidth": 0,
              "ticks": ""
             }
            },
            "type": "scatterpolar"
           }
          ],
          "scatterpolargl": [
           {
            "marker": {
             "colorbar": {
              "outlinewidth": 0,
              "ticks": ""
             }
            },
            "type": "scatterpolargl"
           }
          ],
          "scatterternary": [
           {
            "marker": {
             "colorbar": {
              "outlinewidth": 0,
              "ticks": ""
             }
            },
            "type": "scatterternary"
           }
          ],
          "surface": [
           {
            "colorbar": {
             "outlinewidth": 0,
             "ticks": ""
            },
            "colorscale": [
             [
              0,
              "#0d0887"
             ],
             [
              0.1111111111111111,
              "#46039f"
             ],
             [
              0.2222222222222222,
              "#7201a8"
             ],
             [
              0.3333333333333333,
              "#9c179e"
             ],
             [
              0.4444444444444444,
              "#bd3786"
             ],
             [
              0.5555555555555556,
              "#d8576b"
             ],
             [
              0.6666666666666666,
              "#ed7953"
             ],
             [
              0.7777777777777778,
              "#fb9f3a"
             ],
             [
              0.8888888888888888,
              "#fdca26"
             ],
             [
              1,
              "#f0f921"
             ]
            ],
            "type": "surface"
           }
          ],
          "table": [
           {
            "cells": {
             "fill": {
              "color": "#EBF0F8"
             },
             "line": {
              "color": "white"
             }
            },
            "header": {
             "fill": {
              "color": "#C8D4E3"
             },
             "line": {
              "color": "white"
             }
            },
            "type": "table"
           }
          ]
         },
         "layout": {
          "annotationdefaults": {
           "arrowcolor": "#2a3f5f",
           "arrowhead": 0,
           "arrowwidth": 1
          },
          "autotypenumbers": "strict",
          "coloraxis": {
           "colorbar": {
            "outlinewidth": 0,
            "ticks": ""
           }
          },
          "colorscale": {
           "diverging": [
            [
             0,
             "#8e0152"
            ],
            [
             0.1,
             "#c51b7d"
            ],
            [
             0.2,
             "#de77ae"
            ],
            [
             0.3,
             "#f1b6da"
            ],
            [
             0.4,
             "#fde0ef"
            ],
            [
             0.5,
             "#f7f7f7"
            ],
            [
             0.6,
             "#e6f5d0"
            ],
            [
             0.7,
             "#b8e186"
            ],
            [
             0.8,
             "#7fbc41"
            ],
            [
             0.9,
             "#4d9221"
            ],
            [
             1,
             "#276419"
            ]
           ],
           "sequential": [
            [
             0,
             "#0d0887"
            ],
            [
             0.1111111111111111,
             "#46039f"
            ],
            [
             0.2222222222222222,
             "#7201a8"
            ],
            [
             0.3333333333333333,
             "#9c179e"
            ],
            [
             0.4444444444444444,
             "#bd3786"
            ],
            [
             0.5555555555555556,
             "#d8576b"
            ],
            [
             0.6666666666666666,
             "#ed7953"
            ],
            [
             0.7777777777777778,
             "#fb9f3a"
            ],
            [
             0.8888888888888888,
             "#fdca26"
            ],
            [
             1,
             "#f0f921"
            ]
           ],
           "sequentialminus": [
            [
             0,
             "#0d0887"
            ],
            [
             0.1111111111111111,
             "#46039f"
            ],
            [
             0.2222222222222222,
             "#7201a8"
            ],
            [
             0.3333333333333333,
             "#9c179e"
            ],
            [
             0.4444444444444444,
             "#bd3786"
            ],
            [
             0.5555555555555556,
             "#d8576b"
            ],
            [
             0.6666666666666666,
             "#ed7953"
            ],
            [
             0.7777777777777778,
             "#fb9f3a"
            ],
            [
             0.8888888888888888,
             "#fdca26"
            ],
            [
             1,
             "#f0f921"
            ]
           ]
          },
          "colorway": [
           "#636efa",
           "#EF553B",
           "#00cc96",
           "#ab63fa",
           "#FFA15A",
           "#19d3f3",
           "#FF6692",
           "#B6E880",
           "#FF97FF",
           "#FECB52"
          ],
          "font": {
           "color": "#2a3f5f"
          },
          "geo": {
           "bgcolor": "white",
           "lakecolor": "white",
           "landcolor": "#E5ECF6",
           "showlakes": true,
           "showland": true,
           "subunitcolor": "white"
          },
          "hoverlabel": {
           "align": "left"
          },
          "hovermode": "closest",
          "mapbox": {
           "style": "light"
          },
          "paper_bgcolor": "white",
          "plot_bgcolor": "#E5ECF6",
          "polar": {
           "angularaxis": {
            "gridcolor": "white",
            "linecolor": "white",
            "ticks": ""
           },
           "bgcolor": "#E5ECF6",
           "radialaxis": {
            "gridcolor": "white",
            "linecolor": "white",
            "ticks": ""
           }
          },
          "scene": {
           "xaxis": {
            "backgroundcolor": "#E5ECF6",
            "gridcolor": "white",
            "gridwidth": 2,
            "linecolor": "white",
            "showbackground": true,
            "ticks": "",
            "zerolinecolor": "white"
           },
           "yaxis": {
            "backgroundcolor": "#E5ECF6",
            "gridcolor": "white",
            "gridwidth": 2,
            "linecolor": "white",
            "showbackground": true,
            "ticks": "",
            "zerolinecolor": "white"
           },
           "zaxis": {
            "backgroundcolor": "#E5ECF6",
            "gridcolor": "white",
            "gridwidth": 2,
            "linecolor": "white",
            "showbackground": true,
            "ticks": "",
            "zerolinecolor": "white"
           }
          },
          "shapedefaults": {
           "line": {
            "color": "#2a3f5f"
           }
          },
          "ternary": {
           "aaxis": {
            "gridcolor": "white",
            "linecolor": "white",
            "ticks": ""
           },
           "baxis": {
            "gridcolor": "white",
            "linecolor": "white",
            "ticks": ""
           },
           "bgcolor": "#E5ECF6",
           "caxis": {
            "gridcolor": "white",
            "linecolor": "white",
            "ticks": ""
           }
          },
          "title": {
           "x": 0.05
          },
          "xaxis": {
           "automargin": true,
           "gridcolor": "white",
           "linecolor": "white",
           "ticks": "",
           "title": {
            "standoff": 15
           },
           "zerolinecolor": "white",
           "zerolinewidth": 2
          },
          "yaxis": {
           "automargin": true,
           "gridcolor": "white",
           "linecolor": "white",
           "ticks": "",
           "title": {
            "standoff": 15
           },
           "zerolinecolor": "white",
           "zerolinewidth": 2
          }
         }
        },
        "title": {
         "font": {
          "color": "#4D5663"
         }
        },
        "xaxis": {
         "gridcolor": "#E1E5ED",
         "showgrid": true,
         "tickfont": {
          "color": "#4D5663"
         },
         "title": {
          "font": {
           "color": "#4D5663"
          },
          "text": ""
         },
         "zerolinecolor": "#E1E5ED"
        },
        "yaxis": {
         "gridcolor": "#E1E5ED",
         "showgrid": true,
         "tickfont": {
          "color": "#4D5663"
         },
         "title": {
          "font": {
           "color": "#4D5663"
          },
          "text": ""
         },
         "zerolinecolor": "#E1E5ED"
        }
       }
      },
      "text/html": [
       "<div>                            <div id=\"748e6df8-a099-4480-919e-40940d797d15\" class=\"plotly-graph-div\" style=\"height:525px; width:100%;\"></div>            <script type=\"text/javascript\">                require([\"plotly\"], function(Plotly) {                    window.PLOTLYENV=window.PLOTLYENV || {};\n",
       "                    window.PLOTLYENV.BASE_URL='https://plot.ly';                                    if (document.getElementById(\"748e6df8-a099-4480-919e-40940d797d15\")) {                    Plotly.newPlot(                        \"748e6df8-a099-4480-919e-40940d797d15\",                        [{\"colorscale\":[[0.0,\"rgb(255, 153, 51)\"],[0.1111111111111111,\"rgb(55, 128, 191)\"],[0.2222222222222222,\"rgb(50, 171, 96)\"],[0.3333333333333333,\"rgb(128, 0, 128)\"],[0.4444444444444444,\"rgb(219, 64, 82)\"],[0.5555555555555556,\"rgb(0, 128, 128)\"],[0.6666666666666666,\"rgb(255, 255, 51)\"],[0.7777777777777778,\"rgb(128, 128, 0)\"],[0.8888888888888888,\"rgb(251, 128, 114)\"],[1.0,\"rgb(128, 177, 211)\"]],\"x\":[0,1,2,3,4],\"y\":[\"x\",\"y\",\"z\"],\"z\":[[1,2,3,4,5],[10,20,30,20,10],[5,4,3,2,1]],\"type\":\"surface\"}],                        {\"legend\":{\"bgcolor\":\"#F5F6F9\",\"font\":{\"color\":\"#4D5663\"}},\"paper_bgcolor\":\"#F5F6F9\",\"plot_bgcolor\":\"#F5F6F9\",\"template\":{\"data\":{\"barpolar\":[{\"marker\":{\"line\":{\"color\":\"#E5ECF6\",\"width\":0.5},\"pattern\":{\"fillmode\":\"overlay\",\"size\":10,\"solidity\":0.2}},\"type\":\"barpolar\"}],\"bar\":[{\"error_x\":{\"color\":\"#2a3f5f\"},\"error_y\":{\"color\":\"#2a3f5f\"},\"marker\":{\"line\":{\"color\":\"#E5ECF6\",\"width\":0.5},\"pattern\":{\"fillmode\":\"overlay\",\"size\":10,\"solidity\":0.2}},\"type\":\"bar\"}],\"carpet\":[{\"aaxis\":{\"endlinecolor\":\"#2a3f5f\",\"gridcolor\":\"white\",\"linecolor\":\"white\",\"minorgridcolor\":\"white\",\"startlinecolor\":\"#2a3f5f\"},\"baxis\":{\"endlinecolor\":\"#2a3f5f\",\"gridcolor\":\"white\",\"linecolor\":\"white\",\"minorgridcolor\":\"white\",\"startlinecolor\":\"#2a3f5f\"},\"type\":\"carpet\"}],\"choropleth\":[{\"colorbar\":{\"outlinewidth\":0,\"ticks\":\"\"},\"type\":\"choropleth\"}],\"contourcarpet\":[{\"colorbar\":{\"outlinewidth\":0,\"ticks\":\"\"},\"type\":\"contourcarpet\"}],\"contour\":[{\"colorbar\":{\"outlinewidth\":0,\"ticks\":\"\"},\"colorscale\":[[0.0,\"#0d0887\"],[0.1111111111111111,\"#46039f\"],[0.2222222222222222,\"#7201a8\"],[0.3333333333333333,\"#9c179e\"],[0.4444444444444444,\"#bd3786\"],[0.5555555555555556,\"#d8576b\"],[0.6666666666666666,\"#ed7953\"],[0.7777777777777778,\"#fb9f3a\"],[0.8888888888888888,\"#fdca26\"],[1.0,\"#f0f921\"]],\"type\":\"contour\"}],\"heatmapgl\":[{\"colorbar\":{\"outlinewidth\":0,\"ticks\":\"\"},\"colorscale\":[[0.0,\"#0d0887\"],[0.1111111111111111,\"#46039f\"],[0.2222222222222222,\"#7201a8\"],[0.3333333333333333,\"#9c179e\"],[0.4444444444444444,\"#bd3786\"],[0.5555555555555556,\"#d8576b\"],[0.6666666666666666,\"#ed7953\"],[0.7777777777777778,\"#fb9f3a\"],[0.8888888888888888,\"#fdca26\"],[1.0,\"#f0f921\"]],\"type\":\"heatmapgl\"}],\"heatmap\":[{\"colorbar\":{\"outlinewidth\":0,\"ticks\":\"\"},\"colorscale\":[[0.0,\"#0d0887\"],[0.1111111111111111,\"#46039f\"],[0.2222222222222222,\"#7201a8\"],[0.3333333333333333,\"#9c179e\"],[0.4444444444444444,\"#bd3786\"],[0.5555555555555556,\"#d8576b\"],[0.6666666666666666,\"#ed7953\"],[0.7777777777777778,\"#fb9f3a\"],[0.8888888888888888,\"#fdca26\"],[1.0,\"#f0f921\"]],\"type\":\"heatmap\"}],\"histogram2dcontour\":[{\"colorbar\":{\"outlinewidth\":0,\"ticks\":\"\"},\"colorscale\":[[0.0,\"#0d0887\"],[0.1111111111111111,\"#46039f\"],[0.2222222222222222,\"#7201a8\"],[0.3333333333333333,\"#9c179e\"],[0.4444444444444444,\"#bd3786\"],[0.5555555555555556,\"#d8576b\"],[0.6666666666666666,\"#ed7953\"],[0.7777777777777778,\"#fb9f3a\"],[0.8888888888888888,\"#fdca26\"],[1.0,\"#f0f921\"]],\"type\":\"histogram2dcontour\"}],\"histogram2d\":[{\"colorbar\":{\"outlinewidth\":0,\"ticks\":\"\"},\"colorscale\":[[0.0,\"#0d0887\"],[0.1111111111111111,\"#46039f\"],[0.2222222222222222,\"#7201a8\"],[0.3333333333333333,\"#9c179e\"],[0.4444444444444444,\"#bd3786\"],[0.5555555555555556,\"#d8576b\"],[0.6666666666666666,\"#ed7953\"],[0.7777777777777778,\"#fb9f3a\"],[0.8888888888888888,\"#fdca26\"],[1.0,\"#f0f921\"]],\"type\":\"histogram2d\"}],\"histogram\":[{\"marker\":{\"pattern\":{\"fillmode\":\"overlay\",\"size\":10,\"solidity\":0.2}},\"type\":\"histogram\"}],\"mesh3d\":[{\"colorbar\":{\"outlinewidth\":0,\"ticks\":\"\"},\"type\":\"mesh3d\"}],\"parcoords\":[{\"line\":{\"colorbar\":{\"outlinewidth\":0,\"ticks\":\"\"}},\"type\":\"parcoords\"}],\"pie\":[{\"automargin\":true,\"type\":\"pie\"}],\"scatter3d\":[{\"line\":{\"colorbar\":{\"outlinewidth\":0,\"ticks\":\"\"}},\"marker\":{\"colorbar\":{\"outlinewidth\":0,\"ticks\":\"\"}},\"type\":\"scatter3d\"}],\"scattercarpet\":[{\"marker\":{\"colorbar\":{\"outlinewidth\":0,\"ticks\":\"\"}},\"type\":\"scattercarpet\"}],\"scattergeo\":[{\"marker\":{\"colorbar\":{\"outlinewidth\":0,\"ticks\":\"\"}},\"type\":\"scattergeo\"}],\"scattergl\":[{\"marker\":{\"colorbar\":{\"outlinewidth\":0,\"ticks\":\"\"}},\"type\":\"scattergl\"}],\"scattermapbox\":[{\"marker\":{\"colorbar\":{\"outlinewidth\":0,\"ticks\":\"\"}},\"type\":\"scattermapbox\"}],\"scatterpolargl\":[{\"marker\":{\"colorbar\":{\"outlinewidth\":0,\"ticks\":\"\"}},\"type\":\"scatterpolargl\"}],\"scatterpolar\":[{\"marker\":{\"colorbar\":{\"outlinewidth\":0,\"ticks\":\"\"}},\"type\":\"scatterpolar\"}],\"scatter\":[{\"marker\":{\"colorbar\":{\"outlinewidth\":0,\"ticks\":\"\"}},\"type\":\"scatter\"}],\"scatterternary\":[{\"marker\":{\"colorbar\":{\"outlinewidth\":0,\"ticks\":\"\"}},\"type\":\"scatterternary\"}],\"surface\":[{\"colorbar\":{\"outlinewidth\":0,\"ticks\":\"\"},\"colorscale\":[[0.0,\"#0d0887\"],[0.1111111111111111,\"#46039f\"],[0.2222222222222222,\"#7201a8\"],[0.3333333333333333,\"#9c179e\"],[0.4444444444444444,\"#bd3786\"],[0.5555555555555556,\"#d8576b\"],[0.6666666666666666,\"#ed7953\"],[0.7777777777777778,\"#fb9f3a\"],[0.8888888888888888,\"#fdca26\"],[1.0,\"#f0f921\"]],\"type\":\"surface\"}],\"table\":[{\"cells\":{\"fill\":{\"color\":\"#EBF0F8\"},\"line\":{\"color\":\"white\"}},\"header\":{\"fill\":{\"color\":\"#C8D4E3\"},\"line\":{\"color\":\"white\"}},\"type\":\"table\"}]},\"layout\":{\"annotationdefaults\":{\"arrowcolor\":\"#2a3f5f\",\"arrowhead\":0,\"arrowwidth\":1},\"autotypenumbers\":\"strict\",\"coloraxis\":{\"colorbar\":{\"outlinewidth\":0,\"ticks\":\"\"}},\"colorscale\":{\"diverging\":[[0,\"#8e0152\"],[0.1,\"#c51b7d\"],[0.2,\"#de77ae\"],[0.3,\"#f1b6da\"],[0.4,\"#fde0ef\"],[0.5,\"#f7f7f7\"],[0.6,\"#e6f5d0\"],[0.7,\"#b8e186\"],[0.8,\"#7fbc41\"],[0.9,\"#4d9221\"],[1,\"#276419\"]],\"sequential\":[[0.0,\"#0d0887\"],[0.1111111111111111,\"#46039f\"],[0.2222222222222222,\"#7201a8\"],[0.3333333333333333,\"#9c179e\"],[0.4444444444444444,\"#bd3786\"],[0.5555555555555556,\"#d8576b\"],[0.6666666666666666,\"#ed7953\"],[0.7777777777777778,\"#fb9f3a\"],[0.8888888888888888,\"#fdca26\"],[1.0,\"#f0f921\"]],\"sequentialminus\":[[0.0,\"#0d0887\"],[0.1111111111111111,\"#46039f\"],[0.2222222222222222,\"#7201a8\"],[0.3333333333333333,\"#9c179e\"],[0.4444444444444444,\"#bd3786\"],[0.5555555555555556,\"#d8576b\"],[0.6666666666666666,\"#ed7953\"],[0.7777777777777778,\"#fb9f3a\"],[0.8888888888888888,\"#fdca26\"],[1.0,\"#f0f921\"]]},\"colorway\":[\"#636efa\",\"#EF553B\",\"#00cc96\",\"#ab63fa\",\"#FFA15A\",\"#19d3f3\",\"#FF6692\",\"#B6E880\",\"#FF97FF\",\"#FECB52\"],\"font\":{\"color\":\"#2a3f5f\"},\"geo\":{\"bgcolor\":\"white\",\"lakecolor\":\"white\",\"landcolor\":\"#E5ECF6\",\"showlakes\":true,\"showland\":true,\"subunitcolor\":\"white\"},\"hoverlabel\":{\"align\":\"left\"},\"hovermode\":\"closest\",\"mapbox\":{\"style\":\"light\"},\"paper_bgcolor\":\"white\",\"plot_bgcolor\":\"#E5ECF6\",\"polar\":{\"angularaxis\":{\"gridcolor\":\"white\",\"linecolor\":\"white\",\"ticks\":\"\"},\"bgcolor\":\"#E5ECF6\",\"radialaxis\":{\"gridcolor\":\"white\",\"linecolor\":\"white\",\"ticks\":\"\"}},\"scene\":{\"xaxis\":{\"backgroundcolor\":\"#E5ECF6\",\"gridcolor\":\"white\",\"gridwidth\":2,\"linecolor\":\"white\",\"showbackground\":true,\"ticks\":\"\",\"zerolinecolor\":\"white\"},\"yaxis\":{\"backgroundcolor\":\"#E5ECF6\",\"gridcolor\":\"white\",\"gridwidth\":2,\"linecolor\":\"white\",\"showbackground\":true,\"ticks\":\"\",\"zerolinecolor\":\"white\"},\"zaxis\":{\"backgroundcolor\":\"#E5ECF6\",\"gridcolor\":\"white\",\"gridwidth\":2,\"linecolor\":\"white\",\"showbackground\":true,\"ticks\":\"\",\"zerolinecolor\":\"white\"}},\"shapedefaults\":{\"line\":{\"color\":\"#2a3f5f\"}},\"ternary\":{\"aaxis\":{\"gridcolor\":\"white\",\"linecolor\":\"white\",\"ticks\":\"\"},\"baxis\":{\"gridcolor\":\"white\",\"linecolor\":\"white\",\"ticks\":\"\"},\"bgcolor\":\"#E5ECF6\",\"caxis\":{\"gridcolor\":\"white\",\"linecolor\":\"white\",\"ticks\":\"\"}},\"title\":{\"x\":0.05},\"xaxis\":{\"automargin\":true,\"gridcolor\":\"white\",\"linecolor\":\"white\",\"ticks\":\"\",\"title\":{\"standoff\":15},\"zerolinecolor\":\"white\",\"zerolinewidth\":2},\"yaxis\":{\"automargin\":true,\"gridcolor\":\"white\",\"linecolor\":\"white\",\"ticks\":\"\",\"title\":{\"standoff\":15},\"zerolinecolor\":\"white\",\"zerolinewidth\":2}}},\"title\":{\"font\":{\"color\":\"#4D5663\"}},\"xaxis\":{\"gridcolor\":\"#E1E5ED\",\"showgrid\":true,\"tickfont\":{\"color\":\"#4D5663\"},\"title\":{\"font\":{\"color\":\"#4D5663\"},\"text\":\"\"},\"zerolinecolor\":\"#E1E5ED\"},\"yaxis\":{\"gridcolor\":\"#E1E5ED\",\"showgrid\":true,\"tickfont\":{\"color\":\"#4D5663\"},\"title\":{\"font\":{\"color\":\"#4D5663\"},\"text\":\"\"},\"zerolinecolor\":\"#E1E5ED\"}},                        {\"showLink\": true, \"linkText\": \"Export to plot.ly\", \"plotlyServerURL\": \"https://plot.ly\", \"responsive\": true}                    ).then(function(){\n",
       "                            \n",
       "var gd = document.getElementById('748e6df8-a099-4480-919e-40940d797d15');\n",
       "var x = new MutationObserver(function (mutations, observer) {{\n",
       "        var display = window.getComputedStyle(gd).display;\n",
       "        if (!display || display === 'none') {{\n",
       "            console.log([gd, 'removed!']);\n",
       "            Plotly.purge(gd);\n",
       "            observer.disconnect();\n",
       "        }}\n",
       "}});\n",
       "\n",
       "// Listen for the removal of the full notebook cells\n",
       "var notebookContainer = gd.closest('#notebook-container');\n",
       "if (notebookContainer) {{\n",
       "    x.observe(notebookContainer, {childList: true});\n",
       "}}\n",
       "\n",
       "// Listen for the clearing of the current output cell\n",
       "var outputEl = gd.closest('.output');\n",
       "if (outputEl) {{\n",
       "    x.observe(outputEl, {childList: true});\n",
       "}}\n",
       "\n",
       "                        })                };                });            </script>        </div>"
      ]
     },
     "metadata": {},
     "output_type": "display_data"
    }
   ],
   "source": [
    "df3.iplot(kind='surface')"
   ]
  },
  {
   "cell_type": "code",
   "execution_count": 35,
   "id": "c987eba8",
   "metadata": {},
   "outputs": [
    {
     "data": {
      "application/vnd.plotly.v1+json": {
       "config": {
        "linkText": "Export to plot.ly",
        "plotlyServerURL": "https://plot.ly",
        "showLink": true
       },
       "data": [
        {
         "histfunc": "count",
         "histnorm": "",
         "marker": {
          "color": "rgba(255, 153, 51, 1.0)",
          "line": {
           "color": "#4D5663",
           "width": 1.3
          }
         },
         "name": "A",
         "nbinsx": 50,
         "opacity": 0.8,
         "orientation": "v",
         "type": "histogram",
         "x": [
          1.0837802026903676,
          -0.8307318652353206,
          0.9704645666752914,
          -0.13150801540525994,
          -1.431676307991406,
          0.5854248107675313,
          -0.5660964311261989,
          0.9884149998948273,
          -0.03866022001943958,
          0.3926136648987823,
          0.2366436323713876,
          1.5890962443122887,
          0.8157022340882426,
          0.3514861566194287,
          1.0277388736464257,
          0.2699518657534483,
          1.3965374784548972,
          -1.5384078610201786,
          -0.5850193141441375,
          0.04250994717911727,
          0.22334130053789886,
          -0.3843704559030353,
          -0.9135758999676846,
          1.1988523922550378,
          0.8756193834778848,
          -0.3245036125233253,
          -0.8643199642609466,
          -2.711830222084337,
          -1.6213541043042066,
          -1.1440160134243584,
          1.1956049013334702,
          -0.5163570085007548,
          0.3383295777705534,
          -0.32691112866765776,
          0.1380319492889386,
          -0.10120910311364711,
          1.2224935125494165,
          -0.7848201785562855,
          1.3251452237809054,
          -1.0422539931177521,
          -0.6220907671447959,
          0.7605865882300532,
          0.7097525174852362,
          0.9560880229550969,
          -0.10339811047162585,
          -0.14644500749449224,
          0.5368987942350666,
          -0.03267673468010394,
          -0.3285015605627665,
          -2.1637667787824704,
          -0.19750325171496624,
          -0.8705110153772423,
          0.3275838600290092,
          -1.4429386352380633,
          -0.5227190645611784,
          -0.6040484120224673,
          -0.5426828792455438,
          -0.24734238804509784,
          -0.1710048045514127,
          0.6357392606928337,
          0.22223721737535435,
          0.8539923672277793,
          1.6418874845855114,
          -1.6051526223909196,
          0.22309065021823282,
          -0.7595689515903035,
          -2.1996485445702563,
          1.5956732573254695,
          1.5477270913516719,
          0.567390246133774,
          0.4046686778858881,
          0.4683976376712205,
          -1.2977402564021023,
          -0.29053464566907533,
          -0.6681614022952193,
          0.5398107798206214,
          1.4892780015980334,
          0.8907307805670841,
          0.01356355123975639,
          0.779825227084279,
          1.480629213237171,
          -1.303499194553016,
          0.5640734614757685,
          0.888697983915617,
          -1.5602326741188632,
          0.3276654891441126,
          1.1056006487110808,
          0.11020457528062488,
          -1.3030233635699597,
          0.3924672139339836,
          0.5960789969061742,
          -1.1234727276191592,
          -1.7650675896330457,
          0.5986533532972574,
          1.0617932058870356,
          1.3479162812727086,
          -0.8368602512006359,
          -0.009797134647624255,
          0.5983037055534213,
          -0.8765850492559197
         ]
        }
       ],
       "layout": {
        "barmode": "overlay",
        "legend": {
         "bgcolor": "#F5F6F9",
         "font": {
          "color": "#4D5663"
         }
        },
        "paper_bgcolor": "#F5F6F9",
        "plot_bgcolor": "#F5F6F9",
        "template": {
         "data": {
          "bar": [
           {
            "error_x": {
             "color": "#2a3f5f"
            },
            "error_y": {
             "color": "#2a3f5f"
            },
            "marker": {
             "line": {
              "color": "#E5ECF6",
              "width": 0.5
             },
             "pattern": {
              "fillmode": "overlay",
              "size": 10,
              "solidity": 0.2
             }
            },
            "type": "bar"
           }
          ],
          "barpolar": [
           {
            "marker": {
             "line": {
              "color": "#E5ECF6",
              "width": 0.5
             },
             "pattern": {
              "fillmode": "overlay",
              "size": 10,
              "solidity": 0.2
             }
            },
            "type": "barpolar"
           }
          ],
          "carpet": [
           {
            "aaxis": {
             "endlinecolor": "#2a3f5f",
             "gridcolor": "white",
             "linecolor": "white",
             "minorgridcolor": "white",
             "startlinecolor": "#2a3f5f"
            },
            "baxis": {
             "endlinecolor": "#2a3f5f",
             "gridcolor": "white",
             "linecolor": "white",
             "minorgridcolor": "white",
             "startlinecolor": "#2a3f5f"
            },
            "type": "carpet"
           }
          ],
          "choropleth": [
           {
            "colorbar": {
             "outlinewidth": 0,
             "ticks": ""
            },
            "type": "choropleth"
           }
          ],
          "contour": [
           {
            "colorbar": {
             "outlinewidth": 0,
             "ticks": ""
            },
            "colorscale": [
             [
              0,
              "#0d0887"
             ],
             [
              0.1111111111111111,
              "#46039f"
             ],
             [
              0.2222222222222222,
              "#7201a8"
             ],
             [
              0.3333333333333333,
              "#9c179e"
             ],
             [
              0.4444444444444444,
              "#bd3786"
             ],
             [
              0.5555555555555556,
              "#d8576b"
             ],
             [
              0.6666666666666666,
              "#ed7953"
             ],
             [
              0.7777777777777778,
              "#fb9f3a"
             ],
             [
              0.8888888888888888,
              "#fdca26"
             ],
             [
              1,
              "#f0f921"
             ]
            ],
            "type": "contour"
           }
          ],
          "contourcarpet": [
           {
            "colorbar": {
             "outlinewidth": 0,
             "ticks": ""
            },
            "type": "contourcarpet"
           }
          ],
          "heatmap": [
           {
            "colorbar": {
             "outlinewidth": 0,
             "ticks": ""
            },
            "colorscale": [
             [
              0,
              "#0d0887"
             ],
             [
              0.1111111111111111,
              "#46039f"
             ],
             [
              0.2222222222222222,
              "#7201a8"
             ],
             [
              0.3333333333333333,
              "#9c179e"
             ],
             [
              0.4444444444444444,
              "#bd3786"
             ],
             [
              0.5555555555555556,
              "#d8576b"
             ],
             [
              0.6666666666666666,
              "#ed7953"
             ],
             [
              0.7777777777777778,
              "#fb9f3a"
             ],
             [
              0.8888888888888888,
              "#fdca26"
             ],
             [
              1,
              "#f0f921"
             ]
            ],
            "type": "heatmap"
           }
          ],
          "heatmapgl": [
           {
            "colorbar": {
             "outlinewidth": 0,
             "ticks": ""
            },
            "colorscale": [
             [
              0,
              "#0d0887"
             ],
             [
              0.1111111111111111,
              "#46039f"
             ],
             [
              0.2222222222222222,
              "#7201a8"
             ],
             [
              0.3333333333333333,
              "#9c179e"
             ],
             [
              0.4444444444444444,
              "#bd3786"
             ],
             [
              0.5555555555555556,
              "#d8576b"
             ],
             [
              0.6666666666666666,
              "#ed7953"
             ],
             [
              0.7777777777777778,
              "#fb9f3a"
             ],
             [
              0.8888888888888888,
              "#fdca26"
             ],
             [
              1,
              "#f0f921"
             ]
            ],
            "type": "heatmapgl"
           }
          ],
          "histogram": [
           {
            "marker": {
             "pattern": {
              "fillmode": "overlay",
              "size": 10,
              "solidity": 0.2
             }
            },
            "type": "histogram"
           }
          ],
          "histogram2d": [
           {
            "colorbar": {
             "outlinewidth": 0,
             "ticks": ""
            },
            "colorscale": [
             [
              0,
              "#0d0887"
             ],
             [
              0.1111111111111111,
              "#46039f"
             ],
             [
              0.2222222222222222,
              "#7201a8"
             ],
             [
              0.3333333333333333,
              "#9c179e"
             ],
             [
              0.4444444444444444,
              "#bd3786"
             ],
             [
              0.5555555555555556,
              "#d8576b"
             ],
             [
              0.6666666666666666,
              "#ed7953"
             ],
             [
              0.7777777777777778,
              "#fb9f3a"
             ],
             [
              0.8888888888888888,
              "#fdca26"
             ],
             [
              1,
              "#f0f921"
             ]
            ],
            "type": "histogram2d"
           }
          ],
          "histogram2dcontour": [
           {
            "colorbar": {
             "outlinewidth": 0,
             "ticks": ""
            },
            "colorscale": [
             [
              0,
              "#0d0887"
             ],
             [
              0.1111111111111111,
              "#46039f"
             ],
             [
              0.2222222222222222,
              "#7201a8"
             ],
             [
              0.3333333333333333,
              "#9c179e"
             ],
             [
              0.4444444444444444,
              "#bd3786"
             ],
             [
              0.5555555555555556,
              "#d8576b"
             ],
             [
              0.6666666666666666,
              "#ed7953"
             ],
             [
              0.7777777777777778,
              "#fb9f3a"
             ],
             [
              0.8888888888888888,
              "#fdca26"
             ],
             [
              1,
              "#f0f921"
             ]
            ],
            "type": "histogram2dcontour"
           }
          ],
          "mesh3d": [
           {
            "colorbar": {
             "outlinewidth": 0,
             "ticks": ""
            },
            "type": "mesh3d"
           }
          ],
          "parcoords": [
           {
            "line": {
             "colorbar": {
              "outlinewidth": 0,
              "ticks": ""
             }
            },
            "type": "parcoords"
           }
          ],
          "pie": [
           {
            "automargin": true,
            "type": "pie"
           }
          ],
          "scatter": [
           {
            "marker": {
             "colorbar": {
              "outlinewidth": 0,
              "ticks": ""
             }
            },
            "type": "scatter"
           }
          ],
          "scatter3d": [
           {
            "line": {
             "colorbar": {
              "outlinewidth": 0,
              "ticks": ""
             }
            },
            "marker": {
             "colorbar": {
              "outlinewidth": 0,
              "ticks": ""
             }
            },
            "type": "scatter3d"
           }
          ],
          "scattercarpet": [
           {
            "marker": {
             "colorbar": {
              "outlinewidth": 0,
              "ticks": ""
             }
            },
            "type": "scattercarpet"
           }
          ],
          "scattergeo": [
           {
            "marker": {
             "colorbar": {
              "outlinewidth": 0,
              "ticks": ""
             }
            },
            "type": "scattergeo"
           }
          ],
          "scattergl": [
           {
            "marker": {
             "colorbar": {
              "outlinewidth": 0,
              "ticks": ""
             }
            },
            "type": "scattergl"
           }
          ],
          "scattermapbox": [
           {
            "marker": {
             "colorbar": {
              "outlinewidth": 0,
              "ticks": ""
             }
            },
            "type": "scattermapbox"
           }
          ],
          "scatterpolar": [
           {
            "marker": {
             "colorbar": {
              "outlinewidth": 0,
              "ticks": ""
             }
            },
            "type": "scatterpolar"
           }
          ],
          "scatterpolargl": [
           {
            "marker": {
             "colorbar": {
              "outlinewidth": 0,
              "ticks": ""
             }
            },
            "type": "scatterpolargl"
           }
          ],
          "scatterternary": [
           {
            "marker": {
             "colorbar": {
              "outlinewidth": 0,
              "ticks": ""
             }
            },
            "type": "scatterternary"
           }
          ],
          "surface": [
           {
            "colorbar": {
             "outlinewidth": 0,
             "ticks": ""
            },
            "colorscale": [
             [
              0,
              "#0d0887"
             ],
             [
              0.1111111111111111,
              "#46039f"
             ],
             [
              0.2222222222222222,
              "#7201a8"
             ],
             [
              0.3333333333333333,
              "#9c179e"
             ],
             [
              0.4444444444444444,
              "#bd3786"
             ],
             [
              0.5555555555555556,
              "#d8576b"
             ],
             [
              0.6666666666666666,
              "#ed7953"
             ],
             [
              0.7777777777777778,
              "#fb9f3a"
             ],
             [
              0.8888888888888888,
              "#fdca26"
             ],
             [
              1,
              "#f0f921"
             ]
            ],
            "type": "surface"
           }
          ],
          "table": [
           {
            "cells": {
             "fill": {
              "color": "#EBF0F8"
             },
             "line": {
              "color": "white"
             }
            },
            "header": {
             "fill": {
              "color": "#C8D4E3"
             },
             "line": {
              "color": "white"
             }
            },
            "type": "table"
           }
          ]
         },
         "layout": {
          "annotationdefaults": {
           "arrowcolor": "#2a3f5f",
           "arrowhead": 0,
           "arrowwidth": 1
          },
          "autotypenumbers": "strict",
          "coloraxis": {
           "colorbar": {
            "outlinewidth": 0,
            "ticks": ""
           }
          },
          "colorscale": {
           "diverging": [
            [
             0,
             "#8e0152"
            ],
            [
             0.1,
             "#c51b7d"
            ],
            [
             0.2,
             "#de77ae"
            ],
            [
             0.3,
             "#f1b6da"
            ],
            [
             0.4,
             "#fde0ef"
            ],
            [
             0.5,
             "#f7f7f7"
            ],
            [
             0.6,
             "#e6f5d0"
            ],
            [
             0.7,
             "#b8e186"
            ],
            [
             0.8,
             "#7fbc41"
            ],
            [
             0.9,
             "#4d9221"
            ],
            [
             1,
             "#276419"
            ]
           ],
           "sequential": [
            [
             0,
             "#0d0887"
            ],
            [
             0.1111111111111111,
             "#46039f"
            ],
            [
             0.2222222222222222,
             "#7201a8"
            ],
            [
             0.3333333333333333,
             "#9c179e"
            ],
            [
             0.4444444444444444,
             "#bd3786"
            ],
            [
             0.5555555555555556,
             "#d8576b"
            ],
            [
             0.6666666666666666,
             "#ed7953"
            ],
            [
             0.7777777777777778,
             "#fb9f3a"
            ],
            [
             0.8888888888888888,
             "#fdca26"
            ],
            [
             1,
             "#f0f921"
            ]
           ],
           "sequentialminus": [
            [
             0,
             "#0d0887"
            ],
            [
             0.1111111111111111,
             "#46039f"
            ],
            [
             0.2222222222222222,
             "#7201a8"
            ],
            [
             0.3333333333333333,
             "#9c179e"
            ],
            [
             0.4444444444444444,
             "#bd3786"
            ],
            [
             0.5555555555555556,
             "#d8576b"
            ],
            [
             0.6666666666666666,
             "#ed7953"
            ],
            [
             0.7777777777777778,
             "#fb9f3a"
            ],
            [
             0.8888888888888888,
             "#fdca26"
            ],
            [
             1,
             "#f0f921"
            ]
           ]
          },
          "colorway": [
           "#636efa",
           "#EF553B",
           "#00cc96",
           "#ab63fa",
           "#FFA15A",
           "#19d3f3",
           "#FF6692",
           "#B6E880",
           "#FF97FF",
           "#FECB52"
          ],
          "font": {
           "color": "#2a3f5f"
          },
          "geo": {
           "bgcolor": "white",
           "lakecolor": "white",
           "landcolor": "#E5ECF6",
           "showlakes": true,
           "showland": true,
           "subunitcolor": "white"
          },
          "hoverlabel": {
           "align": "left"
          },
          "hovermode": "closest",
          "mapbox": {
           "style": "light"
          },
          "paper_bgcolor": "white",
          "plot_bgcolor": "#E5ECF6",
          "polar": {
           "angularaxis": {
            "gridcolor": "white",
            "linecolor": "white",
            "ticks": ""
           },
           "bgcolor": "#E5ECF6",
           "radialaxis": {
            "gridcolor": "white",
            "linecolor": "white",
            "ticks": ""
           }
          },
          "scene": {
           "xaxis": {
            "backgroundcolor": "#E5ECF6",
            "gridcolor": "white",
            "gridwidth": 2,
            "linecolor": "white",
            "showbackground": true,
            "ticks": "",
            "zerolinecolor": "white"
           },
           "yaxis": {
            "backgroundcolor": "#E5ECF6",
            "gridcolor": "white",
            "gridwidth": 2,
            "linecolor": "white",
            "showbackground": true,
            "ticks": "",
            "zerolinecolor": "white"
           },
           "zaxis": {
            "backgroundcolor": "#E5ECF6",
            "gridcolor": "white",
            "gridwidth": 2,
            "linecolor": "white",
            "showbackground": true,
            "ticks": "",
            "zerolinecolor": "white"
           }
          },
          "shapedefaults": {
           "line": {
            "color": "#2a3f5f"
           }
          },
          "ternary": {
           "aaxis": {
            "gridcolor": "white",
            "linecolor": "white",
            "ticks": ""
           },
           "baxis": {
            "gridcolor": "white",
            "linecolor": "white",
            "ticks": ""
           },
           "bgcolor": "#E5ECF6",
           "caxis": {
            "gridcolor": "white",
            "linecolor": "white",
            "ticks": ""
           }
          },
          "title": {
           "x": 0.05
          },
          "xaxis": {
           "automargin": true,
           "gridcolor": "white",
           "linecolor": "white",
           "ticks": "",
           "title": {
            "standoff": 15
           },
           "zerolinecolor": "white",
           "zerolinewidth": 2
          },
          "yaxis": {
           "automargin": true,
           "gridcolor": "white",
           "linecolor": "white",
           "ticks": "",
           "title": {
            "standoff": 15
           },
           "zerolinecolor": "white",
           "zerolinewidth": 2
          }
         }
        },
        "title": {
         "font": {
          "color": "#4D5663"
         }
        },
        "xaxis": {
         "gridcolor": "#E1E5ED",
         "showgrid": true,
         "tickfont": {
          "color": "#4D5663"
         },
         "title": {
          "font": {
           "color": "#4D5663"
          },
          "text": ""
         },
         "zerolinecolor": "#E1E5ED"
        },
        "yaxis": {
         "gridcolor": "#E1E5ED",
         "showgrid": true,
         "tickfont": {
          "color": "#4D5663"
         },
         "title": {
          "font": {
           "color": "#4D5663"
          },
          "text": ""
         },
         "zerolinecolor": "#E1E5ED"
        }
       }
      },
      "text/html": [
       "<div>                            <div id=\"5983b061-747b-4a46-884a-f301ca0eacc1\" class=\"plotly-graph-div\" style=\"height:525px; width:100%;\"></div>            <script type=\"text/javascript\">                require([\"plotly\"], function(Plotly) {                    window.PLOTLYENV=window.PLOTLYENV || {};\n",
       "                    window.PLOTLYENV.BASE_URL='https://plot.ly';                                    if (document.getElementById(\"5983b061-747b-4a46-884a-f301ca0eacc1\")) {                    Plotly.newPlot(                        \"5983b061-747b-4a46-884a-f301ca0eacc1\",                        [{\"histfunc\":\"count\",\"histnorm\":\"\",\"marker\":{\"color\":\"rgba(255, 153, 51, 1.0)\",\"line\":{\"color\":\"#4D5663\",\"width\":1.3}},\"name\":\"A\",\"nbinsx\":50,\"opacity\":0.8,\"orientation\":\"v\",\"x\":[1.0837802026903676,-0.8307318652353206,0.9704645666752914,-0.13150801540525994,-1.431676307991406,0.5854248107675313,-0.5660964311261989,0.9884149998948273,-0.03866022001943958,0.3926136648987823,0.2366436323713876,1.5890962443122887,0.8157022340882426,0.3514861566194287,1.0277388736464257,0.2699518657534483,1.3965374784548972,-1.5384078610201786,-0.5850193141441375,0.04250994717911727,0.22334130053789886,-0.3843704559030353,-0.9135758999676846,1.1988523922550378,0.8756193834778848,-0.3245036125233253,-0.8643199642609466,-2.711830222084337,-1.6213541043042066,-1.1440160134243584,1.1956049013334702,-0.5163570085007548,0.3383295777705534,-0.32691112866765776,0.1380319492889386,-0.10120910311364711,1.2224935125494165,-0.7848201785562855,1.3251452237809054,-1.0422539931177521,-0.6220907671447959,0.7605865882300532,0.7097525174852362,0.9560880229550969,-0.10339811047162585,-0.14644500749449224,0.5368987942350666,-0.03267673468010394,-0.3285015605627665,-2.1637667787824704,-0.19750325171496624,-0.8705110153772423,0.3275838600290092,-1.4429386352380633,-0.5227190645611784,-0.6040484120224673,-0.5426828792455438,-0.24734238804509784,-0.1710048045514127,0.6357392606928337,0.22223721737535435,0.8539923672277793,1.6418874845855114,-1.6051526223909196,0.22309065021823282,-0.7595689515903035,-2.1996485445702563,1.5956732573254695,1.5477270913516719,0.567390246133774,0.4046686778858881,0.4683976376712205,-1.2977402564021023,-0.29053464566907533,-0.6681614022952193,0.5398107798206214,1.4892780015980334,0.8907307805670841,0.01356355123975639,0.779825227084279,1.480629213237171,-1.303499194553016,0.5640734614757685,0.888697983915617,-1.5602326741188632,0.3276654891441126,1.1056006487110808,0.11020457528062488,-1.3030233635699597,0.3924672139339836,0.5960789969061742,-1.1234727276191592,-1.7650675896330457,0.5986533532972574,1.0617932058870356,1.3479162812727086,-0.8368602512006359,-0.009797134647624255,0.5983037055534213,-0.8765850492559197],\"type\":\"histogram\"}],                        {\"barmode\":\"overlay\",\"legend\":{\"bgcolor\":\"#F5F6F9\",\"font\":{\"color\":\"#4D5663\"}},\"paper_bgcolor\":\"#F5F6F9\",\"plot_bgcolor\":\"#F5F6F9\",\"template\":{\"data\":{\"barpolar\":[{\"marker\":{\"line\":{\"color\":\"#E5ECF6\",\"width\":0.5},\"pattern\":{\"fillmode\":\"overlay\",\"size\":10,\"solidity\":0.2}},\"type\":\"barpolar\"}],\"bar\":[{\"error_x\":{\"color\":\"#2a3f5f\"},\"error_y\":{\"color\":\"#2a3f5f\"},\"marker\":{\"line\":{\"color\":\"#E5ECF6\",\"width\":0.5},\"pattern\":{\"fillmode\":\"overlay\",\"size\":10,\"solidity\":0.2}},\"type\":\"bar\"}],\"carpet\":[{\"aaxis\":{\"endlinecolor\":\"#2a3f5f\",\"gridcolor\":\"white\",\"linecolor\":\"white\",\"minorgridcolor\":\"white\",\"startlinecolor\":\"#2a3f5f\"},\"baxis\":{\"endlinecolor\":\"#2a3f5f\",\"gridcolor\":\"white\",\"linecolor\":\"white\",\"minorgridcolor\":\"white\",\"startlinecolor\":\"#2a3f5f\"},\"type\":\"carpet\"}],\"choropleth\":[{\"colorbar\":{\"outlinewidth\":0,\"ticks\":\"\"},\"type\":\"choropleth\"}],\"contourcarpet\":[{\"colorbar\":{\"outlinewidth\":0,\"ticks\":\"\"},\"type\":\"contourcarpet\"}],\"contour\":[{\"colorbar\":{\"outlinewidth\":0,\"ticks\":\"\"},\"colorscale\":[[0.0,\"#0d0887\"],[0.1111111111111111,\"#46039f\"],[0.2222222222222222,\"#7201a8\"],[0.3333333333333333,\"#9c179e\"],[0.4444444444444444,\"#bd3786\"],[0.5555555555555556,\"#d8576b\"],[0.6666666666666666,\"#ed7953\"],[0.7777777777777778,\"#fb9f3a\"],[0.8888888888888888,\"#fdca26\"],[1.0,\"#f0f921\"]],\"type\":\"contour\"}],\"heatmapgl\":[{\"colorbar\":{\"outlinewidth\":0,\"ticks\":\"\"},\"colorscale\":[[0.0,\"#0d0887\"],[0.1111111111111111,\"#46039f\"],[0.2222222222222222,\"#7201a8\"],[0.3333333333333333,\"#9c179e\"],[0.4444444444444444,\"#bd3786\"],[0.5555555555555556,\"#d8576b\"],[0.6666666666666666,\"#ed7953\"],[0.7777777777777778,\"#fb9f3a\"],[0.8888888888888888,\"#fdca26\"],[1.0,\"#f0f921\"]],\"type\":\"heatmapgl\"}],\"heatmap\":[{\"colorbar\":{\"outlinewidth\":0,\"ticks\":\"\"},\"colorscale\":[[0.0,\"#0d0887\"],[0.1111111111111111,\"#46039f\"],[0.2222222222222222,\"#7201a8\"],[0.3333333333333333,\"#9c179e\"],[0.4444444444444444,\"#bd3786\"],[0.5555555555555556,\"#d8576b\"],[0.6666666666666666,\"#ed7953\"],[0.7777777777777778,\"#fb9f3a\"],[0.8888888888888888,\"#fdca26\"],[1.0,\"#f0f921\"]],\"type\":\"heatmap\"}],\"histogram2dcontour\":[{\"colorbar\":{\"outlinewidth\":0,\"ticks\":\"\"},\"colorscale\":[[0.0,\"#0d0887\"],[0.1111111111111111,\"#46039f\"],[0.2222222222222222,\"#7201a8\"],[0.3333333333333333,\"#9c179e\"],[0.4444444444444444,\"#bd3786\"],[0.5555555555555556,\"#d8576b\"],[0.6666666666666666,\"#ed7953\"],[0.7777777777777778,\"#fb9f3a\"],[0.8888888888888888,\"#fdca26\"],[1.0,\"#f0f921\"]],\"type\":\"histogram2dcontour\"}],\"histogram2d\":[{\"colorbar\":{\"outlinewidth\":0,\"ticks\":\"\"},\"colorscale\":[[0.0,\"#0d0887\"],[0.1111111111111111,\"#46039f\"],[0.2222222222222222,\"#7201a8\"],[0.3333333333333333,\"#9c179e\"],[0.4444444444444444,\"#bd3786\"],[0.5555555555555556,\"#d8576b\"],[0.6666666666666666,\"#ed7953\"],[0.7777777777777778,\"#fb9f3a\"],[0.8888888888888888,\"#fdca26\"],[1.0,\"#f0f921\"]],\"type\":\"histogram2d\"}],\"histogram\":[{\"marker\":{\"pattern\":{\"fillmode\":\"overlay\",\"size\":10,\"solidity\":0.2}},\"type\":\"histogram\"}],\"mesh3d\":[{\"colorbar\":{\"outlinewidth\":0,\"ticks\":\"\"},\"type\":\"mesh3d\"}],\"parcoords\":[{\"line\":{\"colorbar\":{\"outlinewidth\":0,\"ticks\":\"\"}},\"type\":\"parcoords\"}],\"pie\":[{\"automargin\":true,\"type\":\"pie\"}],\"scatter3d\":[{\"line\":{\"colorbar\":{\"outlinewidth\":0,\"ticks\":\"\"}},\"marker\":{\"colorbar\":{\"outlinewidth\":0,\"ticks\":\"\"}},\"type\":\"scatter3d\"}],\"scattercarpet\":[{\"marker\":{\"colorbar\":{\"outlinewidth\":0,\"ticks\":\"\"}},\"type\":\"scattercarpet\"}],\"scattergeo\":[{\"marker\":{\"colorbar\":{\"outlinewidth\":0,\"ticks\":\"\"}},\"type\":\"scattergeo\"}],\"scattergl\":[{\"marker\":{\"colorbar\":{\"outlinewidth\":0,\"ticks\":\"\"}},\"type\":\"scattergl\"}],\"scattermapbox\":[{\"marker\":{\"colorbar\":{\"outlinewidth\":0,\"ticks\":\"\"}},\"type\":\"scattermapbox\"}],\"scatterpolargl\":[{\"marker\":{\"colorbar\":{\"outlinewidth\":0,\"ticks\":\"\"}},\"type\":\"scatterpolargl\"}],\"scatterpolar\":[{\"marker\":{\"colorbar\":{\"outlinewidth\":0,\"ticks\":\"\"}},\"type\":\"scatterpolar\"}],\"scatter\":[{\"marker\":{\"colorbar\":{\"outlinewidth\":0,\"ticks\":\"\"}},\"type\":\"scatter\"}],\"scatterternary\":[{\"marker\":{\"colorbar\":{\"outlinewidth\":0,\"ticks\":\"\"}},\"type\":\"scatterternary\"}],\"surface\":[{\"colorbar\":{\"outlinewidth\":0,\"ticks\":\"\"},\"colorscale\":[[0.0,\"#0d0887\"],[0.1111111111111111,\"#46039f\"],[0.2222222222222222,\"#7201a8\"],[0.3333333333333333,\"#9c179e\"],[0.4444444444444444,\"#bd3786\"],[0.5555555555555556,\"#d8576b\"],[0.6666666666666666,\"#ed7953\"],[0.7777777777777778,\"#fb9f3a\"],[0.8888888888888888,\"#fdca26\"],[1.0,\"#f0f921\"]],\"type\":\"surface\"}],\"table\":[{\"cells\":{\"fill\":{\"color\":\"#EBF0F8\"},\"line\":{\"color\":\"white\"}},\"header\":{\"fill\":{\"color\":\"#C8D4E3\"},\"line\":{\"color\":\"white\"}},\"type\":\"table\"}]},\"layout\":{\"annotationdefaults\":{\"arrowcolor\":\"#2a3f5f\",\"arrowhead\":0,\"arrowwidth\":1},\"autotypenumbers\":\"strict\",\"coloraxis\":{\"colorbar\":{\"outlinewidth\":0,\"ticks\":\"\"}},\"colorscale\":{\"diverging\":[[0,\"#8e0152\"],[0.1,\"#c51b7d\"],[0.2,\"#de77ae\"],[0.3,\"#f1b6da\"],[0.4,\"#fde0ef\"],[0.5,\"#f7f7f7\"],[0.6,\"#e6f5d0\"],[0.7,\"#b8e186\"],[0.8,\"#7fbc41\"],[0.9,\"#4d9221\"],[1,\"#276419\"]],\"sequential\":[[0.0,\"#0d0887\"],[0.1111111111111111,\"#46039f\"],[0.2222222222222222,\"#7201a8\"],[0.3333333333333333,\"#9c179e\"],[0.4444444444444444,\"#bd3786\"],[0.5555555555555556,\"#d8576b\"],[0.6666666666666666,\"#ed7953\"],[0.7777777777777778,\"#fb9f3a\"],[0.8888888888888888,\"#fdca26\"],[1.0,\"#f0f921\"]],\"sequentialminus\":[[0.0,\"#0d0887\"],[0.1111111111111111,\"#46039f\"],[0.2222222222222222,\"#7201a8\"],[0.3333333333333333,\"#9c179e\"],[0.4444444444444444,\"#bd3786\"],[0.5555555555555556,\"#d8576b\"],[0.6666666666666666,\"#ed7953\"],[0.7777777777777778,\"#fb9f3a\"],[0.8888888888888888,\"#fdca26\"],[1.0,\"#f0f921\"]]},\"colorway\":[\"#636efa\",\"#EF553B\",\"#00cc96\",\"#ab63fa\",\"#FFA15A\",\"#19d3f3\",\"#FF6692\",\"#B6E880\",\"#FF97FF\",\"#FECB52\"],\"font\":{\"color\":\"#2a3f5f\"},\"geo\":{\"bgcolor\":\"white\",\"lakecolor\":\"white\",\"landcolor\":\"#E5ECF6\",\"showlakes\":true,\"showland\":true,\"subunitcolor\":\"white\"},\"hoverlabel\":{\"align\":\"left\"},\"hovermode\":\"closest\",\"mapbox\":{\"style\":\"light\"},\"paper_bgcolor\":\"white\",\"plot_bgcolor\":\"#E5ECF6\",\"polar\":{\"angularaxis\":{\"gridcolor\":\"white\",\"linecolor\":\"white\",\"ticks\":\"\"},\"bgcolor\":\"#E5ECF6\",\"radialaxis\":{\"gridcolor\":\"white\",\"linecolor\":\"white\",\"ticks\":\"\"}},\"scene\":{\"xaxis\":{\"backgroundcolor\":\"#E5ECF6\",\"gridcolor\":\"white\",\"gridwidth\":2,\"linecolor\":\"white\",\"showbackground\":true,\"ticks\":\"\",\"zerolinecolor\":\"white\"},\"yaxis\":{\"backgroundcolor\":\"#E5ECF6\",\"gridcolor\":\"white\",\"gridwidth\":2,\"linecolor\":\"white\",\"showbackground\":true,\"ticks\":\"\",\"zerolinecolor\":\"white\"},\"zaxis\":{\"backgroundcolor\":\"#E5ECF6\",\"gridcolor\":\"white\",\"gridwidth\":2,\"linecolor\":\"white\",\"showbackground\":true,\"ticks\":\"\",\"zerolinecolor\":\"white\"}},\"shapedefaults\":{\"line\":{\"color\":\"#2a3f5f\"}},\"ternary\":{\"aaxis\":{\"gridcolor\":\"white\",\"linecolor\":\"white\",\"ticks\":\"\"},\"baxis\":{\"gridcolor\":\"white\",\"linecolor\":\"white\",\"ticks\":\"\"},\"bgcolor\":\"#E5ECF6\",\"caxis\":{\"gridcolor\":\"white\",\"linecolor\":\"white\",\"ticks\":\"\"}},\"title\":{\"x\":0.05},\"xaxis\":{\"automargin\":true,\"gridcolor\":\"white\",\"linecolor\":\"white\",\"ticks\":\"\",\"title\":{\"standoff\":15},\"zerolinecolor\":\"white\",\"zerolinewidth\":2},\"yaxis\":{\"automargin\":true,\"gridcolor\":\"white\",\"linecolor\":\"white\",\"ticks\":\"\",\"title\":{\"standoff\":15},\"zerolinecolor\":\"white\",\"zerolinewidth\":2}}},\"title\":{\"font\":{\"color\":\"#4D5663\"}},\"xaxis\":{\"gridcolor\":\"#E1E5ED\",\"showgrid\":true,\"tickfont\":{\"color\":\"#4D5663\"},\"title\":{\"font\":{\"color\":\"#4D5663\"},\"text\":\"\"},\"zerolinecolor\":\"#E1E5ED\"},\"yaxis\":{\"gridcolor\":\"#E1E5ED\",\"showgrid\":true,\"tickfont\":{\"color\":\"#4D5663\"},\"title\":{\"font\":{\"color\":\"#4D5663\"},\"text\":\"\"},\"zerolinecolor\":\"#E1E5ED\"}},                        {\"showLink\": true, \"linkText\": \"Export to plot.ly\", \"plotlyServerURL\": \"https://plot.ly\", \"responsive\": true}                    ).then(function(){\n",
       "                            \n",
       "var gd = document.getElementById('5983b061-747b-4a46-884a-f301ca0eacc1');\n",
       "var x = new MutationObserver(function (mutations, observer) {{\n",
       "        var display = window.getComputedStyle(gd).display;\n",
       "        if (!display || display === 'none') {{\n",
       "            console.log([gd, 'removed!']);\n",
       "            Plotly.purge(gd);\n",
       "            observer.disconnect();\n",
       "        }}\n",
       "}});\n",
       "\n",
       "// Listen for the removal of the full notebook cells\n",
       "var notebookContainer = gd.closest('#notebook-container');\n",
       "if (notebookContainer) {{\n",
       "    x.observe(notebookContainer, {childList: true});\n",
       "}}\n",
       "\n",
       "// Listen for the clearing of the current output cell\n",
       "var outputEl = gd.closest('.output');\n",
       "if (outputEl) {{\n",
       "    x.observe(outputEl, {childList: true});\n",
       "}}\n",
       "\n",
       "                        })                };                });            </script>        </div>"
      ]
     },
     "metadata": {},
     "output_type": "display_data"
    }
   ],
   "source": [
    "df['A'].iplot(kind='hist',bins=50)"
   ]
  },
  {
   "cell_type": "code",
   "execution_count": 36,
   "id": "554458fb",
   "metadata": {},
   "outputs": [
    {
     "data": {
      "application/vnd.plotly.v1+json": {
       "config": {
        "linkText": "Export to plot.ly",
        "plotlyServerURL": "https://plot.ly",
        "showLink": true
       },
       "data": [
        {
         "histfunc": "count",
         "histnorm": "",
         "marker": {
          "color": "rgba(255, 153, 51, 1.0)",
          "line": {
           "color": "#4D5663",
           "width": 1.3
          }
         },
         "name": "A",
         "nbinsx": 50,
         "opacity": 0.8,
         "orientation": "v",
         "type": "histogram",
         "x": [
          1.0837802026903676,
          -0.8307318652353206,
          0.9704645666752914,
          -0.13150801540525994,
          -1.431676307991406,
          0.5854248107675313,
          -0.5660964311261989,
          0.9884149998948273,
          -0.03866022001943958,
          0.3926136648987823,
          0.2366436323713876,
          1.5890962443122887,
          0.8157022340882426,
          0.3514861566194287,
          1.0277388736464257,
          0.2699518657534483,
          1.3965374784548972,
          -1.5384078610201786,
          -0.5850193141441375,
          0.04250994717911727,
          0.22334130053789886,
          -0.3843704559030353,
          -0.9135758999676846,
          1.1988523922550378,
          0.8756193834778848,
          -0.3245036125233253,
          -0.8643199642609466,
          -2.711830222084337,
          -1.6213541043042066,
          -1.1440160134243584,
          1.1956049013334702,
          -0.5163570085007548,
          0.3383295777705534,
          -0.32691112866765776,
          0.1380319492889386,
          -0.10120910311364711,
          1.2224935125494165,
          -0.7848201785562855,
          1.3251452237809054,
          -1.0422539931177521,
          -0.6220907671447959,
          0.7605865882300532,
          0.7097525174852362,
          0.9560880229550969,
          -0.10339811047162585,
          -0.14644500749449224,
          0.5368987942350666,
          -0.03267673468010394,
          -0.3285015605627665,
          -2.1637667787824704,
          -0.19750325171496624,
          -0.8705110153772423,
          0.3275838600290092,
          -1.4429386352380633,
          -0.5227190645611784,
          -0.6040484120224673,
          -0.5426828792455438,
          -0.24734238804509784,
          -0.1710048045514127,
          0.6357392606928337,
          0.22223721737535435,
          0.8539923672277793,
          1.6418874845855114,
          -1.6051526223909196,
          0.22309065021823282,
          -0.7595689515903035,
          -2.1996485445702563,
          1.5956732573254695,
          1.5477270913516719,
          0.567390246133774,
          0.4046686778858881,
          0.4683976376712205,
          -1.2977402564021023,
          -0.29053464566907533,
          -0.6681614022952193,
          0.5398107798206214,
          1.4892780015980334,
          0.8907307805670841,
          0.01356355123975639,
          0.779825227084279,
          1.480629213237171,
          -1.303499194553016,
          0.5640734614757685,
          0.888697983915617,
          -1.5602326741188632,
          0.3276654891441126,
          1.1056006487110808,
          0.11020457528062488,
          -1.3030233635699597,
          0.3924672139339836,
          0.5960789969061742,
          -1.1234727276191592,
          -1.7650675896330457,
          0.5986533532972574,
          1.0617932058870356,
          1.3479162812727086,
          -0.8368602512006359,
          -0.009797134647624255,
          0.5983037055534213,
          -0.8765850492559197
         ]
        },
        {
         "histfunc": "count",
         "histnorm": "",
         "marker": {
          "color": "rgba(55, 128, 191, 1.0)",
          "line": {
           "color": "#4D5663",
           "width": 1.3
          }
         },
         "name": "B",
         "nbinsx": 50,
         "opacity": 0.8,
         "orientation": "v",
         "type": "histogram",
         "x": [
          -0.522890892695273,
          -0.5133950769305579,
          0.6806690722910964,
          1.031910376765052,
          0.5134242259294345,
          -1.1384405134344129,
          -1.967304273414849,
          2.7754662161448187,
          -0.12968506824520482,
          -0.5751330143483373,
          -1.7124510912923032,
          -0.7401896441257169,
          1.3640598393807122,
          -0.7392250669937778,
          -0.4596265565310788,
          0.8632338591254589,
          -0.9269877232227746,
          0.8005776928976868,
          -0.5303651277260929,
          -1.5478366663352567,
          -0.9021928385540456,
          0.07263937780983032,
          0.4964765917045821,
          -0.019362179759583174,
          0.3549150890000641,
          -0.254386036949427,
          1.287006580786897,
          0.7655221718834024,
          0.7588074233964105,
          2.119276748874291,
          -0.5972958247816397,
          -1.2021289261239687,
          -0.20378199373107492,
          0.8537557984722517,
          0.03905136978287543,
          -1.3572525759712204,
          0.7729758897701869,
          0.15709732946492647,
          -0.43953427255576755,
          0.02080414947036807,
          -0.0686204830480142,
          -1.7658436876434458,
          -0.07210159595201733,
          0.27634956368375163,
          1.0937799112009745,
          0.4294114559969322,
          -1.5755166280139263,
          -0.030870482297119722,
          -0.2023705876469707,
          0.5292765847905173,
          0.39943539003596257,
          -0.7724123878930874,
          0.6890986316171753,
          0.9122861623485468,
          0.1162402187877747,
          0.41573491106998256,
          -1.0554506054777522,
          0.3273723004744497,
          1.2826088924503345,
          0.002600066872883493,
          -1.344462684212799,
          -0.4646665558487505,
          0.6608569002638156,
          -1.172944904026479,
          -1.5333839108105396,
          0.5800873164304087,
          -0.0944402612694691,
          0.9177407000112922,
          -1.362401198969006,
          -0.26278842045129025,
          0.5670096180264699,
          -1.3766867887778862,
          1.0606927619478912,
          1.7738407682557193,
          -1.345147684233415,
          1.2258717217599049,
          -0.6434508497398888,
          -0.08574432115483341,
          -0.30728343458243823,
          -0.26446934774105685,
          -0.946849712608022,
          -1.153366821199802,
          -0.13739292710680448,
          0.3299629055380062,
          0.428734968248196,
          1.4750103690781826,
          0.9924535177609993,
          -0.5239161127928873,
          -0.7283124703069083,
          -0.10204894475527922,
          1.1466273781594924,
          0.0888460083240002,
          -0.0166821185648255,
          0.18261626841187298,
          -0.3679919585457832,
          1.2256960945250548,
          0.40221413256018895,
          0.515223149459377,
          1.3306440965310917,
          -0.618409258339924
         ]
        },
        {
         "histfunc": "count",
         "histnorm": "",
         "marker": {
          "color": "rgba(50, 171, 96, 1.0)",
          "line": {
           "color": "#4D5663",
           "width": 1.3
          }
         },
         "name": "C",
         "nbinsx": 50,
         "opacity": 0.8,
         "orientation": "v",
         "type": "histogram",
         "x": [
          0.5061735650054343,
          -0.45374351970619403,
          -1.3452417433111727,
          -0.7906907432933548,
          0.5168613662055268,
          -0.4741995457952149,
          -0.4694021472502292,
          -1.0065724184279325,
          0.08312318574305148,
          0.2962008274450619,
          -0.7652039217045815,
          0.7388926859827525,
          -0.9745728957736693,
          -2.4966091073318424,
          -0.7916851107025121,
          0.8795399529894699,
          -1.1612265935014694,
          1.5668786119989917,
          1.1040731833869804,
          1.0707093127560956,
          0.04029924094817754,
          -1.4025655681894444,
          1.1083759673468043,
          -0.26951084815162907,
          0.6821491317910371,
          -0.3290024007045008,
          1.801817498836998,
          0.09532447935235822,
          0.5756724929951034,
          1.2250363316590556,
          0.5404691198101195,
          1.405107902503578,
          -0.46317087243262545,
          -0.06896767035212416,
          -0.8379096836859891,
          0.8559684259161792,
          0.7777864657707051,
          0.9242137263015999,
          -0.2896985032173854,
          0.04891742223527568,
          -1.2404205571776148,
          -0.1051185708499763,
          -0.8830174503203669,
          0.22096219141352746,
          0.8821591483730389,
          -0.23674634676994427,
          2.5158583605059843,
          -1.6231979754694397,
          -0.20367723899620602,
          -0.7347607399291173,
          -0.168438399902665,
          -0.943047835388374,
          0.1277488505392079,
          -0.4597241063254028,
          0.7571446506449164,
          0.2679007718721096,
          0.07464719122470621,
          1.3878605790736451,
          0.46617492851758113,
          0.8686807258221567,
          1.2416824576348655,
          -1.5071105865323295,
          1.2553368074664373,
          -0.027321171048688378,
          -1.1622915769561002,
          0.17761266565039144,
          -1.8055440471148432,
          0.1440987967848737,
          0.14970580108926282,
          0.7842807872764457,
          0.3755126386941075,
          -0.453537726159817,
          -1.2272616199332682,
          -0.6026080665367011,
          -0.07245424810641667,
          0.38435297238922855,
          -0.7927447793959029,
          0.8219029649758968,
          0.25577990702355674,
          -0.39326546750649277,
          -0.06789084835124859,
          -1.340905483933111,
          -1.5117427959932335,
          0.16040901680405362,
          -0.5247056642455927,
          -1.6852089693321068,
          0.9003114764531234,
          1.3720171677133417,
          0.6747827785756805,
          0.27954802705531684,
          -0.47056378249546665,
          -2.3813183979413095,
          -0.9269712255431471,
          0.10436926248829959,
          0.05360017960672199,
          1.1334181219773138,
          0.4490940132605856,
          -2.3074539127722318,
          1.0924529184352614,
          1.3916896997462473
         ]
        },
        {
         "histfunc": "count",
         "histnorm": "",
         "marker": {
          "color": "rgba(128, 0, 128, 1.0)",
          "line": {
           "color": "#4D5663",
           "width": 1.3
          }
         },
         "name": "D",
         "nbinsx": 50,
         "opacity": 0.8,
         "orientation": "v",
         "type": "histogram",
         "x": [
          -1.0675771230985205,
          -0.6264316253365796,
          0.747126545149039,
          -1.5463867828324207,
          0.25938015269389925,
          -0.5389198104008657,
          -0.5728103842865038,
          0.04232544843890766,
          0.6051018423665102,
          1.5719879536382655,
          2.1824615406208365,
          -1.25222283856212,
          -0.3089715792020181,
          -0.9345231376762781,
          1.0309931125440828,
          -0.8427677439209136,
          1.1977651673873526,
          0.9643854392140603,
          0.2967407338548481,
          0.11503189012991172,
          0.8732057487653814,
          -0.19830601613374937,
          0.40756545557832274,
          -0.0022754125899660353,
          0.7211153825417478,
          -0.07342677113470895,
          0.9979282708349597,
          0.9597658767905103,
          0.6255359378491521,
          -0.45621573285751493,
          0.8150247581386546,
          -1.1072203072967557,
          -1.1000977049464933,
          1.6803282734071265,
          -0.9318001814065225,
          -1.9075202717308457,
          0.513400387638943,
          -0.9386923104093527,
          2.450064768931152,
          -1.432923362063971,
          0.6619256366627118,
          -0.31934761067773776,
          -1.8377084151369856,
          0.9344121070744521,
          0.21650089150415538,
          0.39973594945452634,
          0.9143285496448482,
          0.885617368351388,
          -1.0805304951112176,
          -1.5173287886073383,
          0.10401551897097906,
          0.451738909451791,
          0.8109448163385391,
          1.2734919720754343,
          -0.5587983288972399,
          1.9646001859380617,
          -0.037742341521644546,
          -0.38713967847411024,
          -0.7409576411389274,
          0.5736931426231485,
          -0.06893535611076942,
          -1.5818187828753911,
          0.4897288305796859,
          1.0132675005143266,
          1.100210446616976,
          -0.18704871424081185,
          0.8149179903873712,
          1.8509522380904984,
          -0.3048755128510082,
          0.15402916833245736,
          1.2033989062448742,
          -1.422386845150487,
          0.8659658670845835,
          1.383060561297713,
          -0.47414528871073014,
          -0.4444611891967911,
          -1.134515572377695,
          0.5210567607543705,
          0.711433108724833,
          -1.4595894453701157,
          1.866171666097092,
          0.30819746567042894,
          1.0831035343593591,
          -0.4917300092139015,
          0.8937049963266488,
          -0.779032604223167,
          1.3202255084238312,
          1.3058107289950605,
          1.1034214210645876,
          0.6616521623376257,
          -0.36773474713485177,
          -0.3698675153167032,
          -0.7317343089371522,
          -0.3916593838141954,
          -0.9691641760790766,
          -0.8651839848953563,
          0.8412831635767257,
          0.42139921244393047,
          -0.9338671399851458,
          0.3802094408496576
         ]
        }
       ],
       "layout": {
        "barmode": "overlay",
        "legend": {
         "bgcolor": "#F5F6F9",
         "font": {
          "color": "#4D5663"
         }
        },
        "paper_bgcolor": "#F5F6F9",
        "plot_bgcolor": "#F5F6F9",
        "template": {
         "data": {
          "bar": [
           {
            "error_x": {
             "color": "#2a3f5f"
            },
            "error_y": {
             "color": "#2a3f5f"
            },
            "marker": {
             "line": {
              "color": "#E5ECF6",
              "width": 0.5
             },
             "pattern": {
              "fillmode": "overlay",
              "size": 10,
              "solidity": 0.2
             }
            },
            "type": "bar"
           }
          ],
          "barpolar": [
           {
            "marker": {
             "line": {
              "color": "#E5ECF6",
              "width": 0.5
             },
             "pattern": {
              "fillmode": "overlay",
              "size": 10,
              "solidity": 0.2
             }
            },
            "type": "barpolar"
           }
          ],
          "carpet": [
           {
            "aaxis": {
             "endlinecolor": "#2a3f5f",
             "gridcolor": "white",
             "linecolor": "white",
             "minorgridcolor": "white",
             "startlinecolor": "#2a3f5f"
            },
            "baxis": {
             "endlinecolor": "#2a3f5f",
             "gridcolor": "white",
             "linecolor": "white",
             "minorgridcolor": "white",
             "startlinecolor": "#2a3f5f"
            },
            "type": "carpet"
           }
          ],
          "choropleth": [
           {
            "colorbar": {
             "outlinewidth": 0,
             "ticks": ""
            },
            "type": "choropleth"
           }
          ],
          "contour": [
           {
            "colorbar": {
             "outlinewidth": 0,
             "ticks": ""
            },
            "colorscale": [
             [
              0,
              "#0d0887"
             ],
             [
              0.1111111111111111,
              "#46039f"
             ],
             [
              0.2222222222222222,
              "#7201a8"
             ],
             [
              0.3333333333333333,
              "#9c179e"
             ],
             [
              0.4444444444444444,
              "#bd3786"
             ],
             [
              0.5555555555555556,
              "#d8576b"
             ],
             [
              0.6666666666666666,
              "#ed7953"
             ],
             [
              0.7777777777777778,
              "#fb9f3a"
             ],
             [
              0.8888888888888888,
              "#fdca26"
             ],
             [
              1,
              "#f0f921"
             ]
            ],
            "type": "contour"
           }
          ],
          "contourcarpet": [
           {
            "colorbar": {
             "outlinewidth": 0,
             "ticks": ""
            },
            "type": "contourcarpet"
           }
          ],
          "heatmap": [
           {
            "colorbar": {
             "outlinewidth": 0,
             "ticks": ""
            },
            "colorscale": [
             [
              0,
              "#0d0887"
             ],
             [
              0.1111111111111111,
              "#46039f"
             ],
             [
              0.2222222222222222,
              "#7201a8"
             ],
             [
              0.3333333333333333,
              "#9c179e"
             ],
             [
              0.4444444444444444,
              "#bd3786"
             ],
             [
              0.5555555555555556,
              "#d8576b"
             ],
             [
              0.6666666666666666,
              "#ed7953"
             ],
             [
              0.7777777777777778,
              "#fb9f3a"
             ],
             [
              0.8888888888888888,
              "#fdca26"
             ],
             [
              1,
              "#f0f921"
             ]
            ],
            "type": "heatmap"
           }
          ],
          "heatmapgl": [
           {
            "colorbar": {
             "outlinewidth": 0,
             "ticks": ""
            },
            "colorscale": [
             [
              0,
              "#0d0887"
             ],
             [
              0.1111111111111111,
              "#46039f"
             ],
             [
              0.2222222222222222,
              "#7201a8"
             ],
             [
              0.3333333333333333,
              "#9c179e"
             ],
             [
              0.4444444444444444,
              "#bd3786"
             ],
             [
              0.5555555555555556,
              "#d8576b"
             ],
             [
              0.6666666666666666,
              "#ed7953"
             ],
             [
              0.7777777777777778,
              "#fb9f3a"
             ],
             [
              0.8888888888888888,
              "#fdca26"
             ],
             [
              1,
              "#f0f921"
             ]
            ],
            "type": "heatmapgl"
           }
          ],
          "histogram": [
           {
            "marker": {
             "pattern": {
              "fillmode": "overlay",
              "size": 10,
              "solidity": 0.2
             }
            },
            "type": "histogram"
           }
          ],
          "histogram2d": [
           {
            "colorbar": {
             "outlinewidth": 0,
             "ticks": ""
            },
            "colorscale": [
             [
              0,
              "#0d0887"
             ],
             [
              0.1111111111111111,
              "#46039f"
             ],
             [
              0.2222222222222222,
              "#7201a8"
             ],
             [
              0.3333333333333333,
              "#9c179e"
             ],
             [
              0.4444444444444444,
              "#bd3786"
             ],
             [
              0.5555555555555556,
              "#d8576b"
             ],
             [
              0.6666666666666666,
              "#ed7953"
             ],
             [
              0.7777777777777778,
              "#fb9f3a"
             ],
             [
              0.8888888888888888,
              "#fdca26"
             ],
             [
              1,
              "#f0f921"
             ]
            ],
            "type": "histogram2d"
           }
          ],
          "histogram2dcontour": [
           {
            "colorbar": {
             "outlinewidth": 0,
             "ticks": ""
            },
            "colorscale": [
             [
              0,
              "#0d0887"
             ],
             [
              0.1111111111111111,
              "#46039f"
             ],
             [
              0.2222222222222222,
              "#7201a8"
             ],
             [
              0.3333333333333333,
              "#9c179e"
             ],
             [
              0.4444444444444444,
              "#bd3786"
             ],
             [
              0.5555555555555556,
              "#d8576b"
             ],
             [
              0.6666666666666666,
              "#ed7953"
             ],
             [
              0.7777777777777778,
              "#fb9f3a"
             ],
             [
              0.8888888888888888,
              "#fdca26"
             ],
             [
              1,
              "#f0f921"
             ]
            ],
            "type": "histogram2dcontour"
           }
          ],
          "mesh3d": [
           {
            "colorbar": {
             "outlinewidth": 0,
             "ticks": ""
            },
            "type": "mesh3d"
           }
          ],
          "parcoords": [
           {
            "line": {
             "colorbar": {
              "outlinewidth": 0,
              "ticks": ""
             }
            },
            "type": "parcoords"
           }
          ],
          "pie": [
           {
            "automargin": true,
            "type": "pie"
           }
          ],
          "scatter": [
           {
            "marker": {
             "colorbar": {
              "outlinewidth": 0,
              "ticks": ""
             }
            },
            "type": "scatter"
           }
          ],
          "scatter3d": [
           {
            "line": {
             "colorbar": {
              "outlinewidth": 0,
              "ticks": ""
             }
            },
            "marker": {
             "colorbar": {
              "outlinewidth": 0,
              "ticks": ""
             }
            },
            "type": "scatter3d"
           }
          ],
          "scattercarpet": [
           {
            "marker": {
             "colorbar": {
              "outlinewidth": 0,
              "ticks": ""
             }
            },
            "type": "scattercarpet"
           }
          ],
          "scattergeo": [
           {
            "marker": {
             "colorbar": {
              "outlinewidth": 0,
              "ticks": ""
             }
            },
            "type": "scattergeo"
           }
          ],
          "scattergl": [
           {
            "marker": {
             "colorbar": {
              "outlinewidth": 0,
              "ticks": ""
             }
            },
            "type": "scattergl"
           }
          ],
          "scattermapbox": [
           {
            "marker": {
             "colorbar": {
              "outlinewidth": 0,
              "ticks": ""
             }
            },
            "type": "scattermapbox"
           }
          ],
          "scatterpolar": [
           {
            "marker": {
             "colorbar": {
              "outlinewidth": 0,
              "ticks": ""
             }
            },
            "type": "scatterpolar"
           }
          ],
          "scatterpolargl": [
           {
            "marker": {
             "colorbar": {
              "outlinewidth": 0,
              "ticks": ""
             }
            },
            "type": "scatterpolargl"
           }
          ],
          "scatterternary": [
           {
            "marker": {
             "colorbar": {
              "outlinewidth": 0,
              "ticks": ""
             }
            },
            "type": "scatterternary"
           }
          ],
          "surface": [
           {
            "colorbar": {
             "outlinewidth": 0,
             "ticks": ""
            },
            "colorscale": [
             [
              0,
              "#0d0887"
             ],
             [
              0.1111111111111111,
              "#46039f"
             ],
             [
              0.2222222222222222,
              "#7201a8"
             ],
             [
              0.3333333333333333,
              "#9c179e"
             ],
             [
              0.4444444444444444,
              "#bd3786"
             ],
             [
              0.5555555555555556,
              "#d8576b"
             ],
             [
              0.6666666666666666,
              "#ed7953"
             ],
             [
              0.7777777777777778,
              "#fb9f3a"
             ],
             [
              0.8888888888888888,
              "#fdca26"
             ],
             [
              1,
              "#f0f921"
             ]
            ],
            "type": "surface"
           }
          ],
          "table": [
           {
            "cells": {
             "fill": {
              "color": "#EBF0F8"
             },
             "line": {
              "color": "white"
             }
            },
            "header": {
             "fill": {
              "color": "#C8D4E3"
             },
             "line": {
              "color": "white"
             }
            },
            "type": "table"
           }
          ]
         },
         "layout": {
          "annotationdefaults": {
           "arrowcolor": "#2a3f5f",
           "arrowhead": 0,
           "arrowwidth": 1
          },
          "autotypenumbers": "strict",
          "coloraxis": {
           "colorbar": {
            "outlinewidth": 0,
            "ticks": ""
           }
          },
          "colorscale": {
           "diverging": [
            [
             0,
             "#8e0152"
            ],
            [
             0.1,
             "#c51b7d"
            ],
            [
             0.2,
             "#de77ae"
            ],
            [
             0.3,
             "#f1b6da"
            ],
            [
             0.4,
             "#fde0ef"
            ],
            [
             0.5,
             "#f7f7f7"
            ],
            [
             0.6,
             "#e6f5d0"
            ],
            [
             0.7,
             "#b8e186"
            ],
            [
             0.8,
             "#7fbc41"
            ],
            [
             0.9,
             "#4d9221"
            ],
            [
             1,
             "#276419"
            ]
           ],
           "sequential": [
            [
             0,
             "#0d0887"
            ],
            [
             0.1111111111111111,
             "#46039f"
            ],
            [
             0.2222222222222222,
             "#7201a8"
            ],
            [
             0.3333333333333333,
             "#9c179e"
            ],
            [
             0.4444444444444444,
             "#bd3786"
            ],
            [
             0.5555555555555556,
             "#d8576b"
            ],
            [
             0.6666666666666666,
             "#ed7953"
            ],
            [
             0.7777777777777778,
             "#fb9f3a"
            ],
            [
             0.8888888888888888,
             "#fdca26"
            ],
            [
             1,
             "#f0f921"
            ]
           ],
           "sequentialminus": [
            [
             0,
             "#0d0887"
            ],
            [
             0.1111111111111111,
             "#46039f"
            ],
            [
             0.2222222222222222,
             "#7201a8"
            ],
            [
             0.3333333333333333,
             "#9c179e"
            ],
            [
             0.4444444444444444,
             "#bd3786"
            ],
            [
             0.5555555555555556,
             "#d8576b"
            ],
            [
             0.6666666666666666,
             "#ed7953"
            ],
            [
             0.7777777777777778,
             "#fb9f3a"
            ],
            [
             0.8888888888888888,
             "#fdca26"
            ],
            [
             1,
             "#f0f921"
            ]
           ]
          },
          "colorway": [
           "#636efa",
           "#EF553B",
           "#00cc96",
           "#ab63fa",
           "#FFA15A",
           "#19d3f3",
           "#FF6692",
           "#B6E880",
           "#FF97FF",
           "#FECB52"
          ],
          "font": {
           "color": "#2a3f5f"
          },
          "geo": {
           "bgcolor": "white",
           "lakecolor": "white",
           "landcolor": "#E5ECF6",
           "showlakes": true,
           "showland": true,
           "subunitcolor": "white"
          },
          "hoverlabel": {
           "align": "left"
          },
          "hovermode": "closest",
          "mapbox": {
           "style": "light"
          },
          "paper_bgcolor": "white",
          "plot_bgcolor": "#E5ECF6",
          "polar": {
           "angularaxis": {
            "gridcolor": "white",
            "linecolor": "white",
            "ticks": ""
           },
           "bgcolor": "#E5ECF6",
           "radialaxis": {
            "gridcolor": "white",
            "linecolor": "white",
            "ticks": ""
           }
          },
          "scene": {
           "xaxis": {
            "backgroundcolor": "#E5ECF6",
            "gridcolor": "white",
            "gridwidth": 2,
            "linecolor": "white",
            "showbackground": true,
            "ticks": "",
            "zerolinecolor": "white"
           },
           "yaxis": {
            "backgroundcolor": "#E5ECF6",
            "gridcolor": "white",
            "gridwidth": 2,
            "linecolor": "white",
            "showbackground": true,
            "ticks": "",
            "zerolinecolor": "white"
           },
           "zaxis": {
            "backgroundcolor": "#E5ECF6",
            "gridcolor": "white",
            "gridwidth": 2,
            "linecolor": "white",
            "showbackground": true,
            "ticks": "",
            "zerolinecolor": "white"
           }
          },
          "shapedefaults": {
           "line": {
            "color": "#2a3f5f"
           }
          },
          "ternary": {
           "aaxis": {
            "gridcolor": "white",
            "linecolor": "white",
            "ticks": ""
           },
           "baxis": {
            "gridcolor": "white",
            "linecolor": "white",
            "ticks": ""
           },
           "bgcolor": "#E5ECF6",
           "caxis": {
            "gridcolor": "white",
            "linecolor": "white",
            "ticks": ""
           }
          },
          "title": {
           "x": 0.05
          },
          "xaxis": {
           "automargin": true,
           "gridcolor": "white",
           "linecolor": "white",
           "ticks": "",
           "title": {
            "standoff": 15
           },
           "zerolinecolor": "white",
           "zerolinewidth": 2
          },
          "yaxis": {
           "automargin": true,
           "gridcolor": "white",
           "linecolor": "white",
           "ticks": "",
           "title": {
            "standoff": 15
           },
           "zerolinecolor": "white",
           "zerolinewidth": 2
          }
         }
        },
        "title": {
         "font": {
          "color": "#4D5663"
         }
        },
        "xaxis": {
         "gridcolor": "#E1E5ED",
         "showgrid": true,
         "tickfont": {
          "color": "#4D5663"
         },
         "title": {
          "font": {
           "color": "#4D5663"
          },
          "text": ""
         },
         "zerolinecolor": "#E1E5ED"
        },
        "yaxis": {
         "gridcolor": "#E1E5ED",
         "showgrid": true,
         "tickfont": {
          "color": "#4D5663"
         },
         "title": {
          "font": {
           "color": "#4D5663"
          },
          "text": ""
         },
         "zerolinecolor": "#E1E5ED"
        }
       }
      },
      "text/html": [
       "<div>                            <div id=\"9650c5b1-7ef5-49d5-872b-1b1045ef46a3\" class=\"plotly-graph-div\" style=\"height:525px; width:100%;\"></div>            <script type=\"text/javascript\">                require([\"plotly\"], function(Plotly) {                    window.PLOTLYENV=window.PLOTLYENV || {};\n",
       "                    window.PLOTLYENV.BASE_URL='https://plot.ly';                                    if (document.getElementById(\"9650c5b1-7ef5-49d5-872b-1b1045ef46a3\")) {                    Plotly.newPlot(                        \"9650c5b1-7ef5-49d5-872b-1b1045ef46a3\",                        [{\"histfunc\":\"count\",\"histnorm\":\"\",\"marker\":{\"color\":\"rgba(255, 153, 51, 1.0)\",\"line\":{\"color\":\"#4D5663\",\"width\":1.3}},\"name\":\"A\",\"nbinsx\":50,\"opacity\":0.8,\"orientation\":\"v\",\"x\":[1.0837802026903676,-0.8307318652353206,0.9704645666752914,-0.13150801540525994,-1.431676307991406,0.5854248107675313,-0.5660964311261989,0.9884149998948273,-0.03866022001943958,0.3926136648987823,0.2366436323713876,1.5890962443122887,0.8157022340882426,0.3514861566194287,1.0277388736464257,0.2699518657534483,1.3965374784548972,-1.5384078610201786,-0.5850193141441375,0.04250994717911727,0.22334130053789886,-0.3843704559030353,-0.9135758999676846,1.1988523922550378,0.8756193834778848,-0.3245036125233253,-0.8643199642609466,-2.711830222084337,-1.6213541043042066,-1.1440160134243584,1.1956049013334702,-0.5163570085007548,0.3383295777705534,-0.32691112866765776,0.1380319492889386,-0.10120910311364711,1.2224935125494165,-0.7848201785562855,1.3251452237809054,-1.0422539931177521,-0.6220907671447959,0.7605865882300532,0.7097525174852362,0.9560880229550969,-0.10339811047162585,-0.14644500749449224,0.5368987942350666,-0.03267673468010394,-0.3285015605627665,-2.1637667787824704,-0.19750325171496624,-0.8705110153772423,0.3275838600290092,-1.4429386352380633,-0.5227190645611784,-0.6040484120224673,-0.5426828792455438,-0.24734238804509784,-0.1710048045514127,0.6357392606928337,0.22223721737535435,0.8539923672277793,1.6418874845855114,-1.6051526223909196,0.22309065021823282,-0.7595689515903035,-2.1996485445702563,1.5956732573254695,1.5477270913516719,0.567390246133774,0.4046686778858881,0.4683976376712205,-1.2977402564021023,-0.29053464566907533,-0.6681614022952193,0.5398107798206214,1.4892780015980334,0.8907307805670841,0.01356355123975639,0.779825227084279,1.480629213237171,-1.303499194553016,0.5640734614757685,0.888697983915617,-1.5602326741188632,0.3276654891441126,1.1056006487110808,0.11020457528062488,-1.3030233635699597,0.3924672139339836,0.5960789969061742,-1.1234727276191592,-1.7650675896330457,0.5986533532972574,1.0617932058870356,1.3479162812727086,-0.8368602512006359,-0.009797134647624255,0.5983037055534213,-0.8765850492559197],\"type\":\"histogram\"},{\"histfunc\":\"count\",\"histnorm\":\"\",\"marker\":{\"color\":\"rgba(55, 128, 191, 1.0)\",\"line\":{\"color\":\"#4D5663\",\"width\":1.3}},\"name\":\"B\",\"nbinsx\":50,\"opacity\":0.8,\"orientation\":\"v\",\"x\":[-0.522890892695273,-0.5133950769305579,0.6806690722910964,1.031910376765052,0.5134242259294345,-1.1384405134344129,-1.967304273414849,2.7754662161448187,-0.12968506824520482,-0.5751330143483373,-1.7124510912923032,-0.7401896441257169,1.3640598393807122,-0.7392250669937778,-0.4596265565310788,0.8632338591254589,-0.9269877232227746,0.8005776928976868,-0.5303651277260929,-1.5478366663352567,-0.9021928385540456,0.07263937780983032,0.4964765917045821,-0.019362179759583174,0.3549150890000641,-0.254386036949427,1.287006580786897,0.7655221718834024,0.7588074233964105,2.119276748874291,-0.5972958247816397,-1.2021289261239687,-0.20378199373107492,0.8537557984722517,0.03905136978287543,-1.3572525759712204,0.7729758897701869,0.15709732946492647,-0.43953427255576755,0.02080414947036807,-0.0686204830480142,-1.7658436876434458,-0.07210159595201733,0.27634956368375163,1.0937799112009745,0.4294114559969322,-1.5755166280139263,-0.030870482297119722,-0.2023705876469707,0.5292765847905173,0.39943539003596257,-0.7724123878930874,0.6890986316171753,0.9122861623485468,0.1162402187877747,0.41573491106998256,-1.0554506054777522,0.3273723004744497,1.2826088924503345,0.002600066872883493,-1.344462684212799,-0.4646665558487505,0.6608569002638156,-1.172944904026479,-1.5333839108105396,0.5800873164304087,-0.0944402612694691,0.9177407000112922,-1.362401198969006,-0.26278842045129025,0.5670096180264699,-1.3766867887778862,1.0606927619478912,1.7738407682557193,-1.345147684233415,1.2258717217599049,-0.6434508497398888,-0.08574432115483341,-0.30728343458243823,-0.26446934774105685,-0.946849712608022,-1.153366821199802,-0.13739292710680448,0.3299629055380062,0.428734968248196,1.4750103690781826,0.9924535177609993,-0.5239161127928873,-0.7283124703069083,-0.10204894475527922,1.1466273781594924,0.0888460083240002,-0.0166821185648255,0.18261626841187298,-0.3679919585457832,1.2256960945250548,0.40221413256018895,0.515223149459377,1.3306440965310917,-0.618409258339924],\"type\":\"histogram\"},{\"histfunc\":\"count\",\"histnorm\":\"\",\"marker\":{\"color\":\"rgba(50, 171, 96, 1.0)\",\"line\":{\"color\":\"#4D5663\",\"width\":1.3}},\"name\":\"C\",\"nbinsx\":50,\"opacity\":0.8,\"orientation\":\"v\",\"x\":[0.5061735650054343,-0.45374351970619403,-1.3452417433111727,-0.7906907432933548,0.5168613662055268,-0.4741995457952149,-0.4694021472502292,-1.0065724184279325,0.08312318574305148,0.2962008274450619,-0.7652039217045815,0.7388926859827525,-0.9745728957736693,-2.4966091073318424,-0.7916851107025121,0.8795399529894699,-1.1612265935014694,1.5668786119989917,1.1040731833869804,1.0707093127560956,0.04029924094817754,-1.4025655681894444,1.1083759673468043,-0.26951084815162907,0.6821491317910371,-0.3290024007045008,1.801817498836998,0.09532447935235822,0.5756724929951034,1.2250363316590556,0.5404691198101195,1.405107902503578,-0.46317087243262545,-0.06896767035212416,-0.8379096836859891,0.8559684259161792,0.7777864657707051,0.9242137263015999,-0.2896985032173854,0.04891742223527568,-1.2404205571776148,-0.1051185708499763,-0.8830174503203669,0.22096219141352746,0.8821591483730389,-0.23674634676994427,2.5158583605059843,-1.6231979754694397,-0.20367723899620602,-0.7347607399291173,-0.168438399902665,-0.943047835388374,0.1277488505392079,-0.4597241063254028,0.7571446506449164,0.2679007718721096,0.07464719122470621,1.3878605790736451,0.46617492851758113,0.8686807258221567,1.2416824576348655,-1.5071105865323295,1.2553368074664373,-0.027321171048688378,-1.1622915769561002,0.17761266565039144,-1.8055440471148432,0.1440987967848737,0.14970580108926282,0.7842807872764457,0.3755126386941075,-0.453537726159817,-1.2272616199332682,-0.6026080665367011,-0.07245424810641667,0.38435297238922855,-0.7927447793959029,0.8219029649758968,0.25577990702355674,-0.39326546750649277,-0.06789084835124859,-1.340905483933111,-1.5117427959932335,0.16040901680405362,-0.5247056642455927,-1.6852089693321068,0.9003114764531234,1.3720171677133417,0.6747827785756805,0.27954802705531684,-0.47056378249546665,-2.3813183979413095,-0.9269712255431471,0.10436926248829959,0.05360017960672199,1.1334181219773138,0.4490940132605856,-2.3074539127722318,1.0924529184352614,1.3916896997462473],\"type\":\"histogram\"},{\"histfunc\":\"count\",\"histnorm\":\"\",\"marker\":{\"color\":\"rgba(128, 0, 128, 1.0)\",\"line\":{\"color\":\"#4D5663\",\"width\":1.3}},\"name\":\"D\",\"nbinsx\":50,\"opacity\":0.8,\"orientation\":\"v\",\"x\":[-1.0675771230985205,-0.6264316253365796,0.747126545149039,-1.5463867828324207,0.25938015269389925,-0.5389198104008657,-0.5728103842865038,0.04232544843890766,0.6051018423665102,1.5719879536382655,2.1824615406208365,-1.25222283856212,-0.3089715792020181,-0.9345231376762781,1.0309931125440828,-0.8427677439209136,1.1977651673873526,0.9643854392140603,0.2967407338548481,0.11503189012991172,0.8732057487653814,-0.19830601613374937,0.40756545557832274,-0.0022754125899660353,0.7211153825417478,-0.07342677113470895,0.9979282708349597,0.9597658767905103,0.6255359378491521,-0.45621573285751493,0.8150247581386546,-1.1072203072967557,-1.1000977049464933,1.6803282734071265,-0.9318001814065225,-1.9075202717308457,0.513400387638943,-0.9386923104093527,2.450064768931152,-1.432923362063971,0.6619256366627118,-0.31934761067773776,-1.8377084151369856,0.9344121070744521,0.21650089150415538,0.39973594945452634,0.9143285496448482,0.885617368351388,-1.0805304951112176,-1.5173287886073383,0.10401551897097906,0.451738909451791,0.8109448163385391,1.2734919720754343,-0.5587983288972399,1.9646001859380617,-0.037742341521644546,-0.38713967847411024,-0.7409576411389274,0.5736931426231485,-0.06893535611076942,-1.5818187828753911,0.4897288305796859,1.0132675005143266,1.100210446616976,-0.18704871424081185,0.8149179903873712,1.8509522380904984,-0.3048755128510082,0.15402916833245736,1.2033989062448742,-1.422386845150487,0.8659658670845835,1.383060561297713,-0.47414528871073014,-0.4444611891967911,-1.134515572377695,0.5210567607543705,0.711433108724833,-1.4595894453701157,1.866171666097092,0.30819746567042894,1.0831035343593591,-0.4917300092139015,0.8937049963266488,-0.779032604223167,1.3202255084238312,1.3058107289950605,1.1034214210645876,0.6616521623376257,-0.36773474713485177,-0.3698675153167032,-0.7317343089371522,-0.3916593838141954,-0.9691641760790766,-0.8651839848953563,0.8412831635767257,0.42139921244393047,-0.9338671399851458,0.3802094408496576],\"type\":\"histogram\"}],                        {\"barmode\":\"overlay\",\"legend\":{\"bgcolor\":\"#F5F6F9\",\"font\":{\"color\":\"#4D5663\"}},\"paper_bgcolor\":\"#F5F6F9\",\"plot_bgcolor\":\"#F5F6F9\",\"template\":{\"data\":{\"barpolar\":[{\"marker\":{\"line\":{\"color\":\"#E5ECF6\",\"width\":0.5},\"pattern\":{\"fillmode\":\"overlay\",\"size\":10,\"solidity\":0.2}},\"type\":\"barpolar\"}],\"bar\":[{\"error_x\":{\"color\":\"#2a3f5f\"},\"error_y\":{\"color\":\"#2a3f5f\"},\"marker\":{\"line\":{\"color\":\"#E5ECF6\",\"width\":0.5},\"pattern\":{\"fillmode\":\"overlay\",\"size\":10,\"solidity\":0.2}},\"type\":\"bar\"}],\"carpet\":[{\"aaxis\":{\"endlinecolor\":\"#2a3f5f\",\"gridcolor\":\"white\",\"linecolor\":\"white\",\"minorgridcolor\":\"white\",\"startlinecolor\":\"#2a3f5f\"},\"baxis\":{\"endlinecolor\":\"#2a3f5f\",\"gridcolor\":\"white\",\"linecolor\":\"white\",\"minorgridcolor\":\"white\",\"startlinecolor\":\"#2a3f5f\"},\"type\":\"carpet\"}],\"choropleth\":[{\"colorbar\":{\"outlinewidth\":0,\"ticks\":\"\"},\"type\":\"choropleth\"}],\"contourcarpet\":[{\"colorbar\":{\"outlinewidth\":0,\"ticks\":\"\"},\"type\":\"contourcarpet\"}],\"contour\":[{\"colorbar\":{\"outlinewidth\":0,\"ticks\":\"\"},\"colorscale\":[[0.0,\"#0d0887\"],[0.1111111111111111,\"#46039f\"],[0.2222222222222222,\"#7201a8\"],[0.3333333333333333,\"#9c179e\"],[0.4444444444444444,\"#bd3786\"],[0.5555555555555556,\"#d8576b\"],[0.6666666666666666,\"#ed7953\"],[0.7777777777777778,\"#fb9f3a\"],[0.8888888888888888,\"#fdca26\"],[1.0,\"#f0f921\"]],\"type\":\"contour\"}],\"heatmapgl\":[{\"colorbar\":{\"outlinewidth\":0,\"ticks\":\"\"},\"colorscale\":[[0.0,\"#0d0887\"],[0.1111111111111111,\"#46039f\"],[0.2222222222222222,\"#7201a8\"],[0.3333333333333333,\"#9c179e\"],[0.4444444444444444,\"#bd3786\"],[0.5555555555555556,\"#d8576b\"],[0.6666666666666666,\"#ed7953\"],[0.7777777777777778,\"#fb9f3a\"],[0.8888888888888888,\"#fdca26\"],[1.0,\"#f0f921\"]],\"type\":\"heatmapgl\"}],\"heatmap\":[{\"colorbar\":{\"outlinewidth\":0,\"ticks\":\"\"},\"colorscale\":[[0.0,\"#0d0887\"],[0.1111111111111111,\"#46039f\"],[0.2222222222222222,\"#7201a8\"],[0.3333333333333333,\"#9c179e\"],[0.4444444444444444,\"#bd3786\"],[0.5555555555555556,\"#d8576b\"],[0.6666666666666666,\"#ed7953\"],[0.7777777777777778,\"#fb9f3a\"],[0.8888888888888888,\"#fdca26\"],[1.0,\"#f0f921\"]],\"type\":\"heatmap\"}],\"histogram2dcontour\":[{\"colorbar\":{\"outlinewidth\":0,\"ticks\":\"\"},\"colorscale\":[[0.0,\"#0d0887\"],[0.1111111111111111,\"#46039f\"],[0.2222222222222222,\"#7201a8\"],[0.3333333333333333,\"#9c179e\"],[0.4444444444444444,\"#bd3786\"],[0.5555555555555556,\"#d8576b\"],[0.6666666666666666,\"#ed7953\"],[0.7777777777777778,\"#fb9f3a\"],[0.8888888888888888,\"#fdca26\"],[1.0,\"#f0f921\"]],\"type\":\"histogram2dcontour\"}],\"histogram2d\":[{\"colorbar\":{\"outlinewidth\":0,\"ticks\":\"\"},\"colorscale\":[[0.0,\"#0d0887\"],[0.1111111111111111,\"#46039f\"],[0.2222222222222222,\"#7201a8\"],[0.3333333333333333,\"#9c179e\"],[0.4444444444444444,\"#bd3786\"],[0.5555555555555556,\"#d8576b\"],[0.6666666666666666,\"#ed7953\"],[0.7777777777777778,\"#fb9f3a\"],[0.8888888888888888,\"#fdca26\"],[1.0,\"#f0f921\"]],\"type\":\"histogram2d\"}],\"histogram\":[{\"marker\":{\"pattern\":{\"fillmode\":\"overlay\",\"size\":10,\"solidity\":0.2}},\"type\":\"histogram\"}],\"mesh3d\":[{\"colorbar\":{\"outlinewidth\":0,\"ticks\":\"\"},\"type\":\"mesh3d\"}],\"parcoords\":[{\"line\":{\"colorbar\":{\"outlinewidth\":0,\"ticks\":\"\"}},\"type\":\"parcoords\"}],\"pie\":[{\"automargin\":true,\"type\":\"pie\"}],\"scatter3d\":[{\"line\":{\"colorbar\":{\"outlinewidth\":0,\"ticks\":\"\"}},\"marker\":{\"colorbar\":{\"outlinewidth\":0,\"ticks\":\"\"}},\"type\":\"scatter3d\"}],\"scattercarpet\":[{\"marker\":{\"colorbar\":{\"outlinewidth\":0,\"ticks\":\"\"}},\"type\":\"scattercarpet\"}],\"scattergeo\":[{\"marker\":{\"colorbar\":{\"outlinewidth\":0,\"ticks\":\"\"}},\"type\":\"scattergeo\"}],\"scattergl\":[{\"marker\":{\"colorbar\":{\"outlinewidth\":0,\"ticks\":\"\"}},\"type\":\"scattergl\"}],\"scattermapbox\":[{\"marker\":{\"colorbar\":{\"outlinewidth\":0,\"ticks\":\"\"}},\"type\":\"scattermapbox\"}],\"scatterpolargl\":[{\"marker\":{\"colorbar\":{\"outlinewidth\":0,\"ticks\":\"\"}},\"type\":\"scatterpolargl\"}],\"scatterpolar\":[{\"marker\":{\"colorbar\":{\"outlinewidth\":0,\"ticks\":\"\"}},\"type\":\"scatterpolar\"}],\"scatter\":[{\"marker\":{\"colorbar\":{\"outlinewidth\":0,\"ticks\":\"\"}},\"type\":\"scatter\"}],\"scatterternary\":[{\"marker\":{\"colorbar\":{\"outlinewidth\":0,\"ticks\":\"\"}},\"type\":\"scatterternary\"}],\"surface\":[{\"colorbar\":{\"outlinewidth\":0,\"ticks\":\"\"},\"colorscale\":[[0.0,\"#0d0887\"],[0.1111111111111111,\"#46039f\"],[0.2222222222222222,\"#7201a8\"],[0.3333333333333333,\"#9c179e\"],[0.4444444444444444,\"#bd3786\"],[0.5555555555555556,\"#d8576b\"],[0.6666666666666666,\"#ed7953\"],[0.7777777777777778,\"#fb9f3a\"],[0.8888888888888888,\"#fdca26\"],[1.0,\"#f0f921\"]],\"type\":\"surface\"}],\"table\":[{\"cells\":{\"fill\":{\"color\":\"#EBF0F8\"},\"line\":{\"color\":\"white\"}},\"header\":{\"fill\":{\"color\":\"#C8D4E3\"},\"line\":{\"color\":\"white\"}},\"type\":\"table\"}]},\"layout\":{\"annotationdefaults\":{\"arrowcolor\":\"#2a3f5f\",\"arrowhead\":0,\"arrowwidth\":1},\"autotypenumbers\":\"strict\",\"coloraxis\":{\"colorbar\":{\"outlinewidth\":0,\"ticks\":\"\"}},\"colorscale\":{\"diverging\":[[0,\"#8e0152\"],[0.1,\"#c51b7d\"],[0.2,\"#de77ae\"],[0.3,\"#f1b6da\"],[0.4,\"#fde0ef\"],[0.5,\"#f7f7f7\"],[0.6,\"#e6f5d0\"],[0.7,\"#b8e186\"],[0.8,\"#7fbc41\"],[0.9,\"#4d9221\"],[1,\"#276419\"]],\"sequential\":[[0.0,\"#0d0887\"],[0.1111111111111111,\"#46039f\"],[0.2222222222222222,\"#7201a8\"],[0.3333333333333333,\"#9c179e\"],[0.4444444444444444,\"#bd3786\"],[0.5555555555555556,\"#d8576b\"],[0.6666666666666666,\"#ed7953\"],[0.7777777777777778,\"#fb9f3a\"],[0.8888888888888888,\"#fdca26\"],[1.0,\"#f0f921\"]],\"sequentialminus\":[[0.0,\"#0d0887\"],[0.1111111111111111,\"#46039f\"],[0.2222222222222222,\"#7201a8\"],[0.3333333333333333,\"#9c179e\"],[0.4444444444444444,\"#bd3786\"],[0.5555555555555556,\"#d8576b\"],[0.6666666666666666,\"#ed7953\"],[0.7777777777777778,\"#fb9f3a\"],[0.8888888888888888,\"#fdca26\"],[1.0,\"#f0f921\"]]},\"colorway\":[\"#636efa\",\"#EF553B\",\"#00cc96\",\"#ab63fa\",\"#FFA15A\",\"#19d3f3\",\"#FF6692\",\"#B6E880\",\"#FF97FF\",\"#FECB52\"],\"font\":{\"color\":\"#2a3f5f\"},\"geo\":{\"bgcolor\":\"white\",\"lakecolor\":\"white\",\"landcolor\":\"#E5ECF6\",\"showlakes\":true,\"showland\":true,\"subunitcolor\":\"white\"},\"hoverlabel\":{\"align\":\"left\"},\"hovermode\":\"closest\",\"mapbox\":{\"style\":\"light\"},\"paper_bgcolor\":\"white\",\"plot_bgcolor\":\"#E5ECF6\",\"polar\":{\"angularaxis\":{\"gridcolor\":\"white\",\"linecolor\":\"white\",\"ticks\":\"\"},\"bgcolor\":\"#E5ECF6\",\"radialaxis\":{\"gridcolor\":\"white\",\"linecolor\":\"white\",\"ticks\":\"\"}},\"scene\":{\"xaxis\":{\"backgroundcolor\":\"#E5ECF6\",\"gridcolor\":\"white\",\"gridwidth\":2,\"linecolor\":\"white\",\"showbackground\":true,\"ticks\":\"\",\"zerolinecolor\":\"white\"},\"yaxis\":{\"backgroundcolor\":\"#E5ECF6\",\"gridcolor\":\"white\",\"gridwidth\":2,\"linecolor\":\"white\",\"showbackground\":true,\"ticks\":\"\",\"zerolinecolor\":\"white\"},\"zaxis\":{\"backgroundcolor\":\"#E5ECF6\",\"gridcolor\":\"white\",\"gridwidth\":2,\"linecolor\":\"white\",\"showbackground\":true,\"ticks\":\"\",\"zerolinecolor\":\"white\"}},\"shapedefaults\":{\"line\":{\"color\":\"#2a3f5f\"}},\"ternary\":{\"aaxis\":{\"gridcolor\":\"white\",\"linecolor\":\"white\",\"ticks\":\"\"},\"baxis\":{\"gridcolor\":\"white\",\"linecolor\":\"white\",\"ticks\":\"\"},\"bgcolor\":\"#E5ECF6\",\"caxis\":{\"gridcolor\":\"white\",\"linecolor\":\"white\",\"ticks\":\"\"}},\"title\":{\"x\":0.05},\"xaxis\":{\"automargin\":true,\"gridcolor\":\"white\",\"linecolor\":\"white\",\"ticks\":\"\",\"title\":{\"standoff\":15},\"zerolinecolor\":\"white\",\"zerolinewidth\":2},\"yaxis\":{\"automargin\":true,\"gridcolor\":\"white\",\"linecolor\":\"white\",\"ticks\":\"\",\"title\":{\"standoff\":15},\"zerolinecolor\":\"white\",\"zerolinewidth\":2}}},\"title\":{\"font\":{\"color\":\"#4D5663\"}},\"xaxis\":{\"gridcolor\":\"#E1E5ED\",\"showgrid\":true,\"tickfont\":{\"color\":\"#4D5663\"},\"title\":{\"font\":{\"color\":\"#4D5663\"},\"text\":\"\"},\"zerolinecolor\":\"#E1E5ED\"},\"yaxis\":{\"gridcolor\":\"#E1E5ED\",\"showgrid\":true,\"tickfont\":{\"color\":\"#4D5663\"},\"title\":{\"font\":{\"color\":\"#4D5663\"},\"text\":\"\"},\"zerolinecolor\":\"#E1E5ED\"}},                        {\"showLink\": true, \"linkText\": \"Export to plot.ly\", \"plotlyServerURL\": \"https://plot.ly\", \"responsive\": true}                    ).then(function(){\n",
       "                            \n",
       "var gd = document.getElementById('9650c5b1-7ef5-49d5-872b-1b1045ef46a3');\n",
       "var x = new MutationObserver(function (mutations, observer) {{\n",
       "        var display = window.getComputedStyle(gd).display;\n",
       "        if (!display || display === 'none') {{\n",
       "            console.log([gd, 'removed!']);\n",
       "            Plotly.purge(gd);\n",
       "            observer.disconnect();\n",
       "        }}\n",
       "}});\n",
       "\n",
       "// Listen for the removal of the full notebook cells\n",
       "var notebookContainer = gd.closest('#notebook-container');\n",
       "if (notebookContainer) {{\n",
       "    x.observe(notebookContainer, {childList: true});\n",
       "}}\n",
       "\n",
       "// Listen for the clearing of the current output cell\n",
       "var outputEl = gd.closest('.output');\n",
       "if (outputEl) {{\n",
       "    x.observe(outputEl, {childList: true});\n",
       "}}\n",
       "\n",
       "                        })                };                });            </script>        </div>"
      ]
     },
     "metadata": {},
     "output_type": "display_data"
    }
   ],
   "source": [
    "#if all, you get an overlapping hist\n",
    "df.iplot(kind='hist',bins=50)"
   ]
  },
  {
   "cell_type": "code",
   "execution_count": 37,
   "id": "dc740460",
   "metadata": {},
   "outputs": [
    {
     "name": "stderr",
     "output_type": "stream",
     "text": [
      "C:\\Users\\dansc\\anaconda3\\lib\\site-packages\\cufflinks\\plotlytools.py:849: FutureWarning:\n",
      "\n",
      "The pandas.np module is deprecated and will be removed from pandas in a future version. Import numpy directly instead.\n",
      "\n",
      "C:\\Users\\dansc\\anaconda3\\lib\\site-packages\\cufflinks\\plotlytools.py:850: FutureWarning:\n",
      "\n",
      "The pandas.np module is deprecated and will be removed from pandas in a future version. Import numpy directly instead.\n",
      "\n"
     ]
    },
    {
     "data": {
      "application/vnd.plotly.v1+json": {
       "config": {
        "linkText": "Export to plot.ly",
        "plotlyServerURL": "https://plot.ly",
        "showLink": true
       },
       "data": [
        {
         "line": {
          "color": "rgba(255, 153, 51, 1.0)",
          "dash": "solid",
          "shape": "linear",
          "width": 1.3
         },
         "mode": "lines",
         "name": "A",
         "text": "",
         "type": "scatter",
         "x": [
          0,
          1,
          2,
          3,
          4,
          5,
          6,
          7,
          8,
          9,
          10,
          11,
          12,
          13,
          14,
          15,
          16,
          17,
          18,
          19,
          20,
          21,
          22,
          23,
          24,
          25,
          26,
          27,
          28,
          29,
          30,
          31,
          32,
          33,
          34,
          35,
          36,
          37,
          38,
          39,
          40,
          41,
          42,
          43,
          44,
          45,
          46,
          47,
          48,
          49,
          50,
          51,
          52,
          53,
          54,
          55,
          56,
          57,
          58,
          59,
          60,
          61,
          62,
          63,
          64,
          65,
          66,
          67,
          68,
          69,
          70,
          71,
          72,
          73,
          74,
          75,
          76,
          77,
          78,
          79,
          80,
          81,
          82,
          83,
          84,
          85,
          86,
          87,
          88,
          89,
          90,
          91,
          92,
          93,
          94,
          95,
          96,
          97,
          98,
          99
         ],
         "y": [
          1.0837802026903676,
          -0.8307318652353206,
          0.9704645666752914,
          -0.13150801540525994,
          -1.431676307991406,
          0.5854248107675313,
          -0.5660964311261989,
          0.9884149998948273,
          -0.03866022001943958,
          0.3926136648987823,
          0.2366436323713876,
          1.5890962443122887,
          0.8157022340882426,
          0.3514861566194287,
          1.0277388736464257,
          0.2699518657534483,
          1.3965374784548972,
          -1.5384078610201786,
          -0.5850193141441375,
          0.04250994717911727,
          0.22334130053789886,
          -0.3843704559030353,
          -0.9135758999676846,
          1.1988523922550378,
          0.8756193834778848,
          -0.3245036125233253,
          -0.8643199642609466,
          -2.711830222084337,
          -1.6213541043042066,
          -1.1440160134243584,
          1.1956049013334702,
          -0.5163570085007548,
          0.3383295777705534,
          -0.32691112866765776,
          0.1380319492889386,
          -0.10120910311364711,
          1.2224935125494165,
          -0.7848201785562855,
          1.3251452237809054,
          -1.0422539931177521,
          -0.6220907671447959,
          0.7605865882300532,
          0.7097525174852362,
          0.9560880229550969,
          -0.10339811047162585,
          -0.14644500749449224,
          0.5368987942350666,
          -0.03267673468010394,
          -0.3285015605627665,
          -2.1637667787824704,
          -0.19750325171496624,
          -0.8705110153772423,
          0.3275838600290092,
          -1.4429386352380633,
          -0.5227190645611784,
          -0.6040484120224673,
          -0.5426828792455438,
          -0.24734238804509784,
          -0.1710048045514127,
          0.6357392606928337,
          0.22223721737535435,
          0.8539923672277793,
          1.6418874845855114,
          -1.6051526223909196,
          0.22309065021823282,
          -0.7595689515903035,
          -2.1996485445702563,
          1.5956732573254695,
          1.5477270913516719,
          0.567390246133774,
          0.4046686778858881,
          0.4683976376712205,
          -1.2977402564021023,
          -0.29053464566907533,
          -0.6681614022952193,
          0.5398107798206214,
          1.4892780015980334,
          0.8907307805670841,
          0.01356355123975639,
          0.779825227084279,
          1.480629213237171,
          -1.303499194553016,
          0.5640734614757685,
          0.888697983915617,
          -1.5602326741188632,
          0.3276654891441126,
          1.1056006487110808,
          0.11020457528062488,
          -1.3030233635699597,
          0.3924672139339836,
          0.5960789969061742,
          -1.1234727276191592,
          -1.7650675896330457,
          0.5986533532972574,
          1.0617932058870356,
          1.3479162812727086,
          -0.8368602512006359,
          -0.009797134647624255,
          0.5983037055534213,
          -0.8765850492559197
         ]
        },
        {
         "line": {
          "color": "rgba(55, 128, 191, 1.0)",
          "dash": "solid",
          "shape": "linear",
          "width": 1.3
         },
         "mode": "lines",
         "name": "B",
         "text": "",
         "type": "scatter",
         "x": [
          0,
          1,
          2,
          3,
          4,
          5,
          6,
          7,
          8,
          9,
          10,
          11,
          12,
          13,
          14,
          15,
          16,
          17,
          18,
          19,
          20,
          21,
          22,
          23,
          24,
          25,
          26,
          27,
          28,
          29,
          30,
          31,
          32,
          33,
          34,
          35,
          36,
          37,
          38,
          39,
          40,
          41,
          42,
          43,
          44,
          45,
          46,
          47,
          48,
          49,
          50,
          51,
          52,
          53,
          54,
          55,
          56,
          57,
          58,
          59,
          60,
          61,
          62,
          63,
          64,
          65,
          66,
          67,
          68,
          69,
          70,
          71,
          72,
          73,
          74,
          75,
          76,
          77,
          78,
          79,
          80,
          81,
          82,
          83,
          84,
          85,
          86,
          87,
          88,
          89,
          90,
          91,
          92,
          93,
          94,
          95,
          96,
          97,
          98,
          99
         ],
         "y": [
          -0.522890892695273,
          -0.5133950769305579,
          0.6806690722910964,
          1.031910376765052,
          0.5134242259294345,
          -1.1384405134344129,
          -1.967304273414849,
          2.7754662161448187,
          -0.12968506824520482,
          -0.5751330143483373,
          -1.7124510912923032,
          -0.7401896441257169,
          1.3640598393807122,
          -0.7392250669937778,
          -0.4596265565310788,
          0.8632338591254589,
          -0.9269877232227746,
          0.8005776928976868,
          -0.5303651277260929,
          -1.5478366663352567,
          -0.9021928385540456,
          0.07263937780983032,
          0.4964765917045821,
          -0.019362179759583174,
          0.3549150890000641,
          -0.254386036949427,
          1.287006580786897,
          0.7655221718834024,
          0.7588074233964105,
          2.119276748874291,
          -0.5972958247816397,
          -1.2021289261239687,
          -0.20378199373107492,
          0.8537557984722517,
          0.03905136978287543,
          -1.3572525759712204,
          0.7729758897701869,
          0.15709732946492647,
          -0.43953427255576755,
          0.02080414947036807,
          -0.0686204830480142,
          -1.7658436876434458,
          -0.07210159595201733,
          0.27634956368375163,
          1.0937799112009745,
          0.4294114559969322,
          -1.5755166280139263,
          -0.030870482297119722,
          -0.2023705876469707,
          0.5292765847905173,
          0.39943539003596257,
          -0.7724123878930874,
          0.6890986316171753,
          0.9122861623485468,
          0.1162402187877747,
          0.41573491106998256,
          -1.0554506054777522,
          0.3273723004744497,
          1.2826088924503345,
          0.002600066872883493,
          -1.344462684212799,
          -0.4646665558487505,
          0.6608569002638156,
          -1.172944904026479,
          -1.5333839108105396,
          0.5800873164304087,
          -0.0944402612694691,
          0.9177407000112922,
          -1.362401198969006,
          -0.26278842045129025,
          0.5670096180264699,
          -1.3766867887778862,
          1.0606927619478912,
          1.7738407682557193,
          -1.345147684233415,
          1.2258717217599049,
          -0.6434508497398888,
          -0.08574432115483341,
          -0.30728343458243823,
          -0.26446934774105685,
          -0.946849712608022,
          -1.153366821199802,
          -0.13739292710680448,
          0.3299629055380062,
          0.428734968248196,
          1.4750103690781826,
          0.9924535177609993,
          -0.5239161127928873,
          -0.7283124703069083,
          -0.10204894475527922,
          1.1466273781594924,
          0.0888460083240002,
          -0.0166821185648255,
          0.18261626841187298,
          -0.3679919585457832,
          1.2256960945250548,
          0.40221413256018895,
          0.515223149459377,
          1.3306440965310917,
          -0.618409258339924
         ]
        },
        {
         "connectgaps": false,
         "fill": "tozeroy",
         "line": {
          "color": "green",
          "dash": "solid",
          "shape": "linear",
          "width": 0.5
         },
         "mode": "lines",
         "name": "Spread",
         "showlegend": false,
         "type": "scatter",
         "x": [
          0,
          1,
          2,
          3,
          4,
          5,
          6,
          7,
          8,
          9,
          10,
          11,
          12,
          13,
          14,
          15,
          16,
          17,
          18,
          19,
          20,
          21,
          22,
          23,
          24,
          25,
          26,
          27,
          28,
          29,
          30,
          31,
          32,
          33,
          34,
          35,
          36,
          37,
          38,
          39,
          40,
          41,
          42,
          43,
          44,
          45,
          46,
          47,
          48,
          49,
          50,
          51,
          52,
          53,
          54,
          55,
          56,
          57,
          58,
          59,
          60,
          61,
          62,
          63,
          64,
          65,
          66,
          67,
          68,
          69,
          70,
          71,
          72,
          73,
          74,
          75,
          76,
          77,
          78,
          79,
          80,
          81,
          82,
          83,
          84,
          85,
          86,
          87,
          88,
          89,
          90,
          91,
          92,
          93,
          94,
          95,
          96,
          97,
          98,
          99
         ],
         "xaxis": "x2",
         "y": [
          1.6066710953856407,
          "",
          0.28979549438419494,
          "",
          "",
          1.7238653242019442,
          1.40120784228865,
          "",
          0.09102484822576523,
          0.9677466792471197,
          1.9490947236636909,
          2.3292858884380054,
          "",
          1.0907112236132064,
          1.4873654301775046,
          "",
          2.323525201677672,
          "",
          "",
          1.590346613514374,
          1.1255341390919444,
          "",
          "",
          1.218214572014621,
          0.5207042944778207,
          "",
          "",
          "",
          "",
          "",
          1.7929007261151098,
          0.6857719176232139,
          0.5421115715016283,
          "",
          0.09898057950606318,
          1.2560434728575733,
          0.4495176227792296,
          "",
          1.764679496336673,
          "",
          "",
          2.526430275873499,
          0.7818541134372535,
          0.6797384592713452,
          "",
          "",
          2.112415422248993,
          "",
          "",
          "",
          "",
          "",
          "",
          "",
          "",
          "",
          0.5127677262322083,
          "",
          "",
          0.6331391938199502,
          1.5666999015881533,
          1.3186589230765298,
          0.9810305843216958,
          "",
          1.7564745610287724,
          "",
          "",
          0.6779325573141773,
          2.910128290320678,
          0.8301786665850642,
          "",
          1.8450844264491066,
          "",
          "",
          0.6769862819381957,
          "",
          2.132728851337922,
          0.9764751017219175,
          0.3208469858221946,
          1.0442945748253358,
          2.427478925845193,
          "",
          0.701466388582573,
          0.5587350783776108,
          "",
          "",
          0.11314713095008144,
          0.6341206880735122,
          "",
          0.4945161586892628,
          "",
          "",
          "",
          0.4160370848853845,
          1.4297851644328188,
          0.12222018674765378,
          "",
          "",
          "",
          ""
         ],
         "yaxis": "y2"
        },
        {
         "connectgaps": false,
         "fill": "tozeroy",
         "line": {
          "color": "red",
          "dash": "solid",
          "shape": "linear",
          "width": 0.5
         },
         "mode": "lines",
         "name": "Spread",
         "showlegend": false,
         "type": "scatter",
         "x": [
          0,
          1,
          2,
          3,
          4,
          5,
          6,
          7,
          8,
          9,
          10,
          11,
          12,
          13,
          14,
          15,
          16,
          17,
          18,
          19,
          20,
          21,
          22,
          23,
          24,
          25,
          26,
          27,
          28,
          29,
          30,
          31,
          32,
          33,
          34,
          35,
          36,
          37,
          38,
          39,
          40,
          41,
          42,
          43,
          44,
          45,
          46,
          47,
          48,
          49,
          50,
          51,
          52,
          53,
          54,
          55,
          56,
          57,
          58,
          59,
          60,
          61,
          62,
          63,
          64,
          65,
          66,
          67,
          68,
          69,
          70,
          71,
          72,
          73,
          74,
          75,
          76,
          77,
          78,
          79,
          80,
          81,
          82,
          83,
          84,
          85,
          86,
          87,
          88,
          89,
          90,
          91,
          92,
          93,
          94,
          95,
          96,
          97,
          98,
          99
         ],
         "xaxis": "x2",
         "y": [
          "",
          -0.31733678830476275,
          "",
          -1.1634183921703118,
          -1.9451005339208405,
          "",
          "",
          -1.7870512162499914,
          "",
          "",
          "",
          "",
          -0.5483576052924696,
          "",
          "",
          -0.5932819933720106,
          "",
          -2.3389855539178654,
          -0.05465418641804465,
          "",
          "",
          -0.45700983371286563,
          -1.4100524916722668,
          "",
          "",
          -0.0701175755738983,
          -2.1513265450478434,
          -3.4773523939677395,
          -2.380161527700617,
          -3.26329276229865,
          "",
          "",
          "",
          -1.1806669271399095,
          "",
          "",
          "",
          -0.941917508021212,
          "",
          -1.0630581425881203,
          -0.5534702840967818,
          "",
          "",
          "",
          -1.1971780216726005,
          -0.5758564634914245,
          "",
          -0.001806252382984215,
          -0.12613097291579584,
          -2.6930433635729876,
          -0.5969386417509288,
          -0.09809862748415488,
          -0.36151477158816614,
          -2.35522479758661,
          -0.6389592833489531,
          -1.0197833230924498,
          "",
          -0.5747146885195475,
          -1.4536136970017473,
          "",
          "",
          "",
          "",
          -0.4322077183644406,
          "",
          -1.339656268020712,
          -2.105208283300787,
          "",
          "",
          "",
          -0.16234094014058176,
          "",
          -2.3584330183499933,
          -2.0643754139247945,
          "",
          -0.6860609419392835,
          "",
          "",
          "",
          "",
          "",
          -0.15013237335321405,
          "",
          "",
          -1.9889676423670593,
          -1.14734487993407,
          "",
          "",
          -0.5747108932630515,
          "",
          -0.5505483812533183,
          -1.2123187359431593,
          -1.74838547106822,
          "",
          "",
          "",
          -1.239074383760825,
          -0.5250202841070012,
          -0.7323403909776705,
          -0.25817579091599574
         ],
         "yaxis": "y2"
        }
       ],
       "layout": {
        "hovermode": "x",
        "legend": {
         "bgcolor": "#F5F6F9",
         "font": {
          "color": "#4D5663"
         }
        },
        "paper_bgcolor": "#F5F6F9",
        "plot_bgcolor": "#F5F6F9",
        "template": {
         "data": {
          "bar": [
           {
            "error_x": {
             "color": "#2a3f5f"
            },
            "error_y": {
             "color": "#2a3f5f"
            },
            "marker": {
             "line": {
              "color": "#E5ECF6",
              "width": 0.5
             },
             "pattern": {
              "fillmode": "overlay",
              "size": 10,
              "solidity": 0.2
             }
            },
            "type": "bar"
           }
          ],
          "barpolar": [
           {
            "marker": {
             "line": {
              "color": "#E5ECF6",
              "width": 0.5
             },
             "pattern": {
              "fillmode": "overlay",
              "size": 10,
              "solidity": 0.2
             }
            },
            "type": "barpolar"
           }
          ],
          "carpet": [
           {
            "aaxis": {
             "endlinecolor": "#2a3f5f",
             "gridcolor": "white",
             "linecolor": "white",
             "minorgridcolor": "white",
             "startlinecolor": "#2a3f5f"
            },
            "baxis": {
             "endlinecolor": "#2a3f5f",
             "gridcolor": "white",
             "linecolor": "white",
             "minorgridcolor": "white",
             "startlinecolor": "#2a3f5f"
            },
            "type": "carpet"
           }
          ],
          "choropleth": [
           {
            "colorbar": {
             "outlinewidth": 0,
             "ticks": ""
            },
            "type": "choropleth"
           }
          ],
          "contour": [
           {
            "colorbar": {
             "outlinewidth": 0,
             "ticks": ""
            },
            "colorscale": [
             [
              0,
              "#0d0887"
             ],
             [
              0.1111111111111111,
              "#46039f"
             ],
             [
              0.2222222222222222,
              "#7201a8"
             ],
             [
              0.3333333333333333,
              "#9c179e"
             ],
             [
              0.4444444444444444,
              "#bd3786"
             ],
             [
              0.5555555555555556,
              "#d8576b"
             ],
             [
              0.6666666666666666,
              "#ed7953"
             ],
             [
              0.7777777777777778,
              "#fb9f3a"
             ],
             [
              0.8888888888888888,
              "#fdca26"
             ],
             [
              1,
              "#f0f921"
             ]
            ],
            "type": "contour"
           }
          ],
          "contourcarpet": [
           {
            "colorbar": {
             "outlinewidth": 0,
             "ticks": ""
            },
            "type": "contourcarpet"
           }
          ],
          "heatmap": [
           {
            "colorbar": {
             "outlinewidth": 0,
             "ticks": ""
            },
            "colorscale": [
             [
              0,
              "#0d0887"
             ],
             [
              0.1111111111111111,
              "#46039f"
             ],
             [
              0.2222222222222222,
              "#7201a8"
             ],
             [
              0.3333333333333333,
              "#9c179e"
             ],
             [
              0.4444444444444444,
              "#bd3786"
             ],
             [
              0.5555555555555556,
              "#d8576b"
             ],
             [
              0.6666666666666666,
              "#ed7953"
             ],
             [
              0.7777777777777778,
              "#fb9f3a"
             ],
             [
              0.8888888888888888,
              "#fdca26"
             ],
             [
              1,
              "#f0f921"
             ]
            ],
            "type": "heatmap"
           }
          ],
          "heatmapgl": [
           {
            "colorbar": {
             "outlinewidth": 0,
             "ticks": ""
            },
            "colorscale": [
             [
              0,
              "#0d0887"
             ],
             [
              0.1111111111111111,
              "#46039f"
             ],
             [
              0.2222222222222222,
              "#7201a8"
             ],
             [
              0.3333333333333333,
              "#9c179e"
             ],
             [
              0.4444444444444444,
              "#bd3786"
             ],
             [
              0.5555555555555556,
              "#d8576b"
             ],
             [
              0.6666666666666666,
              "#ed7953"
             ],
             [
              0.7777777777777778,
              "#fb9f3a"
             ],
             [
              0.8888888888888888,
              "#fdca26"
             ],
             [
              1,
              "#f0f921"
             ]
            ],
            "type": "heatmapgl"
           }
          ],
          "histogram": [
           {
            "marker": {
             "pattern": {
              "fillmode": "overlay",
              "size": 10,
              "solidity": 0.2
             }
            },
            "type": "histogram"
           }
          ],
          "histogram2d": [
           {
            "colorbar": {
             "outlinewidth": 0,
             "ticks": ""
            },
            "colorscale": [
             [
              0,
              "#0d0887"
             ],
             [
              0.1111111111111111,
              "#46039f"
             ],
             [
              0.2222222222222222,
              "#7201a8"
             ],
             [
              0.3333333333333333,
              "#9c179e"
             ],
             [
              0.4444444444444444,
              "#bd3786"
             ],
             [
              0.5555555555555556,
              "#d8576b"
             ],
             [
              0.6666666666666666,
              "#ed7953"
             ],
             [
              0.7777777777777778,
              "#fb9f3a"
             ],
             [
              0.8888888888888888,
              "#fdca26"
             ],
             [
              1,
              "#f0f921"
             ]
            ],
            "type": "histogram2d"
           }
          ],
          "histogram2dcontour": [
           {
            "colorbar": {
             "outlinewidth": 0,
             "ticks": ""
            },
            "colorscale": [
             [
              0,
              "#0d0887"
             ],
             [
              0.1111111111111111,
              "#46039f"
             ],
             [
              0.2222222222222222,
              "#7201a8"
             ],
             [
              0.3333333333333333,
              "#9c179e"
             ],
             [
              0.4444444444444444,
              "#bd3786"
             ],
             [
              0.5555555555555556,
              "#d8576b"
             ],
             [
              0.6666666666666666,
              "#ed7953"
             ],
             [
              0.7777777777777778,
              "#fb9f3a"
             ],
             [
              0.8888888888888888,
              "#fdca26"
             ],
             [
              1,
              "#f0f921"
             ]
            ],
            "type": "histogram2dcontour"
           }
          ],
          "mesh3d": [
           {
            "colorbar": {
             "outlinewidth": 0,
             "ticks": ""
            },
            "type": "mesh3d"
           }
          ],
          "parcoords": [
           {
            "line": {
             "colorbar": {
              "outlinewidth": 0,
              "ticks": ""
             }
            },
            "type": "parcoords"
           }
          ],
          "pie": [
           {
            "automargin": true,
            "type": "pie"
           }
          ],
          "scatter": [
           {
            "marker": {
             "colorbar": {
              "outlinewidth": 0,
              "ticks": ""
             }
            },
            "type": "scatter"
           }
          ],
          "scatter3d": [
           {
            "line": {
             "colorbar": {
              "outlinewidth": 0,
              "ticks": ""
             }
            },
            "marker": {
             "colorbar": {
              "outlinewidth": 0,
              "ticks": ""
             }
            },
            "type": "scatter3d"
           }
          ],
          "scattercarpet": [
           {
            "marker": {
             "colorbar": {
              "outlinewidth": 0,
              "ticks": ""
             }
            },
            "type": "scattercarpet"
           }
          ],
          "scattergeo": [
           {
            "marker": {
             "colorbar": {
              "outlinewidth": 0,
              "ticks": ""
             }
            },
            "type": "scattergeo"
           }
          ],
          "scattergl": [
           {
            "marker": {
             "colorbar": {
              "outlinewidth": 0,
              "ticks": ""
             }
            },
            "type": "scattergl"
           }
          ],
          "scattermapbox": [
           {
            "marker": {
             "colorbar": {
              "outlinewidth": 0,
              "ticks": ""
             }
            },
            "type": "scattermapbox"
           }
          ],
          "scatterpolar": [
           {
            "marker": {
             "colorbar": {
              "outlinewidth": 0,
              "ticks": ""
             }
            },
            "type": "scatterpolar"
           }
          ],
          "scatterpolargl": [
           {
            "marker": {
             "colorbar": {
              "outlinewidth": 0,
              "ticks": ""
             }
            },
            "type": "scatterpolargl"
           }
          ],
          "scatterternary": [
           {
            "marker": {
             "colorbar": {
              "outlinewidth": 0,
              "ticks": ""
             }
            },
            "type": "scatterternary"
           }
          ],
          "surface": [
           {
            "colorbar": {
             "outlinewidth": 0,
             "ticks": ""
            },
            "colorscale": [
             [
              0,
              "#0d0887"
             ],
             [
              0.1111111111111111,
              "#46039f"
             ],
             [
              0.2222222222222222,
              "#7201a8"
             ],
             [
              0.3333333333333333,
              "#9c179e"
             ],
             [
              0.4444444444444444,
              "#bd3786"
             ],
             [
              0.5555555555555556,
              "#d8576b"
             ],
             [
              0.6666666666666666,
              "#ed7953"
             ],
             [
              0.7777777777777778,
              "#fb9f3a"
             ],
             [
              0.8888888888888888,
              "#fdca26"
             ],
             [
              1,
              "#f0f921"
             ]
            ],
            "type": "surface"
           }
          ],
          "table": [
           {
            "cells": {
             "fill": {
              "color": "#EBF0F8"
             },
             "line": {
              "color": "white"
             }
            },
            "header": {
             "fill": {
              "color": "#C8D4E3"
             },
             "line": {
              "color": "white"
             }
            },
            "type": "table"
           }
          ]
         },
         "layout": {
          "annotationdefaults": {
           "arrowcolor": "#2a3f5f",
           "arrowhead": 0,
           "arrowwidth": 1
          },
          "autotypenumbers": "strict",
          "coloraxis": {
           "colorbar": {
            "outlinewidth": 0,
            "ticks": ""
           }
          },
          "colorscale": {
           "diverging": [
            [
             0,
             "#8e0152"
            ],
            [
             0.1,
             "#c51b7d"
            ],
            [
             0.2,
             "#de77ae"
            ],
            [
             0.3,
             "#f1b6da"
            ],
            [
             0.4,
             "#fde0ef"
            ],
            [
             0.5,
             "#f7f7f7"
            ],
            [
             0.6,
             "#e6f5d0"
            ],
            [
             0.7,
             "#b8e186"
            ],
            [
             0.8,
             "#7fbc41"
            ],
            [
             0.9,
             "#4d9221"
            ],
            [
             1,
             "#276419"
            ]
           ],
           "sequential": [
            [
             0,
             "#0d0887"
            ],
            [
             0.1111111111111111,
             "#46039f"
            ],
            [
             0.2222222222222222,
             "#7201a8"
            ],
            [
             0.3333333333333333,
             "#9c179e"
            ],
            [
             0.4444444444444444,
             "#bd3786"
            ],
            [
             0.5555555555555556,
             "#d8576b"
            ],
            [
             0.6666666666666666,
             "#ed7953"
            ],
            [
             0.7777777777777778,
             "#fb9f3a"
            ],
            [
             0.8888888888888888,
             "#fdca26"
            ],
            [
             1,
             "#f0f921"
            ]
           ],
           "sequentialminus": [
            [
             0,
             "#0d0887"
            ],
            [
             0.1111111111111111,
             "#46039f"
            ],
            [
             0.2222222222222222,
             "#7201a8"
            ],
            [
             0.3333333333333333,
             "#9c179e"
            ],
            [
             0.4444444444444444,
             "#bd3786"
            ],
            [
             0.5555555555555556,
             "#d8576b"
            ],
            [
             0.6666666666666666,
             "#ed7953"
            ],
            [
             0.7777777777777778,
             "#fb9f3a"
            ],
            [
             0.8888888888888888,
             "#fdca26"
            ],
            [
             1,
             "#f0f921"
            ]
           ]
          },
          "colorway": [
           "#636efa",
           "#EF553B",
           "#00cc96",
           "#ab63fa",
           "#FFA15A",
           "#19d3f3",
           "#FF6692",
           "#B6E880",
           "#FF97FF",
           "#FECB52"
          ],
          "font": {
           "color": "#2a3f5f"
          },
          "geo": {
           "bgcolor": "white",
           "lakecolor": "white",
           "landcolor": "#E5ECF6",
           "showlakes": true,
           "showland": true,
           "subunitcolor": "white"
          },
          "hoverlabel": {
           "align": "left"
          },
          "hovermode": "closest",
          "mapbox": {
           "style": "light"
          },
          "paper_bgcolor": "white",
          "plot_bgcolor": "#E5ECF6",
          "polar": {
           "angularaxis": {
            "gridcolor": "white",
            "linecolor": "white",
            "ticks": ""
           },
           "bgcolor": "#E5ECF6",
           "radialaxis": {
            "gridcolor": "white",
            "linecolor": "white",
            "ticks": ""
           }
          },
          "scene": {
           "xaxis": {
            "backgroundcolor": "#E5ECF6",
            "gridcolor": "white",
            "gridwidth": 2,
            "linecolor": "white",
            "showbackground": true,
            "ticks": "",
            "zerolinecolor": "white"
           },
           "yaxis": {
            "backgroundcolor": "#E5ECF6",
            "gridcolor": "white",
            "gridwidth": 2,
            "linecolor": "white",
            "showbackground": true,
            "ticks": "",
            "zerolinecolor": "white"
           },
           "zaxis": {
            "backgroundcolor": "#E5ECF6",
            "gridcolor": "white",
            "gridwidth": 2,
            "linecolor": "white",
            "showbackground": true,
            "ticks": "",
            "zerolinecolor": "white"
           }
          },
          "shapedefaults": {
           "line": {
            "color": "#2a3f5f"
           }
          },
          "ternary": {
           "aaxis": {
            "gridcolor": "white",
            "linecolor": "white",
            "ticks": ""
           },
           "baxis": {
            "gridcolor": "white",
            "linecolor": "white",
            "ticks": ""
           },
           "bgcolor": "#E5ECF6",
           "caxis": {
            "gridcolor": "white",
            "linecolor": "white",
            "ticks": ""
           }
          },
          "title": {
           "x": 0.05
          },
          "xaxis": {
           "automargin": true,
           "gridcolor": "white",
           "linecolor": "white",
           "ticks": "",
           "title": {
            "standoff": 15
           },
           "zerolinecolor": "white",
           "zerolinewidth": 2
          },
          "yaxis": {
           "automargin": true,
           "gridcolor": "white",
           "linecolor": "white",
           "ticks": "",
           "title": {
            "standoff": 15
           },
           "zerolinecolor": "white",
           "zerolinewidth": 2
          }
         }
        },
        "title": {
         "font": {
          "color": "#4D5663"
         }
        },
        "xaxis": {
         "gridcolor": "#E1E5ED",
         "showgrid": true,
         "tickfont": {
          "color": "#4D5663"
         },
         "title": {
          "font": {
           "color": "#4D5663"
          },
          "text": ""
         },
         "zerolinecolor": "#E1E5ED"
        },
        "xaxis2": {
         "anchor": "y2",
         "gridcolor": "#E1E5ED",
         "showgrid": true,
         "showticklabels": false,
         "tickfont": {
          "color": "#4D5663"
         },
         "title": {
          "font": {
           "color": "#4D5663"
          },
          "text": ""
         },
         "zerolinecolor": "#E1E5ED"
        },
        "yaxis": {
         "domain": [
          0.3,
          1
         ],
         "gridcolor": "#E1E5ED",
         "showgrid": true,
         "tickfont": {
          "color": "#4D5663"
         },
         "title": {
          "font": {
           "color": "#4D5663"
          },
          "text": ""
         },
         "zerolinecolor": "#E1E5ED"
        },
        "yaxis2": {
         "domain": [
          0,
          0.25
         ],
         "gridcolor": "#E1E5ED",
         "showgrid": true,
         "tickfont": {
          "color": "#4D5663"
         },
         "title": {
          "font": {
           "color": "#4D5663"
          },
          "text": "Spread"
         },
         "zerolinecolor": "#E1E5ED"
        }
       }
      },
      "text/html": [
       "<div>                            <div id=\"2252ff6f-dfbc-4172-87a5-82e7e4822e05\" class=\"plotly-graph-div\" style=\"height:525px; width:100%;\"></div>            <script type=\"text/javascript\">                require([\"plotly\"], function(Plotly) {                    window.PLOTLYENV=window.PLOTLYENV || {};\n",
       "                    window.PLOTLYENV.BASE_URL='https://plot.ly';                                    if (document.getElementById(\"2252ff6f-dfbc-4172-87a5-82e7e4822e05\")) {                    Plotly.newPlot(                        \"2252ff6f-dfbc-4172-87a5-82e7e4822e05\",                        [{\"line\":{\"color\":\"rgba(255, 153, 51, 1.0)\",\"dash\":\"solid\",\"shape\":\"linear\",\"width\":1.3},\"mode\":\"lines\",\"name\":\"A\",\"text\":\"\",\"x\":[0,1,2,3,4,5,6,7,8,9,10,11,12,13,14,15,16,17,18,19,20,21,22,23,24,25,26,27,28,29,30,31,32,33,34,35,36,37,38,39,40,41,42,43,44,45,46,47,48,49,50,51,52,53,54,55,56,57,58,59,60,61,62,63,64,65,66,67,68,69,70,71,72,73,74,75,76,77,78,79,80,81,82,83,84,85,86,87,88,89,90,91,92,93,94,95,96,97,98,99],\"y\":[1.0837802026903676,-0.8307318652353206,0.9704645666752914,-0.13150801540525994,-1.431676307991406,0.5854248107675313,-0.5660964311261989,0.9884149998948273,-0.03866022001943958,0.3926136648987823,0.2366436323713876,1.5890962443122887,0.8157022340882426,0.3514861566194287,1.0277388736464257,0.2699518657534483,1.3965374784548972,-1.5384078610201786,-0.5850193141441375,0.04250994717911727,0.22334130053789886,-0.3843704559030353,-0.9135758999676846,1.1988523922550378,0.8756193834778848,-0.3245036125233253,-0.8643199642609466,-2.711830222084337,-1.6213541043042066,-1.1440160134243584,1.1956049013334702,-0.5163570085007548,0.3383295777705534,-0.32691112866765776,0.1380319492889386,-0.10120910311364711,1.2224935125494165,-0.7848201785562855,1.3251452237809054,-1.0422539931177521,-0.6220907671447959,0.7605865882300532,0.7097525174852362,0.9560880229550969,-0.10339811047162585,-0.14644500749449224,0.5368987942350666,-0.03267673468010394,-0.3285015605627665,-2.1637667787824704,-0.19750325171496624,-0.8705110153772423,0.3275838600290092,-1.4429386352380633,-0.5227190645611784,-0.6040484120224673,-0.5426828792455438,-0.24734238804509784,-0.1710048045514127,0.6357392606928337,0.22223721737535435,0.8539923672277793,1.6418874845855114,-1.6051526223909196,0.22309065021823282,-0.7595689515903035,-2.1996485445702563,1.5956732573254695,1.5477270913516719,0.567390246133774,0.4046686778858881,0.4683976376712205,-1.2977402564021023,-0.29053464566907533,-0.6681614022952193,0.5398107798206214,1.4892780015980334,0.8907307805670841,0.01356355123975639,0.779825227084279,1.480629213237171,-1.303499194553016,0.5640734614757685,0.888697983915617,-1.5602326741188632,0.3276654891441126,1.1056006487110808,0.11020457528062488,-1.3030233635699597,0.3924672139339836,0.5960789969061742,-1.1234727276191592,-1.7650675896330457,0.5986533532972574,1.0617932058870356,1.3479162812727086,-0.8368602512006359,-0.009797134647624255,0.5983037055534213,-0.8765850492559197],\"type\":\"scatter\"},{\"line\":{\"color\":\"rgba(55, 128, 191, 1.0)\",\"dash\":\"solid\",\"shape\":\"linear\",\"width\":1.3},\"mode\":\"lines\",\"name\":\"B\",\"text\":\"\",\"x\":[0,1,2,3,4,5,6,7,8,9,10,11,12,13,14,15,16,17,18,19,20,21,22,23,24,25,26,27,28,29,30,31,32,33,34,35,36,37,38,39,40,41,42,43,44,45,46,47,48,49,50,51,52,53,54,55,56,57,58,59,60,61,62,63,64,65,66,67,68,69,70,71,72,73,74,75,76,77,78,79,80,81,82,83,84,85,86,87,88,89,90,91,92,93,94,95,96,97,98,99],\"y\":[-0.522890892695273,-0.5133950769305579,0.6806690722910964,1.031910376765052,0.5134242259294345,-1.1384405134344129,-1.967304273414849,2.7754662161448187,-0.12968506824520482,-0.5751330143483373,-1.7124510912923032,-0.7401896441257169,1.3640598393807122,-0.7392250669937778,-0.4596265565310788,0.8632338591254589,-0.9269877232227746,0.8005776928976868,-0.5303651277260929,-1.5478366663352567,-0.9021928385540456,0.07263937780983032,0.4964765917045821,-0.019362179759583174,0.3549150890000641,-0.254386036949427,1.287006580786897,0.7655221718834024,0.7588074233964105,2.119276748874291,-0.5972958247816397,-1.2021289261239687,-0.20378199373107492,0.8537557984722517,0.03905136978287543,-1.3572525759712204,0.7729758897701869,0.15709732946492647,-0.43953427255576755,0.02080414947036807,-0.0686204830480142,-1.7658436876434458,-0.07210159595201733,0.27634956368375163,1.0937799112009745,0.4294114559969322,-1.5755166280139263,-0.030870482297119722,-0.2023705876469707,0.5292765847905173,0.39943539003596257,-0.7724123878930874,0.6890986316171753,0.9122861623485468,0.1162402187877747,0.41573491106998256,-1.0554506054777522,0.3273723004744497,1.2826088924503345,0.002600066872883493,-1.344462684212799,-0.4646665558487505,0.6608569002638156,-1.172944904026479,-1.5333839108105396,0.5800873164304087,-0.0944402612694691,0.9177407000112922,-1.362401198969006,-0.26278842045129025,0.5670096180264699,-1.3766867887778862,1.0606927619478912,1.7738407682557193,-1.345147684233415,1.2258717217599049,-0.6434508497398888,-0.08574432115483341,-0.30728343458243823,-0.26446934774105685,-0.946849712608022,-1.153366821199802,-0.13739292710680448,0.3299629055380062,0.428734968248196,1.4750103690781826,0.9924535177609993,-0.5239161127928873,-0.7283124703069083,-0.10204894475527922,1.1466273781594924,0.0888460083240002,-0.0166821185648255,0.18261626841187298,-0.3679919585457832,1.2256960945250548,0.40221413256018895,0.515223149459377,1.3306440965310917,-0.618409258339924],\"type\":\"scatter\"},{\"connectgaps\":false,\"fill\":\"tozeroy\",\"line\":{\"color\":\"green\",\"dash\":\"solid\",\"shape\":\"linear\",\"width\":0.5},\"mode\":\"lines\",\"name\":\"Spread\",\"showlegend\":false,\"x\":[0,1,2,3,4,5,6,7,8,9,10,11,12,13,14,15,16,17,18,19,20,21,22,23,24,25,26,27,28,29,30,31,32,33,34,35,36,37,38,39,40,41,42,43,44,45,46,47,48,49,50,51,52,53,54,55,56,57,58,59,60,61,62,63,64,65,66,67,68,69,70,71,72,73,74,75,76,77,78,79,80,81,82,83,84,85,86,87,88,89,90,91,92,93,94,95,96,97,98,99],\"xaxis\":\"x2\",\"y\":[1.6066710953856407,\"\",0.28979549438419494,\"\",\"\",1.7238653242019442,1.40120784228865,\"\",0.09102484822576523,0.9677466792471197,1.9490947236636909,2.3292858884380054,\"\",1.0907112236132064,1.4873654301775046,\"\",2.323525201677672,\"\",\"\",1.590346613514374,1.1255341390919444,\"\",\"\",1.218214572014621,0.5207042944778207,\"\",\"\",\"\",\"\",\"\",1.7929007261151098,0.6857719176232139,0.5421115715016283,\"\",0.09898057950606318,1.2560434728575733,0.4495176227792296,\"\",1.764679496336673,\"\",\"\",2.526430275873499,0.7818541134372535,0.6797384592713452,\"\",\"\",2.112415422248993,\"\",\"\",\"\",\"\",\"\",\"\",\"\",\"\",\"\",0.5127677262322083,\"\",\"\",0.6331391938199502,1.5666999015881533,1.3186589230765298,0.9810305843216958,\"\",1.7564745610287724,\"\",\"\",0.6779325573141773,2.910128290320678,0.8301786665850642,\"\",1.8450844264491066,\"\",\"\",0.6769862819381957,\"\",2.132728851337922,0.9764751017219175,0.3208469858221946,1.0442945748253358,2.427478925845193,\"\",0.701466388582573,0.5587350783776108,\"\",\"\",0.11314713095008144,0.6341206880735122,\"\",0.4945161586892628,\"\",\"\",\"\",0.4160370848853845,1.4297851644328188,0.12222018674765378,\"\",\"\",\"\",\"\"],\"yaxis\":\"y2\",\"type\":\"scatter\"},{\"connectgaps\":false,\"fill\":\"tozeroy\",\"line\":{\"color\":\"red\",\"dash\":\"solid\",\"shape\":\"linear\",\"width\":0.5},\"mode\":\"lines\",\"name\":\"Spread\",\"showlegend\":false,\"x\":[0,1,2,3,4,5,6,7,8,9,10,11,12,13,14,15,16,17,18,19,20,21,22,23,24,25,26,27,28,29,30,31,32,33,34,35,36,37,38,39,40,41,42,43,44,45,46,47,48,49,50,51,52,53,54,55,56,57,58,59,60,61,62,63,64,65,66,67,68,69,70,71,72,73,74,75,76,77,78,79,80,81,82,83,84,85,86,87,88,89,90,91,92,93,94,95,96,97,98,99],\"xaxis\":\"x2\",\"y\":[\"\",-0.31733678830476275,\"\",-1.1634183921703118,-1.9451005339208405,\"\",\"\",-1.7870512162499914,\"\",\"\",\"\",\"\",-0.5483576052924696,\"\",\"\",-0.5932819933720106,\"\",-2.3389855539178654,-0.05465418641804465,\"\",\"\",-0.45700983371286563,-1.4100524916722668,\"\",\"\",-0.0701175755738983,-2.1513265450478434,-3.4773523939677395,-2.380161527700617,-3.26329276229865,\"\",\"\",\"\",-1.1806669271399095,\"\",\"\",\"\",-0.941917508021212,\"\",-1.0630581425881203,-0.5534702840967818,\"\",\"\",\"\",-1.1971780216726005,-0.5758564634914245,\"\",-0.001806252382984215,-0.12613097291579584,-2.6930433635729876,-0.5969386417509288,-0.09809862748415488,-0.36151477158816614,-2.35522479758661,-0.6389592833489531,-1.0197833230924498,\"\",-0.5747146885195475,-1.4536136970017473,\"\",\"\",\"\",\"\",-0.4322077183644406,\"\",-1.339656268020712,-2.105208283300787,\"\",\"\",\"\",-0.16234094014058176,\"\",-2.3584330183499933,-2.0643754139247945,\"\",-0.6860609419392835,\"\",\"\",\"\",\"\",\"\",-0.15013237335321405,\"\",\"\",-1.9889676423670593,-1.14734487993407,\"\",\"\",-0.5747108932630515,\"\",-0.5505483812533183,-1.2123187359431593,-1.74838547106822,\"\",\"\",\"\",-1.239074383760825,-0.5250202841070012,-0.7323403909776705,-0.25817579091599574],\"yaxis\":\"y2\",\"type\":\"scatter\"}],                        {\"hovermode\":\"x\",\"legend\":{\"bgcolor\":\"#F5F6F9\",\"font\":{\"color\":\"#4D5663\"}},\"paper_bgcolor\":\"#F5F6F9\",\"plot_bgcolor\":\"#F5F6F9\",\"template\":{\"data\":{\"barpolar\":[{\"marker\":{\"line\":{\"color\":\"#E5ECF6\",\"width\":0.5},\"pattern\":{\"fillmode\":\"overlay\",\"size\":10,\"solidity\":0.2}},\"type\":\"barpolar\"}],\"bar\":[{\"error_x\":{\"color\":\"#2a3f5f\"},\"error_y\":{\"color\":\"#2a3f5f\"},\"marker\":{\"line\":{\"color\":\"#E5ECF6\",\"width\":0.5},\"pattern\":{\"fillmode\":\"overlay\",\"size\":10,\"solidity\":0.2}},\"type\":\"bar\"}],\"carpet\":[{\"aaxis\":{\"endlinecolor\":\"#2a3f5f\",\"gridcolor\":\"white\",\"linecolor\":\"white\",\"minorgridcolor\":\"white\",\"startlinecolor\":\"#2a3f5f\"},\"baxis\":{\"endlinecolor\":\"#2a3f5f\",\"gridcolor\":\"white\",\"linecolor\":\"white\",\"minorgridcolor\":\"white\",\"startlinecolor\":\"#2a3f5f\"},\"type\":\"carpet\"}],\"choropleth\":[{\"colorbar\":{\"outlinewidth\":0,\"ticks\":\"\"},\"type\":\"choropleth\"}],\"contourcarpet\":[{\"colorbar\":{\"outlinewidth\":0,\"ticks\":\"\"},\"type\":\"contourcarpet\"}],\"contour\":[{\"colorbar\":{\"outlinewidth\":0,\"ticks\":\"\"},\"colorscale\":[[0.0,\"#0d0887\"],[0.1111111111111111,\"#46039f\"],[0.2222222222222222,\"#7201a8\"],[0.3333333333333333,\"#9c179e\"],[0.4444444444444444,\"#bd3786\"],[0.5555555555555556,\"#d8576b\"],[0.6666666666666666,\"#ed7953\"],[0.7777777777777778,\"#fb9f3a\"],[0.8888888888888888,\"#fdca26\"],[1.0,\"#f0f921\"]],\"type\":\"contour\"}],\"heatmapgl\":[{\"colorbar\":{\"outlinewidth\":0,\"ticks\":\"\"},\"colorscale\":[[0.0,\"#0d0887\"],[0.1111111111111111,\"#46039f\"],[0.2222222222222222,\"#7201a8\"],[0.3333333333333333,\"#9c179e\"],[0.4444444444444444,\"#bd3786\"],[0.5555555555555556,\"#d8576b\"],[0.6666666666666666,\"#ed7953\"],[0.7777777777777778,\"#fb9f3a\"],[0.8888888888888888,\"#fdca26\"],[1.0,\"#f0f921\"]],\"type\":\"heatmapgl\"}],\"heatmap\":[{\"colorbar\":{\"outlinewidth\":0,\"ticks\":\"\"},\"colorscale\":[[0.0,\"#0d0887\"],[0.1111111111111111,\"#46039f\"],[0.2222222222222222,\"#7201a8\"],[0.3333333333333333,\"#9c179e\"],[0.4444444444444444,\"#bd3786\"],[0.5555555555555556,\"#d8576b\"],[0.6666666666666666,\"#ed7953\"],[0.7777777777777778,\"#fb9f3a\"],[0.8888888888888888,\"#fdca26\"],[1.0,\"#f0f921\"]],\"type\":\"heatmap\"}],\"histogram2dcontour\":[{\"colorbar\":{\"outlinewidth\":0,\"ticks\":\"\"},\"colorscale\":[[0.0,\"#0d0887\"],[0.1111111111111111,\"#46039f\"],[0.2222222222222222,\"#7201a8\"],[0.3333333333333333,\"#9c179e\"],[0.4444444444444444,\"#bd3786\"],[0.5555555555555556,\"#d8576b\"],[0.6666666666666666,\"#ed7953\"],[0.7777777777777778,\"#fb9f3a\"],[0.8888888888888888,\"#fdca26\"],[1.0,\"#f0f921\"]],\"type\":\"histogram2dcontour\"}],\"histogram2d\":[{\"colorbar\":{\"outlinewidth\":0,\"ticks\":\"\"},\"colorscale\":[[0.0,\"#0d0887\"],[0.1111111111111111,\"#46039f\"],[0.2222222222222222,\"#7201a8\"],[0.3333333333333333,\"#9c179e\"],[0.4444444444444444,\"#bd3786\"],[0.5555555555555556,\"#d8576b\"],[0.6666666666666666,\"#ed7953\"],[0.7777777777777778,\"#fb9f3a\"],[0.8888888888888888,\"#fdca26\"],[1.0,\"#f0f921\"]],\"type\":\"histogram2d\"}],\"histogram\":[{\"marker\":{\"pattern\":{\"fillmode\":\"overlay\",\"size\":10,\"solidity\":0.2}},\"type\":\"histogram\"}],\"mesh3d\":[{\"colorbar\":{\"outlinewidth\":0,\"ticks\":\"\"},\"type\":\"mesh3d\"}],\"parcoords\":[{\"line\":{\"colorbar\":{\"outlinewidth\":0,\"ticks\":\"\"}},\"type\":\"parcoords\"}],\"pie\":[{\"automargin\":true,\"type\":\"pie\"}],\"scatter3d\":[{\"line\":{\"colorbar\":{\"outlinewidth\":0,\"ticks\":\"\"}},\"marker\":{\"colorbar\":{\"outlinewidth\":0,\"ticks\":\"\"}},\"type\":\"scatter3d\"}],\"scattercarpet\":[{\"marker\":{\"colorbar\":{\"outlinewidth\":0,\"ticks\":\"\"}},\"type\":\"scattercarpet\"}],\"scattergeo\":[{\"marker\":{\"colorbar\":{\"outlinewidth\":0,\"ticks\":\"\"}},\"type\":\"scattergeo\"}],\"scattergl\":[{\"marker\":{\"colorbar\":{\"outlinewidth\":0,\"ticks\":\"\"}},\"type\":\"scattergl\"}],\"scattermapbox\":[{\"marker\":{\"colorbar\":{\"outlinewidth\":0,\"ticks\":\"\"}},\"type\":\"scattermapbox\"}],\"scatterpolargl\":[{\"marker\":{\"colorbar\":{\"outlinewidth\":0,\"ticks\":\"\"}},\"type\":\"scatterpolargl\"}],\"scatterpolar\":[{\"marker\":{\"colorbar\":{\"outlinewidth\":0,\"ticks\":\"\"}},\"type\":\"scatterpolar\"}],\"scatter\":[{\"marker\":{\"colorbar\":{\"outlinewidth\":0,\"ticks\":\"\"}},\"type\":\"scatter\"}],\"scatterternary\":[{\"marker\":{\"colorbar\":{\"outlinewidth\":0,\"ticks\":\"\"}},\"type\":\"scatterternary\"}],\"surface\":[{\"colorbar\":{\"outlinewidth\":0,\"ticks\":\"\"},\"colorscale\":[[0.0,\"#0d0887\"],[0.1111111111111111,\"#46039f\"],[0.2222222222222222,\"#7201a8\"],[0.3333333333333333,\"#9c179e\"],[0.4444444444444444,\"#bd3786\"],[0.5555555555555556,\"#d8576b\"],[0.6666666666666666,\"#ed7953\"],[0.7777777777777778,\"#fb9f3a\"],[0.8888888888888888,\"#fdca26\"],[1.0,\"#f0f921\"]],\"type\":\"surface\"}],\"table\":[{\"cells\":{\"fill\":{\"color\":\"#EBF0F8\"},\"line\":{\"color\":\"white\"}},\"header\":{\"fill\":{\"color\":\"#C8D4E3\"},\"line\":{\"color\":\"white\"}},\"type\":\"table\"}]},\"layout\":{\"annotationdefaults\":{\"arrowcolor\":\"#2a3f5f\",\"arrowhead\":0,\"arrowwidth\":1},\"autotypenumbers\":\"strict\",\"coloraxis\":{\"colorbar\":{\"outlinewidth\":0,\"ticks\":\"\"}},\"colorscale\":{\"diverging\":[[0,\"#8e0152\"],[0.1,\"#c51b7d\"],[0.2,\"#de77ae\"],[0.3,\"#f1b6da\"],[0.4,\"#fde0ef\"],[0.5,\"#f7f7f7\"],[0.6,\"#e6f5d0\"],[0.7,\"#b8e186\"],[0.8,\"#7fbc41\"],[0.9,\"#4d9221\"],[1,\"#276419\"]],\"sequential\":[[0.0,\"#0d0887\"],[0.1111111111111111,\"#46039f\"],[0.2222222222222222,\"#7201a8\"],[0.3333333333333333,\"#9c179e\"],[0.4444444444444444,\"#bd3786\"],[0.5555555555555556,\"#d8576b\"],[0.6666666666666666,\"#ed7953\"],[0.7777777777777778,\"#fb9f3a\"],[0.8888888888888888,\"#fdca26\"],[1.0,\"#f0f921\"]],\"sequentialminus\":[[0.0,\"#0d0887\"],[0.1111111111111111,\"#46039f\"],[0.2222222222222222,\"#7201a8\"],[0.3333333333333333,\"#9c179e\"],[0.4444444444444444,\"#bd3786\"],[0.5555555555555556,\"#d8576b\"],[0.6666666666666666,\"#ed7953\"],[0.7777777777777778,\"#fb9f3a\"],[0.8888888888888888,\"#fdca26\"],[1.0,\"#f0f921\"]]},\"colorway\":[\"#636efa\",\"#EF553B\",\"#00cc96\",\"#ab63fa\",\"#FFA15A\",\"#19d3f3\",\"#FF6692\",\"#B6E880\",\"#FF97FF\",\"#FECB52\"],\"font\":{\"color\":\"#2a3f5f\"},\"geo\":{\"bgcolor\":\"white\",\"lakecolor\":\"white\",\"landcolor\":\"#E5ECF6\",\"showlakes\":true,\"showland\":true,\"subunitcolor\":\"white\"},\"hoverlabel\":{\"align\":\"left\"},\"hovermode\":\"closest\",\"mapbox\":{\"style\":\"light\"},\"paper_bgcolor\":\"white\",\"plot_bgcolor\":\"#E5ECF6\",\"polar\":{\"angularaxis\":{\"gridcolor\":\"white\",\"linecolor\":\"white\",\"ticks\":\"\"},\"bgcolor\":\"#E5ECF6\",\"radialaxis\":{\"gridcolor\":\"white\",\"linecolor\":\"white\",\"ticks\":\"\"}},\"scene\":{\"xaxis\":{\"backgroundcolor\":\"#E5ECF6\",\"gridcolor\":\"white\",\"gridwidth\":2,\"linecolor\":\"white\",\"showbackground\":true,\"ticks\":\"\",\"zerolinecolor\":\"white\"},\"yaxis\":{\"backgroundcolor\":\"#E5ECF6\",\"gridcolor\":\"white\",\"gridwidth\":2,\"linecolor\":\"white\",\"showbackground\":true,\"ticks\":\"\",\"zerolinecolor\":\"white\"},\"zaxis\":{\"backgroundcolor\":\"#E5ECF6\",\"gridcolor\":\"white\",\"gridwidth\":2,\"linecolor\":\"white\",\"showbackground\":true,\"ticks\":\"\",\"zerolinecolor\":\"white\"}},\"shapedefaults\":{\"line\":{\"color\":\"#2a3f5f\"}},\"ternary\":{\"aaxis\":{\"gridcolor\":\"white\",\"linecolor\":\"white\",\"ticks\":\"\"},\"baxis\":{\"gridcolor\":\"white\",\"linecolor\":\"white\",\"ticks\":\"\"},\"bgcolor\":\"#E5ECF6\",\"caxis\":{\"gridcolor\":\"white\",\"linecolor\":\"white\",\"ticks\":\"\"}},\"title\":{\"x\":0.05},\"xaxis\":{\"automargin\":true,\"gridcolor\":\"white\",\"linecolor\":\"white\",\"ticks\":\"\",\"title\":{\"standoff\":15},\"zerolinecolor\":\"white\",\"zerolinewidth\":2},\"yaxis\":{\"automargin\":true,\"gridcolor\":\"white\",\"linecolor\":\"white\",\"ticks\":\"\",\"title\":{\"standoff\":15},\"zerolinecolor\":\"white\",\"zerolinewidth\":2}}},\"title\":{\"font\":{\"color\":\"#4D5663\"}},\"xaxis\":{\"gridcolor\":\"#E1E5ED\",\"showgrid\":true,\"tickfont\":{\"color\":\"#4D5663\"},\"title\":{\"font\":{\"color\":\"#4D5663\"},\"text\":\"\"},\"zerolinecolor\":\"#E1E5ED\"},\"yaxis\":{\"domain\":[0.3,1],\"gridcolor\":\"#E1E5ED\",\"showgrid\":true,\"tickfont\":{\"color\":\"#4D5663\"},\"title\":{\"font\":{\"color\":\"#4D5663\"},\"text\":\"\"},\"zerolinecolor\":\"#E1E5ED\"},\"yaxis2\":{\"domain\":[0,0.25],\"gridcolor\":\"#E1E5ED\",\"showgrid\":true,\"tickfont\":{\"color\":\"#4D5663\"},\"title\":{\"font\":{\"color\":\"#4D5663\"},\"text\":\"Spread\"},\"zerolinecolor\":\"#E1E5ED\"},\"xaxis2\":{\"anchor\":\"y2\",\"gridcolor\":\"#E1E5ED\",\"showgrid\":true,\"showticklabels\":false,\"tickfont\":{\"color\":\"#4D5663\"},\"title\":{\"font\":{\"color\":\"#4D5663\"},\"text\":\"\"},\"zerolinecolor\":\"#E1E5ED\"}},                        {\"showLink\": true, \"linkText\": \"Export to plot.ly\", \"plotlyServerURL\": \"https://plot.ly\", \"responsive\": true}                    ).then(function(){\n",
       "                            \n",
       "var gd = document.getElementById('2252ff6f-dfbc-4172-87a5-82e7e4822e05');\n",
       "var x = new MutationObserver(function (mutations, observer) {{\n",
       "        var display = window.getComputedStyle(gd).display;\n",
       "        if (!display || display === 'none') {{\n",
       "            console.log([gd, 'removed!']);\n",
       "            Plotly.purge(gd);\n",
       "            observer.disconnect();\n",
       "        }}\n",
       "}});\n",
       "\n",
       "// Listen for the removal of the full notebook cells\n",
       "var notebookContainer = gd.closest('#notebook-container');\n",
       "if (notebookContainer) {{\n",
       "    x.observe(notebookContainer, {childList: true});\n",
       "}}\n",
       "\n",
       "// Listen for the clearing of the current output cell\n",
       "var outputEl = gd.closest('.output');\n",
       "if (outputEl) {{\n",
       "    x.observe(outputEl, {childList: true});\n",
       "}}\n",
       "\n",
       "                        })                };                });            </script>        </div>"
      ]
     },
     "metadata": {},
     "output_type": "display_data"
    }
   ],
   "source": [
    "df[['A','B']].iplot(kind='spread')"
   ]
  },
  {
   "cell_type": "code",
   "execution_count": 38,
   "id": "751df889",
   "metadata": {},
   "outputs": [
    {
     "data": {
      "application/vnd.plotly.v1+json": {
       "config": {
        "linkText": "Export to plot.ly",
        "plotlyServerURL": "https://plot.ly",
        "showLink": true
       },
       "data": [
        {
         "marker": {
          "color": [
           "rgb(255, 153, 51)",
           "rgb(55, 128, 191)",
           "rgb(50, 171, 96)",
           "rgb(128, 0, 128)",
           "rgb(219, 64, 82)",
           "rgb(0, 128, 128)",
           "rgb(255, 255, 51)",
           "rgb(128, 128, 0)",
           "rgb(251, 128, 114)",
           "rgb(128, 177, 211)"
          ],
          "line": {
           "width": 1.3
          },
          "size": [
           71,
           52,
           34,
           46,
           72,
           52,
           52,
           41,
           63,
           67,
           46,
           76,
           42,
           12,
           46,
           79,
           38,
           93,
           83,
           83,
           62,
           33,
           83,
           56,
           75,
           55,
           97,
           63,
           73,
           86,
           72,
           89,
           52,
           60,
           45,
           78,
           77,
           80,
           56,
           62,
           37,
           59,
           44,
           66,
           79,
           57,
           112,
           29,
           57,
           47,
           58,
           42,
           64,
           52,
           76,
           67,
           63,
           89,
           71,
           79,
           86,
           31,
           86,
           61,
           38,
           65,
           25,
           64,
           64,
           77,
           69,
           52,
           37,
           49,
           60,
           69,
           45,
           78,
           66,
           53,
           60,
           35,
           31,
           65,
           51,
           28,
           79,
           89,
           75,
           67,
           52,
           14,
           43,
           63,
           62,
           84,
           70,
           15,
           83,
           89
          ],
          "symbol": "circle"
         },
         "mode": "markers",
         "text": "",
         "type": "scatter",
         "x": [
          1.0837802026903676,
          -0.8307318652353206,
          0.9704645666752914,
          -0.13150801540525994,
          -1.431676307991406,
          0.5854248107675313,
          -0.5660964311261989,
          0.9884149998948273,
          -0.03866022001943958,
          0.3926136648987823,
          0.2366436323713876,
          1.5890962443122887,
          0.8157022340882426,
          0.3514861566194287,
          1.0277388736464257,
          0.2699518657534483,
          1.3965374784548972,
          -1.5384078610201786,
          -0.5850193141441375,
          0.04250994717911727,
          0.22334130053789886,
          -0.3843704559030353,
          -0.9135758999676846,
          1.1988523922550378,
          0.8756193834778848,
          -0.3245036125233253,
          -0.8643199642609466,
          -2.711830222084337,
          -1.6213541043042066,
          -1.1440160134243584,
          1.1956049013334702,
          -0.5163570085007548,
          0.3383295777705534,
          -0.32691112866765776,
          0.1380319492889386,
          -0.10120910311364711,
          1.2224935125494165,
          -0.7848201785562855,
          1.3251452237809054,
          -1.0422539931177521,
          -0.6220907671447959,
          0.7605865882300532,
          0.7097525174852362,
          0.9560880229550969,
          -0.10339811047162585,
          -0.14644500749449224,
          0.5368987942350666,
          -0.03267673468010394,
          -0.3285015605627665,
          -2.1637667787824704,
          -0.19750325171496624,
          -0.8705110153772423,
          0.3275838600290092,
          -1.4429386352380633,
          -0.5227190645611784,
          -0.6040484120224673,
          -0.5426828792455438,
          -0.24734238804509784,
          -0.1710048045514127,
          0.6357392606928337,
          0.22223721737535435,
          0.8539923672277793,
          1.6418874845855114,
          -1.6051526223909196,
          0.22309065021823282,
          -0.7595689515903035,
          -2.1996485445702563,
          1.5956732573254695,
          1.5477270913516719,
          0.567390246133774,
          0.4046686778858881,
          0.4683976376712205,
          -1.2977402564021023,
          -0.29053464566907533,
          -0.6681614022952193,
          0.5398107798206214,
          1.4892780015980334,
          0.8907307805670841,
          0.01356355123975639,
          0.779825227084279,
          1.480629213237171,
          -1.303499194553016,
          0.5640734614757685,
          0.888697983915617,
          -1.5602326741188632,
          0.3276654891441126,
          1.1056006487110808,
          0.11020457528062488,
          -1.3030233635699597,
          0.3924672139339836,
          0.5960789969061742,
          -1.1234727276191592,
          -1.7650675896330457,
          0.5986533532972574,
          1.0617932058870356,
          1.3479162812727086,
          -0.8368602512006359,
          -0.009797134647624255,
          0.5983037055534213,
          -0.8765850492559197
         ],
         "y": [
          -0.522890892695273,
          -0.5133950769305579,
          0.6806690722910964,
          1.031910376765052,
          0.5134242259294345,
          -1.1384405134344129,
          -1.967304273414849,
          2.7754662161448187,
          -0.12968506824520482,
          -0.5751330143483373,
          -1.7124510912923032,
          -0.7401896441257169,
          1.3640598393807122,
          -0.7392250669937778,
          -0.4596265565310788,
          0.8632338591254589,
          -0.9269877232227746,
          0.8005776928976868,
          -0.5303651277260929,
          -1.5478366663352567,
          -0.9021928385540456,
          0.07263937780983032,
          0.4964765917045821,
          -0.019362179759583174,
          0.3549150890000641,
          -0.254386036949427,
          1.287006580786897,
          0.7655221718834024,
          0.7588074233964105,
          2.119276748874291,
          -0.5972958247816397,
          -1.2021289261239687,
          -0.20378199373107492,
          0.8537557984722517,
          0.03905136978287543,
          -1.3572525759712204,
          0.7729758897701869,
          0.15709732946492647,
          -0.43953427255576755,
          0.02080414947036807,
          -0.0686204830480142,
          -1.7658436876434458,
          -0.07210159595201733,
          0.27634956368375163,
          1.0937799112009745,
          0.4294114559969322,
          -1.5755166280139263,
          -0.030870482297119722,
          -0.2023705876469707,
          0.5292765847905173,
          0.39943539003596257,
          -0.7724123878930874,
          0.6890986316171753,
          0.9122861623485468,
          0.1162402187877747,
          0.41573491106998256,
          -1.0554506054777522,
          0.3273723004744497,
          1.2826088924503345,
          0.002600066872883493,
          -1.344462684212799,
          -0.4646665558487505,
          0.6608569002638156,
          -1.172944904026479,
          -1.5333839108105396,
          0.5800873164304087,
          -0.0944402612694691,
          0.9177407000112922,
          -1.362401198969006,
          -0.26278842045129025,
          0.5670096180264699,
          -1.3766867887778862,
          1.0606927619478912,
          1.7738407682557193,
          -1.345147684233415,
          1.2258717217599049,
          -0.6434508497398888,
          -0.08574432115483341,
          -0.30728343458243823,
          -0.26446934774105685,
          -0.946849712608022,
          -1.153366821199802,
          -0.13739292710680448,
          0.3299629055380062,
          0.428734968248196,
          1.4750103690781826,
          0.9924535177609993,
          -0.5239161127928873,
          -0.7283124703069083,
          -0.10204894475527922,
          1.1466273781594924,
          0.0888460083240002,
          -0.0166821185648255,
          0.18261626841187298,
          -0.3679919585457832,
          1.2256960945250548,
          0.40221413256018895,
          0.515223149459377,
          1.3306440965310917,
          -0.618409258339924
         ]
        }
       ],
       "layout": {
        "legend": {
         "bgcolor": "#F5F6F9",
         "font": {
          "color": "#4D5663"
         }
        },
        "paper_bgcolor": "#F5F6F9",
        "plot_bgcolor": "#F5F6F9",
        "template": {
         "data": {
          "bar": [
           {
            "error_x": {
             "color": "#2a3f5f"
            },
            "error_y": {
             "color": "#2a3f5f"
            },
            "marker": {
             "line": {
              "color": "#E5ECF6",
              "width": 0.5
             },
             "pattern": {
              "fillmode": "overlay",
              "size": 10,
              "solidity": 0.2
             }
            },
            "type": "bar"
           }
          ],
          "barpolar": [
           {
            "marker": {
             "line": {
              "color": "#E5ECF6",
              "width": 0.5
             },
             "pattern": {
              "fillmode": "overlay",
              "size": 10,
              "solidity": 0.2
             }
            },
            "type": "barpolar"
           }
          ],
          "carpet": [
           {
            "aaxis": {
             "endlinecolor": "#2a3f5f",
             "gridcolor": "white",
             "linecolor": "white",
             "minorgridcolor": "white",
             "startlinecolor": "#2a3f5f"
            },
            "baxis": {
             "endlinecolor": "#2a3f5f",
             "gridcolor": "white",
             "linecolor": "white",
             "minorgridcolor": "white",
             "startlinecolor": "#2a3f5f"
            },
            "type": "carpet"
           }
          ],
          "choropleth": [
           {
            "colorbar": {
             "outlinewidth": 0,
             "ticks": ""
            },
            "type": "choropleth"
           }
          ],
          "contour": [
           {
            "colorbar": {
             "outlinewidth": 0,
             "ticks": ""
            },
            "colorscale": [
             [
              0,
              "#0d0887"
             ],
             [
              0.1111111111111111,
              "#46039f"
             ],
             [
              0.2222222222222222,
              "#7201a8"
             ],
             [
              0.3333333333333333,
              "#9c179e"
             ],
             [
              0.4444444444444444,
              "#bd3786"
             ],
             [
              0.5555555555555556,
              "#d8576b"
             ],
             [
              0.6666666666666666,
              "#ed7953"
             ],
             [
              0.7777777777777778,
              "#fb9f3a"
             ],
             [
              0.8888888888888888,
              "#fdca26"
             ],
             [
              1,
              "#f0f921"
             ]
            ],
            "type": "contour"
           }
          ],
          "contourcarpet": [
           {
            "colorbar": {
             "outlinewidth": 0,
             "ticks": ""
            },
            "type": "contourcarpet"
           }
          ],
          "heatmap": [
           {
            "colorbar": {
             "outlinewidth": 0,
             "ticks": ""
            },
            "colorscale": [
             [
              0,
              "#0d0887"
             ],
             [
              0.1111111111111111,
              "#46039f"
             ],
             [
              0.2222222222222222,
              "#7201a8"
             ],
             [
              0.3333333333333333,
              "#9c179e"
             ],
             [
              0.4444444444444444,
              "#bd3786"
             ],
             [
              0.5555555555555556,
              "#d8576b"
             ],
             [
              0.6666666666666666,
              "#ed7953"
             ],
             [
              0.7777777777777778,
              "#fb9f3a"
             ],
             [
              0.8888888888888888,
              "#fdca26"
             ],
             [
              1,
              "#f0f921"
             ]
            ],
            "type": "heatmap"
           }
          ],
          "heatmapgl": [
           {
            "colorbar": {
             "outlinewidth": 0,
             "ticks": ""
            },
            "colorscale": [
             [
              0,
              "#0d0887"
             ],
             [
              0.1111111111111111,
              "#46039f"
             ],
             [
              0.2222222222222222,
              "#7201a8"
             ],
             [
              0.3333333333333333,
              "#9c179e"
             ],
             [
              0.4444444444444444,
              "#bd3786"
             ],
             [
              0.5555555555555556,
              "#d8576b"
             ],
             [
              0.6666666666666666,
              "#ed7953"
             ],
             [
              0.7777777777777778,
              "#fb9f3a"
             ],
             [
              0.8888888888888888,
              "#fdca26"
             ],
             [
              1,
              "#f0f921"
             ]
            ],
            "type": "heatmapgl"
           }
          ],
          "histogram": [
           {
            "marker": {
             "pattern": {
              "fillmode": "overlay",
              "size": 10,
              "solidity": 0.2
             }
            },
            "type": "histogram"
           }
          ],
          "histogram2d": [
           {
            "colorbar": {
             "outlinewidth": 0,
             "ticks": ""
            },
            "colorscale": [
             [
              0,
              "#0d0887"
             ],
             [
              0.1111111111111111,
              "#46039f"
             ],
             [
              0.2222222222222222,
              "#7201a8"
             ],
             [
              0.3333333333333333,
              "#9c179e"
             ],
             [
              0.4444444444444444,
              "#bd3786"
             ],
             [
              0.5555555555555556,
              "#d8576b"
             ],
             [
              0.6666666666666666,
              "#ed7953"
             ],
             [
              0.7777777777777778,
              "#fb9f3a"
             ],
             [
              0.8888888888888888,
              "#fdca26"
             ],
             [
              1,
              "#f0f921"
             ]
            ],
            "type": "histogram2d"
           }
          ],
          "histogram2dcontour": [
           {
            "colorbar": {
             "outlinewidth": 0,
             "ticks": ""
            },
            "colorscale": [
             [
              0,
              "#0d0887"
             ],
             [
              0.1111111111111111,
              "#46039f"
             ],
             [
              0.2222222222222222,
              "#7201a8"
             ],
             [
              0.3333333333333333,
              "#9c179e"
             ],
             [
              0.4444444444444444,
              "#bd3786"
             ],
             [
              0.5555555555555556,
              "#d8576b"
             ],
             [
              0.6666666666666666,
              "#ed7953"
             ],
             [
              0.7777777777777778,
              "#fb9f3a"
             ],
             [
              0.8888888888888888,
              "#fdca26"
             ],
             [
              1,
              "#f0f921"
             ]
            ],
            "type": "histogram2dcontour"
           }
          ],
          "mesh3d": [
           {
            "colorbar": {
             "outlinewidth": 0,
             "ticks": ""
            },
            "type": "mesh3d"
           }
          ],
          "parcoords": [
           {
            "line": {
             "colorbar": {
              "outlinewidth": 0,
              "ticks": ""
             }
            },
            "type": "parcoords"
           }
          ],
          "pie": [
           {
            "automargin": true,
            "type": "pie"
           }
          ],
          "scatter": [
           {
            "marker": {
             "colorbar": {
              "outlinewidth": 0,
              "ticks": ""
             }
            },
            "type": "scatter"
           }
          ],
          "scatter3d": [
           {
            "line": {
             "colorbar": {
              "outlinewidth": 0,
              "ticks": ""
             }
            },
            "marker": {
             "colorbar": {
              "outlinewidth": 0,
              "ticks": ""
             }
            },
            "type": "scatter3d"
           }
          ],
          "scattercarpet": [
           {
            "marker": {
             "colorbar": {
              "outlinewidth": 0,
              "ticks": ""
             }
            },
            "type": "scattercarpet"
           }
          ],
          "scattergeo": [
           {
            "marker": {
             "colorbar": {
              "outlinewidth": 0,
              "ticks": ""
             }
            },
            "type": "scattergeo"
           }
          ],
          "scattergl": [
           {
            "marker": {
             "colorbar": {
              "outlinewidth": 0,
              "ticks": ""
             }
            },
            "type": "scattergl"
           }
          ],
          "scattermapbox": [
           {
            "marker": {
             "colorbar": {
              "outlinewidth": 0,
              "ticks": ""
             }
            },
            "type": "scattermapbox"
           }
          ],
          "scatterpolar": [
           {
            "marker": {
             "colorbar": {
              "outlinewidth": 0,
              "ticks": ""
             }
            },
            "type": "scatterpolar"
           }
          ],
          "scatterpolargl": [
           {
            "marker": {
             "colorbar": {
              "outlinewidth": 0,
              "ticks": ""
             }
            },
            "type": "scatterpolargl"
           }
          ],
          "scatterternary": [
           {
            "marker": {
             "colorbar": {
              "outlinewidth": 0,
              "ticks": ""
             }
            },
            "type": "scatterternary"
           }
          ],
          "surface": [
           {
            "colorbar": {
             "outlinewidth": 0,
             "ticks": ""
            },
            "colorscale": [
             [
              0,
              "#0d0887"
             ],
             [
              0.1111111111111111,
              "#46039f"
             ],
             [
              0.2222222222222222,
              "#7201a8"
             ],
             [
              0.3333333333333333,
              "#9c179e"
             ],
             [
              0.4444444444444444,
              "#bd3786"
             ],
             [
              0.5555555555555556,
              "#d8576b"
             ],
             [
              0.6666666666666666,
              "#ed7953"
             ],
             [
              0.7777777777777778,
              "#fb9f3a"
             ],
             [
              0.8888888888888888,
              "#fdca26"
             ],
             [
              1,
              "#f0f921"
             ]
            ],
            "type": "surface"
           }
          ],
          "table": [
           {
            "cells": {
             "fill": {
              "color": "#EBF0F8"
             },
             "line": {
              "color": "white"
             }
            },
            "header": {
             "fill": {
              "color": "#C8D4E3"
             },
             "line": {
              "color": "white"
             }
            },
            "type": "table"
           }
          ]
         },
         "layout": {
          "annotationdefaults": {
           "arrowcolor": "#2a3f5f",
           "arrowhead": 0,
           "arrowwidth": 1
          },
          "autotypenumbers": "strict",
          "coloraxis": {
           "colorbar": {
            "outlinewidth": 0,
            "ticks": ""
           }
          },
          "colorscale": {
           "diverging": [
            [
             0,
             "#8e0152"
            ],
            [
             0.1,
             "#c51b7d"
            ],
            [
             0.2,
             "#de77ae"
            ],
            [
             0.3,
             "#f1b6da"
            ],
            [
             0.4,
             "#fde0ef"
            ],
            [
             0.5,
             "#f7f7f7"
            ],
            [
             0.6,
             "#e6f5d0"
            ],
            [
             0.7,
             "#b8e186"
            ],
            [
             0.8,
             "#7fbc41"
            ],
            [
             0.9,
             "#4d9221"
            ],
            [
             1,
             "#276419"
            ]
           ],
           "sequential": [
            [
             0,
             "#0d0887"
            ],
            [
             0.1111111111111111,
             "#46039f"
            ],
            [
             0.2222222222222222,
             "#7201a8"
            ],
            [
             0.3333333333333333,
             "#9c179e"
            ],
            [
             0.4444444444444444,
             "#bd3786"
            ],
            [
             0.5555555555555556,
             "#d8576b"
            ],
            [
             0.6666666666666666,
             "#ed7953"
            ],
            [
             0.7777777777777778,
             "#fb9f3a"
            ],
            [
             0.8888888888888888,
             "#fdca26"
            ],
            [
             1,
             "#f0f921"
            ]
           ],
           "sequentialminus": [
            [
             0,
             "#0d0887"
            ],
            [
             0.1111111111111111,
             "#46039f"
            ],
            [
             0.2222222222222222,
             "#7201a8"
            ],
            [
             0.3333333333333333,
             "#9c179e"
            ],
            [
             0.4444444444444444,
             "#bd3786"
            ],
            [
             0.5555555555555556,
             "#d8576b"
            ],
            [
             0.6666666666666666,
             "#ed7953"
            ],
            [
             0.7777777777777778,
             "#fb9f3a"
            ],
            [
             0.8888888888888888,
             "#fdca26"
            ],
            [
             1,
             "#f0f921"
            ]
           ]
          },
          "colorway": [
           "#636efa",
           "#EF553B",
           "#00cc96",
           "#ab63fa",
           "#FFA15A",
           "#19d3f3",
           "#FF6692",
           "#B6E880",
           "#FF97FF",
           "#FECB52"
          ],
          "font": {
           "color": "#2a3f5f"
          },
          "geo": {
           "bgcolor": "white",
           "lakecolor": "white",
           "landcolor": "#E5ECF6",
           "showlakes": true,
           "showland": true,
           "subunitcolor": "white"
          },
          "hoverlabel": {
           "align": "left"
          },
          "hovermode": "closest",
          "mapbox": {
           "style": "light"
          },
          "paper_bgcolor": "white",
          "plot_bgcolor": "#E5ECF6",
          "polar": {
           "angularaxis": {
            "gridcolor": "white",
            "linecolor": "white",
            "ticks": ""
           },
           "bgcolor": "#E5ECF6",
           "radialaxis": {
            "gridcolor": "white",
            "linecolor": "white",
            "ticks": ""
           }
          },
          "scene": {
           "xaxis": {
            "backgroundcolor": "#E5ECF6",
            "gridcolor": "white",
            "gridwidth": 2,
            "linecolor": "white",
            "showbackground": true,
            "ticks": "",
            "zerolinecolor": "white"
           },
           "yaxis": {
            "backgroundcolor": "#E5ECF6",
            "gridcolor": "white",
            "gridwidth": 2,
            "linecolor": "white",
            "showbackground": true,
            "ticks": "",
            "zerolinecolor": "white"
           },
           "zaxis": {
            "backgroundcolor": "#E5ECF6",
            "gridcolor": "white",
            "gridwidth": 2,
            "linecolor": "white",
            "showbackground": true,
            "ticks": "",
            "zerolinecolor": "white"
           }
          },
          "shapedefaults": {
           "line": {
            "color": "#2a3f5f"
           }
          },
          "ternary": {
           "aaxis": {
            "gridcolor": "white",
            "linecolor": "white",
            "ticks": ""
           },
           "baxis": {
            "gridcolor": "white",
            "linecolor": "white",
            "ticks": ""
           },
           "bgcolor": "#E5ECF6",
           "caxis": {
            "gridcolor": "white",
            "linecolor": "white",
            "ticks": ""
           }
          },
          "title": {
           "x": 0.05
          },
          "xaxis": {
           "automargin": true,
           "gridcolor": "white",
           "linecolor": "white",
           "ticks": "",
           "title": {
            "standoff": 15
           },
           "zerolinecolor": "white",
           "zerolinewidth": 2
          },
          "yaxis": {
           "automargin": true,
           "gridcolor": "white",
           "linecolor": "white",
           "ticks": "",
           "title": {
            "standoff": 15
           },
           "zerolinecolor": "white",
           "zerolinewidth": 2
          }
         }
        },
        "title": {
         "font": {
          "color": "#4D5663"
         }
        },
        "xaxis": {
         "gridcolor": "#E1E5ED",
         "showgrid": true,
         "tickfont": {
          "color": "#4D5663"
         },
         "title": {
          "font": {
           "color": "#4D5663"
          },
          "text": ""
         },
         "zerolinecolor": "#E1E5ED"
        },
        "yaxis": {
         "gridcolor": "#E1E5ED",
         "showgrid": true,
         "tickfont": {
          "color": "#4D5663"
         },
         "title": {
          "font": {
           "color": "#4D5663"
          },
          "text": ""
         },
         "zerolinecolor": "#E1E5ED"
        }
       }
      },
      "text/html": [
       "<div>                            <div id=\"4a1b7d65-cd19-4e5b-bed5-3e6c55b12c33\" class=\"plotly-graph-div\" style=\"height:525px; width:100%;\"></div>            <script type=\"text/javascript\">                require([\"plotly\"], function(Plotly) {                    window.PLOTLYENV=window.PLOTLYENV || {};\n",
       "                    window.PLOTLYENV.BASE_URL='https://plot.ly';                                    if (document.getElementById(\"4a1b7d65-cd19-4e5b-bed5-3e6c55b12c33\")) {                    Plotly.newPlot(                        \"4a1b7d65-cd19-4e5b-bed5-3e6c55b12c33\",                        [{\"marker\":{\"color\":[\"rgb(255, 153, 51)\",\"rgb(55, 128, 191)\",\"rgb(50, 171, 96)\",\"rgb(128, 0, 128)\",\"rgb(219, 64, 82)\",\"rgb(0, 128, 128)\",\"rgb(255, 255, 51)\",\"rgb(128, 128, 0)\",\"rgb(251, 128, 114)\",\"rgb(128, 177, 211)\"],\"line\":{\"width\":1.3},\"size\":[71,52,34,46,72,52,52,41,63,67,46,76,42,12,46,79,38,93,83,83,62,33,83,56,75,55,97,63,73,86,72,89,52,60,45,78,77,80,56,62,37,59,44,66,79,57,112,29,57,47,58,42,64,52,76,67,63,89,71,79,86,31,86,61,38,65,25,64,64,77,69,52,37,49,60,69,45,78,66,53,60,35,31,65,51,28,79,89,75,67,52,14,43,63,62,84,70,15,83,89],\"symbol\":\"circle\"},\"mode\":\"markers\",\"text\":\"\",\"x\":[1.0837802026903676,-0.8307318652353206,0.9704645666752914,-0.13150801540525994,-1.431676307991406,0.5854248107675313,-0.5660964311261989,0.9884149998948273,-0.03866022001943958,0.3926136648987823,0.2366436323713876,1.5890962443122887,0.8157022340882426,0.3514861566194287,1.0277388736464257,0.2699518657534483,1.3965374784548972,-1.5384078610201786,-0.5850193141441375,0.04250994717911727,0.22334130053789886,-0.3843704559030353,-0.9135758999676846,1.1988523922550378,0.8756193834778848,-0.3245036125233253,-0.8643199642609466,-2.711830222084337,-1.6213541043042066,-1.1440160134243584,1.1956049013334702,-0.5163570085007548,0.3383295777705534,-0.32691112866765776,0.1380319492889386,-0.10120910311364711,1.2224935125494165,-0.7848201785562855,1.3251452237809054,-1.0422539931177521,-0.6220907671447959,0.7605865882300532,0.7097525174852362,0.9560880229550969,-0.10339811047162585,-0.14644500749449224,0.5368987942350666,-0.03267673468010394,-0.3285015605627665,-2.1637667787824704,-0.19750325171496624,-0.8705110153772423,0.3275838600290092,-1.4429386352380633,-0.5227190645611784,-0.6040484120224673,-0.5426828792455438,-0.24734238804509784,-0.1710048045514127,0.6357392606928337,0.22223721737535435,0.8539923672277793,1.6418874845855114,-1.6051526223909196,0.22309065021823282,-0.7595689515903035,-2.1996485445702563,1.5956732573254695,1.5477270913516719,0.567390246133774,0.4046686778858881,0.4683976376712205,-1.2977402564021023,-0.29053464566907533,-0.6681614022952193,0.5398107798206214,1.4892780015980334,0.8907307805670841,0.01356355123975639,0.779825227084279,1.480629213237171,-1.303499194553016,0.5640734614757685,0.888697983915617,-1.5602326741188632,0.3276654891441126,1.1056006487110808,0.11020457528062488,-1.3030233635699597,0.3924672139339836,0.5960789969061742,-1.1234727276191592,-1.7650675896330457,0.5986533532972574,1.0617932058870356,1.3479162812727086,-0.8368602512006359,-0.009797134647624255,0.5983037055534213,-0.8765850492559197],\"y\":[-0.522890892695273,-0.5133950769305579,0.6806690722910964,1.031910376765052,0.5134242259294345,-1.1384405134344129,-1.967304273414849,2.7754662161448187,-0.12968506824520482,-0.5751330143483373,-1.7124510912923032,-0.7401896441257169,1.3640598393807122,-0.7392250669937778,-0.4596265565310788,0.8632338591254589,-0.9269877232227746,0.8005776928976868,-0.5303651277260929,-1.5478366663352567,-0.9021928385540456,0.07263937780983032,0.4964765917045821,-0.019362179759583174,0.3549150890000641,-0.254386036949427,1.287006580786897,0.7655221718834024,0.7588074233964105,2.119276748874291,-0.5972958247816397,-1.2021289261239687,-0.20378199373107492,0.8537557984722517,0.03905136978287543,-1.3572525759712204,0.7729758897701869,0.15709732946492647,-0.43953427255576755,0.02080414947036807,-0.0686204830480142,-1.7658436876434458,-0.07210159595201733,0.27634956368375163,1.0937799112009745,0.4294114559969322,-1.5755166280139263,-0.030870482297119722,-0.2023705876469707,0.5292765847905173,0.39943539003596257,-0.7724123878930874,0.6890986316171753,0.9122861623485468,0.1162402187877747,0.41573491106998256,-1.0554506054777522,0.3273723004744497,1.2826088924503345,0.002600066872883493,-1.344462684212799,-0.4646665558487505,0.6608569002638156,-1.172944904026479,-1.5333839108105396,0.5800873164304087,-0.0944402612694691,0.9177407000112922,-1.362401198969006,-0.26278842045129025,0.5670096180264699,-1.3766867887778862,1.0606927619478912,1.7738407682557193,-1.345147684233415,1.2258717217599049,-0.6434508497398888,-0.08574432115483341,-0.30728343458243823,-0.26446934774105685,-0.946849712608022,-1.153366821199802,-0.13739292710680448,0.3299629055380062,0.428734968248196,1.4750103690781826,0.9924535177609993,-0.5239161127928873,-0.7283124703069083,-0.10204894475527922,1.1466273781594924,0.0888460083240002,-0.0166821185648255,0.18261626841187298,-0.3679919585457832,1.2256960945250548,0.40221413256018895,0.515223149459377,1.3306440965310917,-0.618409258339924],\"type\":\"scatter\"}],                        {\"legend\":{\"bgcolor\":\"#F5F6F9\",\"font\":{\"color\":\"#4D5663\"}},\"paper_bgcolor\":\"#F5F6F9\",\"plot_bgcolor\":\"#F5F6F9\",\"template\":{\"data\":{\"barpolar\":[{\"marker\":{\"line\":{\"color\":\"#E5ECF6\",\"width\":0.5},\"pattern\":{\"fillmode\":\"overlay\",\"size\":10,\"solidity\":0.2}},\"type\":\"barpolar\"}],\"bar\":[{\"error_x\":{\"color\":\"#2a3f5f\"},\"error_y\":{\"color\":\"#2a3f5f\"},\"marker\":{\"line\":{\"color\":\"#E5ECF6\",\"width\":0.5},\"pattern\":{\"fillmode\":\"overlay\",\"size\":10,\"solidity\":0.2}},\"type\":\"bar\"}],\"carpet\":[{\"aaxis\":{\"endlinecolor\":\"#2a3f5f\",\"gridcolor\":\"white\",\"linecolor\":\"white\",\"minorgridcolor\":\"white\",\"startlinecolor\":\"#2a3f5f\"},\"baxis\":{\"endlinecolor\":\"#2a3f5f\",\"gridcolor\":\"white\",\"linecolor\":\"white\",\"minorgridcolor\":\"white\",\"startlinecolor\":\"#2a3f5f\"},\"type\":\"carpet\"}],\"choropleth\":[{\"colorbar\":{\"outlinewidth\":0,\"ticks\":\"\"},\"type\":\"choropleth\"}],\"contourcarpet\":[{\"colorbar\":{\"outlinewidth\":0,\"ticks\":\"\"},\"type\":\"contourcarpet\"}],\"contour\":[{\"colorbar\":{\"outlinewidth\":0,\"ticks\":\"\"},\"colorscale\":[[0.0,\"#0d0887\"],[0.1111111111111111,\"#46039f\"],[0.2222222222222222,\"#7201a8\"],[0.3333333333333333,\"#9c179e\"],[0.4444444444444444,\"#bd3786\"],[0.5555555555555556,\"#d8576b\"],[0.6666666666666666,\"#ed7953\"],[0.7777777777777778,\"#fb9f3a\"],[0.8888888888888888,\"#fdca26\"],[1.0,\"#f0f921\"]],\"type\":\"contour\"}],\"heatmapgl\":[{\"colorbar\":{\"outlinewidth\":0,\"ticks\":\"\"},\"colorscale\":[[0.0,\"#0d0887\"],[0.1111111111111111,\"#46039f\"],[0.2222222222222222,\"#7201a8\"],[0.3333333333333333,\"#9c179e\"],[0.4444444444444444,\"#bd3786\"],[0.5555555555555556,\"#d8576b\"],[0.6666666666666666,\"#ed7953\"],[0.7777777777777778,\"#fb9f3a\"],[0.8888888888888888,\"#fdca26\"],[1.0,\"#f0f921\"]],\"type\":\"heatmapgl\"}],\"heatmap\":[{\"colorbar\":{\"outlinewidth\":0,\"ticks\":\"\"},\"colorscale\":[[0.0,\"#0d0887\"],[0.1111111111111111,\"#46039f\"],[0.2222222222222222,\"#7201a8\"],[0.3333333333333333,\"#9c179e\"],[0.4444444444444444,\"#bd3786\"],[0.5555555555555556,\"#d8576b\"],[0.6666666666666666,\"#ed7953\"],[0.7777777777777778,\"#fb9f3a\"],[0.8888888888888888,\"#fdca26\"],[1.0,\"#f0f921\"]],\"type\":\"heatmap\"}],\"histogram2dcontour\":[{\"colorbar\":{\"outlinewidth\":0,\"ticks\":\"\"},\"colorscale\":[[0.0,\"#0d0887\"],[0.1111111111111111,\"#46039f\"],[0.2222222222222222,\"#7201a8\"],[0.3333333333333333,\"#9c179e\"],[0.4444444444444444,\"#bd3786\"],[0.5555555555555556,\"#d8576b\"],[0.6666666666666666,\"#ed7953\"],[0.7777777777777778,\"#fb9f3a\"],[0.8888888888888888,\"#fdca26\"],[1.0,\"#f0f921\"]],\"type\":\"histogram2dcontour\"}],\"histogram2d\":[{\"colorbar\":{\"outlinewidth\":0,\"ticks\":\"\"},\"colorscale\":[[0.0,\"#0d0887\"],[0.1111111111111111,\"#46039f\"],[0.2222222222222222,\"#7201a8\"],[0.3333333333333333,\"#9c179e\"],[0.4444444444444444,\"#bd3786\"],[0.5555555555555556,\"#d8576b\"],[0.6666666666666666,\"#ed7953\"],[0.7777777777777778,\"#fb9f3a\"],[0.8888888888888888,\"#fdca26\"],[1.0,\"#f0f921\"]],\"type\":\"histogram2d\"}],\"histogram\":[{\"marker\":{\"pattern\":{\"fillmode\":\"overlay\",\"size\":10,\"solidity\":0.2}},\"type\":\"histogram\"}],\"mesh3d\":[{\"colorbar\":{\"outlinewidth\":0,\"ticks\":\"\"},\"type\":\"mesh3d\"}],\"parcoords\":[{\"line\":{\"colorbar\":{\"outlinewidth\":0,\"ticks\":\"\"}},\"type\":\"parcoords\"}],\"pie\":[{\"automargin\":true,\"type\":\"pie\"}],\"scatter3d\":[{\"line\":{\"colorbar\":{\"outlinewidth\":0,\"ticks\":\"\"}},\"marker\":{\"colorbar\":{\"outlinewidth\":0,\"ticks\":\"\"}},\"type\":\"scatter3d\"}],\"scattercarpet\":[{\"marker\":{\"colorbar\":{\"outlinewidth\":0,\"ticks\":\"\"}},\"type\":\"scattercarpet\"}],\"scattergeo\":[{\"marker\":{\"colorbar\":{\"outlinewidth\":0,\"ticks\":\"\"}},\"type\":\"scattergeo\"}],\"scattergl\":[{\"marker\":{\"colorbar\":{\"outlinewidth\":0,\"ticks\":\"\"}},\"type\":\"scattergl\"}],\"scattermapbox\":[{\"marker\":{\"colorbar\":{\"outlinewidth\":0,\"ticks\":\"\"}},\"type\":\"scattermapbox\"}],\"scatterpolargl\":[{\"marker\":{\"colorbar\":{\"outlinewidth\":0,\"ticks\":\"\"}},\"type\":\"scatterpolargl\"}],\"scatterpolar\":[{\"marker\":{\"colorbar\":{\"outlinewidth\":0,\"ticks\":\"\"}},\"type\":\"scatterpolar\"}],\"scatter\":[{\"marker\":{\"colorbar\":{\"outlinewidth\":0,\"ticks\":\"\"}},\"type\":\"scatter\"}],\"scatterternary\":[{\"marker\":{\"colorbar\":{\"outlinewidth\":0,\"ticks\":\"\"}},\"type\":\"scatterternary\"}],\"surface\":[{\"colorbar\":{\"outlinewidth\":0,\"ticks\":\"\"},\"colorscale\":[[0.0,\"#0d0887\"],[0.1111111111111111,\"#46039f\"],[0.2222222222222222,\"#7201a8\"],[0.3333333333333333,\"#9c179e\"],[0.4444444444444444,\"#bd3786\"],[0.5555555555555556,\"#d8576b\"],[0.6666666666666666,\"#ed7953\"],[0.7777777777777778,\"#fb9f3a\"],[0.8888888888888888,\"#fdca26\"],[1.0,\"#f0f921\"]],\"type\":\"surface\"}],\"table\":[{\"cells\":{\"fill\":{\"color\":\"#EBF0F8\"},\"line\":{\"color\":\"white\"}},\"header\":{\"fill\":{\"color\":\"#C8D4E3\"},\"line\":{\"color\":\"white\"}},\"type\":\"table\"}]},\"layout\":{\"annotationdefaults\":{\"arrowcolor\":\"#2a3f5f\",\"arrowhead\":0,\"arrowwidth\":1},\"autotypenumbers\":\"strict\",\"coloraxis\":{\"colorbar\":{\"outlinewidth\":0,\"ticks\":\"\"}},\"colorscale\":{\"diverging\":[[0,\"#8e0152\"],[0.1,\"#c51b7d\"],[0.2,\"#de77ae\"],[0.3,\"#f1b6da\"],[0.4,\"#fde0ef\"],[0.5,\"#f7f7f7\"],[0.6,\"#e6f5d0\"],[0.7,\"#b8e186\"],[0.8,\"#7fbc41\"],[0.9,\"#4d9221\"],[1,\"#276419\"]],\"sequential\":[[0.0,\"#0d0887\"],[0.1111111111111111,\"#46039f\"],[0.2222222222222222,\"#7201a8\"],[0.3333333333333333,\"#9c179e\"],[0.4444444444444444,\"#bd3786\"],[0.5555555555555556,\"#d8576b\"],[0.6666666666666666,\"#ed7953\"],[0.7777777777777778,\"#fb9f3a\"],[0.8888888888888888,\"#fdca26\"],[1.0,\"#f0f921\"]],\"sequentialminus\":[[0.0,\"#0d0887\"],[0.1111111111111111,\"#46039f\"],[0.2222222222222222,\"#7201a8\"],[0.3333333333333333,\"#9c179e\"],[0.4444444444444444,\"#bd3786\"],[0.5555555555555556,\"#d8576b\"],[0.6666666666666666,\"#ed7953\"],[0.7777777777777778,\"#fb9f3a\"],[0.8888888888888888,\"#fdca26\"],[1.0,\"#f0f921\"]]},\"colorway\":[\"#636efa\",\"#EF553B\",\"#00cc96\",\"#ab63fa\",\"#FFA15A\",\"#19d3f3\",\"#FF6692\",\"#B6E880\",\"#FF97FF\",\"#FECB52\"],\"font\":{\"color\":\"#2a3f5f\"},\"geo\":{\"bgcolor\":\"white\",\"lakecolor\":\"white\",\"landcolor\":\"#E5ECF6\",\"showlakes\":true,\"showland\":true,\"subunitcolor\":\"white\"},\"hoverlabel\":{\"align\":\"left\"},\"hovermode\":\"closest\",\"mapbox\":{\"style\":\"light\"},\"paper_bgcolor\":\"white\",\"plot_bgcolor\":\"#E5ECF6\",\"polar\":{\"angularaxis\":{\"gridcolor\":\"white\",\"linecolor\":\"white\",\"ticks\":\"\"},\"bgcolor\":\"#E5ECF6\",\"radialaxis\":{\"gridcolor\":\"white\",\"linecolor\":\"white\",\"ticks\":\"\"}},\"scene\":{\"xaxis\":{\"backgroundcolor\":\"#E5ECF6\",\"gridcolor\":\"white\",\"gridwidth\":2,\"linecolor\":\"white\",\"showbackground\":true,\"ticks\":\"\",\"zerolinecolor\":\"white\"},\"yaxis\":{\"backgroundcolor\":\"#E5ECF6\",\"gridcolor\":\"white\",\"gridwidth\":2,\"linecolor\":\"white\",\"showbackground\":true,\"ticks\":\"\",\"zerolinecolor\":\"white\"},\"zaxis\":{\"backgroundcolor\":\"#E5ECF6\",\"gridcolor\":\"white\",\"gridwidth\":2,\"linecolor\":\"white\",\"showbackground\":true,\"ticks\":\"\",\"zerolinecolor\":\"white\"}},\"shapedefaults\":{\"line\":{\"color\":\"#2a3f5f\"}},\"ternary\":{\"aaxis\":{\"gridcolor\":\"white\",\"linecolor\":\"white\",\"ticks\":\"\"},\"baxis\":{\"gridcolor\":\"white\",\"linecolor\":\"white\",\"ticks\":\"\"},\"bgcolor\":\"#E5ECF6\",\"caxis\":{\"gridcolor\":\"white\",\"linecolor\":\"white\",\"ticks\":\"\"}},\"title\":{\"x\":0.05},\"xaxis\":{\"automargin\":true,\"gridcolor\":\"white\",\"linecolor\":\"white\",\"ticks\":\"\",\"title\":{\"standoff\":15},\"zerolinecolor\":\"white\",\"zerolinewidth\":2},\"yaxis\":{\"automargin\":true,\"gridcolor\":\"white\",\"linecolor\":\"white\",\"ticks\":\"\",\"title\":{\"standoff\":15},\"zerolinecolor\":\"white\",\"zerolinewidth\":2}}},\"title\":{\"font\":{\"color\":\"#4D5663\"}},\"xaxis\":{\"gridcolor\":\"#E1E5ED\",\"showgrid\":true,\"tickfont\":{\"color\":\"#4D5663\"},\"title\":{\"font\":{\"color\":\"#4D5663\"},\"text\":\"\"},\"zerolinecolor\":\"#E1E5ED\"},\"yaxis\":{\"gridcolor\":\"#E1E5ED\",\"showgrid\":true,\"tickfont\":{\"color\":\"#4D5663\"},\"title\":{\"font\":{\"color\":\"#4D5663\"},\"text\":\"\"},\"zerolinecolor\":\"#E1E5ED\"}},                        {\"showLink\": true, \"linkText\": \"Export to plot.ly\", \"plotlyServerURL\": \"https://plot.ly\", \"responsive\": true}                    ).then(function(){\n",
       "                            \n",
       "var gd = document.getElementById('4a1b7d65-cd19-4e5b-bed5-3e6c55b12c33');\n",
       "var x = new MutationObserver(function (mutations, observer) {{\n",
       "        var display = window.getComputedStyle(gd).display;\n",
       "        if (!display || display === 'none') {{\n",
       "            console.log([gd, 'removed!']);\n",
       "            Plotly.purge(gd);\n",
       "            observer.disconnect();\n",
       "        }}\n",
       "}});\n",
       "\n",
       "// Listen for the removal of the full notebook cells\n",
       "var notebookContainer = gd.closest('#notebook-container');\n",
       "if (notebookContainer) {{\n",
       "    x.observe(notebookContainer, {childList: true});\n",
       "}}\n",
       "\n",
       "// Listen for the clearing of the current output cell\n",
       "var outputEl = gd.closest('.output');\n",
       "if (outputEl) {{\n",
       "    x.observe(outputEl, {childList: true});\n",
       "}}\n",
       "\n",
       "                        })                };                });            </script>        </div>"
      ]
     },
     "metadata": {},
     "output_type": "display_data"
    }
   ],
   "source": [
    "#size of plots are based off of another.\n",
    "df.iplot(kind='bubble',x='A',y='B',size='C')"
   ]
  },
  {
   "cell_type": "code",
   "execution_count": 39,
   "id": "665f5c81",
   "metadata": {},
   "outputs": [
    {
     "data": {
      "application/vnd.plotly.v1+json": {
       "config": {
        "linkText": "Export to plot.ly",
        "plotlyServerURL": "https://plot.ly",
        "showLink": true
       },
       "data": [
        {
         "histfunc": "count",
         "histnorm": "",
         "marker": {
          "color": "rgba(255, 153, 51, 1.0)",
          "line": {
           "color": "#4D5663",
           "width": 1.3
          }
         },
         "name": "A",
         "nbinsx": 10,
         "opacity": 0.8,
         "orientation": "v",
         "type": "histogram",
         "x": [
          1.0837802026903676,
          -0.8307318652353206,
          0.9704645666752914,
          -0.13150801540525994,
          -1.431676307991406,
          0.5854248107675313,
          -0.5660964311261989,
          0.9884149998948273,
          -0.03866022001943958,
          0.3926136648987823,
          0.2366436323713876,
          1.5890962443122887,
          0.8157022340882426,
          0.3514861566194287,
          1.0277388736464257,
          0.2699518657534483,
          1.3965374784548972,
          -1.5384078610201786,
          -0.5850193141441375,
          0.04250994717911727,
          0.22334130053789886,
          -0.3843704559030353,
          -0.9135758999676846,
          1.1988523922550378,
          0.8756193834778848,
          -0.3245036125233253,
          -0.8643199642609466,
          -2.711830222084337,
          -1.6213541043042066,
          -1.1440160134243584,
          1.1956049013334702,
          -0.5163570085007548,
          0.3383295777705534,
          -0.32691112866765776,
          0.1380319492889386,
          -0.10120910311364711,
          1.2224935125494165,
          -0.7848201785562855,
          1.3251452237809054,
          -1.0422539931177521,
          -0.6220907671447959,
          0.7605865882300532,
          0.7097525174852362,
          0.9560880229550969,
          -0.10339811047162585,
          -0.14644500749449224,
          0.5368987942350666,
          -0.03267673468010394,
          -0.3285015605627665,
          -2.1637667787824704,
          -0.19750325171496624,
          -0.8705110153772423,
          0.3275838600290092,
          -1.4429386352380633,
          -0.5227190645611784,
          -0.6040484120224673,
          -0.5426828792455438,
          -0.24734238804509784,
          -0.1710048045514127,
          0.6357392606928337,
          0.22223721737535435,
          0.8539923672277793,
          1.6418874845855114,
          -1.6051526223909196,
          0.22309065021823282,
          -0.7595689515903035,
          -2.1996485445702563,
          1.5956732573254695,
          1.5477270913516719,
          0.567390246133774,
          0.4046686778858881,
          0.4683976376712205,
          -1.2977402564021023,
          -0.29053464566907533,
          -0.6681614022952193,
          0.5398107798206214,
          1.4892780015980334,
          0.8907307805670841,
          0.01356355123975639,
          0.779825227084279,
          1.480629213237171,
          -1.303499194553016,
          0.5640734614757685,
          0.888697983915617,
          -1.5602326741188632,
          0.3276654891441126,
          1.1056006487110808,
          0.11020457528062488,
          -1.3030233635699597,
          0.3924672139339836,
          0.5960789969061742,
          -1.1234727276191592,
          -1.7650675896330457,
          0.5986533532972574,
          1.0617932058870356,
          1.3479162812727086,
          -0.8368602512006359,
          -0.009797134647624255,
          0.5983037055534213,
          -0.8765850492559197
         ],
         "xaxis": "x",
         "yaxis": "y"
        },
        {
         "line": {
          "color": "rgba(128, 128, 128, 1.0)",
          "dash": "solid",
          "shape": "linear",
          "width": 1.3
         },
         "marker": {
          "size": 2,
          "symbol": "circle"
         },
         "mode": "markers",
         "name": "A",
         "text": "",
         "type": "scatter",
         "x": [
          -0.522890892695273,
          -0.5133950769305579,
          0.6806690722910964,
          1.031910376765052,
          0.5134242259294345,
          -1.1384405134344129,
          -1.967304273414849,
          2.7754662161448187,
          -0.12968506824520482,
          -0.5751330143483373,
          -1.7124510912923032,
          -0.7401896441257169,
          1.3640598393807122,
          -0.7392250669937778,
          -0.4596265565310788,
          0.8632338591254589,
          -0.9269877232227746,
          0.8005776928976868,
          -0.5303651277260929,
          -1.5478366663352567,
          -0.9021928385540456,
          0.07263937780983032,
          0.4964765917045821,
          -0.019362179759583174,
          0.3549150890000641,
          -0.254386036949427,
          1.287006580786897,
          0.7655221718834024,
          0.7588074233964105,
          2.119276748874291,
          -0.5972958247816397,
          -1.2021289261239687,
          -0.20378199373107492,
          0.8537557984722517,
          0.03905136978287543,
          -1.3572525759712204,
          0.7729758897701869,
          0.15709732946492647,
          -0.43953427255576755,
          0.02080414947036807,
          -0.0686204830480142,
          -1.7658436876434458,
          -0.07210159595201733,
          0.27634956368375163,
          1.0937799112009745,
          0.4294114559969322,
          -1.5755166280139263,
          -0.030870482297119722,
          -0.2023705876469707,
          0.5292765847905173,
          0.39943539003596257,
          -0.7724123878930874,
          0.6890986316171753,
          0.9122861623485468,
          0.1162402187877747,
          0.41573491106998256,
          -1.0554506054777522,
          0.3273723004744497,
          1.2826088924503345,
          0.002600066872883493,
          -1.344462684212799,
          -0.4646665558487505,
          0.6608569002638156,
          -1.172944904026479,
          -1.5333839108105396,
          0.5800873164304087,
          -0.0944402612694691,
          0.9177407000112922,
          -1.362401198969006,
          -0.26278842045129025,
          0.5670096180264699,
          -1.3766867887778862,
          1.0606927619478912,
          1.7738407682557193,
          -1.345147684233415,
          1.2258717217599049,
          -0.6434508497398888,
          -0.08574432115483341,
          -0.30728343458243823,
          -0.26446934774105685,
          -0.946849712608022,
          -1.153366821199802,
          -0.13739292710680448,
          0.3299629055380062,
          0.428734968248196,
          1.4750103690781826,
          0.9924535177609993,
          -0.5239161127928873,
          -0.7283124703069083,
          -0.10204894475527922,
          1.1466273781594924,
          0.0888460083240002,
          -0.0166821185648255,
          0.18261626841187298,
          -0.3679919585457832,
          1.2256960945250548,
          0.40221413256018895,
          0.515223149459377,
          1.3306440965310917,
          -0.618409258339924
         ],
         "xaxis": "x2",
         "y": [
          1.0837802026903676,
          -0.8307318652353206,
          0.9704645666752914,
          -0.13150801540525994,
          -1.431676307991406,
          0.5854248107675313,
          -0.5660964311261989,
          0.9884149998948273,
          -0.03866022001943958,
          0.3926136648987823,
          0.2366436323713876,
          1.5890962443122887,
          0.8157022340882426,
          0.3514861566194287,
          1.0277388736464257,
          0.2699518657534483,
          1.3965374784548972,
          -1.5384078610201786,
          -0.5850193141441375,
          0.04250994717911727,
          0.22334130053789886,
          -0.3843704559030353,
          -0.9135758999676846,
          1.1988523922550378,
          0.8756193834778848,
          -0.3245036125233253,
          -0.8643199642609466,
          -2.711830222084337,
          -1.6213541043042066,
          -1.1440160134243584,
          1.1956049013334702,
          -0.5163570085007548,
          0.3383295777705534,
          -0.32691112866765776,
          0.1380319492889386,
          -0.10120910311364711,
          1.2224935125494165,
          -0.7848201785562855,
          1.3251452237809054,
          -1.0422539931177521,
          -0.6220907671447959,
          0.7605865882300532,
          0.7097525174852362,
          0.9560880229550969,
          -0.10339811047162585,
          -0.14644500749449224,
          0.5368987942350666,
          -0.03267673468010394,
          -0.3285015605627665,
          -2.1637667787824704,
          -0.19750325171496624,
          -0.8705110153772423,
          0.3275838600290092,
          -1.4429386352380633,
          -0.5227190645611784,
          -0.6040484120224673,
          -0.5426828792455438,
          -0.24734238804509784,
          -0.1710048045514127,
          0.6357392606928337,
          0.22223721737535435,
          0.8539923672277793,
          1.6418874845855114,
          -1.6051526223909196,
          0.22309065021823282,
          -0.7595689515903035,
          -2.1996485445702563,
          1.5956732573254695,
          1.5477270913516719,
          0.567390246133774,
          0.4046686778858881,
          0.4683976376712205,
          -1.2977402564021023,
          -0.29053464566907533,
          -0.6681614022952193,
          0.5398107798206214,
          1.4892780015980334,
          0.8907307805670841,
          0.01356355123975639,
          0.779825227084279,
          1.480629213237171,
          -1.303499194553016,
          0.5640734614757685,
          0.888697983915617,
          -1.5602326741188632,
          0.3276654891441126,
          1.1056006487110808,
          0.11020457528062488,
          -1.3030233635699597,
          0.3924672139339836,
          0.5960789969061742,
          -1.1234727276191592,
          -1.7650675896330457,
          0.5986533532972574,
          1.0617932058870356,
          1.3479162812727086,
          -0.8368602512006359,
          -0.009797134647624255,
          0.5983037055534213,
          -0.8765850492559197
         ],
         "yaxis": "y2"
        },
        {
         "line": {
          "color": "rgba(128, 128, 128, 1.0)",
          "dash": "solid",
          "shape": "linear",
          "width": 1.3
         },
         "marker": {
          "size": 2,
          "symbol": "circle"
         },
         "mode": "markers",
         "name": "A",
         "text": "",
         "type": "scatter",
         "x": [
          0.5061735650054343,
          -0.45374351970619403,
          -1.3452417433111727,
          -0.7906907432933548,
          0.5168613662055268,
          -0.4741995457952149,
          -0.4694021472502292,
          -1.0065724184279325,
          0.08312318574305148,
          0.2962008274450619,
          -0.7652039217045815,
          0.7388926859827525,
          -0.9745728957736693,
          -2.4966091073318424,
          -0.7916851107025121,
          0.8795399529894699,
          -1.1612265935014694,
          1.5668786119989917,
          1.1040731833869804,
          1.0707093127560956,
          0.04029924094817754,
          -1.4025655681894444,
          1.1083759673468043,
          -0.26951084815162907,
          0.6821491317910371,
          -0.3290024007045008,
          1.801817498836998,
          0.09532447935235822,
          0.5756724929951034,
          1.2250363316590556,
          0.5404691198101195,
          1.405107902503578,
          -0.46317087243262545,
          -0.06896767035212416,
          -0.8379096836859891,
          0.8559684259161792,
          0.7777864657707051,
          0.9242137263015999,
          -0.2896985032173854,
          0.04891742223527568,
          -1.2404205571776148,
          -0.1051185708499763,
          -0.8830174503203669,
          0.22096219141352746,
          0.8821591483730389,
          -0.23674634676994427,
          2.5158583605059843,
          -1.6231979754694397,
          -0.20367723899620602,
          -0.7347607399291173,
          -0.168438399902665,
          -0.943047835388374,
          0.1277488505392079,
          -0.4597241063254028,
          0.7571446506449164,
          0.2679007718721096,
          0.07464719122470621,
          1.3878605790736451,
          0.46617492851758113,
          0.8686807258221567,
          1.2416824576348655,
          -1.5071105865323295,
          1.2553368074664373,
          -0.027321171048688378,
          -1.1622915769561002,
          0.17761266565039144,
          -1.8055440471148432,
          0.1440987967848737,
          0.14970580108926282,
          0.7842807872764457,
          0.3755126386941075,
          -0.453537726159817,
          -1.2272616199332682,
          -0.6026080665367011,
          -0.07245424810641667,
          0.38435297238922855,
          -0.7927447793959029,
          0.8219029649758968,
          0.25577990702355674,
          -0.39326546750649277,
          -0.06789084835124859,
          -1.340905483933111,
          -1.5117427959932335,
          0.16040901680405362,
          -0.5247056642455927,
          -1.6852089693321068,
          0.9003114764531234,
          1.3720171677133417,
          0.6747827785756805,
          0.27954802705531684,
          -0.47056378249546665,
          -2.3813183979413095,
          -0.9269712255431471,
          0.10436926248829959,
          0.05360017960672199,
          1.1334181219773138,
          0.4490940132605856,
          -2.3074539127722318,
          1.0924529184352614,
          1.3916896997462473
         ],
         "xaxis": "x3",
         "y": [
          1.0837802026903676,
          -0.8307318652353206,
          0.9704645666752914,
          -0.13150801540525994,
          -1.431676307991406,
          0.5854248107675313,
          -0.5660964311261989,
          0.9884149998948273,
          -0.03866022001943958,
          0.3926136648987823,
          0.2366436323713876,
          1.5890962443122887,
          0.8157022340882426,
          0.3514861566194287,
          1.0277388736464257,
          0.2699518657534483,
          1.3965374784548972,
          -1.5384078610201786,
          -0.5850193141441375,
          0.04250994717911727,
          0.22334130053789886,
          -0.3843704559030353,
          -0.9135758999676846,
          1.1988523922550378,
          0.8756193834778848,
          -0.3245036125233253,
          -0.8643199642609466,
          -2.711830222084337,
          -1.6213541043042066,
          -1.1440160134243584,
          1.1956049013334702,
          -0.5163570085007548,
          0.3383295777705534,
          -0.32691112866765776,
          0.1380319492889386,
          -0.10120910311364711,
          1.2224935125494165,
          -0.7848201785562855,
          1.3251452237809054,
          -1.0422539931177521,
          -0.6220907671447959,
          0.7605865882300532,
          0.7097525174852362,
          0.9560880229550969,
          -0.10339811047162585,
          -0.14644500749449224,
          0.5368987942350666,
          -0.03267673468010394,
          -0.3285015605627665,
          -2.1637667787824704,
          -0.19750325171496624,
          -0.8705110153772423,
          0.3275838600290092,
          -1.4429386352380633,
          -0.5227190645611784,
          -0.6040484120224673,
          -0.5426828792455438,
          -0.24734238804509784,
          -0.1710048045514127,
          0.6357392606928337,
          0.22223721737535435,
          0.8539923672277793,
          1.6418874845855114,
          -1.6051526223909196,
          0.22309065021823282,
          -0.7595689515903035,
          -2.1996485445702563,
          1.5956732573254695,
          1.5477270913516719,
          0.567390246133774,
          0.4046686778858881,
          0.4683976376712205,
          -1.2977402564021023,
          -0.29053464566907533,
          -0.6681614022952193,
          0.5398107798206214,
          1.4892780015980334,
          0.8907307805670841,
          0.01356355123975639,
          0.779825227084279,
          1.480629213237171,
          -1.303499194553016,
          0.5640734614757685,
          0.888697983915617,
          -1.5602326741188632,
          0.3276654891441126,
          1.1056006487110808,
          0.11020457528062488,
          -1.3030233635699597,
          0.3924672139339836,
          0.5960789969061742,
          -1.1234727276191592,
          -1.7650675896330457,
          0.5986533532972574,
          1.0617932058870356,
          1.3479162812727086,
          -0.8368602512006359,
          -0.009797134647624255,
          0.5983037055534213,
          -0.8765850492559197
         ],
         "yaxis": "y3"
        },
        {
         "line": {
          "color": "rgba(128, 128, 128, 1.0)",
          "dash": "solid",
          "shape": "linear",
          "width": 1.3
         },
         "marker": {
          "size": 2,
          "symbol": "circle"
         },
         "mode": "markers",
         "name": "A",
         "text": "",
         "type": "scatter",
         "x": [
          -1.0675771230985205,
          -0.6264316253365796,
          0.747126545149039,
          -1.5463867828324207,
          0.25938015269389925,
          -0.5389198104008657,
          -0.5728103842865038,
          0.04232544843890766,
          0.6051018423665102,
          1.5719879536382655,
          2.1824615406208365,
          -1.25222283856212,
          -0.3089715792020181,
          -0.9345231376762781,
          1.0309931125440828,
          -0.8427677439209136,
          1.1977651673873526,
          0.9643854392140603,
          0.2967407338548481,
          0.11503189012991172,
          0.8732057487653814,
          -0.19830601613374937,
          0.40756545557832274,
          -0.0022754125899660353,
          0.7211153825417478,
          -0.07342677113470895,
          0.9979282708349597,
          0.9597658767905103,
          0.6255359378491521,
          -0.45621573285751493,
          0.8150247581386546,
          -1.1072203072967557,
          -1.1000977049464933,
          1.6803282734071265,
          -0.9318001814065225,
          -1.9075202717308457,
          0.513400387638943,
          -0.9386923104093527,
          2.450064768931152,
          -1.432923362063971,
          0.6619256366627118,
          -0.31934761067773776,
          -1.8377084151369856,
          0.9344121070744521,
          0.21650089150415538,
          0.39973594945452634,
          0.9143285496448482,
          0.885617368351388,
          -1.0805304951112176,
          -1.5173287886073383,
          0.10401551897097906,
          0.451738909451791,
          0.8109448163385391,
          1.2734919720754343,
          -0.5587983288972399,
          1.9646001859380617,
          -0.037742341521644546,
          -0.38713967847411024,
          -0.7409576411389274,
          0.5736931426231485,
          -0.06893535611076942,
          -1.5818187828753911,
          0.4897288305796859,
          1.0132675005143266,
          1.100210446616976,
          -0.18704871424081185,
          0.8149179903873712,
          1.8509522380904984,
          -0.3048755128510082,
          0.15402916833245736,
          1.2033989062448742,
          -1.422386845150487,
          0.8659658670845835,
          1.383060561297713,
          -0.47414528871073014,
          -0.4444611891967911,
          -1.134515572377695,
          0.5210567607543705,
          0.711433108724833,
          -1.4595894453701157,
          1.866171666097092,
          0.30819746567042894,
          1.0831035343593591,
          -0.4917300092139015,
          0.8937049963266488,
          -0.779032604223167,
          1.3202255084238312,
          1.3058107289950605,
          1.1034214210645876,
          0.6616521623376257,
          -0.36773474713485177,
          -0.3698675153167032,
          -0.7317343089371522,
          -0.3916593838141954,
          -0.9691641760790766,
          -0.8651839848953563,
          0.8412831635767257,
          0.42139921244393047,
          -0.9338671399851458,
          0.3802094408496576
         ],
         "xaxis": "x4",
         "y": [
          1.0837802026903676,
          -0.8307318652353206,
          0.9704645666752914,
          -0.13150801540525994,
          -1.431676307991406,
          0.5854248107675313,
          -0.5660964311261989,
          0.9884149998948273,
          -0.03866022001943958,
          0.3926136648987823,
          0.2366436323713876,
          1.5890962443122887,
          0.8157022340882426,
          0.3514861566194287,
          1.0277388736464257,
          0.2699518657534483,
          1.3965374784548972,
          -1.5384078610201786,
          -0.5850193141441375,
          0.04250994717911727,
          0.22334130053789886,
          -0.3843704559030353,
          -0.9135758999676846,
          1.1988523922550378,
          0.8756193834778848,
          -0.3245036125233253,
          -0.8643199642609466,
          -2.711830222084337,
          -1.6213541043042066,
          -1.1440160134243584,
          1.1956049013334702,
          -0.5163570085007548,
          0.3383295777705534,
          -0.32691112866765776,
          0.1380319492889386,
          -0.10120910311364711,
          1.2224935125494165,
          -0.7848201785562855,
          1.3251452237809054,
          -1.0422539931177521,
          -0.6220907671447959,
          0.7605865882300532,
          0.7097525174852362,
          0.9560880229550969,
          -0.10339811047162585,
          -0.14644500749449224,
          0.5368987942350666,
          -0.03267673468010394,
          -0.3285015605627665,
          -2.1637667787824704,
          -0.19750325171496624,
          -0.8705110153772423,
          0.3275838600290092,
          -1.4429386352380633,
          -0.5227190645611784,
          -0.6040484120224673,
          -0.5426828792455438,
          -0.24734238804509784,
          -0.1710048045514127,
          0.6357392606928337,
          0.22223721737535435,
          0.8539923672277793,
          1.6418874845855114,
          -1.6051526223909196,
          0.22309065021823282,
          -0.7595689515903035,
          -2.1996485445702563,
          1.5956732573254695,
          1.5477270913516719,
          0.567390246133774,
          0.4046686778858881,
          0.4683976376712205,
          -1.2977402564021023,
          -0.29053464566907533,
          -0.6681614022952193,
          0.5398107798206214,
          1.4892780015980334,
          0.8907307805670841,
          0.01356355123975639,
          0.779825227084279,
          1.480629213237171,
          -1.303499194553016,
          0.5640734614757685,
          0.888697983915617,
          -1.5602326741188632,
          0.3276654891441126,
          1.1056006487110808,
          0.11020457528062488,
          -1.3030233635699597,
          0.3924672139339836,
          0.5960789969061742,
          -1.1234727276191592,
          -1.7650675896330457,
          0.5986533532972574,
          1.0617932058870356,
          1.3479162812727086,
          -0.8368602512006359,
          -0.009797134647624255,
          0.5983037055534213,
          -0.8765850492559197
         ],
         "yaxis": "y4"
        },
        {
         "line": {
          "color": "rgba(128, 128, 128, 1.0)",
          "dash": "solid",
          "shape": "linear",
          "width": 1.3
         },
         "marker": {
          "size": 2,
          "symbol": "circle"
         },
         "mode": "markers",
         "name": "B",
         "text": "",
         "type": "scatter",
         "x": [
          1.0837802026903676,
          -0.8307318652353206,
          0.9704645666752914,
          -0.13150801540525994,
          -1.431676307991406,
          0.5854248107675313,
          -0.5660964311261989,
          0.9884149998948273,
          -0.03866022001943958,
          0.3926136648987823,
          0.2366436323713876,
          1.5890962443122887,
          0.8157022340882426,
          0.3514861566194287,
          1.0277388736464257,
          0.2699518657534483,
          1.3965374784548972,
          -1.5384078610201786,
          -0.5850193141441375,
          0.04250994717911727,
          0.22334130053789886,
          -0.3843704559030353,
          -0.9135758999676846,
          1.1988523922550378,
          0.8756193834778848,
          -0.3245036125233253,
          -0.8643199642609466,
          -2.711830222084337,
          -1.6213541043042066,
          -1.1440160134243584,
          1.1956049013334702,
          -0.5163570085007548,
          0.3383295777705534,
          -0.32691112866765776,
          0.1380319492889386,
          -0.10120910311364711,
          1.2224935125494165,
          -0.7848201785562855,
          1.3251452237809054,
          -1.0422539931177521,
          -0.6220907671447959,
          0.7605865882300532,
          0.7097525174852362,
          0.9560880229550969,
          -0.10339811047162585,
          -0.14644500749449224,
          0.5368987942350666,
          -0.03267673468010394,
          -0.3285015605627665,
          -2.1637667787824704,
          -0.19750325171496624,
          -0.8705110153772423,
          0.3275838600290092,
          -1.4429386352380633,
          -0.5227190645611784,
          -0.6040484120224673,
          -0.5426828792455438,
          -0.24734238804509784,
          -0.1710048045514127,
          0.6357392606928337,
          0.22223721737535435,
          0.8539923672277793,
          1.6418874845855114,
          -1.6051526223909196,
          0.22309065021823282,
          -0.7595689515903035,
          -2.1996485445702563,
          1.5956732573254695,
          1.5477270913516719,
          0.567390246133774,
          0.4046686778858881,
          0.4683976376712205,
          -1.2977402564021023,
          -0.29053464566907533,
          -0.6681614022952193,
          0.5398107798206214,
          1.4892780015980334,
          0.8907307805670841,
          0.01356355123975639,
          0.779825227084279,
          1.480629213237171,
          -1.303499194553016,
          0.5640734614757685,
          0.888697983915617,
          -1.5602326741188632,
          0.3276654891441126,
          1.1056006487110808,
          0.11020457528062488,
          -1.3030233635699597,
          0.3924672139339836,
          0.5960789969061742,
          -1.1234727276191592,
          -1.7650675896330457,
          0.5986533532972574,
          1.0617932058870356,
          1.3479162812727086,
          -0.8368602512006359,
          -0.009797134647624255,
          0.5983037055534213,
          -0.8765850492559197
         ],
         "xaxis": "x5",
         "y": [
          -0.522890892695273,
          -0.5133950769305579,
          0.6806690722910964,
          1.031910376765052,
          0.5134242259294345,
          -1.1384405134344129,
          -1.967304273414849,
          2.7754662161448187,
          -0.12968506824520482,
          -0.5751330143483373,
          -1.7124510912923032,
          -0.7401896441257169,
          1.3640598393807122,
          -0.7392250669937778,
          -0.4596265565310788,
          0.8632338591254589,
          -0.9269877232227746,
          0.8005776928976868,
          -0.5303651277260929,
          -1.5478366663352567,
          -0.9021928385540456,
          0.07263937780983032,
          0.4964765917045821,
          -0.019362179759583174,
          0.3549150890000641,
          -0.254386036949427,
          1.287006580786897,
          0.7655221718834024,
          0.7588074233964105,
          2.119276748874291,
          -0.5972958247816397,
          -1.2021289261239687,
          -0.20378199373107492,
          0.8537557984722517,
          0.03905136978287543,
          -1.3572525759712204,
          0.7729758897701869,
          0.15709732946492647,
          -0.43953427255576755,
          0.02080414947036807,
          -0.0686204830480142,
          -1.7658436876434458,
          -0.07210159595201733,
          0.27634956368375163,
          1.0937799112009745,
          0.4294114559969322,
          -1.5755166280139263,
          -0.030870482297119722,
          -0.2023705876469707,
          0.5292765847905173,
          0.39943539003596257,
          -0.7724123878930874,
          0.6890986316171753,
          0.9122861623485468,
          0.1162402187877747,
          0.41573491106998256,
          -1.0554506054777522,
          0.3273723004744497,
          1.2826088924503345,
          0.002600066872883493,
          -1.344462684212799,
          -0.4646665558487505,
          0.6608569002638156,
          -1.172944904026479,
          -1.5333839108105396,
          0.5800873164304087,
          -0.0944402612694691,
          0.9177407000112922,
          -1.362401198969006,
          -0.26278842045129025,
          0.5670096180264699,
          -1.3766867887778862,
          1.0606927619478912,
          1.7738407682557193,
          -1.345147684233415,
          1.2258717217599049,
          -0.6434508497398888,
          -0.08574432115483341,
          -0.30728343458243823,
          -0.26446934774105685,
          -0.946849712608022,
          -1.153366821199802,
          -0.13739292710680448,
          0.3299629055380062,
          0.428734968248196,
          1.4750103690781826,
          0.9924535177609993,
          -0.5239161127928873,
          -0.7283124703069083,
          -0.10204894475527922,
          1.1466273781594924,
          0.0888460083240002,
          -0.0166821185648255,
          0.18261626841187298,
          -0.3679919585457832,
          1.2256960945250548,
          0.40221413256018895,
          0.515223149459377,
          1.3306440965310917,
          -0.618409258339924
         ],
         "yaxis": "y5"
        },
        {
         "histfunc": "count",
         "histnorm": "",
         "marker": {
          "color": "rgba(55, 128, 191, 1.0)",
          "line": {
           "color": "#4D5663",
           "width": 1.3
          }
         },
         "name": "B",
         "nbinsx": 10,
         "opacity": 0.8,
         "orientation": "v",
         "type": "histogram",
         "x": [
          -0.522890892695273,
          -0.5133950769305579,
          0.6806690722910964,
          1.031910376765052,
          0.5134242259294345,
          -1.1384405134344129,
          -1.967304273414849,
          2.7754662161448187,
          -0.12968506824520482,
          -0.5751330143483373,
          -1.7124510912923032,
          -0.7401896441257169,
          1.3640598393807122,
          -0.7392250669937778,
          -0.4596265565310788,
          0.8632338591254589,
          -0.9269877232227746,
          0.8005776928976868,
          -0.5303651277260929,
          -1.5478366663352567,
          -0.9021928385540456,
          0.07263937780983032,
          0.4964765917045821,
          -0.019362179759583174,
          0.3549150890000641,
          -0.254386036949427,
          1.287006580786897,
          0.7655221718834024,
          0.7588074233964105,
          2.119276748874291,
          -0.5972958247816397,
          -1.2021289261239687,
          -0.20378199373107492,
          0.8537557984722517,
          0.03905136978287543,
          -1.3572525759712204,
          0.7729758897701869,
          0.15709732946492647,
          -0.43953427255576755,
          0.02080414947036807,
          -0.0686204830480142,
          -1.7658436876434458,
          -0.07210159595201733,
          0.27634956368375163,
          1.0937799112009745,
          0.4294114559969322,
          -1.5755166280139263,
          -0.030870482297119722,
          -0.2023705876469707,
          0.5292765847905173,
          0.39943539003596257,
          -0.7724123878930874,
          0.6890986316171753,
          0.9122861623485468,
          0.1162402187877747,
          0.41573491106998256,
          -1.0554506054777522,
          0.3273723004744497,
          1.2826088924503345,
          0.002600066872883493,
          -1.344462684212799,
          -0.4646665558487505,
          0.6608569002638156,
          -1.172944904026479,
          -1.5333839108105396,
          0.5800873164304087,
          -0.0944402612694691,
          0.9177407000112922,
          -1.362401198969006,
          -0.26278842045129025,
          0.5670096180264699,
          -1.3766867887778862,
          1.0606927619478912,
          1.7738407682557193,
          -1.345147684233415,
          1.2258717217599049,
          -0.6434508497398888,
          -0.08574432115483341,
          -0.30728343458243823,
          -0.26446934774105685,
          -0.946849712608022,
          -1.153366821199802,
          -0.13739292710680448,
          0.3299629055380062,
          0.428734968248196,
          1.4750103690781826,
          0.9924535177609993,
          -0.5239161127928873,
          -0.7283124703069083,
          -0.10204894475527922,
          1.1466273781594924,
          0.0888460083240002,
          -0.0166821185648255,
          0.18261626841187298,
          -0.3679919585457832,
          1.2256960945250548,
          0.40221413256018895,
          0.515223149459377,
          1.3306440965310917,
          -0.618409258339924
         ],
         "xaxis": "x6",
         "yaxis": "y6"
        },
        {
         "line": {
          "color": "rgba(128, 128, 128, 1.0)",
          "dash": "solid",
          "shape": "linear",
          "width": 1.3
         },
         "marker": {
          "size": 2,
          "symbol": "circle"
         },
         "mode": "markers",
         "name": "B",
         "text": "",
         "type": "scatter",
         "x": [
          0.5061735650054343,
          -0.45374351970619403,
          -1.3452417433111727,
          -0.7906907432933548,
          0.5168613662055268,
          -0.4741995457952149,
          -0.4694021472502292,
          -1.0065724184279325,
          0.08312318574305148,
          0.2962008274450619,
          -0.7652039217045815,
          0.7388926859827525,
          -0.9745728957736693,
          -2.4966091073318424,
          -0.7916851107025121,
          0.8795399529894699,
          -1.1612265935014694,
          1.5668786119989917,
          1.1040731833869804,
          1.0707093127560956,
          0.04029924094817754,
          -1.4025655681894444,
          1.1083759673468043,
          -0.26951084815162907,
          0.6821491317910371,
          -0.3290024007045008,
          1.801817498836998,
          0.09532447935235822,
          0.5756724929951034,
          1.2250363316590556,
          0.5404691198101195,
          1.405107902503578,
          -0.46317087243262545,
          -0.06896767035212416,
          -0.8379096836859891,
          0.8559684259161792,
          0.7777864657707051,
          0.9242137263015999,
          -0.2896985032173854,
          0.04891742223527568,
          -1.2404205571776148,
          -0.1051185708499763,
          -0.8830174503203669,
          0.22096219141352746,
          0.8821591483730389,
          -0.23674634676994427,
          2.5158583605059843,
          -1.6231979754694397,
          -0.20367723899620602,
          -0.7347607399291173,
          -0.168438399902665,
          -0.943047835388374,
          0.1277488505392079,
          -0.4597241063254028,
          0.7571446506449164,
          0.2679007718721096,
          0.07464719122470621,
          1.3878605790736451,
          0.46617492851758113,
          0.8686807258221567,
          1.2416824576348655,
          -1.5071105865323295,
          1.2553368074664373,
          -0.027321171048688378,
          -1.1622915769561002,
          0.17761266565039144,
          -1.8055440471148432,
          0.1440987967848737,
          0.14970580108926282,
          0.7842807872764457,
          0.3755126386941075,
          -0.453537726159817,
          -1.2272616199332682,
          -0.6026080665367011,
          -0.07245424810641667,
          0.38435297238922855,
          -0.7927447793959029,
          0.8219029649758968,
          0.25577990702355674,
          -0.39326546750649277,
          -0.06789084835124859,
          -1.340905483933111,
          -1.5117427959932335,
          0.16040901680405362,
          -0.5247056642455927,
          -1.6852089693321068,
          0.9003114764531234,
          1.3720171677133417,
          0.6747827785756805,
          0.27954802705531684,
          -0.47056378249546665,
          -2.3813183979413095,
          -0.9269712255431471,
          0.10436926248829959,
          0.05360017960672199,
          1.1334181219773138,
          0.4490940132605856,
          -2.3074539127722318,
          1.0924529184352614,
          1.3916896997462473
         ],
         "xaxis": "x7",
         "y": [
          -0.522890892695273,
          -0.5133950769305579,
          0.6806690722910964,
          1.031910376765052,
          0.5134242259294345,
          -1.1384405134344129,
          -1.967304273414849,
          2.7754662161448187,
          -0.12968506824520482,
          -0.5751330143483373,
          -1.7124510912923032,
          -0.7401896441257169,
          1.3640598393807122,
          -0.7392250669937778,
          -0.4596265565310788,
          0.8632338591254589,
          -0.9269877232227746,
          0.8005776928976868,
          -0.5303651277260929,
          -1.5478366663352567,
          -0.9021928385540456,
          0.07263937780983032,
          0.4964765917045821,
          -0.019362179759583174,
          0.3549150890000641,
          -0.254386036949427,
          1.287006580786897,
          0.7655221718834024,
          0.7588074233964105,
          2.119276748874291,
          -0.5972958247816397,
          -1.2021289261239687,
          -0.20378199373107492,
          0.8537557984722517,
          0.03905136978287543,
          -1.3572525759712204,
          0.7729758897701869,
          0.15709732946492647,
          -0.43953427255576755,
          0.02080414947036807,
          -0.0686204830480142,
          -1.7658436876434458,
          -0.07210159595201733,
          0.27634956368375163,
          1.0937799112009745,
          0.4294114559969322,
          -1.5755166280139263,
          -0.030870482297119722,
          -0.2023705876469707,
          0.5292765847905173,
          0.39943539003596257,
          -0.7724123878930874,
          0.6890986316171753,
          0.9122861623485468,
          0.1162402187877747,
          0.41573491106998256,
          -1.0554506054777522,
          0.3273723004744497,
          1.2826088924503345,
          0.002600066872883493,
          -1.344462684212799,
          -0.4646665558487505,
          0.6608569002638156,
          -1.172944904026479,
          -1.5333839108105396,
          0.5800873164304087,
          -0.0944402612694691,
          0.9177407000112922,
          -1.362401198969006,
          -0.26278842045129025,
          0.5670096180264699,
          -1.3766867887778862,
          1.0606927619478912,
          1.7738407682557193,
          -1.345147684233415,
          1.2258717217599049,
          -0.6434508497398888,
          -0.08574432115483341,
          -0.30728343458243823,
          -0.26446934774105685,
          -0.946849712608022,
          -1.153366821199802,
          -0.13739292710680448,
          0.3299629055380062,
          0.428734968248196,
          1.4750103690781826,
          0.9924535177609993,
          -0.5239161127928873,
          -0.7283124703069083,
          -0.10204894475527922,
          1.1466273781594924,
          0.0888460083240002,
          -0.0166821185648255,
          0.18261626841187298,
          -0.3679919585457832,
          1.2256960945250548,
          0.40221413256018895,
          0.515223149459377,
          1.3306440965310917,
          -0.618409258339924
         ],
         "yaxis": "y7"
        },
        {
         "line": {
          "color": "rgba(128, 128, 128, 1.0)",
          "dash": "solid",
          "shape": "linear",
          "width": 1.3
         },
         "marker": {
          "size": 2,
          "symbol": "circle"
         },
         "mode": "markers",
         "name": "B",
         "text": "",
         "type": "scatter",
         "x": [
          -1.0675771230985205,
          -0.6264316253365796,
          0.747126545149039,
          -1.5463867828324207,
          0.25938015269389925,
          -0.5389198104008657,
          -0.5728103842865038,
          0.04232544843890766,
          0.6051018423665102,
          1.5719879536382655,
          2.1824615406208365,
          -1.25222283856212,
          -0.3089715792020181,
          -0.9345231376762781,
          1.0309931125440828,
          -0.8427677439209136,
          1.1977651673873526,
          0.9643854392140603,
          0.2967407338548481,
          0.11503189012991172,
          0.8732057487653814,
          -0.19830601613374937,
          0.40756545557832274,
          -0.0022754125899660353,
          0.7211153825417478,
          -0.07342677113470895,
          0.9979282708349597,
          0.9597658767905103,
          0.6255359378491521,
          -0.45621573285751493,
          0.8150247581386546,
          -1.1072203072967557,
          -1.1000977049464933,
          1.6803282734071265,
          -0.9318001814065225,
          -1.9075202717308457,
          0.513400387638943,
          -0.9386923104093527,
          2.450064768931152,
          -1.432923362063971,
          0.6619256366627118,
          -0.31934761067773776,
          -1.8377084151369856,
          0.9344121070744521,
          0.21650089150415538,
          0.39973594945452634,
          0.9143285496448482,
          0.885617368351388,
          -1.0805304951112176,
          -1.5173287886073383,
          0.10401551897097906,
          0.451738909451791,
          0.8109448163385391,
          1.2734919720754343,
          -0.5587983288972399,
          1.9646001859380617,
          -0.037742341521644546,
          -0.38713967847411024,
          -0.7409576411389274,
          0.5736931426231485,
          -0.06893535611076942,
          -1.5818187828753911,
          0.4897288305796859,
          1.0132675005143266,
          1.100210446616976,
          -0.18704871424081185,
          0.8149179903873712,
          1.8509522380904984,
          -0.3048755128510082,
          0.15402916833245736,
          1.2033989062448742,
          -1.422386845150487,
          0.8659658670845835,
          1.383060561297713,
          -0.47414528871073014,
          -0.4444611891967911,
          -1.134515572377695,
          0.5210567607543705,
          0.711433108724833,
          -1.4595894453701157,
          1.866171666097092,
          0.30819746567042894,
          1.0831035343593591,
          -0.4917300092139015,
          0.8937049963266488,
          -0.779032604223167,
          1.3202255084238312,
          1.3058107289950605,
          1.1034214210645876,
          0.6616521623376257,
          -0.36773474713485177,
          -0.3698675153167032,
          -0.7317343089371522,
          -0.3916593838141954,
          -0.9691641760790766,
          -0.8651839848953563,
          0.8412831635767257,
          0.42139921244393047,
          -0.9338671399851458,
          0.3802094408496576
         ],
         "xaxis": "x8",
         "y": [
          -0.522890892695273,
          -0.5133950769305579,
          0.6806690722910964,
          1.031910376765052,
          0.5134242259294345,
          -1.1384405134344129,
          -1.967304273414849,
          2.7754662161448187,
          -0.12968506824520482,
          -0.5751330143483373,
          -1.7124510912923032,
          -0.7401896441257169,
          1.3640598393807122,
          -0.7392250669937778,
          -0.4596265565310788,
          0.8632338591254589,
          -0.9269877232227746,
          0.8005776928976868,
          -0.5303651277260929,
          -1.5478366663352567,
          -0.9021928385540456,
          0.07263937780983032,
          0.4964765917045821,
          -0.019362179759583174,
          0.3549150890000641,
          -0.254386036949427,
          1.287006580786897,
          0.7655221718834024,
          0.7588074233964105,
          2.119276748874291,
          -0.5972958247816397,
          -1.2021289261239687,
          -0.20378199373107492,
          0.8537557984722517,
          0.03905136978287543,
          -1.3572525759712204,
          0.7729758897701869,
          0.15709732946492647,
          -0.43953427255576755,
          0.02080414947036807,
          -0.0686204830480142,
          -1.7658436876434458,
          -0.07210159595201733,
          0.27634956368375163,
          1.0937799112009745,
          0.4294114559969322,
          -1.5755166280139263,
          -0.030870482297119722,
          -0.2023705876469707,
          0.5292765847905173,
          0.39943539003596257,
          -0.7724123878930874,
          0.6890986316171753,
          0.9122861623485468,
          0.1162402187877747,
          0.41573491106998256,
          -1.0554506054777522,
          0.3273723004744497,
          1.2826088924503345,
          0.002600066872883493,
          -1.344462684212799,
          -0.4646665558487505,
          0.6608569002638156,
          -1.172944904026479,
          -1.5333839108105396,
          0.5800873164304087,
          -0.0944402612694691,
          0.9177407000112922,
          -1.362401198969006,
          -0.26278842045129025,
          0.5670096180264699,
          -1.3766867887778862,
          1.0606927619478912,
          1.7738407682557193,
          -1.345147684233415,
          1.2258717217599049,
          -0.6434508497398888,
          -0.08574432115483341,
          -0.30728343458243823,
          -0.26446934774105685,
          -0.946849712608022,
          -1.153366821199802,
          -0.13739292710680448,
          0.3299629055380062,
          0.428734968248196,
          1.4750103690781826,
          0.9924535177609993,
          -0.5239161127928873,
          -0.7283124703069083,
          -0.10204894475527922,
          1.1466273781594924,
          0.0888460083240002,
          -0.0166821185648255,
          0.18261626841187298,
          -0.3679919585457832,
          1.2256960945250548,
          0.40221413256018895,
          0.515223149459377,
          1.3306440965310917,
          -0.618409258339924
         ],
         "yaxis": "y8"
        },
        {
         "line": {
          "color": "rgba(128, 128, 128, 1.0)",
          "dash": "solid",
          "shape": "linear",
          "width": 1.3
         },
         "marker": {
          "size": 2,
          "symbol": "circle"
         },
         "mode": "markers",
         "name": "C",
         "text": "",
         "type": "scatter",
         "x": [
          1.0837802026903676,
          -0.8307318652353206,
          0.9704645666752914,
          -0.13150801540525994,
          -1.431676307991406,
          0.5854248107675313,
          -0.5660964311261989,
          0.9884149998948273,
          -0.03866022001943958,
          0.3926136648987823,
          0.2366436323713876,
          1.5890962443122887,
          0.8157022340882426,
          0.3514861566194287,
          1.0277388736464257,
          0.2699518657534483,
          1.3965374784548972,
          -1.5384078610201786,
          -0.5850193141441375,
          0.04250994717911727,
          0.22334130053789886,
          -0.3843704559030353,
          -0.9135758999676846,
          1.1988523922550378,
          0.8756193834778848,
          -0.3245036125233253,
          -0.8643199642609466,
          -2.711830222084337,
          -1.6213541043042066,
          -1.1440160134243584,
          1.1956049013334702,
          -0.5163570085007548,
          0.3383295777705534,
          -0.32691112866765776,
          0.1380319492889386,
          -0.10120910311364711,
          1.2224935125494165,
          -0.7848201785562855,
          1.3251452237809054,
          -1.0422539931177521,
          -0.6220907671447959,
          0.7605865882300532,
          0.7097525174852362,
          0.9560880229550969,
          -0.10339811047162585,
          -0.14644500749449224,
          0.5368987942350666,
          -0.03267673468010394,
          -0.3285015605627665,
          -2.1637667787824704,
          -0.19750325171496624,
          -0.8705110153772423,
          0.3275838600290092,
          -1.4429386352380633,
          -0.5227190645611784,
          -0.6040484120224673,
          -0.5426828792455438,
          -0.24734238804509784,
          -0.1710048045514127,
          0.6357392606928337,
          0.22223721737535435,
          0.8539923672277793,
          1.6418874845855114,
          -1.6051526223909196,
          0.22309065021823282,
          -0.7595689515903035,
          -2.1996485445702563,
          1.5956732573254695,
          1.5477270913516719,
          0.567390246133774,
          0.4046686778858881,
          0.4683976376712205,
          -1.2977402564021023,
          -0.29053464566907533,
          -0.6681614022952193,
          0.5398107798206214,
          1.4892780015980334,
          0.8907307805670841,
          0.01356355123975639,
          0.779825227084279,
          1.480629213237171,
          -1.303499194553016,
          0.5640734614757685,
          0.888697983915617,
          -1.5602326741188632,
          0.3276654891441126,
          1.1056006487110808,
          0.11020457528062488,
          -1.3030233635699597,
          0.3924672139339836,
          0.5960789969061742,
          -1.1234727276191592,
          -1.7650675896330457,
          0.5986533532972574,
          1.0617932058870356,
          1.3479162812727086,
          -0.8368602512006359,
          -0.009797134647624255,
          0.5983037055534213,
          -0.8765850492559197
         ],
         "xaxis": "x9",
         "y": [
          0.5061735650054343,
          -0.45374351970619403,
          -1.3452417433111727,
          -0.7906907432933548,
          0.5168613662055268,
          -0.4741995457952149,
          -0.4694021472502292,
          -1.0065724184279325,
          0.08312318574305148,
          0.2962008274450619,
          -0.7652039217045815,
          0.7388926859827525,
          -0.9745728957736693,
          -2.4966091073318424,
          -0.7916851107025121,
          0.8795399529894699,
          -1.1612265935014694,
          1.5668786119989917,
          1.1040731833869804,
          1.0707093127560956,
          0.04029924094817754,
          -1.4025655681894444,
          1.1083759673468043,
          -0.26951084815162907,
          0.6821491317910371,
          -0.3290024007045008,
          1.801817498836998,
          0.09532447935235822,
          0.5756724929951034,
          1.2250363316590556,
          0.5404691198101195,
          1.405107902503578,
          -0.46317087243262545,
          -0.06896767035212416,
          -0.8379096836859891,
          0.8559684259161792,
          0.7777864657707051,
          0.9242137263015999,
          -0.2896985032173854,
          0.04891742223527568,
          -1.2404205571776148,
          -0.1051185708499763,
          -0.8830174503203669,
          0.22096219141352746,
          0.8821591483730389,
          -0.23674634676994427,
          2.5158583605059843,
          -1.6231979754694397,
          -0.20367723899620602,
          -0.7347607399291173,
          -0.168438399902665,
          -0.943047835388374,
          0.1277488505392079,
          -0.4597241063254028,
          0.7571446506449164,
          0.2679007718721096,
          0.07464719122470621,
          1.3878605790736451,
          0.46617492851758113,
          0.8686807258221567,
          1.2416824576348655,
          -1.5071105865323295,
          1.2553368074664373,
          -0.027321171048688378,
          -1.1622915769561002,
          0.17761266565039144,
          -1.8055440471148432,
          0.1440987967848737,
          0.14970580108926282,
          0.7842807872764457,
          0.3755126386941075,
          -0.453537726159817,
          -1.2272616199332682,
          -0.6026080665367011,
          -0.07245424810641667,
          0.38435297238922855,
          -0.7927447793959029,
          0.8219029649758968,
          0.25577990702355674,
          -0.39326546750649277,
          -0.06789084835124859,
          -1.340905483933111,
          -1.5117427959932335,
          0.16040901680405362,
          -0.5247056642455927,
          -1.6852089693321068,
          0.9003114764531234,
          1.3720171677133417,
          0.6747827785756805,
          0.27954802705531684,
          -0.47056378249546665,
          -2.3813183979413095,
          -0.9269712255431471,
          0.10436926248829959,
          0.05360017960672199,
          1.1334181219773138,
          0.4490940132605856,
          -2.3074539127722318,
          1.0924529184352614,
          1.3916896997462473
         ],
         "yaxis": "y9"
        },
        {
         "line": {
          "color": "rgba(128, 128, 128, 1.0)",
          "dash": "solid",
          "shape": "linear",
          "width": 1.3
         },
         "marker": {
          "size": 2,
          "symbol": "circle"
         },
         "mode": "markers",
         "name": "C",
         "text": "",
         "type": "scatter",
         "x": [
          -0.522890892695273,
          -0.5133950769305579,
          0.6806690722910964,
          1.031910376765052,
          0.5134242259294345,
          -1.1384405134344129,
          -1.967304273414849,
          2.7754662161448187,
          -0.12968506824520482,
          -0.5751330143483373,
          -1.7124510912923032,
          -0.7401896441257169,
          1.3640598393807122,
          -0.7392250669937778,
          -0.4596265565310788,
          0.8632338591254589,
          -0.9269877232227746,
          0.8005776928976868,
          -0.5303651277260929,
          -1.5478366663352567,
          -0.9021928385540456,
          0.07263937780983032,
          0.4964765917045821,
          -0.019362179759583174,
          0.3549150890000641,
          -0.254386036949427,
          1.287006580786897,
          0.7655221718834024,
          0.7588074233964105,
          2.119276748874291,
          -0.5972958247816397,
          -1.2021289261239687,
          -0.20378199373107492,
          0.8537557984722517,
          0.03905136978287543,
          -1.3572525759712204,
          0.7729758897701869,
          0.15709732946492647,
          -0.43953427255576755,
          0.02080414947036807,
          -0.0686204830480142,
          -1.7658436876434458,
          -0.07210159595201733,
          0.27634956368375163,
          1.0937799112009745,
          0.4294114559969322,
          -1.5755166280139263,
          -0.030870482297119722,
          -0.2023705876469707,
          0.5292765847905173,
          0.39943539003596257,
          -0.7724123878930874,
          0.6890986316171753,
          0.9122861623485468,
          0.1162402187877747,
          0.41573491106998256,
          -1.0554506054777522,
          0.3273723004744497,
          1.2826088924503345,
          0.002600066872883493,
          -1.344462684212799,
          -0.4646665558487505,
          0.6608569002638156,
          -1.172944904026479,
          -1.5333839108105396,
          0.5800873164304087,
          -0.0944402612694691,
          0.9177407000112922,
          -1.362401198969006,
          -0.26278842045129025,
          0.5670096180264699,
          -1.3766867887778862,
          1.0606927619478912,
          1.7738407682557193,
          -1.345147684233415,
          1.2258717217599049,
          -0.6434508497398888,
          -0.08574432115483341,
          -0.30728343458243823,
          -0.26446934774105685,
          -0.946849712608022,
          -1.153366821199802,
          -0.13739292710680448,
          0.3299629055380062,
          0.428734968248196,
          1.4750103690781826,
          0.9924535177609993,
          -0.5239161127928873,
          -0.7283124703069083,
          -0.10204894475527922,
          1.1466273781594924,
          0.0888460083240002,
          -0.0166821185648255,
          0.18261626841187298,
          -0.3679919585457832,
          1.2256960945250548,
          0.40221413256018895,
          0.515223149459377,
          1.3306440965310917,
          -0.618409258339924
         ],
         "xaxis": "x10",
         "y": [
          0.5061735650054343,
          -0.45374351970619403,
          -1.3452417433111727,
          -0.7906907432933548,
          0.5168613662055268,
          -0.4741995457952149,
          -0.4694021472502292,
          -1.0065724184279325,
          0.08312318574305148,
          0.2962008274450619,
          -0.7652039217045815,
          0.7388926859827525,
          -0.9745728957736693,
          -2.4966091073318424,
          -0.7916851107025121,
          0.8795399529894699,
          -1.1612265935014694,
          1.5668786119989917,
          1.1040731833869804,
          1.0707093127560956,
          0.04029924094817754,
          -1.4025655681894444,
          1.1083759673468043,
          -0.26951084815162907,
          0.6821491317910371,
          -0.3290024007045008,
          1.801817498836998,
          0.09532447935235822,
          0.5756724929951034,
          1.2250363316590556,
          0.5404691198101195,
          1.405107902503578,
          -0.46317087243262545,
          -0.06896767035212416,
          -0.8379096836859891,
          0.8559684259161792,
          0.7777864657707051,
          0.9242137263015999,
          -0.2896985032173854,
          0.04891742223527568,
          -1.2404205571776148,
          -0.1051185708499763,
          -0.8830174503203669,
          0.22096219141352746,
          0.8821591483730389,
          -0.23674634676994427,
          2.5158583605059843,
          -1.6231979754694397,
          -0.20367723899620602,
          -0.7347607399291173,
          -0.168438399902665,
          -0.943047835388374,
          0.1277488505392079,
          -0.4597241063254028,
          0.7571446506449164,
          0.2679007718721096,
          0.07464719122470621,
          1.3878605790736451,
          0.46617492851758113,
          0.8686807258221567,
          1.2416824576348655,
          -1.5071105865323295,
          1.2553368074664373,
          -0.027321171048688378,
          -1.1622915769561002,
          0.17761266565039144,
          -1.8055440471148432,
          0.1440987967848737,
          0.14970580108926282,
          0.7842807872764457,
          0.3755126386941075,
          -0.453537726159817,
          -1.2272616199332682,
          -0.6026080665367011,
          -0.07245424810641667,
          0.38435297238922855,
          -0.7927447793959029,
          0.8219029649758968,
          0.25577990702355674,
          -0.39326546750649277,
          -0.06789084835124859,
          -1.340905483933111,
          -1.5117427959932335,
          0.16040901680405362,
          -0.5247056642455927,
          -1.6852089693321068,
          0.9003114764531234,
          1.3720171677133417,
          0.6747827785756805,
          0.27954802705531684,
          -0.47056378249546665,
          -2.3813183979413095,
          -0.9269712255431471,
          0.10436926248829959,
          0.05360017960672199,
          1.1334181219773138,
          0.4490940132605856,
          -2.3074539127722318,
          1.0924529184352614,
          1.3916896997462473
         ],
         "yaxis": "y10"
        },
        {
         "histfunc": "count",
         "histnorm": "",
         "marker": {
          "color": "rgba(50, 171, 96, 1.0)",
          "line": {
           "color": "#4D5663",
           "width": 1.3
          }
         },
         "name": "C",
         "nbinsx": 10,
         "opacity": 0.8,
         "orientation": "v",
         "type": "histogram",
         "x": [
          0.5061735650054343,
          -0.45374351970619403,
          -1.3452417433111727,
          -0.7906907432933548,
          0.5168613662055268,
          -0.4741995457952149,
          -0.4694021472502292,
          -1.0065724184279325,
          0.08312318574305148,
          0.2962008274450619,
          -0.7652039217045815,
          0.7388926859827525,
          -0.9745728957736693,
          -2.4966091073318424,
          -0.7916851107025121,
          0.8795399529894699,
          -1.1612265935014694,
          1.5668786119989917,
          1.1040731833869804,
          1.0707093127560956,
          0.04029924094817754,
          -1.4025655681894444,
          1.1083759673468043,
          -0.26951084815162907,
          0.6821491317910371,
          -0.3290024007045008,
          1.801817498836998,
          0.09532447935235822,
          0.5756724929951034,
          1.2250363316590556,
          0.5404691198101195,
          1.405107902503578,
          -0.46317087243262545,
          -0.06896767035212416,
          -0.8379096836859891,
          0.8559684259161792,
          0.7777864657707051,
          0.9242137263015999,
          -0.2896985032173854,
          0.04891742223527568,
          -1.2404205571776148,
          -0.1051185708499763,
          -0.8830174503203669,
          0.22096219141352746,
          0.8821591483730389,
          -0.23674634676994427,
          2.5158583605059843,
          -1.6231979754694397,
          -0.20367723899620602,
          -0.7347607399291173,
          -0.168438399902665,
          -0.943047835388374,
          0.1277488505392079,
          -0.4597241063254028,
          0.7571446506449164,
          0.2679007718721096,
          0.07464719122470621,
          1.3878605790736451,
          0.46617492851758113,
          0.8686807258221567,
          1.2416824576348655,
          -1.5071105865323295,
          1.2553368074664373,
          -0.027321171048688378,
          -1.1622915769561002,
          0.17761266565039144,
          -1.8055440471148432,
          0.1440987967848737,
          0.14970580108926282,
          0.7842807872764457,
          0.3755126386941075,
          -0.453537726159817,
          -1.2272616199332682,
          -0.6026080665367011,
          -0.07245424810641667,
          0.38435297238922855,
          -0.7927447793959029,
          0.8219029649758968,
          0.25577990702355674,
          -0.39326546750649277,
          -0.06789084835124859,
          -1.340905483933111,
          -1.5117427959932335,
          0.16040901680405362,
          -0.5247056642455927,
          -1.6852089693321068,
          0.9003114764531234,
          1.3720171677133417,
          0.6747827785756805,
          0.27954802705531684,
          -0.47056378249546665,
          -2.3813183979413095,
          -0.9269712255431471,
          0.10436926248829959,
          0.05360017960672199,
          1.1334181219773138,
          0.4490940132605856,
          -2.3074539127722318,
          1.0924529184352614,
          1.3916896997462473
         ],
         "xaxis": "x11",
         "yaxis": "y11"
        },
        {
         "line": {
          "color": "rgba(128, 128, 128, 1.0)",
          "dash": "solid",
          "shape": "linear",
          "width": 1.3
         },
         "marker": {
          "size": 2,
          "symbol": "circle"
         },
         "mode": "markers",
         "name": "C",
         "text": "",
         "type": "scatter",
         "x": [
          -1.0675771230985205,
          -0.6264316253365796,
          0.747126545149039,
          -1.5463867828324207,
          0.25938015269389925,
          -0.5389198104008657,
          -0.5728103842865038,
          0.04232544843890766,
          0.6051018423665102,
          1.5719879536382655,
          2.1824615406208365,
          -1.25222283856212,
          -0.3089715792020181,
          -0.9345231376762781,
          1.0309931125440828,
          -0.8427677439209136,
          1.1977651673873526,
          0.9643854392140603,
          0.2967407338548481,
          0.11503189012991172,
          0.8732057487653814,
          -0.19830601613374937,
          0.40756545557832274,
          -0.0022754125899660353,
          0.7211153825417478,
          -0.07342677113470895,
          0.9979282708349597,
          0.9597658767905103,
          0.6255359378491521,
          -0.45621573285751493,
          0.8150247581386546,
          -1.1072203072967557,
          -1.1000977049464933,
          1.6803282734071265,
          -0.9318001814065225,
          -1.9075202717308457,
          0.513400387638943,
          -0.9386923104093527,
          2.450064768931152,
          -1.432923362063971,
          0.6619256366627118,
          -0.31934761067773776,
          -1.8377084151369856,
          0.9344121070744521,
          0.21650089150415538,
          0.39973594945452634,
          0.9143285496448482,
          0.885617368351388,
          -1.0805304951112176,
          -1.5173287886073383,
          0.10401551897097906,
          0.451738909451791,
          0.8109448163385391,
          1.2734919720754343,
          -0.5587983288972399,
          1.9646001859380617,
          -0.037742341521644546,
          -0.38713967847411024,
          -0.7409576411389274,
          0.5736931426231485,
          -0.06893535611076942,
          -1.5818187828753911,
          0.4897288305796859,
          1.0132675005143266,
          1.100210446616976,
          -0.18704871424081185,
          0.8149179903873712,
          1.8509522380904984,
          -0.3048755128510082,
          0.15402916833245736,
          1.2033989062448742,
          -1.422386845150487,
          0.8659658670845835,
          1.383060561297713,
          -0.47414528871073014,
          -0.4444611891967911,
          -1.134515572377695,
          0.5210567607543705,
          0.711433108724833,
          -1.4595894453701157,
          1.866171666097092,
          0.30819746567042894,
          1.0831035343593591,
          -0.4917300092139015,
          0.8937049963266488,
          -0.779032604223167,
          1.3202255084238312,
          1.3058107289950605,
          1.1034214210645876,
          0.6616521623376257,
          -0.36773474713485177,
          -0.3698675153167032,
          -0.7317343089371522,
          -0.3916593838141954,
          -0.9691641760790766,
          -0.8651839848953563,
          0.8412831635767257,
          0.42139921244393047,
          -0.9338671399851458,
          0.3802094408496576
         ],
         "xaxis": "x12",
         "y": [
          0.5061735650054343,
          -0.45374351970619403,
          -1.3452417433111727,
          -0.7906907432933548,
          0.5168613662055268,
          -0.4741995457952149,
          -0.4694021472502292,
          -1.0065724184279325,
          0.08312318574305148,
          0.2962008274450619,
          -0.7652039217045815,
          0.7388926859827525,
          -0.9745728957736693,
          -2.4966091073318424,
          -0.7916851107025121,
          0.8795399529894699,
          -1.1612265935014694,
          1.5668786119989917,
          1.1040731833869804,
          1.0707093127560956,
          0.04029924094817754,
          -1.4025655681894444,
          1.1083759673468043,
          -0.26951084815162907,
          0.6821491317910371,
          -0.3290024007045008,
          1.801817498836998,
          0.09532447935235822,
          0.5756724929951034,
          1.2250363316590556,
          0.5404691198101195,
          1.405107902503578,
          -0.46317087243262545,
          -0.06896767035212416,
          -0.8379096836859891,
          0.8559684259161792,
          0.7777864657707051,
          0.9242137263015999,
          -0.2896985032173854,
          0.04891742223527568,
          -1.2404205571776148,
          -0.1051185708499763,
          -0.8830174503203669,
          0.22096219141352746,
          0.8821591483730389,
          -0.23674634676994427,
          2.5158583605059843,
          -1.6231979754694397,
          -0.20367723899620602,
          -0.7347607399291173,
          -0.168438399902665,
          -0.943047835388374,
          0.1277488505392079,
          -0.4597241063254028,
          0.7571446506449164,
          0.2679007718721096,
          0.07464719122470621,
          1.3878605790736451,
          0.46617492851758113,
          0.8686807258221567,
          1.2416824576348655,
          -1.5071105865323295,
          1.2553368074664373,
          -0.027321171048688378,
          -1.1622915769561002,
          0.17761266565039144,
          -1.8055440471148432,
          0.1440987967848737,
          0.14970580108926282,
          0.7842807872764457,
          0.3755126386941075,
          -0.453537726159817,
          -1.2272616199332682,
          -0.6026080665367011,
          -0.07245424810641667,
          0.38435297238922855,
          -0.7927447793959029,
          0.8219029649758968,
          0.25577990702355674,
          -0.39326546750649277,
          -0.06789084835124859,
          -1.340905483933111,
          -1.5117427959932335,
          0.16040901680405362,
          -0.5247056642455927,
          -1.6852089693321068,
          0.9003114764531234,
          1.3720171677133417,
          0.6747827785756805,
          0.27954802705531684,
          -0.47056378249546665,
          -2.3813183979413095,
          -0.9269712255431471,
          0.10436926248829959,
          0.05360017960672199,
          1.1334181219773138,
          0.4490940132605856,
          -2.3074539127722318,
          1.0924529184352614,
          1.3916896997462473
         ],
         "yaxis": "y12"
        },
        {
         "line": {
          "color": "rgba(128, 128, 128, 1.0)",
          "dash": "solid",
          "shape": "linear",
          "width": 1.3
         },
         "marker": {
          "size": 2,
          "symbol": "circle"
         },
         "mode": "markers",
         "name": "D",
         "text": "",
         "type": "scatter",
         "x": [
          1.0837802026903676,
          -0.8307318652353206,
          0.9704645666752914,
          -0.13150801540525994,
          -1.431676307991406,
          0.5854248107675313,
          -0.5660964311261989,
          0.9884149998948273,
          -0.03866022001943958,
          0.3926136648987823,
          0.2366436323713876,
          1.5890962443122887,
          0.8157022340882426,
          0.3514861566194287,
          1.0277388736464257,
          0.2699518657534483,
          1.3965374784548972,
          -1.5384078610201786,
          -0.5850193141441375,
          0.04250994717911727,
          0.22334130053789886,
          -0.3843704559030353,
          -0.9135758999676846,
          1.1988523922550378,
          0.8756193834778848,
          -0.3245036125233253,
          -0.8643199642609466,
          -2.711830222084337,
          -1.6213541043042066,
          -1.1440160134243584,
          1.1956049013334702,
          -0.5163570085007548,
          0.3383295777705534,
          -0.32691112866765776,
          0.1380319492889386,
          -0.10120910311364711,
          1.2224935125494165,
          -0.7848201785562855,
          1.3251452237809054,
          -1.0422539931177521,
          -0.6220907671447959,
          0.7605865882300532,
          0.7097525174852362,
          0.9560880229550969,
          -0.10339811047162585,
          -0.14644500749449224,
          0.5368987942350666,
          -0.03267673468010394,
          -0.3285015605627665,
          -2.1637667787824704,
          -0.19750325171496624,
          -0.8705110153772423,
          0.3275838600290092,
          -1.4429386352380633,
          -0.5227190645611784,
          -0.6040484120224673,
          -0.5426828792455438,
          -0.24734238804509784,
          -0.1710048045514127,
          0.6357392606928337,
          0.22223721737535435,
          0.8539923672277793,
          1.6418874845855114,
          -1.6051526223909196,
          0.22309065021823282,
          -0.7595689515903035,
          -2.1996485445702563,
          1.5956732573254695,
          1.5477270913516719,
          0.567390246133774,
          0.4046686778858881,
          0.4683976376712205,
          -1.2977402564021023,
          -0.29053464566907533,
          -0.6681614022952193,
          0.5398107798206214,
          1.4892780015980334,
          0.8907307805670841,
          0.01356355123975639,
          0.779825227084279,
          1.480629213237171,
          -1.303499194553016,
          0.5640734614757685,
          0.888697983915617,
          -1.5602326741188632,
          0.3276654891441126,
          1.1056006487110808,
          0.11020457528062488,
          -1.3030233635699597,
          0.3924672139339836,
          0.5960789969061742,
          -1.1234727276191592,
          -1.7650675896330457,
          0.5986533532972574,
          1.0617932058870356,
          1.3479162812727086,
          -0.8368602512006359,
          -0.009797134647624255,
          0.5983037055534213,
          -0.8765850492559197
         ],
         "xaxis": "x13",
         "y": [
          -1.0675771230985205,
          -0.6264316253365796,
          0.747126545149039,
          -1.5463867828324207,
          0.25938015269389925,
          -0.5389198104008657,
          -0.5728103842865038,
          0.04232544843890766,
          0.6051018423665102,
          1.5719879536382655,
          2.1824615406208365,
          -1.25222283856212,
          -0.3089715792020181,
          -0.9345231376762781,
          1.0309931125440828,
          -0.8427677439209136,
          1.1977651673873526,
          0.9643854392140603,
          0.2967407338548481,
          0.11503189012991172,
          0.8732057487653814,
          -0.19830601613374937,
          0.40756545557832274,
          -0.0022754125899660353,
          0.7211153825417478,
          -0.07342677113470895,
          0.9979282708349597,
          0.9597658767905103,
          0.6255359378491521,
          -0.45621573285751493,
          0.8150247581386546,
          -1.1072203072967557,
          -1.1000977049464933,
          1.6803282734071265,
          -0.9318001814065225,
          -1.9075202717308457,
          0.513400387638943,
          -0.9386923104093527,
          2.450064768931152,
          -1.432923362063971,
          0.6619256366627118,
          -0.31934761067773776,
          -1.8377084151369856,
          0.9344121070744521,
          0.21650089150415538,
          0.39973594945452634,
          0.9143285496448482,
          0.885617368351388,
          -1.0805304951112176,
          -1.5173287886073383,
          0.10401551897097906,
          0.451738909451791,
          0.8109448163385391,
          1.2734919720754343,
          -0.5587983288972399,
          1.9646001859380617,
          -0.037742341521644546,
          -0.38713967847411024,
          -0.7409576411389274,
          0.5736931426231485,
          -0.06893535611076942,
          -1.5818187828753911,
          0.4897288305796859,
          1.0132675005143266,
          1.100210446616976,
          -0.18704871424081185,
          0.8149179903873712,
          1.8509522380904984,
          -0.3048755128510082,
          0.15402916833245736,
          1.2033989062448742,
          -1.422386845150487,
          0.8659658670845835,
          1.383060561297713,
          -0.47414528871073014,
          -0.4444611891967911,
          -1.134515572377695,
          0.5210567607543705,
          0.711433108724833,
          -1.4595894453701157,
          1.866171666097092,
          0.30819746567042894,
          1.0831035343593591,
          -0.4917300092139015,
          0.8937049963266488,
          -0.779032604223167,
          1.3202255084238312,
          1.3058107289950605,
          1.1034214210645876,
          0.6616521623376257,
          -0.36773474713485177,
          -0.3698675153167032,
          -0.7317343089371522,
          -0.3916593838141954,
          -0.9691641760790766,
          -0.8651839848953563,
          0.8412831635767257,
          0.42139921244393047,
          -0.9338671399851458,
          0.3802094408496576
         ],
         "yaxis": "y13"
        },
        {
         "line": {
          "color": "rgba(128, 128, 128, 1.0)",
          "dash": "solid",
          "shape": "linear",
          "width": 1.3
         },
         "marker": {
          "size": 2,
          "symbol": "circle"
         },
         "mode": "markers",
         "name": "D",
         "text": "",
         "type": "scatter",
         "x": [
          -0.522890892695273,
          -0.5133950769305579,
          0.6806690722910964,
          1.031910376765052,
          0.5134242259294345,
          -1.1384405134344129,
          -1.967304273414849,
          2.7754662161448187,
          -0.12968506824520482,
          -0.5751330143483373,
          -1.7124510912923032,
          -0.7401896441257169,
          1.3640598393807122,
          -0.7392250669937778,
          -0.4596265565310788,
          0.8632338591254589,
          -0.9269877232227746,
          0.8005776928976868,
          -0.5303651277260929,
          -1.5478366663352567,
          -0.9021928385540456,
          0.07263937780983032,
          0.4964765917045821,
          -0.019362179759583174,
          0.3549150890000641,
          -0.254386036949427,
          1.287006580786897,
          0.7655221718834024,
          0.7588074233964105,
          2.119276748874291,
          -0.5972958247816397,
          -1.2021289261239687,
          -0.20378199373107492,
          0.8537557984722517,
          0.03905136978287543,
          -1.3572525759712204,
          0.7729758897701869,
          0.15709732946492647,
          -0.43953427255576755,
          0.02080414947036807,
          -0.0686204830480142,
          -1.7658436876434458,
          -0.07210159595201733,
          0.27634956368375163,
          1.0937799112009745,
          0.4294114559969322,
          -1.5755166280139263,
          -0.030870482297119722,
          -0.2023705876469707,
          0.5292765847905173,
          0.39943539003596257,
          -0.7724123878930874,
          0.6890986316171753,
          0.9122861623485468,
          0.1162402187877747,
          0.41573491106998256,
          -1.0554506054777522,
          0.3273723004744497,
          1.2826088924503345,
          0.002600066872883493,
          -1.344462684212799,
          -0.4646665558487505,
          0.6608569002638156,
          -1.172944904026479,
          -1.5333839108105396,
          0.5800873164304087,
          -0.0944402612694691,
          0.9177407000112922,
          -1.362401198969006,
          -0.26278842045129025,
          0.5670096180264699,
          -1.3766867887778862,
          1.0606927619478912,
          1.7738407682557193,
          -1.345147684233415,
          1.2258717217599049,
          -0.6434508497398888,
          -0.08574432115483341,
          -0.30728343458243823,
          -0.26446934774105685,
          -0.946849712608022,
          -1.153366821199802,
          -0.13739292710680448,
          0.3299629055380062,
          0.428734968248196,
          1.4750103690781826,
          0.9924535177609993,
          -0.5239161127928873,
          -0.7283124703069083,
          -0.10204894475527922,
          1.1466273781594924,
          0.0888460083240002,
          -0.0166821185648255,
          0.18261626841187298,
          -0.3679919585457832,
          1.2256960945250548,
          0.40221413256018895,
          0.515223149459377,
          1.3306440965310917,
          -0.618409258339924
         ],
         "xaxis": "x14",
         "y": [
          -1.0675771230985205,
          -0.6264316253365796,
          0.747126545149039,
          -1.5463867828324207,
          0.25938015269389925,
          -0.5389198104008657,
          -0.5728103842865038,
          0.04232544843890766,
          0.6051018423665102,
          1.5719879536382655,
          2.1824615406208365,
          -1.25222283856212,
          -0.3089715792020181,
          -0.9345231376762781,
          1.0309931125440828,
          -0.8427677439209136,
          1.1977651673873526,
          0.9643854392140603,
          0.2967407338548481,
          0.11503189012991172,
          0.8732057487653814,
          -0.19830601613374937,
          0.40756545557832274,
          -0.0022754125899660353,
          0.7211153825417478,
          -0.07342677113470895,
          0.9979282708349597,
          0.9597658767905103,
          0.6255359378491521,
          -0.45621573285751493,
          0.8150247581386546,
          -1.1072203072967557,
          -1.1000977049464933,
          1.6803282734071265,
          -0.9318001814065225,
          -1.9075202717308457,
          0.513400387638943,
          -0.9386923104093527,
          2.450064768931152,
          -1.432923362063971,
          0.6619256366627118,
          -0.31934761067773776,
          -1.8377084151369856,
          0.9344121070744521,
          0.21650089150415538,
          0.39973594945452634,
          0.9143285496448482,
          0.885617368351388,
          -1.0805304951112176,
          -1.5173287886073383,
          0.10401551897097906,
          0.451738909451791,
          0.8109448163385391,
          1.2734919720754343,
          -0.5587983288972399,
          1.9646001859380617,
          -0.037742341521644546,
          -0.38713967847411024,
          -0.7409576411389274,
          0.5736931426231485,
          -0.06893535611076942,
          -1.5818187828753911,
          0.4897288305796859,
          1.0132675005143266,
          1.100210446616976,
          -0.18704871424081185,
          0.8149179903873712,
          1.8509522380904984,
          -0.3048755128510082,
          0.15402916833245736,
          1.2033989062448742,
          -1.422386845150487,
          0.8659658670845835,
          1.383060561297713,
          -0.47414528871073014,
          -0.4444611891967911,
          -1.134515572377695,
          0.5210567607543705,
          0.711433108724833,
          -1.4595894453701157,
          1.866171666097092,
          0.30819746567042894,
          1.0831035343593591,
          -0.4917300092139015,
          0.8937049963266488,
          -0.779032604223167,
          1.3202255084238312,
          1.3058107289950605,
          1.1034214210645876,
          0.6616521623376257,
          -0.36773474713485177,
          -0.3698675153167032,
          -0.7317343089371522,
          -0.3916593838141954,
          -0.9691641760790766,
          -0.8651839848953563,
          0.8412831635767257,
          0.42139921244393047,
          -0.9338671399851458,
          0.3802094408496576
         ],
         "yaxis": "y14"
        },
        {
         "line": {
          "color": "rgba(128, 128, 128, 1.0)",
          "dash": "solid",
          "shape": "linear",
          "width": 1.3
         },
         "marker": {
          "size": 2,
          "symbol": "circle"
         },
         "mode": "markers",
         "name": "D",
         "text": "",
         "type": "scatter",
         "x": [
          0.5061735650054343,
          -0.45374351970619403,
          -1.3452417433111727,
          -0.7906907432933548,
          0.5168613662055268,
          -0.4741995457952149,
          -0.4694021472502292,
          -1.0065724184279325,
          0.08312318574305148,
          0.2962008274450619,
          -0.7652039217045815,
          0.7388926859827525,
          -0.9745728957736693,
          -2.4966091073318424,
          -0.7916851107025121,
          0.8795399529894699,
          -1.1612265935014694,
          1.5668786119989917,
          1.1040731833869804,
          1.0707093127560956,
          0.04029924094817754,
          -1.4025655681894444,
          1.1083759673468043,
          -0.26951084815162907,
          0.6821491317910371,
          -0.3290024007045008,
          1.801817498836998,
          0.09532447935235822,
          0.5756724929951034,
          1.2250363316590556,
          0.5404691198101195,
          1.405107902503578,
          -0.46317087243262545,
          -0.06896767035212416,
          -0.8379096836859891,
          0.8559684259161792,
          0.7777864657707051,
          0.9242137263015999,
          -0.2896985032173854,
          0.04891742223527568,
          -1.2404205571776148,
          -0.1051185708499763,
          -0.8830174503203669,
          0.22096219141352746,
          0.8821591483730389,
          -0.23674634676994427,
          2.5158583605059843,
          -1.6231979754694397,
          -0.20367723899620602,
          -0.7347607399291173,
          -0.168438399902665,
          -0.943047835388374,
          0.1277488505392079,
          -0.4597241063254028,
          0.7571446506449164,
          0.2679007718721096,
          0.07464719122470621,
          1.3878605790736451,
          0.46617492851758113,
          0.8686807258221567,
          1.2416824576348655,
          -1.5071105865323295,
          1.2553368074664373,
          -0.027321171048688378,
          -1.1622915769561002,
          0.17761266565039144,
          -1.8055440471148432,
          0.1440987967848737,
          0.14970580108926282,
          0.7842807872764457,
          0.3755126386941075,
          -0.453537726159817,
          -1.2272616199332682,
          -0.6026080665367011,
          -0.07245424810641667,
          0.38435297238922855,
          -0.7927447793959029,
          0.8219029649758968,
          0.25577990702355674,
          -0.39326546750649277,
          -0.06789084835124859,
          -1.340905483933111,
          -1.5117427959932335,
          0.16040901680405362,
          -0.5247056642455927,
          -1.6852089693321068,
          0.9003114764531234,
          1.3720171677133417,
          0.6747827785756805,
          0.27954802705531684,
          -0.47056378249546665,
          -2.3813183979413095,
          -0.9269712255431471,
          0.10436926248829959,
          0.05360017960672199,
          1.1334181219773138,
          0.4490940132605856,
          -2.3074539127722318,
          1.0924529184352614,
          1.3916896997462473
         ],
         "xaxis": "x15",
         "y": [
          -1.0675771230985205,
          -0.6264316253365796,
          0.747126545149039,
          -1.5463867828324207,
          0.25938015269389925,
          -0.5389198104008657,
          -0.5728103842865038,
          0.04232544843890766,
          0.6051018423665102,
          1.5719879536382655,
          2.1824615406208365,
          -1.25222283856212,
          -0.3089715792020181,
          -0.9345231376762781,
          1.0309931125440828,
          -0.8427677439209136,
          1.1977651673873526,
          0.9643854392140603,
          0.2967407338548481,
          0.11503189012991172,
          0.8732057487653814,
          -0.19830601613374937,
          0.40756545557832274,
          -0.0022754125899660353,
          0.7211153825417478,
          -0.07342677113470895,
          0.9979282708349597,
          0.9597658767905103,
          0.6255359378491521,
          -0.45621573285751493,
          0.8150247581386546,
          -1.1072203072967557,
          -1.1000977049464933,
          1.6803282734071265,
          -0.9318001814065225,
          -1.9075202717308457,
          0.513400387638943,
          -0.9386923104093527,
          2.450064768931152,
          -1.432923362063971,
          0.6619256366627118,
          -0.31934761067773776,
          -1.8377084151369856,
          0.9344121070744521,
          0.21650089150415538,
          0.39973594945452634,
          0.9143285496448482,
          0.885617368351388,
          -1.0805304951112176,
          -1.5173287886073383,
          0.10401551897097906,
          0.451738909451791,
          0.8109448163385391,
          1.2734919720754343,
          -0.5587983288972399,
          1.9646001859380617,
          -0.037742341521644546,
          -0.38713967847411024,
          -0.7409576411389274,
          0.5736931426231485,
          -0.06893535611076942,
          -1.5818187828753911,
          0.4897288305796859,
          1.0132675005143266,
          1.100210446616976,
          -0.18704871424081185,
          0.8149179903873712,
          1.8509522380904984,
          -0.3048755128510082,
          0.15402916833245736,
          1.2033989062448742,
          -1.422386845150487,
          0.8659658670845835,
          1.383060561297713,
          -0.47414528871073014,
          -0.4444611891967911,
          -1.134515572377695,
          0.5210567607543705,
          0.711433108724833,
          -1.4595894453701157,
          1.866171666097092,
          0.30819746567042894,
          1.0831035343593591,
          -0.4917300092139015,
          0.8937049963266488,
          -0.779032604223167,
          1.3202255084238312,
          1.3058107289950605,
          1.1034214210645876,
          0.6616521623376257,
          -0.36773474713485177,
          -0.3698675153167032,
          -0.7317343089371522,
          -0.3916593838141954,
          -0.9691641760790766,
          -0.8651839848953563,
          0.8412831635767257,
          0.42139921244393047,
          -0.9338671399851458,
          0.3802094408496576
         ],
         "yaxis": "y15"
        },
        {
         "histfunc": "count",
         "histnorm": "",
         "marker": {
          "color": "rgba(128, 0, 128, 1.0)",
          "line": {
           "color": "#4D5663",
           "width": 1.3
          }
         },
         "name": "D",
         "nbinsx": 10,
         "opacity": 0.8,
         "orientation": "v",
         "type": "histogram",
         "x": [
          -1.0675771230985205,
          -0.6264316253365796,
          0.747126545149039,
          -1.5463867828324207,
          0.25938015269389925,
          -0.5389198104008657,
          -0.5728103842865038,
          0.04232544843890766,
          0.6051018423665102,
          1.5719879536382655,
          2.1824615406208365,
          -1.25222283856212,
          -0.3089715792020181,
          -0.9345231376762781,
          1.0309931125440828,
          -0.8427677439209136,
          1.1977651673873526,
          0.9643854392140603,
          0.2967407338548481,
          0.11503189012991172,
          0.8732057487653814,
          -0.19830601613374937,
          0.40756545557832274,
          -0.0022754125899660353,
          0.7211153825417478,
          -0.07342677113470895,
          0.9979282708349597,
          0.9597658767905103,
          0.6255359378491521,
          -0.45621573285751493,
          0.8150247581386546,
          -1.1072203072967557,
          -1.1000977049464933,
          1.6803282734071265,
          -0.9318001814065225,
          -1.9075202717308457,
          0.513400387638943,
          -0.9386923104093527,
          2.450064768931152,
          -1.432923362063971,
          0.6619256366627118,
          -0.31934761067773776,
          -1.8377084151369856,
          0.9344121070744521,
          0.21650089150415538,
          0.39973594945452634,
          0.9143285496448482,
          0.885617368351388,
          -1.0805304951112176,
          -1.5173287886073383,
          0.10401551897097906,
          0.451738909451791,
          0.8109448163385391,
          1.2734919720754343,
          -0.5587983288972399,
          1.9646001859380617,
          -0.037742341521644546,
          -0.38713967847411024,
          -0.7409576411389274,
          0.5736931426231485,
          -0.06893535611076942,
          -1.5818187828753911,
          0.4897288305796859,
          1.0132675005143266,
          1.100210446616976,
          -0.18704871424081185,
          0.8149179903873712,
          1.8509522380904984,
          -0.3048755128510082,
          0.15402916833245736,
          1.2033989062448742,
          -1.422386845150487,
          0.8659658670845835,
          1.383060561297713,
          -0.47414528871073014,
          -0.4444611891967911,
          -1.134515572377695,
          0.5210567607543705,
          0.711433108724833,
          -1.4595894453701157,
          1.866171666097092,
          0.30819746567042894,
          1.0831035343593591,
          -0.4917300092139015,
          0.8937049963266488,
          -0.779032604223167,
          1.3202255084238312,
          1.3058107289950605,
          1.1034214210645876,
          0.6616521623376257,
          -0.36773474713485177,
          -0.3698675153167032,
          -0.7317343089371522,
          -0.3916593838141954,
          -0.9691641760790766,
          -0.8651839848953563,
          0.8412831635767257,
          0.42139921244393047,
          -0.9338671399851458,
          0.3802094408496576
         ],
         "xaxis": "x16",
         "yaxis": "y16"
        }
       ],
       "layout": {
        "bargap": 0.02,
        "legend": {
         "bgcolor": "#F5F6F9",
         "font": {
          "color": "#4D5663"
         }
        },
        "paper_bgcolor": "#F5F6F9",
        "plot_bgcolor": "#F5F6F9",
        "showlegend": false,
        "template": {
         "data": {
          "bar": [
           {
            "error_x": {
             "color": "#2a3f5f"
            },
            "error_y": {
             "color": "#2a3f5f"
            },
            "marker": {
             "line": {
              "color": "#E5ECF6",
              "width": 0.5
             },
             "pattern": {
              "fillmode": "overlay",
              "size": 10,
              "solidity": 0.2
             }
            },
            "type": "bar"
           }
          ],
          "barpolar": [
           {
            "marker": {
             "line": {
              "color": "#E5ECF6",
              "width": 0.5
             },
             "pattern": {
              "fillmode": "overlay",
              "size": 10,
              "solidity": 0.2
             }
            },
            "type": "barpolar"
           }
          ],
          "carpet": [
           {
            "aaxis": {
             "endlinecolor": "#2a3f5f",
             "gridcolor": "white",
             "linecolor": "white",
             "minorgridcolor": "white",
             "startlinecolor": "#2a3f5f"
            },
            "baxis": {
             "endlinecolor": "#2a3f5f",
             "gridcolor": "white",
             "linecolor": "white",
             "minorgridcolor": "white",
             "startlinecolor": "#2a3f5f"
            },
            "type": "carpet"
           }
          ],
          "choropleth": [
           {
            "colorbar": {
             "outlinewidth": 0,
             "ticks": ""
            },
            "type": "choropleth"
           }
          ],
          "contour": [
           {
            "colorbar": {
             "outlinewidth": 0,
             "ticks": ""
            },
            "colorscale": [
             [
              0,
              "#0d0887"
             ],
             [
              0.1111111111111111,
              "#46039f"
             ],
             [
              0.2222222222222222,
              "#7201a8"
             ],
             [
              0.3333333333333333,
              "#9c179e"
             ],
             [
              0.4444444444444444,
              "#bd3786"
             ],
             [
              0.5555555555555556,
              "#d8576b"
             ],
             [
              0.6666666666666666,
              "#ed7953"
             ],
             [
              0.7777777777777778,
              "#fb9f3a"
             ],
             [
              0.8888888888888888,
              "#fdca26"
             ],
             [
              1,
              "#f0f921"
             ]
            ],
            "type": "contour"
           }
          ],
          "contourcarpet": [
           {
            "colorbar": {
             "outlinewidth": 0,
             "ticks": ""
            },
            "type": "contourcarpet"
           }
          ],
          "heatmap": [
           {
            "colorbar": {
             "outlinewidth": 0,
             "ticks": ""
            },
            "colorscale": [
             [
              0,
              "#0d0887"
             ],
             [
              0.1111111111111111,
              "#46039f"
             ],
             [
              0.2222222222222222,
              "#7201a8"
             ],
             [
              0.3333333333333333,
              "#9c179e"
             ],
             [
              0.4444444444444444,
              "#bd3786"
             ],
             [
              0.5555555555555556,
              "#d8576b"
             ],
             [
              0.6666666666666666,
              "#ed7953"
             ],
             [
              0.7777777777777778,
              "#fb9f3a"
             ],
             [
              0.8888888888888888,
              "#fdca26"
             ],
             [
              1,
              "#f0f921"
             ]
            ],
            "type": "heatmap"
           }
          ],
          "heatmapgl": [
           {
            "colorbar": {
             "outlinewidth": 0,
             "ticks": ""
            },
            "colorscale": [
             [
              0,
              "#0d0887"
             ],
             [
              0.1111111111111111,
              "#46039f"
             ],
             [
              0.2222222222222222,
              "#7201a8"
             ],
             [
              0.3333333333333333,
              "#9c179e"
             ],
             [
              0.4444444444444444,
              "#bd3786"
             ],
             [
              0.5555555555555556,
              "#d8576b"
             ],
             [
              0.6666666666666666,
              "#ed7953"
             ],
             [
              0.7777777777777778,
              "#fb9f3a"
             ],
             [
              0.8888888888888888,
              "#fdca26"
             ],
             [
              1,
              "#f0f921"
             ]
            ],
            "type": "heatmapgl"
           }
          ],
          "histogram": [
           {
            "marker": {
             "pattern": {
              "fillmode": "overlay",
              "size": 10,
              "solidity": 0.2
             }
            },
            "type": "histogram"
           }
          ],
          "histogram2d": [
           {
            "colorbar": {
             "outlinewidth": 0,
             "ticks": ""
            },
            "colorscale": [
             [
              0,
              "#0d0887"
             ],
             [
              0.1111111111111111,
              "#46039f"
             ],
             [
              0.2222222222222222,
              "#7201a8"
             ],
             [
              0.3333333333333333,
              "#9c179e"
             ],
             [
              0.4444444444444444,
              "#bd3786"
             ],
             [
              0.5555555555555556,
              "#d8576b"
             ],
             [
              0.6666666666666666,
              "#ed7953"
             ],
             [
              0.7777777777777778,
              "#fb9f3a"
             ],
             [
              0.8888888888888888,
              "#fdca26"
             ],
             [
              1,
              "#f0f921"
             ]
            ],
            "type": "histogram2d"
           }
          ],
          "histogram2dcontour": [
           {
            "colorbar": {
             "outlinewidth": 0,
             "ticks": ""
            },
            "colorscale": [
             [
              0,
              "#0d0887"
             ],
             [
              0.1111111111111111,
              "#46039f"
             ],
             [
              0.2222222222222222,
              "#7201a8"
             ],
             [
              0.3333333333333333,
              "#9c179e"
             ],
             [
              0.4444444444444444,
              "#bd3786"
             ],
             [
              0.5555555555555556,
              "#d8576b"
             ],
             [
              0.6666666666666666,
              "#ed7953"
             ],
             [
              0.7777777777777778,
              "#fb9f3a"
             ],
             [
              0.8888888888888888,
              "#fdca26"
             ],
             [
              1,
              "#f0f921"
             ]
            ],
            "type": "histogram2dcontour"
           }
          ],
          "mesh3d": [
           {
            "colorbar": {
             "outlinewidth": 0,
             "ticks": ""
            },
            "type": "mesh3d"
           }
          ],
          "parcoords": [
           {
            "line": {
             "colorbar": {
              "outlinewidth": 0,
              "ticks": ""
             }
            },
            "type": "parcoords"
           }
          ],
          "pie": [
           {
            "automargin": true,
            "type": "pie"
           }
          ],
          "scatter": [
           {
            "marker": {
             "colorbar": {
              "outlinewidth": 0,
              "ticks": ""
             }
            },
            "type": "scatter"
           }
          ],
          "scatter3d": [
           {
            "line": {
             "colorbar": {
              "outlinewidth": 0,
              "ticks": ""
             }
            },
            "marker": {
             "colorbar": {
              "outlinewidth": 0,
              "ticks": ""
             }
            },
            "type": "scatter3d"
           }
          ],
          "scattercarpet": [
           {
            "marker": {
             "colorbar": {
              "outlinewidth": 0,
              "ticks": ""
             }
            },
            "type": "scattercarpet"
           }
          ],
          "scattergeo": [
           {
            "marker": {
             "colorbar": {
              "outlinewidth": 0,
              "ticks": ""
             }
            },
            "type": "scattergeo"
           }
          ],
          "scattergl": [
           {
            "marker": {
             "colorbar": {
              "outlinewidth": 0,
              "ticks": ""
             }
            },
            "type": "scattergl"
           }
          ],
          "scattermapbox": [
           {
            "marker": {
             "colorbar": {
              "outlinewidth": 0,
              "ticks": ""
             }
            },
            "type": "scattermapbox"
           }
          ],
          "scatterpolar": [
           {
            "marker": {
             "colorbar": {
              "outlinewidth": 0,
              "ticks": ""
             }
            },
            "type": "scatterpolar"
           }
          ],
          "scatterpolargl": [
           {
            "marker": {
             "colorbar": {
              "outlinewidth": 0,
              "ticks": ""
             }
            },
            "type": "scatterpolargl"
           }
          ],
          "scatterternary": [
           {
            "marker": {
             "colorbar": {
              "outlinewidth": 0,
              "ticks": ""
             }
            },
            "type": "scatterternary"
           }
          ],
          "surface": [
           {
            "colorbar": {
             "outlinewidth": 0,
             "ticks": ""
            },
            "colorscale": [
             [
              0,
              "#0d0887"
             ],
             [
              0.1111111111111111,
              "#46039f"
             ],
             [
              0.2222222222222222,
              "#7201a8"
             ],
             [
              0.3333333333333333,
              "#9c179e"
             ],
             [
              0.4444444444444444,
              "#bd3786"
             ],
             [
              0.5555555555555556,
              "#d8576b"
             ],
             [
              0.6666666666666666,
              "#ed7953"
             ],
             [
              0.7777777777777778,
              "#fb9f3a"
             ],
             [
              0.8888888888888888,
              "#fdca26"
             ],
             [
              1,
              "#f0f921"
             ]
            ],
            "type": "surface"
           }
          ],
          "table": [
           {
            "cells": {
             "fill": {
              "color": "#EBF0F8"
             },
             "line": {
              "color": "white"
             }
            },
            "header": {
             "fill": {
              "color": "#C8D4E3"
             },
             "line": {
              "color": "white"
             }
            },
            "type": "table"
           }
          ]
         },
         "layout": {
          "annotationdefaults": {
           "arrowcolor": "#2a3f5f",
           "arrowhead": 0,
           "arrowwidth": 1
          },
          "autotypenumbers": "strict",
          "coloraxis": {
           "colorbar": {
            "outlinewidth": 0,
            "ticks": ""
           }
          },
          "colorscale": {
           "diverging": [
            [
             0,
             "#8e0152"
            ],
            [
             0.1,
             "#c51b7d"
            ],
            [
             0.2,
             "#de77ae"
            ],
            [
             0.3,
             "#f1b6da"
            ],
            [
             0.4,
             "#fde0ef"
            ],
            [
             0.5,
             "#f7f7f7"
            ],
            [
             0.6,
             "#e6f5d0"
            ],
            [
             0.7,
             "#b8e186"
            ],
            [
             0.8,
             "#7fbc41"
            ],
            [
             0.9,
             "#4d9221"
            ],
            [
             1,
             "#276419"
            ]
           ],
           "sequential": [
            [
             0,
             "#0d0887"
            ],
            [
             0.1111111111111111,
             "#46039f"
            ],
            [
             0.2222222222222222,
             "#7201a8"
            ],
            [
             0.3333333333333333,
             "#9c179e"
            ],
            [
             0.4444444444444444,
             "#bd3786"
            ],
            [
             0.5555555555555556,
             "#d8576b"
            ],
            [
             0.6666666666666666,
             "#ed7953"
            ],
            [
             0.7777777777777778,
             "#fb9f3a"
            ],
            [
             0.8888888888888888,
             "#fdca26"
            ],
            [
             1,
             "#f0f921"
            ]
           ],
           "sequentialminus": [
            [
             0,
             "#0d0887"
            ],
            [
             0.1111111111111111,
             "#46039f"
            ],
            [
             0.2222222222222222,
             "#7201a8"
            ],
            [
             0.3333333333333333,
             "#9c179e"
            ],
            [
             0.4444444444444444,
             "#bd3786"
            ],
            [
             0.5555555555555556,
             "#d8576b"
            ],
            [
             0.6666666666666666,
             "#ed7953"
            ],
            [
             0.7777777777777778,
             "#fb9f3a"
            ],
            [
             0.8888888888888888,
             "#fdca26"
            ],
            [
             1,
             "#f0f921"
            ]
           ]
          },
          "colorway": [
           "#636efa",
           "#EF553B",
           "#00cc96",
           "#ab63fa",
           "#FFA15A",
           "#19d3f3",
           "#FF6692",
           "#B6E880",
           "#FF97FF",
           "#FECB52"
          ],
          "font": {
           "color": "#2a3f5f"
          },
          "geo": {
           "bgcolor": "white",
           "lakecolor": "white",
           "landcolor": "#E5ECF6",
           "showlakes": true,
           "showland": true,
           "subunitcolor": "white"
          },
          "hoverlabel": {
           "align": "left"
          },
          "hovermode": "closest",
          "mapbox": {
           "style": "light"
          },
          "paper_bgcolor": "white",
          "plot_bgcolor": "#E5ECF6",
          "polar": {
           "angularaxis": {
            "gridcolor": "white",
            "linecolor": "white",
            "ticks": ""
           },
           "bgcolor": "#E5ECF6",
           "radialaxis": {
            "gridcolor": "white",
            "linecolor": "white",
            "ticks": ""
           }
          },
          "scene": {
           "xaxis": {
            "backgroundcolor": "#E5ECF6",
            "gridcolor": "white",
            "gridwidth": 2,
            "linecolor": "white",
            "showbackground": true,
            "ticks": "",
            "zerolinecolor": "white"
           },
           "yaxis": {
            "backgroundcolor": "#E5ECF6",
            "gridcolor": "white",
            "gridwidth": 2,
            "linecolor": "white",
            "showbackground": true,
            "ticks": "",
            "zerolinecolor": "white"
           },
           "zaxis": {
            "backgroundcolor": "#E5ECF6",
            "gridcolor": "white",
            "gridwidth": 2,
            "linecolor": "white",
            "showbackground": true,
            "ticks": "",
            "zerolinecolor": "white"
           }
          },
          "shapedefaults": {
           "line": {
            "color": "#2a3f5f"
           }
          },
          "ternary": {
           "aaxis": {
            "gridcolor": "white",
            "linecolor": "white",
            "ticks": ""
           },
           "baxis": {
            "gridcolor": "white",
            "linecolor": "white",
            "ticks": ""
           },
           "bgcolor": "#E5ECF6",
           "caxis": {
            "gridcolor": "white",
            "linecolor": "white",
            "ticks": ""
           }
          },
          "title": {
           "x": 0.05
          },
          "xaxis": {
           "automargin": true,
           "gridcolor": "white",
           "linecolor": "white",
           "ticks": "",
           "title": {
            "standoff": 15
           },
           "zerolinecolor": "white",
           "zerolinewidth": 2
          },
          "yaxis": {
           "automargin": true,
           "gridcolor": "white",
           "linecolor": "white",
           "ticks": "",
           "title": {
            "standoff": 15
           },
           "zerolinecolor": "white",
           "zerolinewidth": 2
          }
         }
        },
        "title": {
         "font": {
          "color": "#4D5663"
         }
        },
        "xaxis": {
         "anchor": "y",
         "domain": [
          0,
          0.2125
         ],
         "gridcolor": "#E1E5ED",
         "showgrid": false,
         "tickfont": {
          "color": "#4D5663"
         },
         "title": {
          "font": {
           "color": "#4D5663"
          },
          "text": ""
         },
         "zerolinecolor": "#E1E5ED"
        },
        "xaxis10": {
         "anchor": "y10",
         "domain": [
          0.2625,
          0.475
         ],
         "gridcolor": "#E1E5ED",
         "showgrid": false,
         "tickfont": {
          "color": "#4D5663"
         },
         "title": {
          "font": {
           "color": "#4D5663"
          },
          "text": ""
         },
         "zerolinecolor": "#E1E5ED"
        },
        "xaxis11": {
         "anchor": "y11",
         "domain": [
          0.525,
          0.7375
         ],
         "gridcolor": "#E1E5ED",
         "showgrid": false,
         "tickfont": {
          "color": "#4D5663"
         },
         "title": {
          "font": {
           "color": "#4D5663"
          },
          "text": ""
         },
         "zerolinecolor": "#E1E5ED"
        },
        "xaxis12": {
         "anchor": "y12",
         "domain": [
          0.7875,
          1
         ],
         "gridcolor": "#E1E5ED",
         "showgrid": false,
         "tickfont": {
          "color": "#4D5663"
         },
         "title": {
          "font": {
           "color": "#4D5663"
          },
          "text": ""
         },
         "zerolinecolor": "#E1E5ED"
        },
        "xaxis13": {
         "anchor": "y13",
         "domain": [
          0,
          0.2125
         ],
         "gridcolor": "#E1E5ED",
         "showgrid": false,
         "tickfont": {
          "color": "#4D5663"
         },
         "title": {
          "font": {
           "color": "#4D5663"
          },
          "text": ""
         },
         "zerolinecolor": "#E1E5ED"
        },
        "xaxis14": {
         "anchor": "y14",
         "domain": [
          0.2625,
          0.475
         ],
         "gridcolor": "#E1E5ED",
         "showgrid": false,
         "tickfont": {
          "color": "#4D5663"
         },
         "title": {
          "font": {
           "color": "#4D5663"
          },
          "text": ""
         },
         "zerolinecolor": "#E1E5ED"
        },
        "xaxis15": {
         "anchor": "y15",
         "domain": [
          0.525,
          0.7375
         ],
         "gridcolor": "#E1E5ED",
         "showgrid": false,
         "tickfont": {
          "color": "#4D5663"
         },
         "title": {
          "font": {
           "color": "#4D5663"
          },
          "text": ""
         },
         "zerolinecolor": "#E1E5ED"
        },
        "xaxis16": {
         "anchor": "y16",
         "domain": [
          0.7875,
          1
         ],
         "gridcolor": "#E1E5ED",
         "showgrid": false,
         "tickfont": {
          "color": "#4D5663"
         },
         "title": {
          "font": {
           "color": "#4D5663"
          },
          "text": ""
         },
         "zerolinecolor": "#E1E5ED"
        },
        "xaxis2": {
         "anchor": "y2",
         "domain": [
          0.2625,
          0.475
         ],
         "gridcolor": "#E1E5ED",
         "showgrid": false,
         "tickfont": {
          "color": "#4D5663"
         },
         "title": {
          "font": {
           "color": "#4D5663"
          },
          "text": ""
         },
         "zerolinecolor": "#E1E5ED"
        },
        "xaxis3": {
         "anchor": "y3",
         "domain": [
          0.525,
          0.7375
         ],
         "gridcolor": "#E1E5ED",
         "showgrid": false,
         "tickfont": {
          "color": "#4D5663"
         },
         "title": {
          "font": {
           "color": "#4D5663"
          },
          "text": ""
         },
         "zerolinecolor": "#E1E5ED"
        },
        "xaxis4": {
         "anchor": "y4",
         "domain": [
          0.7875,
          1
         ],
         "gridcolor": "#E1E5ED",
         "showgrid": false,
         "tickfont": {
          "color": "#4D5663"
         },
         "title": {
          "font": {
           "color": "#4D5663"
          },
          "text": ""
         },
         "zerolinecolor": "#E1E5ED"
        },
        "xaxis5": {
         "anchor": "y5",
         "domain": [
          0,
          0.2125
         ],
         "gridcolor": "#E1E5ED",
         "showgrid": false,
         "tickfont": {
          "color": "#4D5663"
         },
         "title": {
          "font": {
           "color": "#4D5663"
          },
          "text": ""
         },
         "zerolinecolor": "#E1E5ED"
        },
        "xaxis6": {
         "anchor": "y6",
         "domain": [
          0.2625,
          0.475
         ],
         "gridcolor": "#E1E5ED",
         "showgrid": false,
         "tickfont": {
          "color": "#4D5663"
         },
         "title": {
          "font": {
           "color": "#4D5663"
          },
          "text": ""
         },
         "zerolinecolor": "#E1E5ED"
        },
        "xaxis7": {
         "anchor": "y7",
         "domain": [
          0.525,
          0.7375
         ],
         "gridcolor": "#E1E5ED",
         "showgrid": false,
         "tickfont": {
          "color": "#4D5663"
         },
         "title": {
          "font": {
           "color": "#4D5663"
          },
          "text": ""
         },
         "zerolinecolor": "#E1E5ED"
        },
        "xaxis8": {
         "anchor": "y8",
         "domain": [
          0.7875,
          1
         ],
         "gridcolor": "#E1E5ED",
         "showgrid": false,
         "tickfont": {
          "color": "#4D5663"
         },
         "title": {
          "font": {
           "color": "#4D5663"
          },
          "text": ""
         },
         "zerolinecolor": "#E1E5ED"
        },
        "xaxis9": {
         "anchor": "y9",
         "domain": [
          0,
          0.2125
         ],
         "gridcolor": "#E1E5ED",
         "showgrid": false,
         "tickfont": {
          "color": "#4D5663"
         },
         "title": {
          "font": {
           "color": "#4D5663"
          },
          "text": ""
         },
         "zerolinecolor": "#E1E5ED"
        },
        "yaxis": {
         "anchor": "x",
         "domain": [
          0.8025,
          1
         ],
         "gridcolor": "#E1E5ED",
         "showgrid": false,
         "tickfont": {
          "color": "#4D5663"
         },
         "title": {
          "font": {
           "color": "#4D5663"
          },
          "text": ""
         },
         "zerolinecolor": "#E1E5ED"
        },
        "yaxis10": {
         "anchor": "x10",
         "domain": [
          0.2675,
          0.465
         ],
         "gridcolor": "#E1E5ED",
         "showgrid": false,
         "tickfont": {
          "color": "#4D5663"
         },
         "title": {
          "font": {
           "color": "#4D5663"
          },
          "text": ""
         },
         "zerolinecolor": "#E1E5ED"
        },
        "yaxis11": {
         "anchor": "x11",
         "domain": [
          0.2675,
          0.465
         ],
         "gridcolor": "#E1E5ED",
         "showgrid": false,
         "tickfont": {
          "color": "#4D5663"
         },
         "title": {
          "font": {
           "color": "#4D5663"
          },
          "text": ""
         },
         "zerolinecolor": "#E1E5ED"
        },
        "yaxis12": {
         "anchor": "x12",
         "domain": [
          0.2675,
          0.465
         ],
         "gridcolor": "#E1E5ED",
         "showgrid": false,
         "tickfont": {
          "color": "#4D5663"
         },
         "title": {
          "font": {
           "color": "#4D5663"
          },
          "text": ""
         },
         "zerolinecolor": "#E1E5ED"
        },
        "yaxis13": {
         "anchor": "x13",
         "domain": [
          0,
          0.1975
         ],
         "gridcolor": "#E1E5ED",
         "showgrid": false,
         "tickfont": {
          "color": "#4D5663"
         },
         "title": {
          "font": {
           "color": "#4D5663"
          },
          "text": ""
         },
         "zerolinecolor": "#E1E5ED"
        },
        "yaxis14": {
         "anchor": "x14",
         "domain": [
          0,
          0.1975
         ],
         "gridcolor": "#E1E5ED",
         "showgrid": false,
         "tickfont": {
          "color": "#4D5663"
         },
         "title": {
          "font": {
           "color": "#4D5663"
          },
          "text": ""
         },
         "zerolinecolor": "#E1E5ED"
        },
        "yaxis15": {
         "anchor": "x15",
         "domain": [
          0,
          0.1975
         ],
         "gridcolor": "#E1E5ED",
         "showgrid": false,
         "tickfont": {
          "color": "#4D5663"
         },
         "title": {
          "font": {
           "color": "#4D5663"
          },
          "text": ""
         },
         "zerolinecolor": "#E1E5ED"
        },
        "yaxis16": {
         "anchor": "x16",
         "domain": [
          0,
          0.1975
         ],
         "gridcolor": "#E1E5ED",
         "showgrid": false,
         "tickfont": {
          "color": "#4D5663"
         },
         "title": {
          "font": {
           "color": "#4D5663"
          },
          "text": ""
         },
         "zerolinecolor": "#E1E5ED"
        },
        "yaxis2": {
         "anchor": "x2",
         "domain": [
          0.8025,
          1
         ],
         "gridcolor": "#E1E5ED",
         "showgrid": false,
         "tickfont": {
          "color": "#4D5663"
         },
         "title": {
          "font": {
           "color": "#4D5663"
          },
          "text": ""
         },
         "zerolinecolor": "#E1E5ED"
        },
        "yaxis3": {
         "anchor": "x3",
         "domain": [
          0.8025,
          1
         ],
         "gridcolor": "#E1E5ED",
         "showgrid": false,
         "tickfont": {
          "color": "#4D5663"
         },
         "title": {
          "font": {
           "color": "#4D5663"
          },
          "text": ""
         },
         "zerolinecolor": "#E1E5ED"
        },
        "yaxis4": {
         "anchor": "x4",
         "domain": [
          0.8025,
          1
         ],
         "gridcolor": "#E1E5ED",
         "showgrid": false,
         "tickfont": {
          "color": "#4D5663"
         },
         "title": {
          "font": {
           "color": "#4D5663"
          },
          "text": ""
         },
         "zerolinecolor": "#E1E5ED"
        },
        "yaxis5": {
         "anchor": "x5",
         "domain": [
          0.535,
          0.7325
         ],
         "gridcolor": "#E1E5ED",
         "showgrid": false,
         "tickfont": {
          "color": "#4D5663"
         },
         "title": {
          "font": {
           "color": "#4D5663"
          },
          "text": ""
         },
         "zerolinecolor": "#E1E5ED"
        },
        "yaxis6": {
         "anchor": "x6",
         "domain": [
          0.535,
          0.7325
         ],
         "gridcolor": "#E1E5ED",
         "showgrid": false,
         "tickfont": {
          "color": "#4D5663"
         },
         "title": {
          "font": {
           "color": "#4D5663"
          },
          "text": ""
         },
         "zerolinecolor": "#E1E5ED"
        },
        "yaxis7": {
         "anchor": "x7",
         "domain": [
          0.535,
          0.7325
         ],
         "gridcolor": "#E1E5ED",
         "showgrid": false,
         "tickfont": {
          "color": "#4D5663"
         },
         "title": {
          "font": {
           "color": "#4D5663"
          },
          "text": ""
         },
         "zerolinecolor": "#E1E5ED"
        },
        "yaxis8": {
         "anchor": "x8",
         "domain": [
          0.535,
          0.7325
         ],
         "gridcolor": "#E1E5ED",
         "showgrid": false,
         "tickfont": {
          "color": "#4D5663"
         },
         "title": {
          "font": {
           "color": "#4D5663"
          },
          "text": ""
         },
         "zerolinecolor": "#E1E5ED"
        },
        "yaxis9": {
         "anchor": "x9",
         "domain": [
          0.2675,
          0.465
         ],
         "gridcolor": "#E1E5ED",
         "showgrid": false,
         "tickfont": {
          "color": "#4D5663"
         },
         "title": {
          "font": {
           "color": "#4D5663"
          },
          "text": ""
         },
         "zerolinecolor": "#E1E5ED"
        }
       }
      },
      "text/html": [
       "<div>                            <div id=\"b2eb345b-fa14-463f-9774-8e89243c4031\" class=\"plotly-graph-div\" style=\"height:525px; width:100%;\"></div>            <script type=\"text/javascript\">                require([\"plotly\"], function(Plotly) {                    window.PLOTLYENV=window.PLOTLYENV || {};\n",
       "                    window.PLOTLYENV.BASE_URL='https://plot.ly';                                    if (document.getElementById(\"b2eb345b-fa14-463f-9774-8e89243c4031\")) {                    Plotly.newPlot(                        \"b2eb345b-fa14-463f-9774-8e89243c4031\",                        [{\"histfunc\":\"count\",\"histnorm\":\"\",\"marker\":{\"color\":\"rgba(255, 153, 51, 1.0)\",\"line\":{\"color\":\"#4D5663\",\"width\":1.3}},\"name\":\"A\",\"nbinsx\":10,\"opacity\":0.8,\"orientation\":\"v\",\"x\":[1.0837802026903676,-0.8307318652353206,0.9704645666752914,-0.13150801540525994,-1.431676307991406,0.5854248107675313,-0.5660964311261989,0.9884149998948273,-0.03866022001943958,0.3926136648987823,0.2366436323713876,1.5890962443122887,0.8157022340882426,0.3514861566194287,1.0277388736464257,0.2699518657534483,1.3965374784548972,-1.5384078610201786,-0.5850193141441375,0.04250994717911727,0.22334130053789886,-0.3843704559030353,-0.9135758999676846,1.1988523922550378,0.8756193834778848,-0.3245036125233253,-0.8643199642609466,-2.711830222084337,-1.6213541043042066,-1.1440160134243584,1.1956049013334702,-0.5163570085007548,0.3383295777705534,-0.32691112866765776,0.1380319492889386,-0.10120910311364711,1.2224935125494165,-0.7848201785562855,1.3251452237809054,-1.0422539931177521,-0.6220907671447959,0.7605865882300532,0.7097525174852362,0.9560880229550969,-0.10339811047162585,-0.14644500749449224,0.5368987942350666,-0.03267673468010394,-0.3285015605627665,-2.1637667787824704,-0.19750325171496624,-0.8705110153772423,0.3275838600290092,-1.4429386352380633,-0.5227190645611784,-0.6040484120224673,-0.5426828792455438,-0.24734238804509784,-0.1710048045514127,0.6357392606928337,0.22223721737535435,0.8539923672277793,1.6418874845855114,-1.6051526223909196,0.22309065021823282,-0.7595689515903035,-2.1996485445702563,1.5956732573254695,1.5477270913516719,0.567390246133774,0.4046686778858881,0.4683976376712205,-1.2977402564021023,-0.29053464566907533,-0.6681614022952193,0.5398107798206214,1.4892780015980334,0.8907307805670841,0.01356355123975639,0.779825227084279,1.480629213237171,-1.303499194553016,0.5640734614757685,0.888697983915617,-1.5602326741188632,0.3276654891441126,1.1056006487110808,0.11020457528062488,-1.3030233635699597,0.3924672139339836,0.5960789969061742,-1.1234727276191592,-1.7650675896330457,0.5986533532972574,1.0617932058870356,1.3479162812727086,-0.8368602512006359,-0.009797134647624255,0.5983037055534213,-0.8765850492559197],\"xaxis\":\"x\",\"yaxis\":\"y\",\"type\":\"histogram\"},{\"line\":{\"color\":\"rgba(128, 128, 128, 1.0)\",\"dash\":\"solid\",\"shape\":\"linear\",\"width\":1.3},\"marker\":{\"size\":2,\"symbol\":\"circle\"},\"mode\":\"markers\",\"name\":\"A\",\"text\":\"\",\"x\":[-0.522890892695273,-0.5133950769305579,0.6806690722910964,1.031910376765052,0.5134242259294345,-1.1384405134344129,-1.967304273414849,2.7754662161448187,-0.12968506824520482,-0.5751330143483373,-1.7124510912923032,-0.7401896441257169,1.3640598393807122,-0.7392250669937778,-0.4596265565310788,0.8632338591254589,-0.9269877232227746,0.8005776928976868,-0.5303651277260929,-1.5478366663352567,-0.9021928385540456,0.07263937780983032,0.4964765917045821,-0.019362179759583174,0.3549150890000641,-0.254386036949427,1.287006580786897,0.7655221718834024,0.7588074233964105,2.119276748874291,-0.5972958247816397,-1.2021289261239687,-0.20378199373107492,0.8537557984722517,0.03905136978287543,-1.3572525759712204,0.7729758897701869,0.15709732946492647,-0.43953427255576755,0.02080414947036807,-0.0686204830480142,-1.7658436876434458,-0.07210159595201733,0.27634956368375163,1.0937799112009745,0.4294114559969322,-1.5755166280139263,-0.030870482297119722,-0.2023705876469707,0.5292765847905173,0.39943539003596257,-0.7724123878930874,0.6890986316171753,0.9122861623485468,0.1162402187877747,0.41573491106998256,-1.0554506054777522,0.3273723004744497,1.2826088924503345,0.002600066872883493,-1.344462684212799,-0.4646665558487505,0.6608569002638156,-1.172944904026479,-1.5333839108105396,0.5800873164304087,-0.0944402612694691,0.9177407000112922,-1.362401198969006,-0.26278842045129025,0.5670096180264699,-1.3766867887778862,1.0606927619478912,1.7738407682557193,-1.345147684233415,1.2258717217599049,-0.6434508497398888,-0.08574432115483341,-0.30728343458243823,-0.26446934774105685,-0.946849712608022,-1.153366821199802,-0.13739292710680448,0.3299629055380062,0.428734968248196,1.4750103690781826,0.9924535177609993,-0.5239161127928873,-0.7283124703069083,-0.10204894475527922,1.1466273781594924,0.0888460083240002,-0.0166821185648255,0.18261626841187298,-0.3679919585457832,1.2256960945250548,0.40221413256018895,0.515223149459377,1.3306440965310917,-0.618409258339924],\"xaxis\":\"x2\",\"y\":[1.0837802026903676,-0.8307318652353206,0.9704645666752914,-0.13150801540525994,-1.431676307991406,0.5854248107675313,-0.5660964311261989,0.9884149998948273,-0.03866022001943958,0.3926136648987823,0.2366436323713876,1.5890962443122887,0.8157022340882426,0.3514861566194287,1.0277388736464257,0.2699518657534483,1.3965374784548972,-1.5384078610201786,-0.5850193141441375,0.04250994717911727,0.22334130053789886,-0.3843704559030353,-0.9135758999676846,1.1988523922550378,0.8756193834778848,-0.3245036125233253,-0.8643199642609466,-2.711830222084337,-1.6213541043042066,-1.1440160134243584,1.1956049013334702,-0.5163570085007548,0.3383295777705534,-0.32691112866765776,0.1380319492889386,-0.10120910311364711,1.2224935125494165,-0.7848201785562855,1.3251452237809054,-1.0422539931177521,-0.6220907671447959,0.7605865882300532,0.7097525174852362,0.9560880229550969,-0.10339811047162585,-0.14644500749449224,0.5368987942350666,-0.03267673468010394,-0.3285015605627665,-2.1637667787824704,-0.19750325171496624,-0.8705110153772423,0.3275838600290092,-1.4429386352380633,-0.5227190645611784,-0.6040484120224673,-0.5426828792455438,-0.24734238804509784,-0.1710048045514127,0.6357392606928337,0.22223721737535435,0.8539923672277793,1.6418874845855114,-1.6051526223909196,0.22309065021823282,-0.7595689515903035,-2.1996485445702563,1.5956732573254695,1.5477270913516719,0.567390246133774,0.4046686778858881,0.4683976376712205,-1.2977402564021023,-0.29053464566907533,-0.6681614022952193,0.5398107798206214,1.4892780015980334,0.8907307805670841,0.01356355123975639,0.779825227084279,1.480629213237171,-1.303499194553016,0.5640734614757685,0.888697983915617,-1.5602326741188632,0.3276654891441126,1.1056006487110808,0.11020457528062488,-1.3030233635699597,0.3924672139339836,0.5960789969061742,-1.1234727276191592,-1.7650675896330457,0.5986533532972574,1.0617932058870356,1.3479162812727086,-0.8368602512006359,-0.009797134647624255,0.5983037055534213,-0.8765850492559197],\"yaxis\":\"y2\",\"type\":\"scatter\"},{\"line\":{\"color\":\"rgba(128, 128, 128, 1.0)\",\"dash\":\"solid\",\"shape\":\"linear\",\"width\":1.3},\"marker\":{\"size\":2,\"symbol\":\"circle\"},\"mode\":\"markers\",\"name\":\"A\",\"text\":\"\",\"x\":[0.5061735650054343,-0.45374351970619403,-1.3452417433111727,-0.7906907432933548,0.5168613662055268,-0.4741995457952149,-0.4694021472502292,-1.0065724184279325,0.08312318574305148,0.2962008274450619,-0.7652039217045815,0.7388926859827525,-0.9745728957736693,-2.4966091073318424,-0.7916851107025121,0.8795399529894699,-1.1612265935014694,1.5668786119989917,1.1040731833869804,1.0707093127560956,0.04029924094817754,-1.4025655681894444,1.1083759673468043,-0.26951084815162907,0.6821491317910371,-0.3290024007045008,1.801817498836998,0.09532447935235822,0.5756724929951034,1.2250363316590556,0.5404691198101195,1.405107902503578,-0.46317087243262545,-0.06896767035212416,-0.8379096836859891,0.8559684259161792,0.7777864657707051,0.9242137263015999,-0.2896985032173854,0.04891742223527568,-1.2404205571776148,-0.1051185708499763,-0.8830174503203669,0.22096219141352746,0.8821591483730389,-0.23674634676994427,2.5158583605059843,-1.6231979754694397,-0.20367723899620602,-0.7347607399291173,-0.168438399902665,-0.943047835388374,0.1277488505392079,-0.4597241063254028,0.7571446506449164,0.2679007718721096,0.07464719122470621,1.3878605790736451,0.46617492851758113,0.8686807258221567,1.2416824576348655,-1.5071105865323295,1.2553368074664373,-0.027321171048688378,-1.1622915769561002,0.17761266565039144,-1.8055440471148432,0.1440987967848737,0.14970580108926282,0.7842807872764457,0.3755126386941075,-0.453537726159817,-1.2272616199332682,-0.6026080665367011,-0.07245424810641667,0.38435297238922855,-0.7927447793959029,0.8219029649758968,0.25577990702355674,-0.39326546750649277,-0.06789084835124859,-1.340905483933111,-1.5117427959932335,0.16040901680405362,-0.5247056642455927,-1.6852089693321068,0.9003114764531234,1.3720171677133417,0.6747827785756805,0.27954802705531684,-0.47056378249546665,-2.3813183979413095,-0.9269712255431471,0.10436926248829959,0.05360017960672199,1.1334181219773138,0.4490940132605856,-2.3074539127722318,1.0924529184352614,1.3916896997462473],\"xaxis\":\"x3\",\"y\":[1.0837802026903676,-0.8307318652353206,0.9704645666752914,-0.13150801540525994,-1.431676307991406,0.5854248107675313,-0.5660964311261989,0.9884149998948273,-0.03866022001943958,0.3926136648987823,0.2366436323713876,1.5890962443122887,0.8157022340882426,0.3514861566194287,1.0277388736464257,0.2699518657534483,1.3965374784548972,-1.5384078610201786,-0.5850193141441375,0.04250994717911727,0.22334130053789886,-0.3843704559030353,-0.9135758999676846,1.1988523922550378,0.8756193834778848,-0.3245036125233253,-0.8643199642609466,-2.711830222084337,-1.6213541043042066,-1.1440160134243584,1.1956049013334702,-0.5163570085007548,0.3383295777705534,-0.32691112866765776,0.1380319492889386,-0.10120910311364711,1.2224935125494165,-0.7848201785562855,1.3251452237809054,-1.0422539931177521,-0.6220907671447959,0.7605865882300532,0.7097525174852362,0.9560880229550969,-0.10339811047162585,-0.14644500749449224,0.5368987942350666,-0.03267673468010394,-0.3285015605627665,-2.1637667787824704,-0.19750325171496624,-0.8705110153772423,0.3275838600290092,-1.4429386352380633,-0.5227190645611784,-0.6040484120224673,-0.5426828792455438,-0.24734238804509784,-0.1710048045514127,0.6357392606928337,0.22223721737535435,0.8539923672277793,1.6418874845855114,-1.6051526223909196,0.22309065021823282,-0.7595689515903035,-2.1996485445702563,1.5956732573254695,1.5477270913516719,0.567390246133774,0.4046686778858881,0.4683976376712205,-1.2977402564021023,-0.29053464566907533,-0.6681614022952193,0.5398107798206214,1.4892780015980334,0.8907307805670841,0.01356355123975639,0.779825227084279,1.480629213237171,-1.303499194553016,0.5640734614757685,0.888697983915617,-1.5602326741188632,0.3276654891441126,1.1056006487110808,0.11020457528062488,-1.3030233635699597,0.3924672139339836,0.5960789969061742,-1.1234727276191592,-1.7650675896330457,0.5986533532972574,1.0617932058870356,1.3479162812727086,-0.8368602512006359,-0.009797134647624255,0.5983037055534213,-0.8765850492559197],\"yaxis\":\"y3\",\"type\":\"scatter\"},{\"line\":{\"color\":\"rgba(128, 128, 128, 1.0)\",\"dash\":\"solid\",\"shape\":\"linear\",\"width\":1.3},\"marker\":{\"size\":2,\"symbol\":\"circle\"},\"mode\":\"markers\",\"name\":\"A\",\"text\":\"\",\"x\":[-1.0675771230985205,-0.6264316253365796,0.747126545149039,-1.5463867828324207,0.25938015269389925,-0.5389198104008657,-0.5728103842865038,0.04232544843890766,0.6051018423665102,1.5719879536382655,2.1824615406208365,-1.25222283856212,-0.3089715792020181,-0.9345231376762781,1.0309931125440828,-0.8427677439209136,1.1977651673873526,0.9643854392140603,0.2967407338548481,0.11503189012991172,0.8732057487653814,-0.19830601613374937,0.40756545557832274,-0.0022754125899660353,0.7211153825417478,-0.07342677113470895,0.9979282708349597,0.9597658767905103,0.6255359378491521,-0.45621573285751493,0.8150247581386546,-1.1072203072967557,-1.1000977049464933,1.6803282734071265,-0.9318001814065225,-1.9075202717308457,0.513400387638943,-0.9386923104093527,2.450064768931152,-1.432923362063971,0.6619256366627118,-0.31934761067773776,-1.8377084151369856,0.9344121070744521,0.21650089150415538,0.39973594945452634,0.9143285496448482,0.885617368351388,-1.0805304951112176,-1.5173287886073383,0.10401551897097906,0.451738909451791,0.8109448163385391,1.2734919720754343,-0.5587983288972399,1.9646001859380617,-0.037742341521644546,-0.38713967847411024,-0.7409576411389274,0.5736931426231485,-0.06893535611076942,-1.5818187828753911,0.4897288305796859,1.0132675005143266,1.100210446616976,-0.18704871424081185,0.8149179903873712,1.8509522380904984,-0.3048755128510082,0.15402916833245736,1.2033989062448742,-1.422386845150487,0.8659658670845835,1.383060561297713,-0.47414528871073014,-0.4444611891967911,-1.134515572377695,0.5210567607543705,0.711433108724833,-1.4595894453701157,1.866171666097092,0.30819746567042894,1.0831035343593591,-0.4917300092139015,0.8937049963266488,-0.779032604223167,1.3202255084238312,1.3058107289950605,1.1034214210645876,0.6616521623376257,-0.36773474713485177,-0.3698675153167032,-0.7317343089371522,-0.3916593838141954,-0.9691641760790766,-0.8651839848953563,0.8412831635767257,0.42139921244393047,-0.9338671399851458,0.3802094408496576],\"xaxis\":\"x4\",\"y\":[1.0837802026903676,-0.8307318652353206,0.9704645666752914,-0.13150801540525994,-1.431676307991406,0.5854248107675313,-0.5660964311261989,0.9884149998948273,-0.03866022001943958,0.3926136648987823,0.2366436323713876,1.5890962443122887,0.8157022340882426,0.3514861566194287,1.0277388736464257,0.2699518657534483,1.3965374784548972,-1.5384078610201786,-0.5850193141441375,0.04250994717911727,0.22334130053789886,-0.3843704559030353,-0.9135758999676846,1.1988523922550378,0.8756193834778848,-0.3245036125233253,-0.8643199642609466,-2.711830222084337,-1.6213541043042066,-1.1440160134243584,1.1956049013334702,-0.5163570085007548,0.3383295777705534,-0.32691112866765776,0.1380319492889386,-0.10120910311364711,1.2224935125494165,-0.7848201785562855,1.3251452237809054,-1.0422539931177521,-0.6220907671447959,0.7605865882300532,0.7097525174852362,0.9560880229550969,-0.10339811047162585,-0.14644500749449224,0.5368987942350666,-0.03267673468010394,-0.3285015605627665,-2.1637667787824704,-0.19750325171496624,-0.8705110153772423,0.3275838600290092,-1.4429386352380633,-0.5227190645611784,-0.6040484120224673,-0.5426828792455438,-0.24734238804509784,-0.1710048045514127,0.6357392606928337,0.22223721737535435,0.8539923672277793,1.6418874845855114,-1.6051526223909196,0.22309065021823282,-0.7595689515903035,-2.1996485445702563,1.5956732573254695,1.5477270913516719,0.567390246133774,0.4046686778858881,0.4683976376712205,-1.2977402564021023,-0.29053464566907533,-0.6681614022952193,0.5398107798206214,1.4892780015980334,0.8907307805670841,0.01356355123975639,0.779825227084279,1.480629213237171,-1.303499194553016,0.5640734614757685,0.888697983915617,-1.5602326741188632,0.3276654891441126,1.1056006487110808,0.11020457528062488,-1.3030233635699597,0.3924672139339836,0.5960789969061742,-1.1234727276191592,-1.7650675896330457,0.5986533532972574,1.0617932058870356,1.3479162812727086,-0.8368602512006359,-0.009797134647624255,0.5983037055534213,-0.8765850492559197],\"yaxis\":\"y4\",\"type\":\"scatter\"},{\"line\":{\"color\":\"rgba(128, 128, 128, 1.0)\",\"dash\":\"solid\",\"shape\":\"linear\",\"width\":1.3},\"marker\":{\"size\":2,\"symbol\":\"circle\"},\"mode\":\"markers\",\"name\":\"B\",\"text\":\"\",\"x\":[1.0837802026903676,-0.8307318652353206,0.9704645666752914,-0.13150801540525994,-1.431676307991406,0.5854248107675313,-0.5660964311261989,0.9884149998948273,-0.03866022001943958,0.3926136648987823,0.2366436323713876,1.5890962443122887,0.8157022340882426,0.3514861566194287,1.0277388736464257,0.2699518657534483,1.3965374784548972,-1.5384078610201786,-0.5850193141441375,0.04250994717911727,0.22334130053789886,-0.3843704559030353,-0.9135758999676846,1.1988523922550378,0.8756193834778848,-0.3245036125233253,-0.8643199642609466,-2.711830222084337,-1.6213541043042066,-1.1440160134243584,1.1956049013334702,-0.5163570085007548,0.3383295777705534,-0.32691112866765776,0.1380319492889386,-0.10120910311364711,1.2224935125494165,-0.7848201785562855,1.3251452237809054,-1.0422539931177521,-0.6220907671447959,0.7605865882300532,0.7097525174852362,0.9560880229550969,-0.10339811047162585,-0.14644500749449224,0.5368987942350666,-0.03267673468010394,-0.3285015605627665,-2.1637667787824704,-0.19750325171496624,-0.8705110153772423,0.3275838600290092,-1.4429386352380633,-0.5227190645611784,-0.6040484120224673,-0.5426828792455438,-0.24734238804509784,-0.1710048045514127,0.6357392606928337,0.22223721737535435,0.8539923672277793,1.6418874845855114,-1.6051526223909196,0.22309065021823282,-0.7595689515903035,-2.1996485445702563,1.5956732573254695,1.5477270913516719,0.567390246133774,0.4046686778858881,0.4683976376712205,-1.2977402564021023,-0.29053464566907533,-0.6681614022952193,0.5398107798206214,1.4892780015980334,0.8907307805670841,0.01356355123975639,0.779825227084279,1.480629213237171,-1.303499194553016,0.5640734614757685,0.888697983915617,-1.5602326741188632,0.3276654891441126,1.1056006487110808,0.11020457528062488,-1.3030233635699597,0.3924672139339836,0.5960789969061742,-1.1234727276191592,-1.7650675896330457,0.5986533532972574,1.0617932058870356,1.3479162812727086,-0.8368602512006359,-0.009797134647624255,0.5983037055534213,-0.8765850492559197],\"xaxis\":\"x5\",\"y\":[-0.522890892695273,-0.5133950769305579,0.6806690722910964,1.031910376765052,0.5134242259294345,-1.1384405134344129,-1.967304273414849,2.7754662161448187,-0.12968506824520482,-0.5751330143483373,-1.7124510912923032,-0.7401896441257169,1.3640598393807122,-0.7392250669937778,-0.4596265565310788,0.8632338591254589,-0.9269877232227746,0.8005776928976868,-0.5303651277260929,-1.5478366663352567,-0.9021928385540456,0.07263937780983032,0.4964765917045821,-0.019362179759583174,0.3549150890000641,-0.254386036949427,1.287006580786897,0.7655221718834024,0.7588074233964105,2.119276748874291,-0.5972958247816397,-1.2021289261239687,-0.20378199373107492,0.8537557984722517,0.03905136978287543,-1.3572525759712204,0.7729758897701869,0.15709732946492647,-0.43953427255576755,0.02080414947036807,-0.0686204830480142,-1.7658436876434458,-0.07210159595201733,0.27634956368375163,1.0937799112009745,0.4294114559969322,-1.5755166280139263,-0.030870482297119722,-0.2023705876469707,0.5292765847905173,0.39943539003596257,-0.7724123878930874,0.6890986316171753,0.9122861623485468,0.1162402187877747,0.41573491106998256,-1.0554506054777522,0.3273723004744497,1.2826088924503345,0.002600066872883493,-1.344462684212799,-0.4646665558487505,0.6608569002638156,-1.172944904026479,-1.5333839108105396,0.5800873164304087,-0.0944402612694691,0.9177407000112922,-1.362401198969006,-0.26278842045129025,0.5670096180264699,-1.3766867887778862,1.0606927619478912,1.7738407682557193,-1.345147684233415,1.2258717217599049,-0.6434508497398888,-0.08574432115483341,-0.30728343458243823,-0.26446934774105685,-0.946849712608022,-1.153366821199802,-0.13739292710680448,0.3299629055380062,0.428734968248196,1.4750103690781826,0.9924535177609993,-0.5239161127928873,-0.7283124703069083,-0.10204894475527922,1.1466273781594924,0.0888460083240002,-0.0166821185648255,0.18261626841187298,-0.3679919585457832,1.2256960945250548,0.40221413256018895,0.515223149459377,1.3306440965310917,-0.618409258339924],\"yaxis\":\"y5\",\"type\":\"scatter\"},{\"histfunc\":\"count\",\"histnorm\":\"\",\"marker\":{\"color\":\"rgba(55, 128, 191, 1.0)\",\"line\":{\"color\":\"#4D5663\",\"width\":1.3}},\"name\":\"B\",\"nbinsx\":10,\"opacity\":0.8,\"orientation\":\"v\",\"x\":[-0.522890892695273,-0.5133950769305579,0.6806690722910964,1.031910376765052,0.5134242259294345,-1.1384405134344129,-1.967304273414849,2.7754662161448187,-0.12968506824520482,-0.5751330143483373,-1.7124510912923032,-0.7401896441257169,1.3640598393807122,-0.7392250669937778,-0.4596265565310788,0.8632338591254589,-0.9269877232227746,0.8005776928976868,-0.5303651277260929,-1.5478366663352567,-0.9021928385540456,0.07263937780983032,0.4964765917045821,-0.019362179759583174,0.3549150890000641,-0.254386036949427,1.287006580786897,0.7655221718834024,0.7588074233964105,2.119276748874291,-0.5972958247816397,-1.2021289261239687,-0.20378199373107492,0.8537557984722517,0.03905136978287543,-1.3572525759712204,0.7729758897701869,0.15709732946492647,-0.43953427255576755,0.02080414947036807,-0.0686204830480142,-1.7658436876434458,-0.07210159595201733,0.27634956368375163,1.0937799112009745,0.4294114559969322,-1.5755166280139263,-0.030870482297119722,-0.2023705876469707,0.5292765847905173,0.39943539003596257,-0.7724123878930874,0.6890986316171753,0.9122861623485468,0.1162402187877747,0.41573491106998256,-1.0554506054777522,0.3273723004744497,1.2826088924503345,0.002600066872883493,-1.344462684212799,-0.4646665558487505,0.6608569002638156,-1.172944904026479,-1.5333839108105396,0.5800873164304087,-0.0944402612694691,0.9177407000112922,-1.362401198969006,-0.26278842045129025,0.5670096180264699,-1.3766867887778862,1.0606927619478912,1.7738407682557193,-1.345147684233415,1.2258717217599049,-0.6434508497398888,-0.08574432115483341,-0.30728343458243823,-0.26446934774105685,-0.946849712608022,-1.153366821199802,-0.13739292710680448,0.3299629055380062,0.428734968248196,1.4750103690781826,0.9924535177609993,-0.5239161127928873,-0.7283124703069083,-0.10204894475527922,1.1466273781594924,0.0888460083240002,-0.0166821185648255,0.18261626841187298,-0.3679919585457832,1.2256960945250548,0.40221413256018895,0.515223149459377,1.3306440965310917,-0.618409258339924],\"xaxis\":\"x6\",\"yaxis\":\"y6\",\"type\":\"histogram\"},{\"line\":{\"color\":\"rgba(128, 128, 128, 1.0)\",\"dash\":\"solid\",\"shape\":\"linear\",\"width\":1.3},\"marker\":{\"size\":2,\"symbol\":\"circle\"},\"mode\":\"markers\",\"name\":\"B\",\"text\":\"\",\"x\":[0.5061735650054343,-0.45374351970619403,-1.3452417433111727,-0.7906907432933548,0.5168613662055268,-0.4741995457952149,-0.4694021472502292,-1.0065724184279325,0.08312318574305148,0.2962008274450619,-0.7652039217045815,0.7388926859827525,-0.9745728957736693,-2.4966091073318424,-0.7916851107025121,0.8795399529894699,-1.1612265935014694,1.5668786119989917,1.1040731833869804,1.0707093127560956,0.04029924094817754,-1.4025655681894444,1.1083759673468043,-0.26951084815162907,0.6821491317910371,-0.3290024007045008,1.801817498836998,0.09532447935235822,0.5756724929951034,1.2250363316590556,0.5404691198101195,1.405107902503578,-0.46317087243262545,-0.06896767035212416,-0.8379096836859891,0.8559684259161792,0.7777864657707051,0.9242137263015999,-0.2896985032173854,0.04891742223527568,-1.2404205571776148,-0.1051185708499763,-0.8830174503203669,0.22096219141352746,0.8821591483730389,-0.23674634676994427,2.5158583605059843,-1.6231979754694397,-0.20367723899620602,-0.7347607399291173,-0.168438399902665,-0.943047835388374,0.1277488505392079,-0.4597241063254028,0.7571446506449164,0.2679007718721096,0.07464719122470621,1.3878605790736451,0.46617492851758113,0.8686807258221567,1.2416824576348655,-1.5071105865323295,1.2553368074664373,-0.027321171048688378,-1.1622915769561002,0.17761266565039144,-1.8055440471148432,0.1440987967848737,0.14970580108926282,0.7842807872764457,0.3755126386941075,-0.453537726159817,-1.2272616199332682,-0.6026080665367011,-0.07245424810641667,0.38435297238922855,-0.7927447793959029,0.8219029649758968,0.25577990702355674,-0.39326546750649277,-0.06789084835124859,-1.340905483933111,-1.5117427959932335,0.16040901680405362,-0.5247056642455927,-1.6852089693321068,0.9003114764531234,1.3720171677133417,0.6747827785756805,0.27954802705531684,-0.47056378249546665,-2.3813183979413095,-0.9269712255431471,0.10436926248829959,0.05360017960672199,1.1334181219773138,0.4490940132605856,-2.3074539127722318,1.0924529184352614,1.3916896997462473],\"xaxis\":\"x7\",\"y\":[-0.522890892695273,-0.5133950769305579,0.6806690722910964,1.031910376765052,0.5134242259294345,-1.1384405134344129,-1.967304273414849,2.7754662161448187,-0.12968506824520482,-0.5751330143483373,-1.7124510912923032,-0.7401896441257169,1.3640598393807122,-0.7392250669937778,-0.4596265565310788,0.8632338591254589,-0.9269877232227746,0.8005776928976868,-0.5303651277260929,-1.5478366663352567,-0.9021928385540456,0.07263937780983032,0.4964765917045821,-0.019362179759583174,0.3549150890000641,-0.254386036949427,1.287006580786897,0.7655221718834024,0.7588074233964105,2.119276748874291,-0.5972958247816397,-1.2021289261239687,-0.20378199373107492,0.8537557984722517,0.03905136978287543,-1.3572525759712204,0.7729758897701869,0.15709732946492647,-0.43953427255576755,0.02080414947036807,-0.0686204830480142,-1.7658436876434458,-0.07210159595201733,0.27634956368375163,1.0937799112009745,0.4294114559969322,-1.5755166280139263,-0.030870482297119722,-0.2023705876469707,0.5292765847905173,0.39943539003596257,-0.7724123878930874,0.6890986316171753,0.9122861623485468,0.1162402187877747,0.41573491106998256,-1.0554506054777522,0.3273723004744497,1.2826088924503345,0.002600066872883493,-1.344462684212799,-0.4646665558487505,0.6608569002638156,-1.172944904026479,-1.5333839108105396,0.5800873164304087,-0.0944402612694691,0.9177407000112922,-1.362401198969006,-0.26278842045129025,0.5670096180264699,-1.3766867887778862,1.0606927619478912,1.7738407682557193,-1.345147684233415,1.2258717217599049,-0.6434508497398888,-0.08574432115483341,-0.30728343458243823,-0.26446934774105685,-0.946849712608022,-1.153366821199802,-0.13739292710680448,0.3299629055380062,0.428734968248196,1.4750103690781826,0.9924535177609993,-0.5239161127928873,-0.7283124703069083,-0.10204894475527922,1.1466273781594924,0.0888460083240002,-0.0166821185648255,0.18261626841187298,-0.3679919585457832,1.2256960945250548,0.40221413256018895,0.515223149459377,1.3306440965310917,-0.618409258339924],\"yaxis\":\"y7\",\"type\":\"scatter\"},{\"line\":{\"color\":\"rgba(128, 128, 128, 1.0)\",\"dash\":\"solid\",\"shape\":\"linear\",\"width\":1.3},\"marker\":{\"size\":2,\"symbol\":\"circle\"},\"mode\":\"markers\",\"name\":\"B\",\"text\":\"\",\"x\":[-1.0675771230985205,-0.6264316253365796,0.747126545149039,-1.5463867828324207,0.25938015269389925,-0.5389198104008657,-0.5728103842865038,0.04232544843890766,0.6051018423665102,1.5719879536382655,2.1824615406208365,-1.25222283856212,-0.3089715792020181,-0.9345231376762781,1.0309931125440828,-0.8427677439209136,1.1977651673873526,0.9643854392140603,0.2967407338548481,0.11503189012991172,0.8732057487653814,-0.19830601613374937,0.40756545557832274,-0.0022754125899660353,0.7211153825417478,-0.07342677113470895,0.9979282708349597,0.9597658767905103,0.6255359378491521,-0.45621573285751493,0.8150247581386546,-1.1072203072967557,-1.1000977049464933,1.6803282734071265,-0.9318001814065225,-1.9075202717308457,0.513400387638943,-0.9386923104093527,2.450064768931152,-1.432923362063971,0.6619256366627118,-0.31934761067773776,-1.8377084151369856,0.9344121070744521,0.21650089150415538,0.39973594945452634,0.9143285496448482,0.885617368351388,-1.0805304951112176,-1.5173287886073383,0.10401551897097906,0.451738909451791,0.8109448163385391,1.2734919720754343,-0.5587983288972399,1.9646001859380617,-0.037742341521644546,-0.38713967847411024,-0.7409576411389274,0.5736931426231485,-0.06893535611076942,-1.5818187828753911,0.4897288305796859,1.0132675005143266,1.100210446616976,-0.18704871424081185,0.8149179903873712,1.8509522380904984,-0.3048755128510082,0.15402916833245736,1.2033989062448742,-1.422386845150487,0.8659658670845835,1.383060561297713,-0.47414528871073014,-0.4444611891967911,-1.134515572377695,0.5210567607543705,0.711433108724833,-1.4595894453701157,1.866171666097092,0.30819746567042894,1.0831035343593591,-0.4917300092139015,0.8937049963266488,-0.779032604223167,1.3202255084238312,1.3058107289950605,1.1034214210645876,0.6616521623376257,-0.36773474713485177,-0.3698675153167032,-0.7317343089371522,-0.3916593838141954,-0.9691641760790766,-0.8651839848953563,0.8412831635767257,0.42139921244393047,-0.9338671399851458,0.3802094408496576],\"xaxis\":\"x8\",\"y\":[-0.522890892695273,-0.5133950769305579,0.6806690722910964,1.031910376765052,0.5134242259294345,-1.1384405134344129,-1.967304273414849,2.7754662161448187,-0.12968506824520482,-0.5751330143483373,-1.7124510912923032,-0.7401896441257169,1.3640598393807122,-0.7392250669937778,-0.4596265565310788,0.8632338591254589,-0.9269877232227746,0.8005776928976868,-0.5303651277260929,-1.5478366663352567,-0.9021928385540456,0.07263937780983032,0.4964765917045821,-0.019362179759583174,0.3549150890000641,-0.254386036949427,1.287006580786897,0.7655221718834024,0.7588074233964105,2.119276748874291,-0.5972958247816397,-1.2021289261239687,-0.20378199373107492,0.8537557984722517,0.03905136978287543,-1.3572525759712204,0.7729758897701869,0.15709732946492647,-0.43953427255576755,0.02080414947036807,-0.0686204830480142,-1.7658436876434458,-0.07210159595201733,0.27634956368375163,1.0937799112009745,0.4294114559969322,-1.5755166280139263,-0.030870482297119722,-0.2023705876469707,0.5292765847905173,0.39943539003596257,-0.7724123878930874,0.6890986316171753,0.9122861623485468,0.1162402187877747,0.41573491106998256,-1.0554506054777522,0.3273723004744497,1.2826088924503345,0.002600066872883493,-1.344462684212799,-0.4646665558487505,0.6608569002638156,-1.172944904026479,-1.5333839108105396,0.5800873164304087,-0.0944402612694691,0.9177407000112922,-1.362401198969006,-0.26278842045129025,0.5670096180264699,-1.3766867887778862,1.0606927619478912,1.7738407682557193,-1.345147684233415,1.2258717217599049,-0.6434508497398888,-0.08574432115483341,-0.30728343458243823,-0.26446934774105685,-0.946849712608022,-1.153366821199802,-0.13739292710680448,0.3299629055380062,0.428734968248196,1.4750103690781826,0.9924535177609993,-0.5239161127928873,-0.7283124703069083,-0.10204894475527922,1.1466273781594924,0.0888460083240002,-0.0166821185648255,0.18261626841187298,-0.3679919585457832,1.2256960945250548,0.40221413256018895,0.515223149459377,1.3306440965310917,-0.618409258339924],\"yaxis\":\"y8\",\"type\":\"scatter\"},{\"line\":{\"color\":\"rgba(128, 128, 128, 1.0)\",\"dash\":\"solid\",\"shape\":\"linear\",\"width\":1.3},\"marker\":{\"size\":2,\"symbol\":\"circle\"},\"mode\":\"markers\",\"name\":\"C\",\"text\":\"\",\"x\":[1.0837802026903676,-0.8307318652353206,0.9704645666752914,-0.13150801540525994,-1.431676307991406,0.5854248107675313,-0.5660964311261989,0.9884149998948273,-0.03866022001943958,0.3926136648987823,0.2366436323713876,1.5890962443122887,0.8157022340882426,0.3514861566194287,1.0277388736464257,0.2699518657534483,1.3965374784548972,-1.5384078610201786,-0.5850193141441375,0.04250994717911727,0.22334130053789886,-0.3843704559030353,-0.9135758999676846,1.1988523922550378,0.8756193834778848,-0.3245036125233253,-0.8643199642609466,-2.711830222084337,-1.6213541043042066,-1.1440160134243584,1.1956049013334702,-0.5163570085007548,0.3383295777705534,-0.32691112866765776,0.1380319492889386,-0.10120910311364711,1.2224935125494165,-0.7848201785562855,1.3251452237809054,-1.0422539931177521,-0.6220907671447959,0.7605865882300532,0.7097525174852362,0.9560880229550969,-0.10339811047162585,-0.14644500749449224,0.5368987942350666,-0.03267673468010394,-0.3285015605627665,-2.1637667787824704,-0.19750325171496624,-0.8705110153772423,0.3275838600290092,-1.4429386352380633,-0.5227190645611784,-0.6040484120224673,-0.5426828792455438,-0.24734238804509784,-0.1710048045514127,0.6357392606928337,0.22223721737535435,0.8539923672277793,1.6418874845855114,-1.6051526223909196,0.22309065021823282,-0.7595689515903035,-2.1996485445702563,1.5956732573254695,1.5477270913516719,0.567390246133774,0.4046686778858881,0.4683976376712205,-1.2977402564021023,-0.29053464566907533,-0.6681614022952193,0.5398107798206214,1.4892780015980334,0.8907307805670841,0.01356355123975639,0.779825227084279,1.480629213237171,-1.303499194553016,0.5640734614757685,0.888697983915617,-1.5602326741188632,0.3276654891441126,1.1056006487110808,0.11020457528062488,-1.3030233635699597,0.3924672139339836,0.5960789969061742,-1.1234727276191592,-1.7650675896330457,0.5986533532972574,1.0617932058870356,1.3479162812727086,-0.8368602512006359,-0.009797134647624255,0.5983037055534213,-0.8765850492559197],\"xaxis\":\"x9\",\"y\":[0.5061735650054343,-0.45374351970619403,-1.3452417433111727,-0.7906907432933548,0.5168613662055268,-0.4741995457952149,-0.4694021472502292,-1.0065724184279325,0.08312318574305148,0.2962008274450619,-0.7652039217045815,0.7388926859827525,-0.9745728957736693,-2.4966091073318424,-0.7916851107025121,0.8795399529894699,-1.1612265935014694,1.5668786119989917,1.1040731833869804,1.0707093127560956,0.04029924094817754,-1.4025655681894444,1.1083759673468043,-0.26951084815162907,0.6821491317910371,-0.3290024007045008,1.801817498836998,0.09532447935235822,0.5756724929951034,1.2250363316590556,0.5404691198101195,1.405107902503578,-0.46317087243262545,-0.06896767035212416,-0.8379096836859891,0.8559684259161792,0.7777864657707051,0.9242137263015999,-0.2896985032173854,0.04891742223527568,-1.2404205571776148,-0.1051185708499763,-0.8830174503203669,0.22096219141352746,0.8821591483730389,-0.23674634676994427,2.5158583605059843,-1.6231979754694397,-0.20367723899620602,-0.7347607399291173,-0.168438399902665,-0.943047835388374,0.1277488505392079,-0.4597241063254028,0.7571446506449164,0.2679007718721096,0.07464719122470621,1.3878605790736451,0.46617492851758113,0.8686807258221567,1.2416824576348655,-1.5071105865323295,1.2553368074664373,-0.027321171048688378,-1.1622915769561002,0.17761266565039144,-1.8055440471148432,0.1440987967848737,0.14970580108926282,0.7842807872764457,0.3755126386941075,-0.453537726159817,-1.2272616199332682,-0.6026080665367011,-0.07245424810641667,0.38435297238922855,-0.7927447793959029,0.8219029649758968,0.25577990702355674,-0.39326546750649277,-0.06789084835124859,-1.340905483933111,-1.5117427959932335,0.16040901680405362,-0.5247056642455927,-1.6852089693321068,0.9003114764531234,1.3720171677133417,0.6747827785756805,0.27954802705531684,-0.47056378249546665,-2.3813183979413095,-0.9269712255431471,0.10436926248829959,0.05360017960672199,1.1334181219773138,0.4490940132605856,-2.3074539127722318,1.0924529184352614,1.3916896997462473],\"yaxis\":\"y9\",\"type\":\"scatter\"},{\"line\":{\"color\":\"rgba(128, 128, 128, 1.0)\",\"dash\":\"solid\",\"shape\":\"linear\",\"width\":1.3},\"marker\":{\"size\":2,\"symbol\":\"circle\"},\"mode\":\"markers\",\"name\":\"C\",\"text\":\"\",\"x\":[-0.522890892695273,-0.5133950769305579,0.6806690722910964,1.031910376765052,0.5134242259294345,-1.1384405134344129,-1.967304273414849,2.7754662161448187,-0.12968506824520482,-0.5751330143483373,-1.7124510912923032,-0.7401896441257169,1.3640598393807122,-0.7392250669937778,-0.4596265565310788,0.8632338591254589,-0.9269877232227746,0.8005776928976868,-0.5303651277260929,-1.5478366663352567,-0.9021928385540456,0.07263937780983032,0.4964765917045821,-0.019362179759583174,0.3549150890000641,-0.254386036949427,1.287006580786897,0.7655221718834024,0.7588074233964105,2.119276748874291,-0.5972958247816397,-1.2021289261239687,-0.20378199373107492,0.8537557984722517,0.03905136978287543,-1.3572525759712204,0.7729758897701869,0.15709732946492647,-0.43953427255576755,0.02080414947036807,-0.0686204830480142,-1.7658436876434458,-0.07210159595201733,0.27634956368375163,1.0937799112009745,0.4294114559969322,-1.5755166280139263,-0.030870482297119722,-0.2023705876469707,0.5292765847905173,0.39943539003596257,-0.7724123878930874,0.6890986316171753,0.9122861623485468,0.1162402187877747,0.41573491106998256,-1.0554506054777522,0.3273723004744497,1.2826088924503345,0.002600066872883493,-1.344462684212799,-0.4646665558487505,0.6608569002638156,-1.172944904026479,-1.5333839108105396,0.5800873164304087,-0.0944402612694691,0.9177407000112922,-1.362401198969006,-0.26278842045129025,0.5670096180264699,-1.3766867887778862,1.0606927619478912,1.7738407682557193,-1.345147684233415,1.2258717217599049,-0.6434508497398888,-0.08574432115483341,-0.30728343458243823,-0.26446934774105685,-0.946849712608022,-1.153366821199802,-0.13739292710680448,0.3299629055380062,0.428734968248196,1.4750103690781826,0.9924535177609993,-0.5239161127928873,-0.7283124703069083,-0.10204894475527922,1.1466273781594924,0.0888460083240002,-0.0166821185648255,0.18261626841187298,-0.3679919585457832,1.2256960945250548,0.40221413256018895,0.515223149459377,1.3306440965310917,-0.618409258339924],\"xaxis\":\"x10\",\"y\":[0.5061735650054343,-0.45374351970619403,-1.3452417433111727,-0.7906907432933548,0.5168613662055268,-0.4741995457952149,-0.4694021472502292,-1.0065724184279325,0.08312318574305148,0.2962008274450619,-0.7652039217045815,0.7388926859827525,-0.9745728957736693,-2.4966091073318424,-0.7916851107025121,0.8795399529894699,-1.1612265935014694,1.5668786119989917,1.1040731833869804,1.0707093127560956,0.04029924094817754,-1.4025655681894444,1.1083759673468043,-0.26951084815162907,0.6821491317910371,-0.3290024007045008,1.801817498836998,0.09532447935235822,0.5756724929951034,1.2250363316590556,0.5404691198101195,1.405107902503578,-0.46317087243262545,-0.06896767035212416,-0.8379096836859891,0.8559684259161792,0.7777864657707051,0.9242137263015999,-0.2896985032173854,0.04891742223527568,-1.2404205571776148,-0.1051185708499763,-0.8830174503203669,0.22096219141352746,0.8821591483730389,-0.23674634676994427,2.5158583605059843,-1.6231979754694397,-0.20367723899620602,-0.7347607399291173,-0.168438399902665,-0.943047835388374,0.1277488505392079,-0.4597241063254028,0.7571446506449164,0.2679007718721096,0.07464719122470621,1.3878605790736451,0.46617492851758113,0.8686807258221567,1.2416824576348655,-1.5071105865323295,1.2553368074664373,-0.027321171048688378,-1.1622915769561002,0.17761266565039144,-1.8055440471148432,0.1440987967848737,0.14970580108926282,0.7842807872764457,0.3755126386941075,-0.453537726159817,-1.2272616199332682,-0.6026080665367011,-0.07245424810641667,0.38435297238922855,-0.7927447793959029,0.8219029649758968,0.25577990702355674,-0.39326546750649277,-0.06789084835124859,-1.340905483933111,-1.5117427959932335,0.16040901680405362,-0.5247056642455927,-1.6852089693321068,0.9003114764531234,1.3720171677133417,0.6747827785756805,0.27954802705531684,-0.47056378249546665,-2.3813183979413095,-0.9269712255431471,0.10436926248829959,0.05360017960672199,1.1334181219773138,0.4490940132605856,-2.3074539127722318,1.0924529184352614,1.3916896997462473],\"yaxis\":\"y10\",\"type\":\"scatter\"},{\"histfunc\":\"count\",\"histnorm\":\"\",\"marker\":{\"color\":\"rgba(50, 171, 96, 1.0)\",\"line\":{\"color\":\"#4D5663\",\"width\":1.3}},\"name\":\"C\",\"nbinsx\":10,\"opacity\":0.8,\"orientation\":\"v\",\"x\":[0.5061735650054343,-0.45374351970619403,-1.3452417433111727,-0.7906907432933548,0.5168613662055268,-0.4741995457952149,-0.4694021472502292,-1.0065724184279325,0.08312318574305148,0.2962008274450619,-0.7652039217045815,0.7388926859827525,-0.9745728957736693,-2.4966091073318424,-0.7916851107025121,0.8795399529894699,-1.1612265935014694,1.5668786119989917,1.1040731833869804,1.0707093127560956,0.04029924094817754,-1.4025655681894444,1.1083759673468043,-0.26951084815162907,0.6821491317910371,-0.3290024007045008,1.801817498836998,0.09532447935235822,0.5756724929951034,1.2250363316590556,0.5404691198101195,1.405107902503578,-0.46317087243262545,-0.06896767035212416,-0.8379096836859891,0.8559684259161792,0.7777864657707051,0.9242137263015999,-0.2896985032173854,0.04891742223527568,-1.2404205571776148,-0.1051185708499763,-0.8830174503203669,0.22096219141352746,0.8821591483730389,-0.23674634676994427,2.5158583605059843,-1.6231979754694397,-0.20367723899620602,-0.7347607399291173,-0.168438399902665,-0.943047835388374,0.1277488505392079,-0.4597241063254028,0.7571446506449164,0.2679007718721096,0.07464719122470621,1.3878605790736451,0.46617492851758113,0.8686807258221567,1.2416824576348655,-1.5071105865323295,1.2553368074664373,-0.027321171048688378,-1.1622915769561002,0.17761266565039144,-1.8055440471148432,0.1440987967848737,0.14970580108926282,0.7842807872764457,0.3755126386941075,-0.453537726159817,-1.2272616199332682,-0.6026080665367011,-0.07245424810641667,0.38435297238922855,-0.7927447793959029,0.8219029649758968,0.25577990702355674,-0.39326546750649277,-0.06789084835124859,-1.340905483933111,-1.5117427959932335,0.16040901680405362,-0.5247056642455927,-1.6852089693321068,0.9003114764531234,1.3720171677133417,0.6747827785756805,0.27954802705531684,-0.47056378249546665,-2.3813183979413095,-0.9269712255431471,0.10436926248829959,0.05360017960672199,1.1334181219773138,0.4490940132605856,-2.3074539127722318,1.0924529184352614,1.3916896997462473],\"xaxis\":\"x11\",\"yaxis\":\"y11\",\"type\":\"histogram\"},{\"line\":{\"color\":\"rgba(128, 128, 128, 1.0)\",\"dash\":\"solid\",\"shape\":\"linear\",\"width\":1.3},\"marker\":{\"size\":2,\"symbol\":\"circle\"},\"mode\":\"markers\",\"name\":\"C\",\"text\":\"\",\"x\":[-1.0675771230985205,-0.6264316253365796,0.747126545149039,-1.5463867828324207,0.25938015269389925,-0.5389198104008657,-0.5728103842865038,0.04232544843890766,0.6051018423665102,1.5719879536382655,2.1824615406208365,-1.25222283856212,-0.3089715792020181,-0.9345231376762781,1.0309931125440828,-0.8427677439209136,1.1977651673873526,0.9643854392140603,0.2967407338548481,0.11503189012991172,0.8732057487653814,-0.19830601613374937,0.40756545557832274,-0.0022754125899660353,0.7211153825417478,-0.07342677113470895,0.9979282708349597,0.9597658767905103,0.6255359378491521,-0.45621573285751493,0.8150247581386546,-1.1072203072967557,-1.1000977049464933,1.6803282734071265,-0.9318001814065225,-1.9075202717308457,0.513400387638943,-0.9386923104093527,2.450064768931152,-1.432923362063971,0.6619256366627118,-0.31934761067773776,-1.8377084151369856,0.9344121070744521,0.21650089150415538,0.39973594945452634,0.9143285496448482,0.885617368351388,-1.0805304951112176,-1.5173287886073383,0.10401551897097906,0.451738909451791,0.8109448163385391,1.2734919720754343,-0.5587983288972399,1.9646001859380617,-0.037742341521644546,-0.38713967847411024,-0.7409576411389274,0.5736931426231485,-0.06893535611076942,-1.5818187828753911,0.4897288305796859,1.0132675005143266,1.100210446616976,-0.18704871424081185,0.8149179903873712,1.8509522380904984,-0.3048755128510082,0.15402916833245736,1.2033989062448742,-1.422386845150487,0.8659658670845835,1.383060561297713,-0.47414528871073014,-0.4444611891967911,-1.134515572377695,0.5210567607543705,0.711433108724833,-1.4595894453701157,1.866171666097092,0.30819746567042894,1.0831035343593591,-0.4917300092139015,0.8937049963266488,-0.779032604223167,1.3202255084238312,1.3058107289950605,1.1034214210645876,0.6616521623376257,-0.36773474713485177,-0.3698675153167032,-0.7317343089371522,-0.3916593838141954,-0.9691641760790766,-0.8651839848953563,0.8412831635767257,0.42139921244393047,-0.9338671399851458,0.3802094408496576],\"xaxis\":\"x12\",\"y\":[0.5061735650054343,-0.45374351970619403,-1.3452417433111727,-0.7906907432933548,0.5168613662055268,-0.4741995457952149,-0.4694021472502292,-1.0065724184279325,0.08312318574305148,0.2962008274450619,-0.7652039217045815,0.7388926859827525,-0.9745728957736693,-2.4966091073318424,-0.7916851107025121,0.8795399529894699,-1.1612265935014694,1.5668786119989917,1.1040731833869804,1.0707093127560956,0.04029924094817754,-1.4025655681894444,1.1083759673468043,-0.26951084815162907,0.6821491317910371,-0.3290024007045008,1.801817498836998,0.09532447935235822,0.5756724929951034,1.2250363316590556,0.5404691198101195,1.405107902503578,-0.46317087243262545,-0.06896767035212416,-0.8379096836859891,0.8559684259161792,0.7777864657707051,0.9242137263015999,-0.2896985032173854,0.04891742223527568,-1.2404205571776148,-0.1051185708499763,-0.8830174503203669,0.22096219141352746,0.8821591483730389,-0.23674634676994427,2.5158583605059843,-1.6231979754694397,-0.20367723899620602,-0.7347607399291173,-0.168438399902665,-0.943047835388374,0.1277488505392079,-0.4597241063254028,0.7571446506449164,0.2679007718721096,0.07464719122470621,1.3878605790736451,0.46617492851758113,0.8686807258221567,1.2416824576348655,-1.5071105865323295,1.2553368074664373,-0.027321171048688378,-1.1622915769561002,0.17761266565039144,-1.8055440471148432,0.1440987967848737,0.14970580108926282,0.7842807872764457,0.3755126386941075,-0.453537726159817,-1.2272616199332682,-0.6026080665367011,-0.07245424810641667,0.38435297238922855,-0.7927447793959029,0.8219029649758968,0.25577990702355674,-0.39326546750649277,-0.06789084835124859,-1.340905483933111,-1.5117427959932335,0.16040901680405362,-0.5247056642455927,-1.6852089693321068,0.9003114764531234,1.3720171677133417,0.6747827785756805,0.27954802705531684,-0.47056378249546665,-2.3813183979413095,-0.9269712255431471,0.10436926248829959,0.05360017960672199,1.1334181219773138,0.4490940132605856,-2.3074539127722318,1.0924529184352614,1.3916896997462473],\"yaxis\":\"y12\",\"type\":\"scatter\"},{\"line\":{\"color\":\"rgba(128, 128, 128, 1.0)\",\"dash\":\"solid\",\"shape\":\"linear\",\"width\":1.3},\"marker\":{\"size\":2,\"symbol\":\"circle\"},\"mode\":\"markers\",\"name\":\"D\",\"text\":\"\",\"x\":[1.0837802026903676,-0.8307318652353206,0.9704645666752914,-0.13150801540525994,-1.431676307991406,0.5854248107675313,-0.5660964311261989,0.9884149998948273,-0.03866022001943958,0.3926136648987823,0.2366436323713876,1.5890962443122887,0.8157022340882426,0.3514861566194287,1.0277388736464257,0.2699518657534483,1.3965374784548972,-1.5384078610201786,-0.5850193141441375,0.04250994717911727,0.22334130053789886,-0.3843704559030353,-0.9135758999676846,1.1988523922550378,0.8756193834778848,-0.3245036125233253,-0.8643199642609466,-2.711830222084337,-1.6213541043042066,-1.1440160134243584,1.1956049013334702,-0.5163570085007548,0.3383295777705534,-0.32691112866765776,0.1380319492889386,-0.10120910311364711,1.2224935125494165,-0.7848201785562855,1.3251452237809054,-1.0422539931177521,-0.6220907671447959,0.7605865882300532,0.7097525174852362,0.9560880229550969,-0.10339811047162585,-0.14644500749449224,0.5368987942350666,-0.03267673468010394,-0.3285015605627665,-2.1637667787824704,-0.19750325171496624,-0.8705110153772423,0.3275838600290092,-1.4429386352380633,-0.5227190645611784,-0.6040484120224673,-0.5426828792455438,-0.24734238804509784,-0.1710048045514127,0.6357392606928337,0.22223721737535435,0.8539923672277793,1.6418874845855114,-1.6051526223909196,0.22309065021823282,-0.7595689515903035,-2.1996485445702563,1.5956732573254695,1.5477270913516719,0.567390246133774,0.4046686778858881,0.4683976376712205,-1.2977402564021023,-0.29053464566907533,-0.6681614022952193,0.5398107798206214,1.4892780015980334,0.8907307805670841,0.01356355123975639,0.779825227084279,1.480629213237171,-1.303499194553016,0.5640734614757685,0.888697983915617,-1.5602326741188632,0.3276654891441126,1.1056006487110808,0.11020457528062488,-1.3030233635699597,0.3924672139339836,0.5960789969061742,-1.1234727276191592,-1.7650675896330457,0.5986533532972574,1.0617932058870356,1.3479162812727086,-0.8368602512006359,-0.009797134647624255,0.5983037055534213,-0.8765850492559197],\"xaxis\":\"x13\",\"y\":[-1.0675771230985205,-0.6264316253365796,0.747126545149039,-1.5463867828324207,0.25938015269389925,-0.5389198104008657,-0.5728103842865038,0.04232544843890766,0.6051018423665102,1.5719879536382655,2.1824615406208365,-1.25222283856212,-0.3089715792020181,-0.9345231376762781,1.0309931125440828,-0.8427677439209136,1.1977651673873526,0.9643854392140603,0.2967407338548481,0.11503189012991172,0.8732057487653814,-0.19830601613374937,0.40756545557832274,-0.0022754125899660353,0.7211153825417478,-0.07342677113470895,0.9979282708349597,0.9597658767905103,0.6255359378491521,-0.45621573285751493,0.8150247581386546,-1.1072203072967557,-1.1000977049464933,1.6803282734071265,-0.9318001814065225,-1.9075202717308457,0.513400387638943,-0.9386923104093527,2.450064768931152,-1.432923362063971,0.6619256366627118,-0.31934761067773776,-1.8377084151369856,0.9344121070744521,0.21650089150415538,0.39973594945452634,0.9143285496448482,0.885617368351388,-1.0805304951112176,-1.5173287886073383,0.10401551897097906,0.451738909451791,0.8109448163385391,1.2734919720754343,-0.5587983288972399,1.9646001859380617,-0.037742341521644546,-0.38713967847411024,-0.7409576411389274,0.5736931426231485,-0.06893535611076942,-1.5818187828753911,0.4897288305796859,1.0132675005143266,1.100210446616976,-0.18704871424081185,0.8149179903873712,1.8509522380904984,-0.3048755128510082,0.15402916833245736,1.2033989062448742,-1.422386845150487,0.8659658670845835,1.383060561297713,-0.47414528871073014,-0.4444611891967911,-1.134515572377695,0.5210567607543705,0.711433108724833,-1.4595894453701157,1.866171666097092,0.30819746567042894,1.0831035343593591,-0.4917300092139015,0.8937049963266488,-0.779032604223167,1.3202255084238312,1.3058107289950605,1.1034214210645876,0.6616521623376257,-0.36773474713485177,-0.3698675153167032,-0.7317343089371522,-0.3916593838141954,-0.9691641760790766,-0.8651839848953563,0.8412831635767257,0.42139921244393047,-0.9338671399851458,0.3802094408496576],\"yaxis\":\"y13\",\"type\":\"scatter\"},{\"line\":{\"color\":\"rgba(128, 128, 128, 1.0)\",\"dash\":\"solid\",\"shape\":\"linear\",\"width\":1.3},\"marker\":{\"size\":2,\"symbol\":\"circle\"},\"mode\":\"markers\",\"name\":\"D\",\"text\":\"\",\"x\":[-0.522890892695273,-0.5133950769305579,0.6806690722910964,1.031910376765052,0.5134242259294345,-1.1384405134344129,-1.967304273414849,2.7754662161448187,-0.12968506824520482,-0.5751330143483373,-1.7124510912923032,-0.7401896441257169,1.3640598393807122,-0.7392250669937778,-0.4596265565310788,0.8632338591254589,-0.9269877232227746,0.8005776928976868,-0.5303651277260929,-1.5478366663352567,-0.9021928385540456,0.07263937780983032,0.4964765917045821,-0.019362179759583174,0.3549150890000641,-0.254386036949427,1.287006580786897,0.7655221718834024,0.7588074233964105,2.119276748874291,-0.5972958247816397,-1.2021289261239687,-0.20378199373107492,0.8537557984722517,0.03905136978287543,-1.3572525759712204,0.7729758897701869,0.15709732946492647,-0.43953427255576755,0.02080414947036807,-0.0686204830480142,-1.7658436876434458,-0.07210159595201733,0.27634956368375163,1.0937799112009745,0.4294114559969322,-1.5755166280139263,-0.030870482297119722,-0.2023705876469707,0.5292765847905173,0.39943539003596257,-0.7724123878930874,0.6890986316171753,0.9122861623485468,0.1162402187877747,0.41573491106998256,-1.0554506054777522,0.3273723004744497,1.2826088924503345,0.002600066872883493,-1.344462684212799,-0.4646665558487505,0.6608569002638156,-1.172944904026479,-1.5333839108105396,0.5800873164304087,-0.0944402612694691,0.9177407000112922,-1.362401198969006,-0.26278842045129025,0.5670096180264699,-1.3766867887778862,1.0606927619478912,1.7738407682557193,-1.345147684233415,1.2258717217599049,-0.6434508497398888,-0.08574432115483341,-0.30728343458243823,-0.26446934774105685,-0.946849712608022,-1.153366821199802,-0.13739292710680448,0.3299629055380062,0.428734968248196,1.4750103690781826,0.9924535177609993,-0.5239161127928873,-0.7283124703069083,-0.10204894475527922,1.1466273781594924,0.0888460083240002,-0.0166821185648255,0.18261626841187298,-0.3679919585457832,1.2256960945250548,0.40221413256018895,0.515223149459377,1.3306440965310917,-0.618409258339924],\"xaxis\":\"x14\",\"y\":[-1.0675771230985205,-0.6264316253365796,0.747126545149039,-1.5463867828324207,0.25938015269389925,-0.5389198104008657,-0.5728103842865038,0.04232544843890766,0.6051018423665102,1.5719879536382655,2.1824615406208365,-1.25222283856212,-0.3089715792020181,-0.9345231376762781,1.0309931125440828,-0.8427677439209136,1.1977651673873526,0.9643854392140603,0.2967407338548481,0.11503189012991172,0.8732057487653814,-0.19830601613374937,0.40756545557832274,-0.0022754125899660353,0.7211153825417478,-0.07342677113470895,0.9979282708349597,0.9597658767905103,0.6255359378491521,-0.45621573285751493,0.8150247581386546,-1.1072203072967557,-1.1000977049464933,1.6803282734071265,-0.9318001814065225,-1.9075202717308457,0.513400387638943,-0.9386923104093527,2.450064768931152,-1.432923362063971,0.6619256366627118,-0.31934761067773776,-1.8377084151369856,0.9344121070744521,0.21650089150415538,0.39973594945452634,0.9143285496448482,0.885617368351388,-1.0805304951112176,-1.5173287886073383,0.10401551897097906,0.451738909451791,0.8109448163385391,1.2734919720754343,-0.5587983288972399,1.9646001859380617,-0.037742341521644546,-0.38713967847411024,-0.7409576411389274,0.5736931426231485,-0.06893535611076942,-1.5818187828753911,0.4897288305796859,1.0132675005143266,1.100210446616976,-0.18704871424081185,0.8149179903873712,1.8509522380904984,-0.3048755128510082,0.15402916833245736,1.2033989062448742,-1.422386845150487,0.8659658670845835,1.383060561297713,-0.47414528871073014,-0.4444611891967911,-1.134515572377695,0.5210567607543705,0.711433108724833,-1.4595894453701157,1.866171666097092,0.30819746567042894,1.0831035343593591,-0.4917300092139015,0.8937049963266488,-0.779032604223167,1.3202255084238312,1.3058107289950605,1.1034214210645876,0.6616521623376257,-0.36773474713485177,-0.3698675153167032,-0.7317343089371522,-0.3916593838141954,-0.9691641760790766,-0.8651839848953563,0.8412831635767257,0.42139921244393047,-0.9338671399851458,0.3802094408496576],\"yaxis\":\"y14\",\"type\":\"scatter\"},{\"line\":{\"color\":\"rgba(128, 128, 128, 1.0)\",\"dash\":\"solid\",\"shape\":\"linear\",\"width\":1.3},\"marker\":{\"size\":2,\"symbol\":\"circle\"},\"mode\":\"markers\",\"name\":\"D\",\"text\":\"\",\"x\":[0.5061735650054343,-0.45374351970619403,-1.3452417433111727,-0.7906907432933548,0.5168613662055268,-0.4741995457952149,-0.4694021472502292,-1.0065724184279325,0.08312318574305148,0.2962008274450619,-0.7652039217045815,0.7388926859827525,-0.9745728957736693,-2.4966091073318424,-0.7916851107025121,0.8795399529894699,-1.1612265935014694,1.5668786119989917,1.1040731833869804,1.0707093127560956,0.04029924094817754,-1.4025655681894444,1.1083759673468043,-0.26951084815162907,0.6821491317910371,-0.3290024007045008,1.801817498836998,0.09532447935235822,0.5756724929951034,1.2250363316590556,0.5404691198101195,1.405107902503578,-0.46317087243262545,-0.06896767035212416,-0.8379096836859891,0.8559684259161792,0.7777864657707051,0.9242137263015999,-0.2896985032173854,0.04891742223527568,-1.2404205571776148,-0.1051185708499763,-0.8830174503203669,0.22096219141352746,0.8821591483730389,-0.23674634676994427,2.5158583605059843,-1.6231979754694397,-0.20367723899620602,-0.7347607399291173,-0.168438399902665,-0.943047835388374,0.1277488505392079,-0.4597241063254028,0.7571446506449164,0.2679007718721096,0.07464719122470621,1.3878605790736451,0.46617492851758113,0.8686807258221567,1.2416824576348655,-1.5071105865323295,1.2553368074664373,-0.027321171048688378,-1.1622915769561002,0.17761266565039144,-1.8055440471148432,0.1440987967848737,0.14970580108926282,0.7842807872764457,0.3755126386941075,-0.453537726159817,-1.2272616199332682,-0.6026080665367011,-0.07245424810641667,0.38435297238922855,-0.7927447793959029,0.8219029649758968,0.25577990702355674,-0.39326546750649277,-0.06789084835124859,-1.340905483933111,-1.5117427959932335,0.16040901680405362,-0.5247056642455927,-1.6852089693321068,0.9003114764531234,1.3720171677133417,0.6747827785756805,0.27954802705531684,-0.47056378249546665,-2.3813183979413095,-0.9269712255431471,0.10436926248829959,0.05360017960672199,1.1334181219773138,0.4490940132605856,-2.3074539127722318,1.0924529184352614,1.3916896997462473],\"xaxis\":\"x15\",\"y\":[-1.0675771230985205,-0.6264316253365796,0.747126545149039,-1.5463867828324207,0.25938015269389925,-0.5389198104008657,-0.5728103842865038,0.04232544843890766,0.6051018423665102,1.5719879536382655,2.1824615406208365,-1.25222283856212,-0.3089715792020181,-0.9345231376762781,1.0309931125440828,-0.8427677439209136,1.1977651673873526,0.9643854392140603,0.2967407338548481,0.11503189012991172,0.8732057487653814,-0.19830601613374937,0.40756545557832274,-0.0022754125899660353,0.7211153825417478,-0.07342677113470895,0.9979282708349597,0.9597658767905103,0.6255359378491521,-0.45621573285751493,0.8150247581386546,-1.1072203072967557,-1.1000977049464933,1.6803282734071265,-0.9318001814065225,-1.9075202717308457,0.513400387638943,-0.9386923104093527,2.450064768931152,-1.432923362063971,0.6619256366627118,-0.31934761067773776,-1.8377084151369856,0.9344121070744521,0.21650089150415538,0.39973594945452634,0.9143285496448482,0.885617368351388,-1.0805304951112176,-1.5173287886073383,0.10401551897097906,0.451738909451791,0.8109448163385391,1.2734919720754343,-0.5587983288972399,1.9646001859380617,-0.037742341521644546,-0.38713967847411024,-0.7409576411389274,0.5736931426231485,-0.06893535611076942,-1.5818187828753911,0.4897288305796859,1.0132675005143266,1.100210446616976,-0.18704871424081185,0.8149179903873712,1.8509522380904984,-0.3048755128510082,0.15402916833245736,1.2033989062448742,-1.422386845150487,0.8659658670845835,1.383060561297713,-0.47414528871073014,-0.4444611891967911,-1.134515572377695,0.5210567607543705,0.711433108724833,-1.4595894453701157,1.866171666097092,0.30819746567042894,1.0831035343593591,-0.4917300092139015,0.8937049963266488,-0.779032604223167,1.3202255084238312,1.3058107289950605,1.1034214210645876,0.6616521623376257,-0.36773474713485177,-0.3698675153167032,-0.7317343089371522,-0.3916593838141954,-0.9691641760790766,-0.8651839848953563,0.8412831635767257,0.42139921244393047,-0.9338671399851458,0.3802094408496576],\"yaxis\":\"y15\",\"type\":\"scatter\"},{\"histfunc\":\"count\",\"histnorm\":\"\",\"marker\":{\"color\":\"rgba(128, 0, 128, 1.0)\",\"line\":{\"color\":\"#4D5663\",\"width\":1.3}},\"name\":\"D\",\"nbinsx\":10,\"opacity\":0.8,\"orientation\":\"v\",\"x\":[-1.0675771230985205,-0.6264316253365796,0.747126545149039,-1.5463867828324207,0.25938015269389925,-0.5389198104008657,-0.5728103842865038,0.04232544843890766,0.6051018423665102,1.5719879536382655,2.1824615406208365,-1.25222283856212,-0.3089715792020181,-0.9345231376762781,1.0309931125440828,-0.8427677439209136,1.1977651673873526,0.9643854392140603,0.2967407338548481,0.11503189012991172,0.8732057487653814,-0.19830601613374937,0.40756545557832274,-0.0022754125899660353,0.7211153825417478,-0.07342677113470895,0.9979282708349597,0.9597658767905103,0.6255359378491521,-0.45621573285751493,0.8150247581386546,-1.1072203072967557,-1.1000977049464933,1.6803282734071265,-0.9318001814065225,-1.9075202717308457,0.513400387638943,-0.9386923104093527,2.450064768931152,-1.432923362063971,0.6619256366627118,-0.31934761067773776,-1.8377084151369856,0.9344121070744521,0.21650089150415538,0.39973594945452634,0.9143285496448482,0.885617368351388,-1.0805304951112176,-1.5173287886073383,0.10401551897097906,0.451738909451791,0.8109448163385391,1.2734919720754343,-0.5587983288972399,1.9646001859380617,-0.037742341521644546,-0.38713967847411024,-0.7409576411389274,0.5736931426231485,-0.06893535611076942,-1.5818187828753911,0.4897288305796859,1.0132675005143266,1.100210446616976,-0.18704871424081185,0.8149179903873712,1.8509522380904984,-0.3048755128510082,0.15402916833245736,1.2033989062448742,-1.422386845150487,0.8659658670845835,1.383060561297713,-0.47414528871073014,-0.4444611891967911,-1.134515572377695,0.5210567607543705,0.711433108724833,-1.4595894453701157,1.866171666097092,0.30819746567042894,1.0831035343593591,-0.4917300092139015,0.8937049963266488,-0.779032604223167,1.3202255084238312,1.3058107289950605,1.1034214210645876,0.6616521623376257,-0.36773474713485177,-0.3698675153167032,-0.7317343089371522,-0.3916593838141954,-0.9691641760790766,-0.8651839848953563,0.8412831635767257,0.42139921244393047,-0.9338671399851458,0.3802094408496576],\"xaxis\":\"x16\",\"yaxis\":\"y16\",\"type\":\"histogram\"}],                        {\"bargap\":0.02,\"legend\":{\"bgcolor\":\"#F5F6F9\",\"font\":{\"color\":\"#4D5663\"}},\"paper_bgcolor\":\"#F5F6F9\",\"plot_bgcolor\":\"#F5F6F9\",\"showlegend\":false,\"template\":{\"data\":{\"barpolar\":[{\"marker\":{\"line\":{\"color\":\"#E5ECF6\",\"width\":0.5},\"pattern\":{\"fillmode\":\"overlay\",\"size\":10,\"solidity\":0.2}},\"type\":\"barpolar\"}],\"bar\":[{\"error_x\":{\"color\":\"#2a3f5f\"},\"error_y\":{\"color\":\"#2a3f5f\"},\"marker\":{\"line\":{\"color\":\"#E5ECF6\",\"width\":0.5},\"pattern\":{\"fillmode\":\"overlay\",\"size\":10,\"solidity\":0.2}},\"type\":\"bar\"}],\"carpet\":[{\"aaxis\":{\"endlinecolor\":\"#2a3f5f\",\"gridcolor\":\"white\",\"linecolor\":\"white\",\"minorgridcolor\":\"white\",\"startlinecolor\":\"#2a3f5f\"},\"baxis\":{\"endlinecolor\":\"#2a3f5f\",\"gridcolor\":\"white\",\"linecolor\":\"white\",\"minorgridcolor\":\"white\",\"startlinecolor\":\"#2a3f5f\"},\"type\":\"carpet\"}],\"choropleth\":[{\"colorbar\":{\"outlinewidth\":0,\"ticks\":\"\"},\"type\":\"choropleth\"}],\"contourcarpet\":[{\"colorbar\":{\"outlinewidth\":0,\"ticks\":\"\"},\"type\":\"contourcarpet\"}],\"contour\":[{\"colorbar\":{\"outlinewidth\":0,\"ticks\":\"\"},\"colorscale\":[[0.0,\"#0d0887\"],[0.1111111111111111,\"#46039f\"],[0.2222222222222222,\"#7201a8\"],[0.3333333333333333,\"#9c179e\"],[0.4444444444444444,\"#bd3786\"],[0.5555555555555556,\"#d8576b\"],[0.6666666666666666,\"#ed7953\"],[0.7777777777777778,\"#fb9f3a\"],[0.8888888888888888,\"#fdca26\"],[1.0,\"#f0f921\"]],\"type\":\"contour\"}],\"heatmapgl\":[{\"colorbar\":{\"outlinewidth\":0,\"ticks\":\"\"},\"colorscale\":[[0.0,\"#0d0887\"],[0.1111111111111111,\"#46039f\"],[0.2222222222222222,\"#7201a8\"],[0.3333333333333333,\"#9c179e\"],[0.4444444444444444,\"#bd3786\"],[0.5555555555555556,\"#d8576b\"],[0.6666666666666666,\"#ed7953\"],[0.7777777777777778,\"#fb9f3a\"],[0.8888888888888888,\"#fdca26\"],[1.0,\"#f0f921\"]],\"type\":\"heatmapgl\"}],\"heatmap\":[{\"colorbar\":{\"outlinewidth\":0,\"ticks\":\"\"},\"colorscale\":[[0.0,\"#0d0887\"],[0.1111111111111111,\"#46039f\"],[0.2222222222222222,\"#7201a8\"],[0.3333333333333333,\"#9c179e\"],[0.4444444444444444,\"#bd3786\"],[0.5555555555555556,\"#d8576b\"],[0.6666666666666666,\"#ed7953\"],[0.7777777777777778,\"#fb9f3a\"],[0.8888888888888888,\"#fdca26\"],[1.0,\"#f0f921\"]],\"type\":\"heatmap\"}],\"histogram2dcontour\":[{\"colorbar\":{\"outlinewidth\":0,\"ticks\":\"\"},\"colorscale\":[[0.0,\"#0d0887\"],[0.1111111111111111,\"#46039f\"],[0.2222222222222222,\"#7201a8\"],[0.3333333333333333,\"#9c179e\"],[0.4444444444444444,\"#bd3786\"],[0.5555555555555556,\"#d8576b\"],[0.6666666666666666,\"#ed7953\"],[0.7777777777777778,\"#fb9f3a\"],[0.8888888888888888,\"#fdca26\"],[1.0,\"#f0f921\"]],\"type\":\"histogram2dcontour\"}],\"histogram2d\":[{\"colorbar\":{\"outlinewidth\":0,\"ticks\":\"\"},\"colorscale\":[[0.0,\"#0d0887\"],[0.1111111111111111,\"#46039f\"],[0.2222222222222222,\"#7201a8\"],[0.3333333333333333,\"#9c179e\"],[0.4444444444444444,\"#bd3786\"],[0.5555555555555556,\"#d8576b\"],[0.6666666666666666,\"#ed7953\"],[0.7777777777777778,\"#fb9f3a\"],[0.8888888888888888,\"#fdca26\"],[1.0,\"#f0f921\"]],\"type\":\"histogram2d\"}],\"histogram\":[{\"marker\":{\"pattern\":{\"fillmode\":\"overlay\",\"size\":10,\"solidity\":0.2}},\"type\":\"histogram\"}],\"mesh3d\":[{\"colorbar\":{\"outlinewidth\":0,\"ticks\":\"\"},\"type\":\"mesh3d\"}],\"parcoords\":[{\"line\":{\"colorbar\":{\"outlinewidth\":0,\"ticks\":\"\"}},\"type\":\"parcoords\"}],\"pie\":[{\"automargin\":true,\"type\":\"pie\"}],\"scatter3d\":[{\"line\":{\"colorbar\":{\"outlinewidth\":0,\"ticks\":\"\"}},\"marker\":{\"colorbar\":{\"outlinewidth\":0,\"ticks\":\"\"}},\"type\":\"scatter3d\"}],\"scattercarpet\":[{\"marker\":{\"colorbar\":{\"outlinewidth\":0,\"ticks\":\"\"}},\"type\":\"scattercarpet\"}],\"scattergeo\":[{\"marker\":{\"colorbar\":{\"outlinewidth\":0,\"ticks\":\"\"}},\"type\":\"scattergeo\"}],\"scattergl\":[{\"marker\":{\"colorbar\":{\"outlinewidth\":0,\"ticks\":\"\"}},\"type\":\"scattergl\"}],\"scattermapbox\":[{\"marker\":{\"colorbar\":{\"outlinewidth\":0,\"ticks\":\"\"}},\"type\":\"scattermapbox\"}],\"scatterpolargl\":[{\"marker\":{\"colorbar\":{\"outlinewidth\":0,\"ticks\":\"\"}},\"type\":\"scatterpolargl\"}],\"scatterpolar\":[{\"marker\":{\"colorbar\":{\"outlinewidth\":0,\"ticks\":\"\"}},\"type\":\"scatterpolar\"}],\"scatter\":[{\"marker\":{\"colorbar\":{\"outlinewidth\":0,\"ticks\":\"\"}},\"type\":\"scatter\"}],\"scatterternary\":[{\"marker\":{\"colorbar\":{\"outlinewidth\":0,\"ticks\":\"\"}},\"type\":\"scatterternary\"}],\"surface\":[{\"colorbar\":{\"outlinewidth\":0,\"ticks\":\"\"},\"colorscale\":[[0.0,\"#0d0887\"],[0.1111111111111111,\"#46039f\"],[0.2222222222222222,\"#7201a8\"],[0.3333333333333333,\"#9c179e\"],[0.4444444444444444,\"#bd3786\"],[0.5555555555555556,\"#d8576b\"],[0.6666666666666666,\"#ed7953\"],[0.7777777777777778,\"#fb9f3a\"],[0.8888888888888888,\"#fdca26\"],[1.0,\"#f0f921\"]],\"type\":\"surface\"}],\"table\":[{\"cells\":{\"fill\":{\"color\":\"#EBF0F8\"},\"line\":{\"color\":\"white\"}},\"header\":{\"fill\":{\"color\":\"#C8D4E3\"},\"line\":{\"color\":\"white\"}},\"type\":\"table\"}]},\"layout\":{\"annotationdefaults\":{\"arrowcolor\":\"#2a3f5f\",\"arrowhead\":0,\"arrowwidth\":1},\"autotypenumbers\":\"strict\",\"coloraxis\":{\"colorbar\":{\"outlinewidth\":0,\"ticks\":\"\"}},\"colorscale\":{\"diverging\":[[0,\"#8e0152\"],[0.1,\"#c51b7d\"],[0.2,\"#de77ae\"],[0.3,\"#f1b6da\"],[0.4,\"#fde0ef\"],[0.5,\"#f7f7f7\"],[0.6,\"#e6f5d0\"],[0.7,\"#b8e186\"],[0.8,\"#7fbc41\"],[0.9,\"#4d9221\"],[1,\"#276419\"]],\"sequential\":[[0.0,\"#0d0887\"],[0.1111111111111111,\"#46039f\"],[0.2222222222222222,\"#7201a8\"],[0.3333333333333333,\"#9c179e\"],[0.4444444444444444,\"#bd3786\"],[0.5555555555555556,\"#d8576b\"],[0.6666666666666666,\"#ed7953\"],[0.7777777777777778,\"#fb9f3a\"],[0.8888888888888888,\"#fdca26\"],[1.0,\"#f0f921\"]],\"sequentialminus\":[[0.0,\"#0d0887\"],[0.1111111111111111,\"#46039f\"],[0.2222222222222222,\"#7201a8\"],[0.3333333333333333,\"#9c179e\"],[0.4444444444444444,\"#bd3786\"],[0.5555555555555556,\"#d8576b\"],[0.6666666666666666,\"#ed7953\"],[0.7777777777777778,\"#fb9f3a\"],[0.8888888888888888,\"#fdca26\"],[1.0,\"#f0f921\"]]},\"colorway\":[\"#636efa\",\"#EF553B\",\"#00cc96\",\"#ab63fa\",\"#FFA15A\",\"#19d3f3\",\"#FF6692\",\"#B6E880\",\"#FF97FF\",\"#FECB52\"],\"font\":{\"color\":\"#2a3f5f\"},\"geo\":{\"bgcolor\":\"white\",\"lakecolor\":\"white\",\"landcolor\":\"#E5ECF6\",\"showlakes\":true,\"showland\":true,\"subunitcolor\":\"white\"},\"hoverlabel\":{\"align\":\"left\"},\"hovermode\":\"closest\",\"mapbox\":{\"style\":\"light\"},\"paper_bgcolor\":\"white\",\"plot_bgcolor\":\"#E5ECF6\",\"polar\":{\"angularaxis\":{\"gridcolor\":\"white\",\"linecolor\":\"white\",\"ticks\":\"\"},\"bgcolor\":\"#E5ECF6\",\"radialaxis\":{\"gridcolor\":\"white\",\"linecolor\":\"white\",\"ticks\":\"\"}},\"scene\":{\"xaxis\":{\"backgroundcolor\":\"#E5ECF6\",\"gridcolor\":\"white\",\"gridwidth\":2,\"linecolor\":\"white\",\"showbackground\":true,\"ticks\":\"\",\"zerolinecolor\":\"white\"},\"yaxis\":{\"backgroundcolor\":\"#E5ECF6\",\"gridcolor\":\"white\",\"gridwidth\":2,\"linecolor\":\"white\",\"showbackground\":true,\"ticks\":\"\",\"zerolinecolor\":\"white\"},\"zaxis\":{\"backgroundcolor\":\"#E5ECF6\",\"gridcolor\":\"white\",\"gridwidth\":2,\"linecolor\":\"white\",\"showbackground\":true,\"ticks\":\"\",\"zerolinecolor\":\"white\"}},\"shapedefaults\":{\"line\":{\"color\":\"#2a3f5f\"}},\"ternary\":{\"aaxis\":{\"gridcolor\":\"white\",\"linecolor\":\"white\",\"ticks\":\"\"},\"baxis\":{\"gridcolor\":\"white\",\"linecolor\":\"white\",\"ticks\":\"\"},\"bgcolor\":\"#E5ECF6\",\"caxis\":{\"gridcolor\":\"white\",\"linecolor\":\"white\",\"ticks\":\"\"}},\"title\":{\"x\":0.05},\"xaxis\":{\"automargin\":true,\"gridcolor\":\"white\",\"linecolor\":\"white\",\"ticks\":\"\",\"title\":{\"standoff\":15},\"zerolinecolor\":\"white\",\"zerolinewidth\":2},\"yaxis\":{\"automargin\":true,\"gridcolor\":\"white\",\"linecolor\":\"white\",\"ticks\":\"\",\"title\":{\"standoff\":15},\"zerolinecolor\":\"white\",\"zerolinewidth\":2}}},\"title\":{\"font\":{\"color\":\"#4D5663\"}},\"xaxis\":{\"anchor\":\"y\",\"domain\":[0.0,0.2125],\"gridcolor\":\"#E1E5ED\",\"showgrid\":false,\"tickfont\":{\"color\":\"#4D5663\"},\"title\":{\"font\":{\"color\":\"#4D5663\"},\"text\":\"\"},\"zerolinecolor\":\"#E1E5ED\"},\"yaxis\":{\"anchor\":\"x\",\"domain\":[0.8025,1.0],\"gridcolor\":\"#E1E5ED\",\"showgrid\":false,\"tickfont\":{\"color\":\"#4D5663\"},\"title\":{\"font\":{\"color\":\"#4D5663\"},\"text\":\"\"},\"zerolinecolor\":\"#E1E5ED\"},\"xaxis2\":{\"anchor\":\"y2\",\"domain\":[0.2625,0.475],\"gridcolor\":\"#E1E5ED\",\"showgrid\":false,\"tickfont\":{\"color\":\"#4D5663\"},\"title\":{\"font\":{\"color\":\"#4D5663\"},\"text\":\"\"},\"zerolinecolor\":\"#E1E5ED\"},\"yaxis2\":{\"anchor\":\"x2\",\"domain\":[0.8025,1.0],\"gridcolor\":\"#E1E5ED\",\"showgrid\":false,\"tickfont\":{\"color\":\"#4D5663\"},\"title\":{\"font\":{\"color\":\"#4D5663\"},\"text\":\"\"},\"zerolinecolor\":\"#E1E5ED\"},\"xaxis3\":{\"anchor\":\"y3\",\"domain\":[0.525,0.7375],\"gridcolor\":\"#E1E5ED\",\"showgrid\":false,\"tickfont\":{\"color\":\"#4D5663\"},\"title\":{\"font\":{\"color\":\"#4D5663\"},\"text\":\"\"},\"zerolinecolor\":\"#E1E5ED\"},\"yaxis3\":{\"anchor\":\"x3\",\"domain\":[0.8025,1.0],\"gridcolor\":\"#E1E5ED\",\"showgrid\":false,\"tickfont\":{\"color\":\"#4D5663\"},\"title\":{\"font\":{\"color\":\"#4D5663\"},\"text\":\"\"},\"zerolinecolor\":\"#E1E5ED\"},\"xaxis4\":{\"anchor\":\"y4\",\"domain\":[0.7875,1.0],\"gridcolor\":\"#E1E5ED\",\"showgrid\":false,\"tickfont\":{\"color\":\"#4D5663\"},\"title\":{\"font\":{\"color\":\"#4D5663\"},\"text\":\"\"},\"zerolinecolor\":\"#E1E5ED\"},\"yaxis4\":{\"anchor\":\"x4\",\"domain\":[0.8025,1.0],\"gridcolor\":\"#E1E5ED\",\"showgrid\":false,\"tickfont\":{\"color\":\"#4D5663\"},\"title\":{\"font\":{\"color\":\"#4D5663\"},\"text\":\"\"},\"zerolinecolor\":\"#E1E5ED\"},\"xaxis5\":{\"anchor\":\"y5\",\"domain\":[0.0,0.2125],\"gridcolor\":\"#E1E5ED\",\"showgrid\":false,\"tickfont\":{\"color\":\"#4D5663\"},\"title\":{\"font\":{\"color\":\"#4D5663\"},\"text\":\"\"},\"zerolinecolor\":\"#E1E5ED\"},\"yaxis5\":{\"anchor\":\"x5\",\"domain\":[0.535,0.7325],\"gridcolor\":\"#E1E5ED\",\"showgrid\":false,\"tickfont\":{\"color\":\"#4D5663\"},\"title\":{\"font\":{\"color\":\"#4D5663\"},\"text\":\"\"},\"zerolinecolor\":\"#E1E5ED\"},\"xaxis6\":{\"anchor\":\"y6\",\"domain\":[0.2625,0.475],\"gridcolor\":\"#E1E5ED\",\"showgrid\":false,\"tickfont\":{\"color\":\"#4D5663\"},\"title\":{\"font\":{\"color\":\"#4D5663\"},\"text\":\"\"},\"zerolinecolor\":\"#E1E5ED\"},\"yaxis6\":{\"anchor\":\"x6\",\"domain\":[0.535,0.7325],\"gridcolor\":\"#E1E5ED\",\"showgrid\":false,\"tickfont\":{\"color\":\"#4D5663\"},\"title\":{\"font\":{\"color\":\"#4D5663\"},\"text\":\"\"},\"zerolinecolor\":\"#E1E5ED\"},\"xaxis7\":{\"anchor\":\"y7\",\"domain\":[0.525,0.7375],\"gridcolor\":\"#E1E5ED\",\"showgrid\":false,\"tickfont\":{\"color\":\"#4D5663\"},\"title\":{\"font\":{\"color\":\"#4D5663\"},\"text\":\"\"},\"zerolinecolor\":\"#E1E5ED\"},\"yaxis7\":{\"anchor\":\"x7\",\"domain\":[0.535,0.7325],\"gridcolor\":\"#E1E5ED\",\"showgrid\":false,\"tickfont\":{\"color\":\"#4D5663\"},\"title\":{\"font\":{\"color\":\"#4D5663\"},\"text\":\"\"},\"zerolinecolor\":\"#E1E5ED\"},\"xaxis8\":{\"anchor\":\"y8\",\"domain\":[0.7875,1.0],\"gridcolor\":\"#E1E5ED\",\"showgrid\":false,\"tickfont\":{\"color\":\"#4D5663\"},\"title\":{\"font\":{\"color\":\"#4D5663\"},\"text\":\"\"},\"zerolinecolor\":\"#E1E5ED\"},\"yaxis8\":{\"anchor\":\"x8\",\"domain\":[0.535,0.7325],\"gridcolor\":\"#E1E5ED\",\"showgrid\":false,\"tickfont\":{\"color\":\"#4D5663\"},\"title\":{\"font\":{\"color\":\"#4D5663\"},\"text\":\"\"},\"zerolinecolor\":\"#E1E5ED\"},\"xaxis9\":{\"anchor\":\"y9\",\"domain\":[0.0,0.2125],\"gridcolor\":\"#E1E5ED\",\"showgrid\":false,\"tickfont\":{\"color\":\"#4D5663\"},\"title\":{\"font\":{\"color\":\"#4D5663\"},\"text\":\"\"},\"zerolinecolor\":\"#E1E5ED\"},\"yaxis9\":{\"anchor\":\"x9\",\"domain\":[0.2675,0.465],\"gridcolor\":\"#E1E5ED\",\"showgrid\":false,\"tickfont\":{\"color\":\"#4D5663\"},\"title\":{\"font\":{\"color\":\"#4D5663\"},\"text\":\"\"},\"zerolinecolor\":\"#E1E5ED\"},\"xaxis10\":{\"anchor\":\"y10\",\"domain\":[0.2625,0.475],\"gridcolor\":\"#E1E5ED\",\"showgrid\":false,\"tickfont\":{\"color\":\"#4D5663\"},\"title\":{\"font\":{\"color\":\"#4D5663\"},\"text\":\"\"},\"zerolinecolor\":\"#E1E5ED\"},\"yaxis10\":{\"anchor\":\"x10\",\"domain\":[0.2675,0.465],\"gridcolor\":\"#E1E5ED\",\"showgrid\":false,\"tickfont\":{\"color\":\"#4D5663\"},\"title\":{\"font\":{\"color\":\"#4D5663\"},\"text\":\"\"},\"zerolinecolor\":\"#E1E5ED\"},\"xaxis11\":{\"anchor\":\"y11\",\"domain\":[0.525,0.7375],\"gridcolor\":\"#E1E5ED\",\"showgrid\":false,\"tickfont\":{\"color\":\"#4D5663\"},\"title\":{\"font\":{\"color\":\"#4D5663\"},\"text\":\"\"},\"zerolinecolor\":\"#E1E5ED\"},\"yaxis11\":{\"anchor\":\"x11\",\"domain\":[0.2675,0.465],\"gridcolor\":\"#E1E5ED\",\"showgrid\":false,\"tickfont\":{\"color\":\"#4D5663\"},\"title\":{\"font\":{\"color\":\"#4D5663\"},\"text\":\"\"},\"zerolinecolor\":\"#E1E5ED\"},\"xaxis12\":{\"anchor\":\"y12\",\"domain\":[0.7875,1.0],\"gridcolor\":\"#E1E5ED\",\"showgrid\":false,\"tickfont\":{\"color\":\"#4D5663\"},\"title\":{\"font\":{\"color\":\"#4D5663\"},\"text\":\"\"},\"zerolinecolor\":\"#E1E5ED\"},\"yaxis12\":{\"anchor\":\"x12\",\"domain\":[0.2675,0.465],\"gridcolor\":\"#E1E5ED\",\"showgrid\":false,\"tickfont\":{\"color\":\"#4D5663\"},\"title\":{\"font\":{\"color\":\"#4D5663\"},\"text\":\"\"},\"zerolinecolor\":\"#E1E5ED\"},\"xaxis13\":{\"anchor\":\"y13\",\"domain\":[0.0,0.2125],\"gridcolor\":\"#E1E5ED\",\"showgrid\":false,\"tickfont\":{\"color\":\"#4D5663\"},\"title\":{\"font\":{\"color\":\"#4D5663\"},\"text\":\"\"},\"zerolinecolor\":\"#E1E5ED\"},\"yaxis13\":{\"anchor\":\"x13\",\"domain\":[0.0,0.1975],\"gridcolor\":\"#E1E5ED\",\"showgrid\":false,\"tickfont\":{\"color\":\"#4D5663\"},\"title\":{\"font\":{\"color\":\"#4D5663\"},\"text\":\"\"},\"zerolinecolor\":\"#E1E5ED\"},\"xaxis14\":{\"anchor\":\"y14\",\"domain\":[0.2625,0.475],\"gridcolor\":\"#E1E5ED\",\"showgrid\":false,\"tickfont\":{\"color\":\"#4D5663\"},\"title\":{\"font\":{\"color\":\"#4D5663\"},\"text\":\"\"},\"zerolinecolor\":\"#E1E5ED\"},\"yaxis14\":{\"anchor\":\"x14\",\"domain\":[0.0,0.1975],\"gridcolor\":\"#E1E5ED\",\"showgrid\":false,\"tickfont\":{\"color\":\"#4D5663\"},\"title\":{\"font\":{\"color\":\"#4D5663\"},\"text\":\"\"},\"zerolinecolor\":\"#E1E5ED\"},\"xaxis15\":{\"anchor\":\"y15\",\"domain\":[0.525,0.7375],\"gridcolor\":\"#E1E5ED\",\"showgrid\":false,\"tickfont\":{\"color\":\"#4D5663\"},\"title\":{\"font\":{\"color\":\"#4D5663\"},\"text\":\"\"},\"zerolinecolor\":\"#E1E5ED\"},\"yaxis15\":{\"anchor\":\"x15\",\"domain\":[0.0,0.1975],\"gridcolor\":\"#E1E5ED\",\"showgrid\":false,\"tickfont\":{\"color\":\"#4D5663\"},\"title\":{\"font\":{\"color\":\"#4D5663\"},\"text\":\"\"},\"zerolinecolor\":\"#E1E5ED\"},\"xaxis16\":{\"anchor\":\"y16\",\"domain\":[0.7875,1.0],\"gridcolor\":\"#E1E5ED\",\"showgrid\":false,\"tickfont\":{\"color\":\"#4D5663\"},\"title\":{\"font\":{\"color\":\"#4D5663\"},\"text\":\"\"},\"zerolinecolor\":\"#E1E5ED\"},\"yaxis16\":{\"anchor\":\"x16\",\"domain\":[0.0,0.1975],\"gridcolor\":\"#E1E5ED\",\"showgrid\":false,\"tickfont\":{\"color\":\"#4D5663\"},\"title\":{\"font\":{\"color\":\"#4D5663\"},\"text\":\"\"},\"zerolinecolor\":\"#E1E5ED\"}},                        {\"showLink\": true, \"linkText\": \"Export to plot.ly\", \"plotlyServerURL\": \"https://plot.ly\", \"responsive\": true}                    ).then(function(){\n",
       "                            \n",
       "var gd = document.getElementById('b2eb345b-fa14-463f-9774-8e89243c4031');\n",
       "var x = new MutationObserver(function (mutations, observer) {{\n",
       "        var display = window.getComputedStyle(gd).display;\n",
       "        if (!display || display === 'none') {{\n",
       "            console.log([gd, 'removed!']);\n",
       "            Plotly.purge(gd);\n",
       "            observer.disconnect();\n",
       "        }}\n",
       "}});\n",
       "\n",
       "// Listen for the removal of the full notebook cells\n",
       "var notebookContainer = gd.closest('#notebook-container');\n",
       "if (notebookContainer) {{\n",
       "    x.observe(notebookContainer, {childList: true});\n",
       "}}\n",
       "\n",
       "// Listen for the clearing of the current output cell\n",
       "var outputEl = gd.closest('.output');\n",
       "if (outputEl) {{\n",
       "    x.observe(outputEl, {childList: true});\n",
       "}}\n",
       "\n",
       "                        })                };                });            </script>        </div>"
      ]
     },
     "metadata": {},
     "output_type": "display_data"
    }
   ],
   "source": [
    "df.scatter_matrix()"
   ]
  },
  {
   "cell_type": "code",
   "execution_count": null,
   "id": "c9d38ec5",
   "metadata": {},
   "outputs": [],
   "source": []
  },
  {
   "cell_type": "code",
   "execution_count": null,
   "id": "3ffe9fdd",
   "metadata": {},
   "outputs": [],
   "source": []
  },
  {
   "cell_type": "code",
   "execution_count": null,
   "id": "cfbda10f",
   "metadata": {},
   "outputs": [],
   "source": []
  },
  {
   "cell_type": "code",
   "execution_count": null,
   "id": "cabc5fd2",
   "metadata": {},
   "outputs": [],
   "source": []
  }
 ],
 "metadata": {
  "kernelspec": {
   "display_name": "Python 3 (ipykernel)",
   "language": "python",
   "name": "python3"
  },
  "language_info": {
   "codemirror_mode": {
    "name": "ipython",
    "version": 3
   },
   "file_extension": ".py",
   "mimetype": "text/x-python",
   "name": "python",
   "nbconvert_exporter": "python",
   "pygments_lexer": "ipython3",
   "version": "3.9.12"
  }
 },
 "nbformat": 4,
 "nbformat_minor": 5
}
